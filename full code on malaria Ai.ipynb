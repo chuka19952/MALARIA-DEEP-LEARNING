{
 "cells": [
  {
   "cell_type": "code",
   "execution_count": 1,
   "metadata": {},
   "outputs": [
    {
     "name": "stderr",
     "output_type": "stream",
     "text": [
      "Using TensorFlow backend.\n"
     ]
    }
   ],
   "source": [
    "# Importing the Keras libraries and packages\n",
    "from keras.models import Sequential\n",
    "from keras.layers.normalization import BatchNormalization\n",
    "from keras.layers import Activation\n",
    "from keras.models import load_model\n",
    "from keras.layers import Convolution2D\n",
    "from keras.layers import MaxPooling2D\n",
    "from keras.layers import Flatten\n",
    "from keras.layers import Dense\n",
    "from keras.layers import Dropout\n",
    "from keras.callbacks import ModelCheckpoint\n",
    "import numpy as np\n",
    "import keras.applications\n",
    "from keras.preprocessing import image\n",
    "from keras.preprocessing import image\n",
    "import matplotlib.pyplot as plt\n"
   ]
  },
  {
   "cell_type": "code",
   "execution_count": null,
   "metadata": {},
   "outputs": [],
   "source": []
  },
  {
   "cell_type": "code",
   "execution_count": 2,
   "metadata": {
    "collapsed": true
   },
   "outputs": [],
   "source": [
    "# Initialising the CNN\n",
    "classifier = Sequential()\n"
   ]
  },
  {
   "cell_type": "code",
   "execution_count": 3,
   "metadata": {},
   "outputs": [
    {
     "name": "stderr",
     "output_type": "stream",
     "text": [
      "C:\\ProgramData\\Anaconda3\\lib\\site-packages\\ipykernel_launcher.py:3: UserWarning: Update your `Conv2D` call to the Keras 2 API: `Conv2D(32, (3, 3), input_shape=(90, 90, 3..., use_bias=False)`\n",
      "  This is separate from the ipykernel package so we can avoid doing imports until\n",
      "C:\\ProgramData\\Anaconda3\\lib\\site-packages\\ipykernel_launcher.py:4: UserWarning: Update your `BatchNormalization` call to the Keras 2 API: `BatchNormalization(epsilon=1e-06, momentum=0.9, weights=None)`\n",
      "  after removing the cwd from sys.path.\n"
     ]
    }
   ],
   "source": [
    "#Adding 1st convolutional layer\n",
    "# Step 1 - Convolution\n",
    "classifier.add(Convolution2D(32, 3, 3, input_shape = (90, 90, 3), use_bias= False))\n",
    "classifier.add(BatchNormalization(epsilon=1e-06, mode=0, momentum=0.9, weights=None))\n",
    "classifier.add(Activation('relu'))\n",
    "# Step 2 - Pooling\n",
    "classifier.add(MaxPooling2D(pool_size = (2, 2)))\n"
   ]
  },
  {
   "cell_type": "code",
   "execution_count": 4,
   "metadata": {},
   "outputs": [
    {
     "name": "stderr",
     "output_type": "stream",
     "text": [
      "C:\\ProgramData\\Anaconda3\\lib\\site-packages\\ipykernel_launcher.py:2: UserWarning: Update your `Conv2D` call to the Keras 2 API: `Conv2D(32, (3, 3), use_bias=False)`\n",
      "  \n",
      "C:\\ProgramData\\Anaconda3\\lib\\site-packages\\ipykernel_launcher.py:3: UserWarning: Update your `BatchNormalization` call to the Keras 2 API: `BatchNormalization(epsilon=1e-06, momentum=0.9, weights=None)`\n",
      "  This is separate from the ipykernel package so we can avoid doing imports until\n"
     ]
    }
   ],
   "source": [
    "#adding a second convolutional and pooling layer for increased accuracy\n",
    "classifier.add(Convolution2D(32, 3, 3 , use_bias=False))\n",
    "classifier.add(BatchNormalization(epsilon=1e-06, mode=0, momentum=0.9, weights=None))\n",
    "classifier.add(Activation('relu'))\n",
    "classifier.add(MaxPooling2D(pool_size = (2, 2)))\n"
   ]
  },
  {
   "cell_type": "code",
   "execution_count": 5,
   "metadata": {},
   "outputs": [
    {
     "name": "stderr",
     "output_type": "stream",
     "text": [
      "C:\\ProgramData\\Anaconda3\\lib\\site-packages\\ipykernel_launcher.py:2: UserWarning: Update your `Conv2D` call to the Keras 2 API: `Conv2D(64, (5, 5), use_bias=False)`\n",
      "  \n",
      "C:\\ProgramData\\Anaconda3\\lib\\site-packages\\ipykernel_launcher.py:3: UserWarning: Update your `BatchNormalization` call to the Keras 2 API: `BatchNormalization(epsilon=1e-06, momentum=0.9, weights=None)`\n",
      "  This is separate from the ipykernel package so we can avoid doing imports until\n"
     ]
    }
   ],
   "source": [
    "#adding a third convolutional and pooling layer for increased accuracy\n",
    "classifier.add(Convolution2D(64, 5, 5, use_bias=False))\n",
    "classifier.add(BatchNormalization(epsilon=1e-06, mode=0, momentum=0.9, weights=None))\n",
    "classifier.add(Activation('relu'))\n",
    "classifier.add(MaxPooling2D(pool_size = (2, 2)))\n"
   ]
  },
  {
   "cell_type": "code",
   "execution_count": 6,
   "metadata": {},
   "outputs": [
    {
     "name": "stderr",
     "output_type": "stream",
     "text": [
      "C:\\ProgramData\\Anaconda3\\lib\\site-packages\\ipykernel_launcher.py:2: UserWarning: Update your `Conv2D` call to the Keras 2 API: `Conv2D(128, (3, 3), use_bias=False)`\n",
      "  \n",
      "C:\\ProgramData\\Anaconda3\\lib\\site-packages\\ipykernel_launcher.py:3: UserWarning: Update your `BatchNormalization` call to the Keras 2 API: `BatchNormalization(epsilon=1e-06, momentum=0.9, weights=None)`\n",
      "  This is separate from the ipykernel package so we can avoid doing imports until\n"
     ]
    }
   ],
   "source": [
    "#adding a fourth convolutional and pooling layer for increased accuracy\n",
    "classifier.add(Convolution2D(128, 3, 3, use_bias=False))\n",
    "classifier.add(BatchNormalization(epsilon=1e-06, mode=0, momentum=0.9, weights=None))\n",
    "classifier.add(Activation('relu'))\n",
    "classifier.add(MaxPooling2D(pool_size = (2, 2)))\n"
   ]
  },
  {
   "cell_type": "code",
   "execution_count": 7,
   "metadata": {
    "collapsed": true
   },
   "outputs": [],
   "source": [
    "#Step 3 -flattening\n",
    "classifier.add(Flatten())"
   ]
  },
  {
   "cell_type": "code",
   "execution_count": 8,
   "metadata": {},
   "outputs": [
    {
     "name": "stderr",
     "output_type": "stream",
     "text": [
      "C:\\ProgramData\\Anaconda3\\lib\\site-packages\\ipykernel_launcher.py:3: UserWarning: Update your `Dense` call to the Keras 2 API: `Dense(use_bias=False, units=128)`\n",
      "  This is separate from the ipykernel package so we can avoid doing imports until\n",
      "C:\\ProgramData\\Anaconda3\\lib\\site-packages\\ipykernel_launcher.py:4: UserWarning: Update your `BatchNormalization` call to the Keras 2 API: `BatchNormalization(epsilon=1e-06, momentum=0.9, weights=None)`\n",
      "  after removing the cwd from sys.path.\n",
      "C:\\ProgramData\\Anaconda3\\lib\\site-packages\\ipykernel_launcher.py:8: UserWarning: Update your `Dense` call to the Keras 2 API: `Dense(units=4)`\n",
      "  \n",
      "C:\\ProgramData\\Anaconda3\\lib\\site-packages\\ipykernel_launcher.py:9: UserWarning: Update your `BatchNormalization` call to the Keras 2 API: `BatchNormalization(epsilon=1e-06, momentum=0.9, weights=None)`\n",
      "  if __name__ == '__main__':\n"
     ]
    }
   ],
   "source": [
    "#Step 4- full connection\n",
    "\n",
    "classifier.add(Dense(output_dim=128, use_bias=False)) #creates the hidden layer i.e the fully connected layer\n",
    "classifier.add(BatchNormalization(epsilon=1e-06, mode=0, momentum=0.9, weights=None))\n",
    "classifier.add(Activation(\"relu\"))\n",
    "classifier.add(Dropout(0.2))\n",
    "\n",
    "classifier.add(Dense(output_dim= 4)) # creates the output layer\n",
    "classifier.add(BatchNormalization(epsilon=1e-06, mode=0, momentum=0.9, weights=None))\n",
    "classifier.add(Activation(\"softmax\"))\n"
   ]
  },
  {
   "cell_type": "code",
   "execution_count": 9,
   "metadata": {},
   "outputs": [
    {
     "name": "stdout",
     "output_type": "stream",
     "text": [
      "_________________________________________________________________\n",
      "Layer (type)                 Output Shape              Param #   \n",
      "=================================================================\n",
      "conv2d_1 (Conv2D)            (None, 88, 88, 32)        864       \n",
      "_________________________________________________________________\n",
      "batch_normalization_1 (Batch (None, 88, 88, 32)        128       \n",
      "_________________________________________________________________\n",
      "activation_1 (Activation)    (None, 88, 88, 32)        0         \n",
      "_________________________________________________________________\n",
      "max_pooling2d_1 (MaxPooling2 (None, 44, 44, 32)        0         \n",
      "_________________________________________________________________\n",
      "conv2d_2 (Conv2D)            (None, 42, 42, 32)        9216      \n",
      "_________________________________________________________________\n",
      "batch_normalization_2 (Batch (None, 42, 42, 32)        128       \n",
      "_________________________________________________________________\n",
      "activation_2 (Activation)    (None, 42, 42, 32)        0         \n",
      "_________________________________________________________________\n",
      "max_pooling2d_2 (MaxPooling2 (None, 21, 21, 32)        0         \n",
      "_________________________________________________________________\n",
      "conv2d_3 (Conv2D)            (None, 17, 17, 64)        51200     \n",
      "_________________________________________________________________\n",
      "batch_normalization_3 (Batch (None, 17, 17, 64)        256       \n",
      "_________________________________________________________________\n",
      "activation_3 (Activation)    (None, 17, 17, 64)        0         \n",
      "_________________________________________________________________\n",
      "max_pooling2d_3 (MaxPooling2 (None, 8, 8, 64)          0         \n",
      "_________________________________________________________________\n",
      "conv2d_4 (Conv2D)            (None, 6, 6, 128)         73728     \n",
      "_________________________________________________________________\n",
      "batch_normalization_4 (Batch (None, 6, 6, 128)         512       \n",
      "_________________________________________________________________\n",
      "activation_4 (Activation)    (None, 6, 6, 128)         0         \n",
      "_________________________________________________________________\n",
      "max_pooling2d_4 (MaxPooling2 (None, 3, 3, 128)         0         \n",
      "_________________________________________________________________\n",
      "flatten_1 (Flatten)          (None, 1152)              0         \n",
      "_________________________________________________________________\n",
      "dense_1 (Dense)              (None, 128)               147456    \n",
      "_________________________________________________________________\n",
      "batch_normalization_5 (Batch (None, 128)               512       \n",
      "_________________________________________________________________\n",
      "activation_5 (Activation)    (None, 128)               0         \n",
      "_________________________________________________________________\n",
      "dropout_1 (Dropout)          (None, 128)               0         \n",
      "_________________________________________________________________\n",
      "dense_2 (Dense)              (None, 4)                 516       \n",
      "_________________________________________________________________\n",
      "batch_normalization_6 (Batch (None, 4)                 16        \n",
      "_________________________________________________________________\n",
      "activation_6 (Activation)    (None, 4)                 0         \n",
      "=================================================================\n",
      "Total params: 284,532\n",
      "Trainable params: 283,756\n",
      "Non-trainable params: 776\n",
      "_________________________________________________________________\n"
     ]
    }
   ],
   "source": [
    "#compiling the CNN\n",
    "classifier.compile(optimizer='adam', loss='categorical_crossentropy', metrics=['accuracy'])\n",
    "\n",
    "classifier.summary()\n"
   ]
  },
  {
   "cell_type": "code",
   "execution_count": 10,
   "metadata": {},
   "outputs": [
    {
     "name": "stdout",
     "output_type": "stream",
     "text": [
      "Found 16209 images belonging to 4 classes.\n",
      "Found 3965 images belonging to 4 classes.\n"
     ]
    }
   ],
   "source": [
    "#PART 2--- FITTING OUR CNN TO OUR IMAGES\n",
    "\n",
    "from keras.preprocessing.image import ImageDataGenerator\n",
    "\n",
    "train_datagen = ImageDataGenerator(rescale = 1./255,\n",
    "                                   shear_range = 0.2,\n",
    "                                   zoom_range = 0.2,\n",
    "                                   horizontal_flip = True)\n",
    "\n",
    "test_datagen = ImageDataGenerator(rescale = 1./255)\n",
    "\n",
    "training_set = train_datagen.flow_from_directory('train_set',\n",
    "                                                 target_size = (90, 90),\n",
    "                                                 batch_size = 18,\n",
    "                                                 class_mode = 'categorical')\n",
    "\n",
    "test_set = test_datagen.flow_from_directory('test_set',\n",
    "                                            target_size = (90, 90),\n",
    "                                            batch_size = 18,\n",
    "                                            class_mode = 'categorical')\n"
   ]
  },
  {
   "cell_type": "code",
   "execution_count": 11,
   "metadata": {},
   "outputs": [
    {
     "name": "stderr",
     "output_type": "stream",
     "text": [
      "C:\\ProgramData\\Anaconda3\\lib\\site-packages\\ipykernel_launcher.py:16: UserWarning: The semantics of the Keras 2 argument `steps_per_epoch` is not the same as the Keras 1 argument `samples_per_epoch`. `steps_per_epoch` is the number of batches to draw from the generator at each epoch. Basically steps_per_epoch = samples_per_epoch/batch_size. Similarly `nb_val_samples`->`validation_steps` and `val_samples`->`steps` arguments have changed. Update your method calls accordingly.\n",
      "  app.launch_new_instance()\n",
      "C:\\ProgramData\\Anaconda3\\lib\\site-packages\\ipykernel_launcher.py:16: UserWarning: Update your `fit_generator` call to the Keras 2 API: `fit_generator(<keras_pre..., validation_data=<keras_pre..., steps_per_epoch=900, epochs=18, validation_steps=3965)`\n",
      "  app.launch_new_instance()\n"
     ]
    },
    {
     "name": "stdout",
     "output_type": "stream",
     "text": [
      "Epoch 1/18\n",
      "900/900 [==============================] - 2590s 3s/step - loss: 0.6934 - acc: 0.7696 - val_loss: 0.5172 - val_acc: 0.8281\n",
      "Epoch 2/18\n",
      "900/900 [==============================] - 7494s 8s/step - loss: 0.5016 - acc: 0.8253 - val_loss: 0.5371 - val_acc: 0.8212\n",
      "Epoch 3/18\n",
      "900/900 [==============================] - 2558s 3s/step - loss: 0.4561 - acc: 0.8368 - val_loss: 0.5388 - val_acc: 0.8138\n",
      "Epoch 4/18\n",
      "900/900 [==============================] - 2600s 3s/step - loss: 0.4271 - acc: 0.8435 - val_loss: 0.6181 - val_acc: 0.7416\n",
      "Epoch 5/18\n",
      "900/900 [==============================] - 49093s 55s/step - loss: 0.4206 - acc: 0.8451 - val_loss: 0.5362 - val_acc: 0.8133\n",
      "Epoch 6/18\n",
      "900/900 [==============================] - 2619s 3s/step - loss: 0.4014 - acc: 0.8498 - val_loss: 0.5483 - val_acc: 0.7503\n",
      "Epoch 7/18\n",
      "900/900 [==============================] - 2737s 3s/step - loss: 0.3798 - acc: 0.8596 - val_loss: 0.4531 - val_acc: 0.8270\n",
      "Epoch 8/18\n",
      "900/900 [==============================] - 2632s 3s/step - loss: 0.3762 - acc: 0.8616 - val_loss: 0.4486 - val_acc: 0.8289\n",
      "Epoch 9/18\n",
      "900/900 [==============================] - 2704s 3s/step - loss: 0.3646 - acc: 0.8646 - val_loss: 0.4215 - val_acc: 0.8435\n",
      "Epoch 10/18\n",
      "900/900 [==============================] - 2664s 3s/step - loss: 0.3481 - acc: 0.8684 - val_loss: 0.4810 - val_acc: 0.8230\n",
      "Epoch 11/18\n",
      "900/900 [==============================] - 2646s 3s/step - loss: 0.3409 - acc: 0.8707 - val_loss: 0.4639 - val_acc: 0.8186\n",
      "Epoch 12/18\n",
      "900/900 [==============================] - 2797s 3s/step - loss: 0.3303 - acc: 0.8746 - val_loss: 0.4386 - val_acc: 0.8283\n",
      "Epoch 13/18\n",
      "900/900 [==============================] - 2660s 3s/step - loss: 0.3276 - acc: 0.8749 - val_loss: 0.4192 - val_acc: 0.8382\n",
      "Epoch 14/18\n",
      "900/900 [==============================] - 2739s 3s/step - loss: 0.3168 - acc: 0.8785 - val_loss: 0.4486 - val_acc: 0.8246\n",
      "Epoch 15/18\n",
      "900/900 [==============================] - 2712s 3s/step - loss: 0.3208 - acc: 0.8795 - val_loss: 0.4475 - val_acc: 0.8248\n",
      "Epoch 16/18\n",
      "900/900 [==============================] - 2713s 3s/step - loss: 0.3043 - acc: 0.8806 - val_loss: 0.4075 - val_acc: 0.8418\n",
      "Epoch 17/18\n",
      "900/900 [==============================] - 2713s 3s/step - loss: 0.3085 - acc: 0.8813 - val_loss: 0.4921 - val_acc: 0.8144\n",
      "Epoch 18/18\n",
      "900/900 [==============================] - 2726s 3s/step - loss: 0.2957 - acc: 0.8864 - val_loss: 0.5404 - val_acc: 0.7867\n",
      "dict_keys(['val_loss', 'val_acc', 'loss', 'acc'])\n"
     ]
    },
    {
     "data": {
      "image/png": "[encoded data removed]",
      "text/plain": [
       "<Figure size 432x288 with 1 Axes>"
      ]
     },
     "metadata": {},
     "output_type": "display_data"
    },
    {
     "data": {
      "image/png": "[encoded data removed]",
      "text/plain": [
       "<Figure size 432x288 with 1 Axes>"
      ]
     },
     "metadata": {},
     "output_type": "display_data"
    }
   ],
   "source": [
    "#checkpoint\n",
    "filepath=\"weights-improvement-{epoch:02d}-{val_acc:.2f}.hdf5\"\n",
    "checkpoint = ModelCheckpoint(filepath, monitor='val_acc', verbose=1, save_best_only=True, mode='max')\n",
    "callbacks_lists = [checkpoint]\n",
    "#classifier.load_weights(filename)\n",
    "classifier.save(\"best1.hdf5\")\n",
    "\n",
    "\n",
    "\n",
    "\n",
    "\n",
    "history=classifier.fit_generator(training_set,\n",
    "                         samples_per_epoch = 16209,\n",
    "                         nb_epoch = 18,\n",
    "                         validation_data = test_set,\n",
    "                         nb_val_samples = 3965)\n",
    "#save the weights \n",
    "classifier.save_weights('malariarmszeropttwodropout7andBN.h5')\n",
    "\n",
    "\n",
    "# list all data in history\n",
    "print(history.history.keys())\n",
    "\n",
    "# summarize history for accuracy\n",
    "plt.plot(history.history['acc'])\n",
    "plt.plot(history.history['val_acc'])\n",
    "plt.title('model accuracy')\n",
    "plt.ylabel('accuracy')\n",
    "plt.xlabel('epoch')\n",
    "plt.legend(['train', 'test'], loc='upper left')\n",
    "plt.show()\n",
    "# summarize history for loss\n",
    "plt.plot(history.history['loss'])\n",
    "plt.plot(history.history['val_loss'])\n",
    "plt.title('model loss')\n",
    "plt.ylabel('loss')\n",
    "plt.xlabel('epoch')\n",
    "plt.legend(['train', 'test'], loc='upper left')\n",
    "plt.show()\n",
    "\n",
    "\n",
    "\n"
   ]
  },
  {
   "cell_type": "code",
   "execution_count": null,
   "metadata": {
    "collapsed": true
   },
   "outputs": [],
   "source": []
  }
 ],
 "metadata": {
  "kernelspec": {
   "display_name": "Python 3",
   "language": "python",
   "name": "python3"
  },
  "language_info": {
   "codemirror_mode": {
    "name": "ipython",
    "version": 3
   },
   "file_extension": ".py",
   "mimetype": "text/x-python",
   "name": "python",
   "nbconvert_exporter": "python",
   "pygments_lexer": "ipython3",
   "version": "3.6.3"
  }
 },
 "nbformat": 4,
 "nbformat_minor": 2
}
