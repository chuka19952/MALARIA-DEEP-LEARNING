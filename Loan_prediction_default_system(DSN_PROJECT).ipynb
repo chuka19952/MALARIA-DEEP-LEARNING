{
  "nbformat": 4,
  "nbformat_minor": 0,
  "metadata": {
    "colab": {
      "name": "Loan prediction/default system(DSN PROJECT).ipynb",
      "version": "0.3.2",
      "provenance": [],
      "include_colab_link": true
    },
    "kernelspec": {
      "name": "python3",
      "display_name": "Python 3"
    }
  },
  "cells": [
    {
      "cell_type": "markdown",
      "metadata": {
        "id": "view-in-github",
        "colab_type": "text"
      },
      "source": [
        "<a href=\"https://colab.research.google.com/github/chuka19952/MALARIA-DL/blob/master/Loan_prediction_default_system(DSN_PROJECT).ipynb\" target=\"_parent\"><img src=\"https://colab.research.google.com/assets/colab-badge.svg\" alt=\"Open In Colab\"/></a>"
      ]
    },
    {
      "metadata": {
        "id": "F5fCNd6qt0of",
        "colab_type": "code",
        "colab": {}
      },
      "cell_type": "code",
      "source": [
        "#importing libraries\n",
        "import pandas as pd\n",
        "import numpy as np\n",
        "import seaborn as sns\n",
        "import matplotlib.pyplot as plt\n",
        "from pandas import Series,DataFrame \n",
        "from datetime import date\n",
        "import datetime as DT\n",
        "import io\n",
        "\n"
      ],
      "execution_count": 0,
      "outputs": []
    },
    {
      "metadata": {
        "id": "eqXC4FzBy1Ix",
        "colab_type": "code",
        "colab": {
          "resources": {
            "http://localhost:8080/nbextensions/google.colab/files.js": {
              "data": "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",
              "ok": true,
              "headers": [
                [
                  "content-type",
                  "application/javascript"
                ]
              ],
              "status": 200,
              "status_text": ""
            }
          },
          "base_uri": "https://localhost:8080/",
          "height": 142
        },
        "outputId": "518e8f15-e6a2-4f3d-a868-5e3e99c40dc5"
      },
      "cell_type": "code",
      "source": [
        "from google.colab import files\n",
        "\n",
        "uploaded = files.upload()\n",
        "\n",
        "for fn in uploaded.keys():\n",
        "  print('User uploaded file \"{name}\" with length {length} bytes'.format(\n",
        "      name=fn, length=len(uploaded[fn])))"
      ],
      "execution_count": 4,
      "outputs": [
        {
          "output_type": "display_data",
          "data": {
            "text/html": [
              "\n",
              "     <input type=\"file\" id=\"files-731a5b01-31a1-4172-8c40-8019198598af\" name=\"files[]\" multiple disabled />\n",
              "     <output id=\"result-731a5b01-31a1-4172-8c40-8019198598af\">\n",
              "      Upload widget is only available when the cell has been executed in the\n",
              "      current browser session. Please rerun this cell to enable.\n",
              "      </output>\n",
              "      <script src=\"/nbextensions/google.colab/files.js\"></script> "
            ],
            "text/plain": [
              "<IPython.core.display.HTML object>"
            ]
          },
          "metadata": {
            "tags": []
          }
        },
        {
          "output_type": "stream",
          "text": [
            "Saving test.csv to test.csv\n",
            "Saving train.csv to train.csv\n",
            "User uploaded file \"test.csv\" with length 21957 bytes\n",
            "User uploaded file \"train.csv\" with length 38013 bytes\n"
          ],
          "name": "stdout"
        }
      ]
    },
    {
      "metadata": {
        "id": "DmYmQl8MyUxI",
        "colab_type": "code",
        "colab": {}
      },
      "cell_type": "code",
      "source": [
        "#importing the datasets\n",
        "df12=pd.read_csv('train.csv')\n",
        "df13=pd.read_csv('test.csv')\n",
        "\n",
        "\n",
        "#DATA PRE-PROCESSING\n",
        "#for train set\n",
        "df12['Gender'].value_counts()\n",
        "df12.Gender = df12.Gender.fillna('Male')\n",
        "\n",
        "df12['Married'].value_counts()\n",
        "df12.Married = df12.Married.fillna('Yes')\n",
        "\n",
        "df12['Dependents'].value_counts()\n",
        "df12.Dependents = df12.Dependents.fillna('0')\n",
        "\n",
        "df12['Self_Employed'].value_counts()\n",
        "df12.Self_Employed = df12.Self_Employed.fillna('No')\n",
        "\n",
        "df12['LoanAmount'].value_counts()\n",
        "df12.LoanAmount = df12.LoanAmount.fillna(df12['LoanAmount'].mean())\n",
        "\n",
        "df12['Loan_Amount_Term'].value_counts()\n",
        "df12.Loan_Amount_Term = df12.Loan_Amount_Term.fillna(360)\n",
        "\n",
        "df12['Credit_History'].value_counts()\n",
        "df12.Credit_History = df12.Credit_History.fillna(1.0)\n",
        "\n",
        "#for test set\n",
        "df13['Gender'].value_counts()\n",
        "df13.Gender = df13.Gender.fillna('Male')\n",
        "\n",
        "df13['Married'].value_counts()\n",
        "df13.Married = df13.Married.fillna('Yes')\n",
        "\n",
        "df13['Dependents'].value_counts()\n",
        "df13.Dependents = df13.Dependents.fillna('0')\n",
        "\n",
        "df13['Self_Employed'].value_counts()\n",
        "df13.Self_Employed = df13.Self_Employed.fillna('No')\n",
        "\n",
        "df13['LoanAmount'].value_counts()\n",
        "df13.LoanAmount = df13.LoanAmount.fillna(df12['LoanAmount'].mean())\n",
        "\n",
        "df13['Loan_Amount_Term'].value_counts()\n",
        "df13.Loan_Amount_Term = df13.Loan_Amount_Term.fillna(360)\n",
        "\n",
        "df13['Credit_History'].value_counts()\n",
        "df13.Credit_History = df13.Credit_History.fillna(1.0)"
      ],
      "execution_count": 0,
      "outputs": []
    },
    {
      "metadata": {
        "id": "1v-wYdBF8u8r",
        "colab_type": "code",
        "colab": {
          "base_uri": "https://localhost:8080/",
          "height": 2244
        },
        "outputId": "60cf5c49-f814-4af8-99a9-33f58d4c1338"
      },
      "cell_type": "code",
      "source": [
        ""
      ],
      "execution_count": 8,
      "outputs": [
        {
          "output_type": "execute_result",
          "data": {
            "text/html": [
              "<div>\n",
              "<style scoped>\n",
              "    .dataframe tbody tr th:only-of-type {\n",
              "        vertical-align: middle;\n",
              "    }\n",
              "\n",
              "    .dataframe tbody tr th {\n",
              "        vertical-align: top;\n",
              "    }\n",
              "\n",
              "    .dataframe thead th {\n",
              "        text-align: right;\n",
              "    }\n",
              "</style>\n",
              "<table border=\"1\" class=\"dataframe\">\n",
              "  <thead>\n",
              "    <tr style=\"text-align: right;\">\n",
              "      <th></th>\n",
              "      <th>Loan_ID</th>\n",
              "      <th>Gender</th>\n",
              "      <th>Married</th>\n",
              "      <th>Dependents</th>\n",
              "      <th>Education</th>\n",
              "      <th>Self_Employed</th>\n",
              "      <th>ApplicantIncome</th>\n",
              "      <th>CoapplicantIncome</th>\n",
              "      <th>LoanAmount</th>\n",
              "      <th>Loan_Amount_Term</th>\n",
              "      <th>Credit_History</th>\n",
              "      <th>Property_Area</th>\n",
              "      <th>Loan_Status</th>\n",
              "    </tr>\n",
              "  </thead>\n",
              "  <tbody>\n",
              "    <tr>\n",
              "      <th>0</th>\n",
              "      <td>LP001002</td>\n",
              "      <td>Male</td>\n",
              "      <td>No</td>\n",
              "      <td>0</td>\n",
              "      <td>Graduate</td>\n",
              "      <td>No</td>\n",
              "      <td>5849</td>\n",
              "      <td>0.0</td>\n",
              "      <td>146.412162</td>\n",
              "      <td>360.0</td>\n",
              "      <td>1.0</td>\n",
              "      <td>Urban</td>\n",
              "      <td>Y</td>\n",
              "    </tr>\n",
              "    <tr>\n",
              "      <th>1</th>\n",
              "      <td>LP001003</td>\n",
              "      <td>Male</td>\n",
              "      <td>Yes</td>\n",
              "      <td>1</td>\n",
              "      <td>Graduate</td>\n",
              "      <td>No</td>\n",
              "      <td>4583</td>\n",
              "      <td>1508.0</td>\n",
              "      <td>128.000000</td>\n",
              "      <td>360.0</td>\n",
              "      <td>1.0</td>\n",
              "      <td>Rural</td>\n",
              "      <td>N</td>\n",
              "    </tr>\n",
              "    <tr>\n",
              "      <th>2</th>\n",
              "      <td>LP001005</td>\n",
              "      <td>Male</td>\n",
              "      <td>Yes</td>\n",
              "      <td>0</td>\n",
              "      <td>Graduate</td>\n",
              "      <td>Yes</td>\n",
              "      <td>3000</td>\n",
              "      <td>0.0</td>\n",
              "      <td>66.000000</td>\n",
              "      <td>360.0</td>\n",
              "      <td>1.0</td>\n",
              "      <td>Urban</td>\n",
              "      <td>Y</td>\n",
              "    </tr>\n",
              "    <tr>\n",
              "      <th>3</th>\n",
              "      <td>LP001006</td>\n",
              "      <td>Male</td>\n",
              "      <td>Yes</td>\n",
              "      <td>0</td>\n",
              "      <td>Not Graduate</td>\n",
              "      <td>No</td>\n",
              "      <td>2583</td>\n",
              "      <td>2358.0</td>\n",
              "      <td>120.000000</td>\n",
              "      <td>360.0</td>\n",
              "      <td>1.0</td>\n",
              "      <td>Urban</td>\n",
              "      <td>Y</td>\n",
              "    </tr>\n",
              "    <tr>\n",
              "      <th>4</th>\n",
              "      <td>LP001008</td>\n",
              "      <td>Male</td>\n",
              "      <td>No</td>\n",
              "      <td>0</td>\n",
              "      <td>Graduate</td>\n",
              "      <td>No</td>\n",
              "      <td>6000</td>\n",
              "      <td>0.0</td>\n",
              "      <td>141.000000</td>\n",
              "      <td>360.0</td>\n",
              "      <td>1.0</td>\n",
              "      <td>Urban</td>\n",
              "      <td>Y</td>\n",
              "    </tr>\n",
              "    <tr>\n",
              "      <th>5</th>\n",
              "      <td>LP001011</td>\n",
              "      <td>Male</td>\n",
              "      <td>Yes</td>\n",
              "      <td>2</td>\n",
              "      <td>Graduate</td>\n",
              "      <td>Yes</td>\n",
              "      <td>5417</td>\n",
              "      <td>4196.0</td>\n",
              "      <td>267.000000</td>\n",
              "      <td>360.0</td>\n",
              "      <td>1.0</td>\n",
              "      <td>Urban</td>\n",
              "      <td>Y</td>\n",
              "    </tr>\n",
              "    <tr>\n",
              "      <th>6</th>\n",
              "      <td>LP001013</td>\n",
              "      <td>Male</td>\n",
              "      <td>Yes</td>\n",
              "      <td>0</td>\n",
              "      <td>Not Graduate</td>\n",
              "      <td>No</td>\n",
              "      <td>2333</td>\n",
              "      <td>1516.0</td>\n",
              "      <td>95.000000</td>\n",
              "      <td>360.0</td>\n",
              "      <td>1.0</td>\n",
              "      <td>Urban</td>\n",
              "      <td>Y</td>\n",
              "    </tr>\n",
              "    <tr>\n",
              "      <th>7</th>\n",
              "      <td>LP001014</td>\n",
              "      <td>Male</td>\n",
              "      <td>Yes</td>\n",
              "      <td>3+</td>\n",
              "      <td>Graduate</td>\n",
              "      <td>No</td>\n",
              "      <td>3036</td>\n",
              "      <td>2504.0</td>\n",
              "      <td>158.000000</td>\n",
              "      <td>360.0</td>\n",
              "      <td>0.0</td>\n",
              "      <td>Semiurban</td>\n",
              "      <td>N</td>\n",
              "    </tr>\n",
              "    <tr>\n",
              "      <th>8</th>\n",
              "      <td>LP001018</td>\n",
              "      <td>Male</td>\n",
              "      <td>Yes</td>\n",
              "      <td>2</td>\n",
              "      <td>Graduate</td>\n",
              "      <td>No</td>\n",
              "      <td>4006</td>\n",
              "      <td>1526.0</td>\n",
              "      <td>168.000000</td>\n",
              "      <td>360.0</td>\n",
              "      <td>1.0</td>\n",
              "      <td>Urban</td>\n",
              "      <td>Y</td>\n",
              "    </tr>\n",
              "    <tr>\n",
              "      <th>9</th>\n",
              "      <td>LP001020</td>\n",
              "      <td>Male</td>\n",
              "      <td>Yes</td>\n",
              "      <td>1</td>\n",
              "      <td>Graduate</td>\n",
              "      <td>No</td>\n",
              "      <td>12841</td>\n",
              "      <td>10968.0</td>\n",
              "      <td>349.000000</td>\n",
              "      <td>360.0</td>\n",
              "      <td>1.0</td>\n",
              "      <td>Semiurban</td>\n",
              "      <td>N</td>\n",
              "    </tr>\n",
              "    <tr>\n",
              "      <th>10</th>\n",
              "      <td>LP001024</td>\n",
              "      <td>Male</td>\n",
              "      <td>Yes</td>\n",
              "      <td>2</td>\n",
              "      <td>Graduate</td>\n",
              "      <td>No</td>\n",
              "      <td>3200</td>\n",
              "      <td>700.0</td>\n",
              "      <td>70.000000</td>\n",
              "      <td>360.0</td>\n",
              "      <td>1.0</td>\n",
              "      <td>Urban</td>\n",
              "      <td>Y</td>\n",
              "    </tr>\n",
              "    <tr>\n",
              "      <th>11</th>\n",
              "      <td>LP001027</td>\n",
              "      <td>Male</td>\n",
              "      <td>Yes</td>\n",
              "      <td>2</td>\n",
              "      <td>Graduate</td>\n",
              "      <td>No</td>\n",
              "      <td>2500</td>\n",
              "      <td>1840.0</td>\n",
              "      <td>109.000000</td>\n",
              "      <td>360.0</td>\n",
              "      <td>1.0</td>\n",
              "      <td>Urban</td>\n",
              "      <td>Y</td>\n",
              "    </tr>\n",
              "    <tr>\n",
              "      <th>12</th>\n",
              "      <td>LP001028</td>\n",
              "      <td>Male</td>\n",
              "      <td>Yes</td>\n",
              "      <td>2</td>\n",
              "      <td>Graduate</td>\n",
              "      <td>No</td>\n",
              "      <td>3073</td>\n",
              "      <td>8106.0</td>\n",
              "      <td>200.000000</td>\n",
              "      <td>360.0</td>\n",
              "      <td>1.0</td>\n",
              "      <td>Urban</td>\n",
              "      <td>Y</td>\n",
              "    </tr>\n",
              "    <tr>\n",
              "      <th>13</th>\n",
              "      <td>LP001029</td>\n",
              "      <td>Male</td>\n",
              "      <td>No</td>\n",
              "      <td>0</td>\n",
              "      <td>Graduate</td>\n",
              "      <td>No</td>\n",
              "      <td>1853</td>\n",
              "      <td>2840.0</td>\n",
              "      <td>114.000000</td>\n",
              "      <td>360.0</td>\n",
              "      <td>1.0</td>\n",
              "      <td>Rural</td>\n",
              "      <td>N</td>\n",
              "    </tr>\n",
              "    <tr>\n",
              "      <th>14</th>\n",
              "      <td>LP001030</td>\n",
              "      <td>Male</td>\n",
              "      <td>Yes</td>\n",
              "      <td>2</td>\n",
              "      <td>Graduate</td>\n",
              "      <td>No</td>\n",
              "      <td>1299</td>\n",
              "      <td>1086.0</td>\n",
              "      <td>17.000000</td>\n",
              "      <td>120.0</td>\n",
              "      <td>1.0</td>\n",
              "      <td>Urban</td>\n",
              "      <td>Y</td>\n",
              "    </tr>\n",
              "    <tr>\n",
              "      <th>15</th>\n",
              "      <td>LP001032</td>\n",
              "      <td>Male</td>\n",
              "      <td>No</td>\n",
              "      <td>0</td>\n",
              "      <td>Graduate</td>\n",
              "      <td>No</td>\n",
              "      <td>4950</td>\n",
              "      <td>0.0</td>\n",
              "      <td>125.000000</td>\n",
              "      <td>360.0</td>\n",
              "      <td>1.0</td>\n",
              "      <td>Urban</td>\n",
              "      <td>Y</td>\n",
              "    </tr>\n",
              "    <tr>\n",
              "      <th>16</th>\n",
              "      <td>LP001034</td>\n",
              "      <td>Male</td>\n",
              "      <td>No</td>\n",
              "      <td>1</td>\n",
              "      <td>Not Graduate</td>\n",
              "      <td>No</td>\n",
              "      <td>3596</td>\n",
              "      <td>0.0</td>\n",
              "      <td>100.000000</td>\n",
              "      <td>240.0</td>\n",
              "      <td>1.0</td>\n",
              "      <td>Urban</td>\n",
              "      <td>Y</td>\n",
              "    </tr>\n",
              "    <tr>\n",
              "      <th>17</th>\n",
              "      <td>LP001036</td>\n",
              "      <td>Female</td>\n",
              "      <td>No</td>\n",
              "      <td>0</td>\n",
              "      <td>Graduate</td>\n",
              "      <td>No</td>\n",
              "      <td>3510</td>\n",
              "      <td>0.0</td>\n",
              "      <td>76.000000</td>\n",
              "      <td>360.0</td>\n",
              "      <td>0.0</td>\n",
              "      <td>Urban</td>\n",
              "      <td>N</td>\n",
              "    </tr>\n",
              "    <tr>\n",
              "      <th>18</th>\n",
              "      <td>LP001038</td>\n",
              "      <td>Male</td>\n",
              "      <td>Yes</td>\n",
              "      <td>0</td>\n",
              "      <td>Not Graduate</td>\n",
              "      <td>No</td>\n",
              "      <td>4887</td>\n",
              "      <td>0.0</td>\n",
              "      <td>133.000000</td>\n",
              "      <td>360.0</td>\n",
              "      <td>1.0</td>\n",
              "      <td>Rural</td>\n",
              "      <td>N</td>\n",
              "    </tr>\n",
              "    <tr>\n",
              "      <th>19</th>\n",
              "      <td>LP001041</td>\n",
              "      <td>Male</td>\n",
              "      <td>Yes</td>\n",
              "      <td>0</td>\n",
              "      <td>Graduate</td>\n",
              "      <td>No</td>\n",
              "      <td>2600</td>\n",
              "      <td>3500.0</td>\n",
              "      <td>115.000000</td>\n",
              "      <td>360.0</td>\n",
              "      <td>1.0</td>\n",
              "      <td>Urban</td>\n",
              "      <td>Y</td>\n",
              "    </tr>\n",
              "    <tr>\n",
              "      <th>20</th>\n",
              "      <td>LP001043</td>\n",
              "      <td>Male</td>\n",
              "      <td>Yes</td>\n",
              "      <td>0</td>\n",
              "      <td>Not Graduate</td>\n",
              "      <td>No</td>\n",
              "      <td>7660</td>\n",
              "      <td>0.0</td>\n",
              "      <td>104.000000</td>\n",
              "      <td>360.0</td>\n",
              "      <td>0.0</td>\n",
              "      <td>Urban</td>\n",
              "      <td>N</td>\n",
              "    </tr>\n",
              "    <tr>\n",
              "      <th>21</th>\n",
              "      <td>LP001046</td>\n",
              "      <td>Male</td>\n",
              "      <td>Yes</td>\n",
              "      <td>1</td>\n",
              "      <td>Graduate</td>\n",
              "      <td>No</td>\n",
              "      <td>5955</td>\n",
              "      <td>5625.0</td>\n",
              "      <td>315.000000</td>\n",
              "      <td>360.0</td>\n",
              "      <td>1.0</td>\n",
              "      <td>Urban</td>\n",
              "      <td>Y</td>\n",
              "    </tr>\n",
              "    <tr>\n",
              "      <th>22</th>\n",
              "      <td>LP001047</td>\n",
              "      <td>Male</td>\n",
              "      <td>Yes</td>\n",
              "      <td>0</td>\n",
              "      <td>Not Graduate</td>\n",
              "      <td>No</td>\n",
              "      <td>2600</td>\n",
              "      <td>1911.0</td>\n",
              "      <td>116.000000</td>\n",
              "      <td>360.0</td>\n",
              "      <td>0.0</td>\n",
              "      <td>Semiurban</td>\n",
              "      <td>N</td>\n",
              "    </tr>\n",
              "    <tr>\n",
              "      <th>23</th>\n",
              "      <td>LP001050</td>\n",
              "      <td>Male</td>\n",
              "      <td>Yes</td>\n",
              "      <td>2</td>\n",
              "      <td>Not Graduate</td>\n",
              "      <td>No</td>\n",
              "      <td>3365</td>\n",
              "      <td>1917.0</td>\n",
              "      <td>112.000000</td>\n",
              "      <td>360.0</td>\n",
              "      <td>0.0</td>\n",
              "      <td>Rural</td>\n",
              "      <td>N</td>\n",
              "    </tr>\n",
              "    <tr>\n",
              "      <th>24</th>\n",
              "      <td>LP001052</td>\n",
              "      <td>Male</td>\n",
              "      <td>Yes</td>\n",
              "      <td>1</td>\n",
              "      <td>Graduate</td>\n",
              "      <td>No</td>\n",
              "      <td>3717</td>\n",
              "      <td>2925.0</td>\n",
              "      <td>151.000000</td>\n",
              "      <td>360.0</td>\n",
              "      <td>1.0</td>\n",
              "      <td>Semiurban</td>\n",
              "      <td>N</td>\n",
              "    </tr>\n",
              "    <tr>\n",
              "      <th>25</th>\n",
              "      <td>LP001066</td>\n",
              "      <td>Male</td>\n",
              "      <td>Yes</td>\n",
              "      <td>0</td>\n",
              "      <td>Graduate</td>\n",
              "      <td>Yes</td>\n",
              "      <td>9560</td>\n",
              "      <td>0.0</td>\n",
              "      <td>191.000000</td>\n",
              "      <td>360.0</td>\n",
              "      <td>1.0</td>\n",
              "      <td>Semiurban</td>\n",
              "      <td>Y</td>\n",
              "    </tr>\n",
              "    <tr>\n",
              "      <th>26</th>\n",
              "      <td>LP001068</td>\n",
              "      <td>Male</td>\n",
              "      <td>Yes</td>\n",
              "      <td>0</td>\n",
              "      <td>Graduate</td>\n",
              "      <td>No</td>\n",
              "      <td>2799</td>\n",
              "      <td>2253.0</td>\n",
              "      <td>122.000000</td>\n",
              "      <td>360.0</td>\n",
              "      <td>1.0</td>\n",
              "      <td>Semiurban</td>\n",
              "      <td>Y</td>\n",
              "    </tr>\n",
              "    <tr>\n",
              "      <th>27</th>\n",
              "      <td>LP001073</td>\n",
              "      <td>Male</td>\n",
              "      <td>Yes</td>\n",
              "      <td>2</td>\n",
              "      <td>Not Graduate</td>\n",
              "      <td>No</td>\n",
              "      <td>4226</td>\n",
              "      <td>1040.0</td>\n",
              "      <td>110.000000</td>\n",
              "      <td>360.0</td>\n",
              "      <td>1.0</td>\n",
              "      <td>Urban</td>\n",
              "      <td>Y</td>\n",
              "    </tr>\n",
              "    <tr>\n",
              "      <th>28</th>\n",
              "      <td>LP001086</td>\n",
              "      <td>Male</td>\n",
              "      <td>No</td>\n",
              "      <td>0</td>\n",
              "      <td>Not Graduate</td>\n",
              "      <td>No</td>\n",
              "      <td>1442</td>\n",
              "      <td>0.0</td>\n",
              "      <td>35.000000</td>\n",
              "      <td>360.0</td>\n",
              "      <td>1.0</td>\n",
              "      <td>Urban</td>\n",
              "      <td>N</td>\n",
              "    </tr>\n",
              "    <tr>\n",
              "      <th>29</th>\n",
              "      <td>LP001087</td>\n",
              "      <td>Female</td>\n",
              "      <td>No</td>\n",
              "      <td>2</td>\n",
              "      <td>Graduate</td>\n",
              "      <td>No</td>\n",
              "      <td>3750</td>\n",
              "      <td>2083.0</td>\n",
              "      <td>120.000000</td>\n",
              "      <td>360.0</td>\n",
              "      <td>1.0</td>\n",
              "      <td>Semiurban</td>\n",
              "      <td>Y</td>\n",
              "    </tr>\n",
              "    <tr>\n",
              "      <th>...</th>\n",
              "      <td>...</td>\n",
              "      <td>...</td>\n",
              "      <td>...</td>\n",
              "      <td>...</td>\n",
              "      <td>...</td>\n",
              "      <td>...</td>\n",
              "      <td>...</td>\n",
              "      <td>...</td>\n",
              "      <td>...</td>\n",
              "      <td>...</td>\n",
              "      <td>...</td>\n",
              "      <td>...</td>\n",
              "      <td>...</td>\n",
              "    </tr>\n",
              "    <tr>\n",
              "      <th>584</th>\n",
              "      <td>LP002911</td>\n",
              "      <td>Male</td>\n",
              "      <td>Yes</td>\n",
              "      <td>1</td>\n",
              "      <td>Graduate</td>\n",
              "      <td>No</td>\n",
              "      <td>2787</td>\n",
              "      <td>1917.0</td>\n",
              "      <td>146.000000</td>\n",
              "      <td>360.0</td>\n",
              "      <td>0.0</td>\n",
              "      <td>Rural</td>\n",
              "      <td>N</td>\n",
              "    </tr>\n",
              "    <tr>\n",
              "      <th>585</th>\n",
              "      <td>LP002912</td>\n",
              "      <td>Male</td>\n",
              "      <td>Yes</td>\n",
              "      <td>1</td>\n",
              "      <td>Graduate</td>\n",
              "      <td>No</td>\n",
              "      <td>4283</td>\n",
              "      <td>3000.0</td>\n",
              "      <td>172.000000</td>\n",
              "      <td>84.0</td>\n",
              "      <td>1.0</td>\n",
              "      <td>Rural</td>\n",
              "      <td>N</td>\n",
              "    </tr>\n",
              "    <tr>\n",
              "      <th>586</th>\n",
              "      <td>LP002916</td>\n",
              "      <td>Male</td>\n",
              "      <td>Yes</td>\n",
              "      <td>0</td>\n",
              "      <td>Graduate</td>\n",
              "      <td>No</td>\n",
              "      <td>2297</td>\n",
              "      <td>1522.0</td>\n",
              "      <td>104.000000</td>\n",
              "      <td>360.0</td>\n",
              "      <td>1.0</td>\n",
              "      <td>Urban</td>\n",
              "      <td>Y</td>\n",
              "    </tr>\n",
              "    <tr>\n",
              "      <th>587</th>\n",
              "      <td>LP002917</td>\n",
              "      <td>Female</td>\n",
              "      <td>No</td>\n",
              "      <td>0</td>\n",
              "      <td>Not Graduate</td>\n",
              "      <td>No</td>\n",
              "      <td>2165</td>\n",
              "      <td>0.0</td>\n",
              "      <td>70.000000</td>\n",
              "      <td>360.0</td>\n",
              "      <td>1.0</td>\n",
              "      <td>Semiurban</td>\n",
              "      <td>Y</td>\n",
              "    </tr>\n",
              "    <tr>\n",
              "      <th>588</th>\n",
              "      <td>LP002925</td>\n",
              "      <td>Male</td>\n",
              "      <td>No</td>\n",
              "      <td>0</td>\n",
              "      <td>Graduate</td>\n",
              "      <td>No</td>\n",
              "      <td>4750</td>\n",
              "      <td>0.0</td>\n",
              "      <td>94.000000</td>\n",
              "      <td>360.0</td>\n",
              "      <td>1.0</td>\n",
              "      <td>Semiurban</td>\n",
              "      <td>Y</td>\n",
              "    </tr>\n",
              "    <tr>\n",
              "      <th>589</th>\n",
              "      <td>LP002926</td>\n",
              "      <td>Male</td>\n",
              "      <td>Yes</td>\n",
              "      <td>2</td>\n",
              "      <td>Graduate</td>\n",
              "      <td>Yes</td>\n",
              "      <td>2726</td>\n",
              "      <td>0.0</td>\n",
              "      <td>106.000000</td>\n",
              "      <td>360.0</td>\n",
              "      <td>0.0</td>\n",
              "      <td>Semiurban</td>\n",
              "      <td>N</td>\n",
              "    </tr>\n",
              "    <tr>\n",
              "      <th>590</th>\n",
              "      <td>LP002928</td>\n",
              "      <td>Male</td>\n",
              "      <td>Yes</td>\n",
              "      <td>0</td>\n",
              "      <td>Graduate</td>\n",
              "      <td>No</td>\n",
              "      <td>3000</td>\n",
              "      <td>3416.0</td>\n",
              "      <td>56.000000</td>\n",
              "      <td>180.0</td>\n",
              "      <td>1.0</td>\n",
              "      <td>Semiurban</td>\n",
              "      <td>Y</td>\n",
              "    </tr>\n",
              "    <tr>\n",
              "      <th>591</th>\n",
              "      <td>LP002931</td>\n",
              "      <td>Male</td>\n",
              "      <td>Yes</td>\n",
              "      <td>2</td>\n",
              "      <td>Graduate</td>\n",
              "      <td>Yes</td>\n",
              "      <td>6000</td>\n",
              "      <td>0.0</td>\n",
              "      <td>205.000000</td>\n",
              "      <td>240.0</td>\n",
              "      <td>1.0</td>\n",
              "      <td>Semiurban</td>\n",
              "      <td>N</td>\n",
              "    </tr>\n",
              "    <tr>\n",
              "      <th>592</th>\n",
              "      <td>LP002933</td>\n",
              "      <td>Male</td>\n",
              "      <td>No</td>\n",
              "      <td>3+</td>\n",
              "      <td>Graduate</td>\n",
              "      <td>Yes</td>\n",
              "      <td>9357</td>\n",
              "      <td>0.0</td>\n",
              "      <td>292.000000</td>\n",
              "      <td>360.0</td>\n",
              "      <td>1.0</td>\n",
              "      <td>Semiurban</td>\n",
              "      <td>Y</td>\n",
              "    </tr>\n",
              "    <tr>\n",
              "      <th>593</th>\n",
              "      <td>LP002936</td>\n",
              "      <td>Male</td>\n",
              "      <td>Yes</td>\n",
              "      <td>0</td>\n",
              "      <td>Graduate</td>\n",
              "      <td>No</td>\n",
              "      <td>3859</td>\n",
              "      <td>3300.0</td>\n",
              "      <td>142.000000</td>\n",
              "      <td>180.0</td>\n",
              "      <td>1.0</td>\n",
              "      <td>Rural</td>\n",
              "      <td>Y</td>\n",
              "    </tr>\n",
              "    <tr>\n",
              "      <th>594</th>\n",
              "      <td>LP002938</td>\n",
              "      <td>Male</td>\n",
              "      <td>Yes</td>\n",
              "      <td>0</td>\n",
              "      <td>Graduate</td>\n",
              "      <td>Yes</td>\n",
              "      <td>16120</td>\n",
              "      <td>0.0</td>\n",
              "      <td>260.000000</td>\n",
              "      <td>360.0</td>\n",
              "      <td>1.0</td>\n",
              "      <td>Urban</td>\n",
              "      <td>Y</td>\n",
              "    </tr>\n",
              "    <tr>\n",
              "      <th>595</th>\n",
              "      <td>LP002940</td>\n",
              "      <td>Male</td>\n",
              "      <td>No</td>\n",
              "      <td>0</td>\n",
              "      <td>Not Graduate</td>\n",
              "      <td>No</td>\n",
              "      <td>3833</td>\n",
              "      <td>0.0</td>\n",
              "      <td>110.000000</td>\n",
              "      <td>360.0</td>\n",
              "      <td>1.0</td>\n",
              "      <td>Rural</td>\n",
              "      <td>Y</td>\n",
              "    </tr>\n",
              "    <tr>\n",
              "      <th>596</th>\n",
              "      <td>LP002941</td>\n",
              "      <td>Male</td>\n",
              "      <td>Yes</td>\n",
              "      <td>2</td>\n",
              "      <td>Not Graduate</td>\n",
              "      <td>Yes</td>\n",
              "      <td>6383</td>\n",
              "      <td>1000.0</td>\n",
              "      <td>187.000000</td>\n",
              "      <td>360.0</td>\n",
              "      <td>1.0</td>\n",
              "      <td>Rural</td>\n",
              "      <td>N</td>\n",
              "    </tr>\n",
              "    <tr>\n",
              "      <th>597</th>\n",
              "      <td>LP002943</td>\n",
              "      <td>Male</td>\n",
              "      <td>No</td>\n",
              "      <td>0</td>\n",
              "      <td>Graduate</td>\n",
              "      <td>No</td>\n",
              "      <td>2987</td>\n",
              "      <td>0.0</td>\n",
              "      <td>88.000000</td>\n",
              "      <td>360.0</td>\n",
              "      <td>0.0</td>\n",
              "      <td>Semiurban</td>\n",
              "      <td>N</td>\n",
              "    </tr>\n",
              "    <tr>\n",
              "      <th>598</th>\n",
              "      <td>LP002945</td>\n",
              "      <td>Male</td>\n",
              "      <td>Yes</td>\n",
              "      <td>0</td>\n",
              "      <td>Graduate</td>\n",
              "      <td>Yes</td>\n",
              "      <td>9963</td>\n",
              "      <td>0.0</td>\n",
              "      <td>180.000000</td>\n",
              "      <td>360.0</td>\n",
              "      <td>1.0</td>\n",
              "      <td>Rural</td>\n",
              "      <td>Y</td>\n",
              "    </tr>\n",
              "    <tr>\n",
              "      <th>599</th>\n",
              "      <td>LP002948</td>\n",
              "      <td>Male</td>\n",
              "      <td>Yes</td>\n",
              "      <td>2</td>\n",
              "      <td>Graduate</td>\n",
              "      <td>No</td>\n",
              "      <td>5780</td>\n",
              "      <td>0.0</td>\n",
              "      <td>192.000000</td>\n",
              "      <td>360.0</td>\n",
              "      <td>1.0</td>\n",
              "      <td>Urban</td>\n",
              "      <td>Y</td>\n",
              "    </tr>\n",
              "    <tr>\n",
              "      <th>600</th>\n",
              "      <td>LP002949</td>\n",
              "      <td>Female</td>\n",
              "      <td>No</td>\n",
              "      <td>3+</td>\n",
              "      <td>Graduate</td>\n",
              "      <td>No</td>\n",
              "      <td>416</td>\n",
              "      <td>41667.0</td>\n",
              "      <td>350.000000</td>\n",
              "      <td>180.0</td>\n",
              "      <td>1.0</td>\n",
              "      <td>Urban</td>\n",
              "      <td>N</td>\n",
              "    </tr>\n",
              "    <tr>\n",
              "      <th>601</th>\n",
              "      <td>LP002950</td>\n",
              "      <td>Male</td>\n",
              "      <td>Yes</td>\n",
              "      <td>0</td>\n",
              "      <td>Not Graduate</td>\n",
              "      <td>No</td>\n",
              "      <td>2894</td>\n",
              "      <td>2792.0</td>\n",
              "      <td>155.000000</td>\n",
              "      <td>360.0</td>\n",
              "      <td>1.0</td>\n",
              "      <td>Rural</td>\n",
              "      <td>Y</td>\n",
              "    </tr>\n",
              "    <tr>\n",
              "      <th>602</th>\n",
              "      <td>LP002953</td>\n",
              "      <td>Male</td>\n",
              "      <td>Yes</td>\n",
              "      <td>3+</td>\n",
              "      <td>Graduate</td>\n",
              "      <td>No</td>\n",
              "      <td>5703</td>\n",
              "      <td>0.0</td>\n",
              "      <td>128.000000</td>\n",
              "      <td>360.0</td>\n",
              "      <td>1.0</td>\n",
              "      <td>Urban</td>\n",
              "      <td>Y</td>\n",
              "    </tr>\n",
              "    <tr>\n",
              "      <th>603</th>\n",
              "      <td>LP002958</td>\n",
              "      <td>Male</td>\n",
              "      <td>No</td>\n",
              "      <td>0</td>\n",
              "      <td>Graduate</td>\n",
              "      <td>No</td>\n",
              "      <td>3676</td>\n",
              "      <td>4301.0</td>\n",
              "      <td>172.000000</td>\n",
              "      <td>360.0</td>\n",
              "      <td>1.0</td>\n",
              "      <td>Rural</td>\n",
              "      <td>Y</td>\n",
              "    </tr>\n",
              "    <tr>\n",
              "      <th>604</th>\n",
              "      <td>LP002959</td>\n",
              "      <td>Female</td>\n",
              "      <td>Yes</td>\n",
              "      <td>1</td>\n",
              "      <td>Graduate</td>\n",
              "      <td>No</td>\n",
              "      <td>12000</td>\n",
              "      <td>0.0</td>\n",
              "      <td>496.000000</td>\n",
              "      <td>360.0</td>\n",
              "      <td>1.0</td>\n",
              "      <td>Semiurban</td>\n",
              "      <td>Y</td>\n",
              "    </tr>\n",
              "    <tr>\n",
              "      <th>605</th>\n",
              "      <td>LP002960</td>\n",
              "      <td>Male</td>\n",
              "      <td>Yes</td>\n",
              "      <td>0</td>\n",
              "      <td>Not Graduate</td>\n",
              "      <td>No</td>\n",
              "      <td>2400</td>\n",
              "      <td>3800.0</td>\n",
              "      <td>146.412162</td>\n",
              "      <td>180.0</td>\n",
              "      <td>1.0</td>\n",
              "      <td>Urban</td>\n",
              "      <td>N</td>\n",
              "    </tr>\n",
              "    <tr>\n",
              "      <th>606</th>\n",
              "      <td>LP002961</td>\n",
              "      <td>Male</td>\n",
              "      <td>Yes</td>\n",
              "      <td>1</td>\n",
              "      <td>Graduate</td>\n",
              "      <td>No</td>\n",
              "      <td>3400</td>\n",
              "      <td>2500.0</td>\n",
              "      <td>173.000000</td>\n",
              "      <td>360.0</td>\n",
              "      <td>1.0</td>\n",
              "      <td>Semiurban</td>\n",
              "      <td>Y</td>\n",
              "    </tr>\n",
              "    <tr>\n",
              "      <th>607</th>\n",
              "      <td>LP002964</td>\n",
              "      <td>Male</td>\n",
              "      <td>Yes</td>\n",
              "      <td>2</td>\n",
              "      <td>Not Graduate</td>\n",
              "      <td>No</td>\n",
              "      <td>3987</td>\n",
              "      <td>1411.0</td>\n",
              "      <td>157.000000</td>\n",
              "      <td>360.0</td>\n",
              "      <td>1.0</td>\n",
              "      <td>Rural</td>\n",
              "      <td>Y</td>\n",
              "    </tr>\n",
              "    <tr>\n",
              "      <th>608</th>\n",
              "      <td>LP002974</td>\n",
              "      <td>Male</td>\n",
              "      <td>Yes</td>\n",
              "      <td>0</td>\n",
              "      <td>Graduate</td>\n",
              "      <td>No</td>\n",
              "      <td>3232</td>\n",
              "      <td>1950.0</td>\n",
              "      <td>108.000000</td>\n",
              "      <td>360.0</td>\n",
              "      <td>1.0</td>\n",
              "      <td>Rural</td>\n",
              "      <td>Y</td>\n",
              "    </tr>\n",
              "    <tr>\n",
              "      <th>609</th>\n",
              "      <td>LP002978</td>\n",
              "      <td>Female</td>\n",
              "      <td>No</td>\n",
              "      <td>0</td>\n",
              "      <td>Graduate</td>\n",
              "      <td>No</td>\n",
              "      <td>2900</td>\n",
              "      <td>0.0</td>\n",
              "      <td>71.000000</td>\n",
              "      <td>360.0</td>\n",
              "      <td>1.0</td>\n",
              "      <td>Rural</td>\n",
              "      <td>Y</td>\n",
              "    </tr>\n",
              "    <tr>\n",
              "      <th>610</th>\n",
              "      <td>LP002979</td>\n",
              "      <td>Male</td>\n",
              "      <td>Yes</td>\n",
              "      <td>3+</td>\n",
              "      <td>Graduate</td>\n",
              "      <td>No</td>\n",
              "      <td>4106</td>\n",
              "      <td>0.0</td>\n",
              "      <td>40.000000</td>\n",
              "      <td>180.0</td>\n",
              "      <td>1.0</td>\n",
              "      <td>Rural</td>\n",
              "      <td>Y</td>\n",
              "    </tr>\n",
              "    <tr>\n",
              "      <th>611</th>\n",
              "      <td>LP002983</td>\n",
              "      <td>Male</td>\n",
              "      <td>Yes</td>\n",
              "      <td>1</td>\n",
              "      <td>Graduate</td>\n",
              "      <td>No</td>\n",
              "      <td>8072</td>\n",
              "      <td>240.0</td>\n",
              "      <td>253.000000</td>\n",
              "      <td>360.0</td>\n",
              "      <td>1.0</td>\n",
              "      <td>Urban</td>\n",
              "      <td>Y</td>\n",
              "    </tr>\n",
              "    <tr>\n",
              "      <th>612</th>\n",
              "      <td>LP002984</td>\n",
              "      <td>Male</td>\n",
              "      <td>Yes</td>\n",
              "      <td>2</td>\n",
              "      <td>Graduate</td>\n",
              "      <td>No</td>\n",
              "      <td>7583</td>\n",
              "      <td>0.0</td>\n",
              "      <td>187.000000</td>\n",
              "      <td>360.0</td>\n",
              "      <td>1.0</td>\n",
              "      <td>Urban</td>\n",
              "      <td>Y</td>\n",
              "    </tr>\n",
              "    <tr>\n",
              "      <th>613</th>\n",
              "      <td>LP002990</td>\n",
              "      <td>Female</td>\n",
              "      <td>No</td>\n",
              "      <td>0</td>\n",
              "      <td>Graduate</td>\n",
              "      <td>Yes</td>\n",
              "      <td>4583</td>\n",
              "      <td>0.0</td>\n",
              "      <td>133.000000</td>\n",
              "      <td>360.0</td>\n",
              "      <td>0.0</td>\n",
              "      <td>Semiurban</td>\n",
              "      <td>N</td>\n",
              "    </tr>\n",
              "  </tbody>\n",
              "</table>\n",
              "<p>614 rows × 13 columns</p>\n",
              "</div>"
            ],
            "text/plain": [
              "      Loan_ID  Gender Married Dependents     Education Self_Employed  \\\n",
              "0    LP001002    Male      No          0      Graduate            No   \n",
              "1    LP001003    Male     Yes          1      Graduate            No   \n",
              "2    LP001005    Male     Yes          0      Graduate           Yes   \n",
              "3    LP001006    Male     Yes          0  Not Graduate            No   \n",
              "4    LP001008    Male      No          0      Graduate            No   \n",
              "5    LP001011    Male     Yes          2      Graduate           Yes   \n",
              "6    LP001013    Male     Yes          0  Not Graduate            No   \n",
              "7    LP001014    Male     Yes         3+      Graduate            No   \n",
              "8    LP001018    Male     Yes          2      Graduate            No   \n",
              "9    LP001020    Male     Yes          1      Graduate            No   \n",
              "10   LP001024    Male     Yes          2      Graduate            No   \n",
              "11   LP001027    Male     Yes          2      Graduate            No   \n",
              "12   LP001028    Male     Yes          2      Graduate            No   \n",
              "13   LP001029    Male      No          0      Graduate            No   \n",
              "14   LP001030    Male     Yes          2      Graduate            No   \n",
              "15   LP001032    Male      No          0      Graduate            No   \n",
              "16   LP001034    Male      No          1  Not Graduate            No   \n",
              "17   LP001036  Female      No          0      Graduate            No   \n",
              "18   LP001038    Male     Yes          0  Not Graduate            No   \n",
              "19   LP001041    Male     Yes          0      Graduate            No   \n",
              "20   LP001043    Male     Yes          0  Not Graduate            No   \n",
              "21   LP001046    Male     Yes          1      Graduate            No   \n",
              "22   LP001047    Male     Yes          0  Not Graduate            No   \n",
              "23   LP001050    Male     Yes          2  Not Graduate            No   \n",
              "24   LP001052    Male     Yes          1      Graduate            No   \n",
              "25   LP001066    Male     Yes          0      Graduate           Yes   \n",
              "26   LP001068    Male     Yes          0      Graduate            No   \n",
              "27   LP001073    Male     Yes          2  Not Graduate            No   \n",
              "28   LP001086    Male      No          0  Not Graduate            No   \n",
              "29   LP001087  Female      No          2      Graduate            No   \n",
              "..        ...     ...     ...        ...           ...           ...   \n",
              "584  LP002911    Male     Yes          1      Graduate            No   \n",
              "585  LP002912    Male     Yes          1      Graduate            No   \n",
              "586  LP002916    Male     Yes          0      Graduate            No   \n",
              "587  LP002917  Female      No          0  Not Graduate            No   \n",
              "588  LP002925    Male      No          0      Graduate            No   \n",
              "589  LP002926    Male     Yes          2      Graduate           Yes   \n",
              "590  LP002928    Male     Yes          0      Graduate            No   \n",
              "591  LP002931    Male     Yes          2      Graduate           Yes   \n",
              "592  LP002933    Male      No         3+      Graduate           Yes   \n",
              "593  LP002936    Male     Yes          0      Graduate            No   \n",
              "594  LP002938    Male     Yes          0      Graduate           Yes   \n",
              "595  LP002940    Male      No          0  Not Graduate            No   \n",
              "596  LP002941    Male     Yes          2  Not Graduate           Yes   \n",
              "597  LP002943    Male      No          0      Graduate            No   \n",
              "598  LP002945    Male     Yes          0      Graduate           Yes   \n",
              "599  LP002948    Male     Yes          2      Graduate            No   \n",
              "600  LP002949  Female      No         3+      Graduate            No   \n",
              "601  LP002950    Male     Yes          0  Not Graduate            No   \n",
              "602  LP002953    Male     Yes         3+      Graduate            No   \n",
              "603  LP002958    Male      No          0      Graduate            No   \n",
              "604  LP002959  Female     Yes          1      Graduate            No   \n",
              "605  LP002960    Male     Yes          0  Not Graduate            No   \n",
              "606  LP002961    Male     Yes          1      Graduate            No   \n",
              "607  LP002964    Male     Yes          2  Not Graduate            No   \n",
              "608  LP002974    Male     Yes          0      Graduate            No   \n",
              "609  LP002978  Female      No          0      Graduate            No   \n",
              "610  LP002979    Male     Yes         3+      Graduate            No   \n",
              "611  LP002983    Male     Yes          1      Graduate            No   \n",
              "612  LP002984    Male     Yes          2      Graduate            No   \n",
              "613  LP002990  Female      No          0      Graduate           Yes   \n",
              "\n",
              "     ApplicantIncome  CoapplicantIncome  LoanAmount  Loan_Amount_Term  \\\n",
              "0               5849                0.0  146.412162             360.0   \n",
              "1               4583             1508.0  128.000000             360.0   \n",
              "2               3000                0.0   66.000000             360.0   \n",
              "3               2583             2358.0  120.000000             360.0   \n",
              "4               6000                0.0  141.000000             360.0   \n",
              "5               5417             4196.0  267.000000             360.0   \n",
              "6               2333             1516.0   95.000000             360.0   \n",
              "7               3036             2504.0  158.000000             360.0   \n",
              "8               4006             1526.0  168.000000             360.0   \n",
              "9              12841            10968.0  349.000000             360.0   \n",
              "10              3200              700.0   70.000000             360.0   \n",
              "11              2500             1840.0  109.000000             360.0   \n",
              "12              3073             8106.0  200.000000             360.0   \n",
              "13              1853             2840.0  114.000000             360.0   \n",
              "14              1299             1086.0   17.000000             120.0   \n",
              "15              4950                0.0  125.000000             360.0   \n",
              "16              3596                0.0  100.000000             240.0   \n",
              "17              3510                0.0   76.000000             360.0   \n",
              "18              4887                0.0  133.000000             360.0   \n",
              "19              2600             3500.0  115.000000             360.0   \n",
              "20              7660                0.0  104.000000             360.0   \n",
              "21              5955             5625.0  315.000000             360.0   \n",
              "22              2600             1911.0  116.000000             360.0   \n",
              "23              3365             1917.0  112.000000             360.0   \n",
              "24              3717             2925.0  151.000000             360.0   \n",
              "25              9560                0.0  191.000000             360.0   \n",
              "26              2799             2253.0  122.000000             360.0   \n",
              "27              4226             1040.0  110.000000             360.0   \n",
              "28              1442                0.0   35.000000             360.0   \n",
              "29              3750             2083.0  120.000000             360.0   \n",
              "..               ...                ...         ...               ...   \n",
              "584             2787             1917.0  146.000000             360.0   \n",
              "585             4283             3000.0  172.000000              84.0   \n",
              "586             2297             1522.0  104.000000             360.0   \n",
              "587             2165                0.0   70.000000             360.0   \n",
              "588             4750                0.0   94.000000             360.0   \n",
              "589             2726                0.0  106.000000             360.0   \n",
              "590             3000             3416.0   56.000000             180.0   \n",
              "591             6000                0.0  205.000000             240.0   \n",
              "592             9357                0.0  292.000000             360.0   \n",
              "593             3859             3300.0  142.000000             180.0   \n",
              "594            16120                0.0  260.000000             360.0   \n",
              "595             3833                0.0  110.000000             360.0   \n",
              "596             6383             1000.0  187.000000             360.0   \n",
              "597             2987                0.0   88.000000             360.0   \n",
              "598             9963                0.0  180.000000             360.0   \n",
              "599             5780                0.0  192.000000             360.0   \n",
              "600              416            41667.0  350.000000             180.0   \n",
              "601             2894             2792.0  155.000000             360.0   \n",
              "602             5703                0.0  128.000000             360.0   \n",
              "603             3676             4301.0  172.000000             360.0   \n",
              "604            12000                0.0  496.000000             360.0   \n",
              "605             2400             3800.0  146.412162             180.0   \n",
              "606             3400             2500.0  173.000000             360.0   \n",
              "607             3987             1411.0  157.000000             360.0   \n",
              "608             3232             1950.0  108.000000             360.0   \n",
              "609             2900                0.0   71.000000             360.0   \n",
              "610             4106                0.0   40.000000             180.0   \n",
              "611             8072              240.0  253.000000             360.0   \n",
              "612             7583                0.0  187.000000             360.0   \n",
              "613             4583                0.0  133.000000             360.0   \n",
              "\n",
              "     Credit_History Property_Area Loan_Status  \n",
              "0               1.0         Urban           Y  \n",
              "1               1.0         Rural           N  \n",
              "2               1.0         Urban           Y  \n",
              "3               1.0         Urban           Y  \n",
              "4               1.0         Urban           Y  \n",
              "5               1.0         Urban           Y  \n",
              "6               1.0         Urban           Y  \n",
              "7               0.0     Semiurban           N  \n",
              "8               1.0         Urban           Y  \n",
              "9               1.0     Semiurban           N  \n",
              "10              1.0         Urban           Y  \n",
              "11              1.0         Urban           Y  \n",
              "12              1.0         Urban           Y  \n",
              "13              1.0         Rural           N  \n",
              "14              1.0         Urban           Y  \n",
              "15              1.0         Urban           Y  \n",
              "16              1.0         Urban           Y  \n",
              "17              0.0         Urban           N  \n",
              "18              1.0         Rural           N  \n",
              "19              1.0         Urban           Y  \n",
              "20              0.0         Urban           N  \n",
              "21              1.0         Urban           Y  \n",
              "22              0.0     Semiurban           N  \n",
              "23              0.0         Rural           N  \n",
              "24              1.0     Semiurban           N  \n",
              "25              1.0     Semiurban           Y  \n",
              "26              1.0     Semiurban           Y  \n",
              "27              1.0         Urban           Y  \n",
              "28              1.0         Urban           N  \n",
              "29              1.0     Semiurban           Y  \n",
              "..              ...           ...         ...  \n",
              "584             0.0         Rural           N  \n",
              "585             1.0         Rural           N  \n",
              "586             1.0         Urban           Y  \n",
              "587             1.0     Semiurban           Y  \n",
              "588             1.0     Semiurban           Y  \n",
              "589             0.0     Semiurban           N  \n",
              "590             1.0     Semiurban           Y  \n",
              "591             1.0     Semiurban           N  \n",
              "592             1.0     Semiurban           Y  \n",
              "593             1.0         Rural           Y  \n",
              "594             1.0         Urban           Y  \n",
              "595             1.0         Rural           Y  \n",
              "596             1.0         Rural           N  \n",
              "597             0.0     Semiurban           N  \n",
              "598             1.0         Rural           Y  \n",
              "599             1.0         Urban           Y  \n",
              "600             1.0         Urban           N  \n",
              "601             1.0         Rural           Y  \n",
              "602             1.0         Urban           Y  \n",
              "603             1.0         Rural           Y  \n",
              "604             1.0     Semiurban           Y  \n",
              "605             1.0         Urban           N  \n",
              "606             1.0     Semiurban           Y  \n",
              "607             1.0         Rural           Y  \n",
              "608             1.0         Rural           Y  \n",
              "609             1.0         Rural           Y  \n",
              "610             1.0         Rural           Y  \n",
              "611             1.0         Urban           Y  \n",
              "612             1.0         Urban           Y  \n",
              "613             0.0     Semiurban           N  \n",
              "\n",
              "[614 rows x 13 columns]"
            ]
          },
          "metadata": {
            "tags": []
          },
          "execution_count": 8
        }
      ]
    },
    {
      "metadata": {
        "id": "kWR0NhMJCYHE",
        "colab_type": "code",
        "colab": {}
      },
      "cell_type": "code",
      "source": [
        ""
      ],
      "execution_count": 0,
      "outputs": []
    },
    {
      "metadata": {
        "id": "Y_IMbrPqCZgV",
        "colab_type": "text"
      },
      "cell_type": "markdown",
      "source": [
        "**1.O  DATA VISUALIZATIONS**"
      ]
    },
    {
      "metadata": {
        "id": "Y5sHTWZdFNmd",
        "colab_type": "text"
      },
      "cell_type": "markdown",
      "source": [
        "        Having applied the feature ranking method of Feature Extraction with Univariate Statistical Tests (Chi-squared for classification)method, we were left with for four independent variables that were statistically related to the dependent variable \"Loan Status\". To get the actual value for ranking we applied the ExtraTrees Classifiers ranking algorithm which graded all the features according to their mean loss. "
      ]
    },
    {
      "metadata": {
        "id": "nwgSrfs6Z5BZ",
        "colab_type": "text"
      },
      "cell_type": "markdown",
      "source": [
        "#              Rank List according to importance in descending order:\n",
        "    \n",
        "             * Credit History - 0.28\n",
        "             \n",
        "             * Loan Amount - 0.18\n",
        "             \n",
        "             * Applicant Income- 0.17\n",
        "             \n",
        "             * CoApplicant Income -0.15\n",
        "                         \n",
        "                         \n",
        "              While other features as tested had little or no statistical relevance to our dataset hence did affect our accuracy."
      ]
    },
    {
      "metadata": {
        "id": "x_OjFLC3_Dw5",
        "colab_type": "code",
        "colab": {
          "base_uri": "https://localhost:8080/",
          "height": 372
        },
        "outputId": "b7bc3b6a-d925-4d8b-b359-5b144b3c8d0a"
      },
      "cell_type": "code",
      "source": [
        "\n",
        "\n",
        "# plot the dataset, referencing dataframe column names\n",
        "import altair as alt\n",
        "alt.Chart(df12).mark_point().encode(\n",
        "  x='LoanAmount',\n",
        "  y='ApplicantIncome',\n",
        "  color='Loan_Status'\n",
        ").interactive()"
      ],
      "execution_count": 5,
      "outputs": [
        {
          "output_type": "execute_result",
          "data": {
            "text/plain": [
              "Chart({\n",
              "  data:       Loan_ID  Gender Married Dependents     Education Self_Employed  \\\n",
              "  0    LP001002    Male      No          0      Graduate            No   \n",
              "  1    LP001003    Male     Yes          1      Graduate            No   \n",
              "  2    LP001005    Male     Yes          0      Graduate           Yes   \n",
              "  3    LP001006    Male     Yes          0  Not Graduate            No   \n",
              "  4    LP001008    Male      No          0      Graduate            No   \n",
              "  5    LP001011    Male     Yes          2      Graduate           Yes   \n",
              "  6    LP001013    Male     Yes          0  Not Graduate            No   \n",
              "  7    LP001014    Male     Yes         3+      Graduate            No   \n",
              "  8    LP001018    Male     Yes          2      Graduate            No   \n",
              "  9    LP001020    Male     Yes          1      Graduate            No   \n",
              "  10   LP001024    Male     Yes          2      Graduate            No   \n",
              "  11   LP001027    Male     Yes          2      Graduate            No   \n",
              "  12   LP001028    Male     Yes          2      Graduate            No   \n",
              "  13   LP001029    Male      No          0      Graduate            No   \n",
              "  14   LP001030    Male     Yes          2      Graduate            No   \n",
              "  15   LP001032    Male      No          0      Graduate            No   \n",
              "  16   LP001034    Male      No          1  Not Graduate            No   \n",
              "  17   LP001036  Female      No          0      Graduate            No   \n",
              "  18   LP001038    Male     Yes          0  Not Graduate            No   \n",
              "  19   LP001041    Male     Yes          0      Graduate            No   \n",
              "  20   LP001043    Male     Yes          0  Not Graduate            No   \n",
              "  21   LP001046    Male     Yes          1      Graduate            No   \n",
              "  22   LP001047    Male     Yes          0  Not Graduate            No   \n",
              "  23   LP001050    Male     Yes          2  Not Graduate            No   \n",
              "  24   LP001052    Male     Yes          1      Graduate            No   \n",
              "  25   LP001066    Male     Yes          0      Graduate           Yes   \n",
              "  26   LP001068    Male     Yes          0      Graduate            No   \n",
              "  27   LP001073    Male     Yes          2  Not Graduate            No   \n",
              "  28   LP001086    Male      No          0  Not Graduate            No   \n",
              "  29   LP001087  Female      No          2      Graduate            No   \n",
              "  ..        ...     ...     ...        ...           ...           ...   \n",
              "  584  LP002911    Male     Yes          1      Graduate            No   \n",
              "  585  LP002912    Male     Yes          1      Graduate            No   \n",
              "  586  LP002916    Male     Yes          0      Graduate            No   \n",
              "  587  LP002917  Female      No          0  Not Graduate            No   \n",
              "  588  LP002925    Male      No          0      Graduate            No   \n",
              "  589  LP002926    Male     Yes          2      Graduate           Yes   \n",
              "  590  LP002928    Male     Yes          0      Graduate            No   \n",
              "  591  LP002931    Male     Yes          2      Graduate           Yes   \n",
              "  592  LP002933    Male      No         3+      Graduate           Yes   \n",
              "  593  LP002936    Male     Yes          0      Graduate            No   \n",
              "  594  LP002938    Male     Yes          0      Graduate           Yes   \n",
              "  595  LP002940    Male      No          0  Not Graduate            No   \n",
              "  596  LP002941    Male     Yes          2  Not Graduate           Yes   \n",
              "  597  LP002943    Male      No          0      Graduate            No   \n",
              "  598  LP002945    Male     Yes          0      Graduate           Yes   \n",
              "  599  LP002948    Male     Yes          2      Graduate            No   \n",
              "  600  LP002949  Female      No         3+      Graduate            No   \n",
              "  601  LP002950    Male     Yes          0  Not Graduate            No   \n",
              "  602  LP002953    Male     Yes         3+      Graduate            No   \n",
              "  603  LP002958    Male      No          0      Graduate            No   \n",
              "  604  LP002959  Female     Yes          1      Graduate            No   \n",
              "  605  LP002960    Male     Yes          0  Not Graduate            No   \n",
              "  606  LP002961    Male     Yes          1      Graduate            No   \n",
              "  607  LP002964    Male     Yes          2  Not Graduate            No   \n",
              "  608  LP002974    Male     Yes          0      Graduate            No   \n",
              "  609  LP002978  Female      No          0      Graduate            No   \n",
              "  610  LP002979    Male     Yes         3+      Graduate            No   \n",
              "  611  LP002983    Male     Yes          1      Graduate            No   \n",
              "  612  LP002984    Male     Yes          2      Graduate            No   \n",
              "  613  LP002990  Female      No          0      Graduate           Yes   \n",
              "  \n",
              "       ApplicantIncome  CoapplicantIncome  LoanAmount  Loan_Amount_Term  \\\n",
              "  0               5849                0.0  146.412162             360.0   \n",
              "  1               4583             1508.0  128.000000             360.0   \n",
              "  2               3000                0.0   66.000000             360.0   \n",
              "  3               2583             2358.0  120.000000             360.0   \n",
              "  4               6000                0.0  141.000000             360.0   \n",
              "  5               5417             4196.0  267.000000             360.0   \n",
              "  6               2333             1516.0   95.000000             360.0   \n",
              "  7               3036             2504.0  158.000000             360.0   \n",
              "  8               4006             1526.0  168.000000             360.0   \n",
              "  9              12841            10968.0  349.000000             360.0   \n",
              "  10              3200              700.0   70.000000             360.0   \n",
              "  11              2500             1840.0  109.000000             360.0   \n",
              "  12              3073             8106.0  200.000000             360.0   \n",
              "  13              1853             2840.0  114.000000             360.0   \n",
              "  14              1299             1086.0   17.000000             120.0   \n",
              "  15              4950                0.0  125.000000             360.0   \n",
              "  16              3596                0.0  100.000000             240.0   \n",
              "  17              3510                0.0   76.000000             360.0   \n",
              "  18              4887                0.0  133.000000             360.0   \n",
              "  19              2600             3500.0  115.000000             360.0   \n",
              "  20              7660                0.0  104.000000             360.0   \n",
              "  21              5955             5625.0  315.000000             360.0   \n",
              "  22              2600             1911.0  116.000000             360.0   \n",
              "  23              3365             1917.0  112.000000             360.0   \n",
              "  24              3717             2925.0  151.000000             360.0   \n",
              "  25              9560                0.0  191.000000             360.0   \n",
              "  26              2799             2253.0  122.000000             360.0   \n",
              "  27              4226             1040.0  110.000000             360.0   \n",
              "  28              1442                0.0   35.000000             360.0   \n",
              "  29              3750             2083.0  120.000000             360.0   \n",
              "  ..               ...                ...         ...               ...   \n",
              "  584             2787             1917.0  146.000000             360.0   \n",
              "  585             4283             3000.0  172.000000              84.0   \n",
              "  586             2297             1522.0  104.000000             360.0   \n",
              "  587             2165                0.0   70.000000             360.0   \n",
              "  588             4750                0.0   94.000000             360.0   \n",
              "  589             2726                0.0  106.000000             360.0   \n",
              "  590             3000             3416.0   56.000000             180.0   \n",
              "  591             6000                0.0  205.000000             240.0   \n",
              "  592             9357                0.0  292.000000             360.0   \n",
              "  593             3859             3300.0  142.000000             180.0   \n",
              "  594            16120                0.0  260.000000             360.0   \n",
              "  595             3833                0.0  110.000000             360.0   \n",
              "  596             6383             1000.0  187.000000             360.0   \n",
              "  597             2987                0.0   88.000000             360.0   \n",
              "  598             9963                0.0  180.000000             360.0   \n",
              "  599             5780                0.0  192.000000             360.0   \n",
              "  600              416            41667.0  350.000000             180.0   \n",
              "  601             2894             2792.0  155.000000             360.0   \n",
              "  602             5703                0.0  128.000000             360.0   \n",
              "  603             3676             4301.0  172.000000             360.0   \n",
              "  604            12000                0.0  496.000000             360.0   \n",
              "  605             2400             3800.0  146.412162             180.0   \n",
              "  606             3400             2500.0  173.000000             360.0   \n",
              "  607             3987             1411.0  157.000000             360.0   \n",
              "  608             3232             1950.0  108.000000             360.0   \n",
              "  609             2900                0.0   71.000000             360.0   \n",
              "  610             4106                0.0   40.000000             180.0   \n",
              "  611             8072              240.0  253.000000             360.0   \n",
              "  612             7583                0.0  187.000000             360.0   \n",
              "  613             4583                0.0  133.000000             360.0   \n",
              "  \n",
              "       Credit_History Property_Area Loan_Status  \n",
              "  0               1.0         Urban           Y  \n",
              "  1               1.0         Rural           N  \n",
              "  2               1.0         Urban           Y  \n",
              "  3               1.0         Urban           Y  \n",
              "  4               1.0         Urban           Y  \n",
              "  5               1.0         Urban           Y  \n",
              "  6               1.0         Urban           Y  \n",
              "  7               0.0     Semiurban           N  \n",
              "  8               1.0         Urban           Y  \n",
              "  9               1.0     Semiurban           N  \n",
              "  10              1.0         Urban           Y  \n",
              "  11              1.0         Urban           Y  \n",
              "  12              1.0         Urban           Y  \n",
              "  13              1.0         Rural           N  \n",
              "  14              1.0         Urban           Y  \n",
              "  15              1.0         Urban           Y  \n",
              "  16              1.0         Urban           Y  \n",
              "  17              0.0         Urban           N  \n",
              "  18              1.0         Rural           N  \n",
              "  19              1.0         Urban           Y  \n",
              "  20              0.0         Urban           N  \n",
              "  21              1.0         Urban           Y  \n",
              "  22              0.0     Semiurban           N  \n",
              "  23              0.0         Rural           N  \n",
              "  24              1.0     Semiurban           N  \n",
              "  25              1.0     Semiurban           Y  \n",
              "  26              1.0     Semiurban           Y  \n",
              "  27              1.0         Urban           Y  \n",
              "  28              1.0         Urban           N  \n",
              "  29              1.0     Semiurban           Y  \n",
              "  ..              ...           ...         ...  \n",
              "  584             0.0         Rural           N  \n",
              "  585             1.0         Rural           N  \n",
              "  586             1.0         Urban           Y  \n",
              "  587             1.0     Semiurban           Y  \n",
              "  588             1.0     Semiurban           Y  \n",
              "  589             0.0     Semiurban           N  \n",
              "  590             1.0     Semiurban           Y  \n",
              "  591             1.0     Semiurban           N  \n",
              "  592             1.0     Semiurban           Y  \n",
              "  593             1.0         Rural           Y  \n",
              "  594             1.0         Urban           Y  \n",
              "  595             1.0         Rural           Y  \n",
              "  596             1.0         Rural           N  \n",
              "  597             0.0     Semiurban           N  \n",
              "  598             1.0         Rural           Y  \n",
              "  599             1.0         Urban           Y  \n",
              "  600             1.0         Urban           N  \n",
              "  601             1.0         Rural           Y  \n",
              "  602             1.0         Urban           Y  \n",
              "  603             1.0         Rural           Y  \n",
              "  604             1.0     Semiurban           Y  \n",
              "  605             1.0         Urban           N  \n",
              "  606             1.0     Semiurban           Y  \n",
              "  607             1.0         Rural           Y  \n",
              "  608             1.0         Rural           Y  \n",
              "  609             1.0         Rural           Y  \n",
              "  610             1.0         Rural           Y  \n",
              "  611             1.0         Urban           Y  \n",
              "  612             1.0         Urban           Y  \n",
              "  613             0.0     Semiurban           N  \n",
              "  \n",
              "  [614 rows x 13 columns],\n",
              "  encoding: EncodingWithFacet({\n",
              "    color: Color({\n",
              "      shorthand: 'Loan_Status'\n",
              "    }),\n",
              "    x: X({\n",
              "      shorthand: 'LoanAmount'\n",
              "    }),\n",
              "    y: Y({\n",
              "      shorthand: 'ApplicantIncome'\n",
              "    })\n",
              "  }),\n",
              "  mark: 'point',\n",
              "  selection: SelectionMapping({\n",
              "    selector001: SelectionDef({\n",
              "      bind: 'scales',\n",
              "      encodings: ['x', 'y'],\n",
              "      type: 'interval'\n",
              "    })\n",
              "  })\n",
              "})"
            ],
            "text/html": [
              "<!DOCTYPE html>\n",
              "<html>\n",
              "<head>\n",
              "  <style>\n",
              "    .vega-actions a {\n",
              "        margin-right: 12px;\n",
              "        color: #757575;\n",
              "        font-weight: normal;\n",
              "        font-size: 13px;\n",
              "    }\n",
              "    .error {\n",
              "        color: red;\n",
              "    }\n",
              "  </style>\n",
              "  <script type=\"text/javascript\" src=\"https://cdn.jsdelivr.net/npm//vega@4\"></script>\n",
              "  <script type=\"text/javascript\" src=\"https://cdn.jsdelivr.net/npm//vega-lite@2.6.0\"></script>\n",
              "  <script type=\"text/javascript\" src=\"https://cdn.jsdelivr.net/npm//vega-embed@3\"></script>\n",
              "</head>\n",
              "<body>\n",
              "  <div id=\"altair-viz\"></div>\n",
              "  <script>\n",
              "      var spec = {\"config\": {\"view\": {\"width\": 400, \"height\": 300}}, \"data\": {\"name\": \"data-b5219e9d7c4b23539e39b8f0ec8f4bf1\"}, \"mark\": \"point\", \"encoding\": {\"color\": {\"type\": \"nominal\", \"field\": \"Loan_Status\"}, \"x\": {\"type\": \"quantitative\", \"field\": \"LoanAmount\"}, \"y\": {\"type\": \"quantitative\", \"field\": \"ApplicantIncome\"}}, \"selection\": {\"selector001\": {\"type\": \"interval\", \"bind\": \"scales\", \"encodings\": [\"x\", \"y\"]}}, \"$schema\": \"https://vega.github.io/schema/vega-lite/v2.6.0.json\", \"datasets\": {\"data-b5219e9d7c4b23539e39b8f0ec8f4bf1\": [{\"Loan_ID\": \"LP001002\", \"Gender\": \"Male\", \"Married\": \"No\", \"Dependents\": \"0\", \"Education\": \"Graduate\", \"Self_Employed\": \"No\", \"ApplicantIncome\": 5849, \"CoapplicantIncome\": 0.0, \"LoanAmount\": 146.41216216216216, \"Loan_Amount_Term\": 360.0, \"Credit_History\": 1.0, \"Property_Area\": \"Urban\", \"Loan_Status\": \"Y\"}, {\"Loan_ID\": \"LP001003\", \"Gender\": \"Male\", \"Married\": \"Yes\", \"Dependents\": \"1\", \"Education\": \"Graduate\", \"Self_Employed\": \"No\", \"ApplicantIncome\": 4583, \"CoapplicantIncome\": 1508.0, \"LoanAmount\": 128.0, \"Loan_Amount_Term\": 360.0, \"Credit_History\": 1.0, \"Property_Area\": \"Rural\", \"Loan_Status\": \"N\"}, {\"Loan_ID\": \"LP001005\", \"Gender\": \"Male\", \"Married\": \"Yes\", \"Dependents\": \"0\", \"Education\": \"Graduate\", \"Self_Employed\": \"Yes\", \"ApplicantIncome\": 3000, \"CoapplicantIncome\": 0.0, \"LoanAmount\": 66.0, \"Loan_Amount_Term\": 360.0, \"Credit_History\": 1.0, \"Property_Area\": \"Urban\", \"Loan_Status\": \"Y\"}, {\"Loan_ID\": \"LP001006\", \"Gender\": \"Male\", \"Married\": \"Yes\", \"Dependents\": \"0\", \"Education\": \"Not Graduate\", \"Self_Employed\": \"No\", \"ApplicantIncome\": 2583, \"CoapplicantIncome\": 2358.0, \"LoanAmount\": 120.0, \"Loan_Amount_Term\": 360.0, \"Credit_History\": 1.0, \"Property_Area\": \"Urban\", \"Loan_Status\": \"Y\"}, {\"Loan_ID\": \"LP001008\", \"Gender\": \"Male\", \"Married\": \"No\", \"Dependents\": \"0\", \"Education\": \"Graduate\", \"Self_Employed\": \"No\", \"ApplicantIncome\": 6000, \"CoapplicantIncome\": 0.0, \"LoanAmount\": 141.0, \"Loan_Amount_Term\": 360.0, \"Credit_History\": 1.0, \"Property_Area\": \"Urban\", \"Loan_Status\": \"Y\"}, {\"Loan_ID\": \"LP001011\", \"Gender\": \"Male\", \"Married\": \"Yes\", \"Dependents\": \"2\", \"Education\": \"Graduate\", \"Self_Employed\": \"Yes\", \"ApplicantIncome\": 5417, \"CoapplicantIncome\": 4196.0, \"LoanAmount\": 267.0, \"Loan_Amount_Term\": 360.0, \"Credit_History\": 1.0, \"Property_Area\": \"Urban\", \"Loan_Status\": \"Y\"}, {\"Loan_ID\": \"LP001013\", \"Gender\": \"Male\", \"Married\": \"Yes\", \"Dependents\": \"0\", \"Education\": \"Not Graduate\", \"Self_Employed\": \"No\", \"ApplicantIncome\": 2333, \"CoapplicantIncome\": 1516.0, \"LoanAmount\": 95.0, \"Loan_Amount_Term\": 360.0, \"Credit_History\": 1.0, \"Property_Area\": \"Urban\", \"Loan_Status\": \"Y\"}, {\"Loan_ID\": \"LP001014\", \"Gender\": \"Male\", \"Married\": \"Yes\", \"Dependents\": \"3+\", \"Education\": \"Graduate\", \"Self_Employed\": \"No\", \"ApplicantIncome\": 3036, \"CoapplicantIncome\": 2504.0, \"LoanAmount\": 158.0, \"Loan_Amount_Term\": 360.0, \"Credit_History\": 0.0, \"Property_Area\": \"Semiurban\", \"Loan_Status\": \"N\"}, {\"Loan_ID\": \"LP001018\", \"Gender\": \"Male\", \"Married\": \"Yes\", \"Dependents\": \"2\", \"Education\": \"Graduate\", \"Self_Employed\": \"No\", \"ApplicantIncome\": 4006, \"CoapplicantIncome\": 1526.0, \"LoanAmount\": 168.0, \"Loan_Amount_Term\": 360.0, \"Credit_History\": 1.0, \"Property_Area\": \"Urban\", \"Loan_Status\": \"Y\"}, {\"Loan_ID\": \"LP001020\", \"Gender\": \"Male\", \"Married\": \"Yes\", \"Dependents\": \"1\", \"Education\": \"Graduate\", \"Self_Employed\": \"No\", \"ApplicantIncome\": 12841, \"CoapplicantIncome\": 10968.0, \"LoanAmount\": 349.0, \"Loan_Amount_Term\": 360.0, \"Credit_History\": 1.0, \"Property_Area\": \"Semiurban\", \"Loan_Status\": \"N\"}, {\"Loan_ID\": \"LP001024\", \"Gender\": \"Male\", \"Married\": \"Yes\", \"Dependents\": \"2\", \"Education\": \"Graduate\", \"Self_Employed\": \"No\", \"ApplicantIncome\": 3200, \"CoapplicantIncome\": 700.0, \"LoanAmount\": 70.0, \"Loan_Amount_Term\": 360.0, \"Credit_History\": 1.0, \"Property_Area\": \"Urban\", \"Loan_Status\": \"Y\"}, {\"Loan_ID\": \"LP001027\", \"Gender\": \"Male\", \"Married\": \"Yes\", \"Dependents\": \"2\", \"Education\": \"Graduate\", \"Self_Employed\": \"No\", \"ApplicantIncome\": 2500, \"CoapplicantIncome\": 1840.0, \"LoanAmount\": 109.0, \"Loan_Amount_Term\": 360.0, \"Credit_History\": 1.0, \"Property_Area\": \"Urban\", \"Loan_Status\": \"Y\"}, {\"Loan_ID\": \"LP001028\", \"Gender\": \"Male\", \"Married\": \"Yes\", \"Dependents\": \"2\", \"Education\": \"Graduate\", \"Self_Employed\": \"No\", \"ApplicantIncome\": 3073, \"CoapplicantIncome\": 8106.0, \"LoanAmount\": 200.0, \"Loan_Amount_Term\": 360.0, \"Credit_History\": 1.0, \"Property_Area\": \"Urban\", \"Loan_Status\": \"Y\"}, {\"Loan_ID\": \"LP001029\", \"Gender\": \"Male\", \"Married\": \"No\", \"Dependents\": \"0\", \"Education\": \"Graduate\", \"Self_Employed\": \"No\", \"ApplicantIncome\": 1853, \"CoapplicantIncome\": 2840.0, \"LoanAmount\": 114.0, \"Loan_Amount_Term\": 360.0, \"Credit_History\": 1.0, \"Property_Area\": \"Rural\", \"Loan_Status\": \"N\"}, {\"Loan_ID\": \"LP001030\", \"Gender\": \"Male\", \"Married\": \"Yes\", \"Dependents\": \"2\", \"Education\": \"Graduate\", \"Self_Employed\": \"No\", \"ApplicantIncome\": 1299, \"CoapplicantIncome\": 1086.0, \"LoanAmount\": 17.0, \"Loan_Amount_Term\": 120.0, \"Credit_History\": 1.0, \"Property_Area\": \"Urban\", \"Loan_Status\": \"Y\"}, {\"Loan_ID\": \"LP001032\", \"Gender\": \"Male\", \"Married\": \"No\", \"Dependents\": \"0\", \"Education\": \"Graduate\", \"Self_Employed\": \"No\", \"ApplicantIncome\": 4950, \"CoapplicantIncome\": 0.0, \"LoanAmount\": 125.0, \"Loan_Amount_Term\": 360.0, \"Credit_History\": 1.0, \"Property_Area\": \"Urban\", \"Loan_Status\": \"Y\"}, {\"Loan_ID\": \"LP001034\", \"Gender\": \"Male\", \"Married\": \"No\", \"Dependents\": \"1\", \"Education\": \"Not Graduate\", \"Self_Employed\": \"No\", \"ApplicantIncome\": 3596, \"CoapplicantIncome\": 0.0, \"LoanAmount\": 100.0, \"Loan_Amount_Term\": 240.0, \"Credit_History\": 1.0, \"Property_Area\": \"Urban\", \"Loan_Status\": \"Y\"}, {\"Loan_ID\": \"LP001036\", \"Gender\": \"Female\", \"Married\": \"No\", \"Dependents\": \"0\", \"Education\": \"Graduate\", \"Self_Employed\": \"No\", \"ApplicantIncome\": 3510, \"CoapplicantIncome\": 0.0, \"LoanAmount\": 76.0, \"Loan_Amount_Term\": 360.0, \"Credit_History\": 0.0, \"Property_Area\": \"Urban\", \"Loan_Status\": \"N\"}, {\"Loan_ID\": \"LP001038\", \"Gender\": \"Male\", \"Married\": \"Yes\", \"Dependents\": \"0\", \"Education\": \"Not Graduate\", \"Self_Employed\": \"No\", \"ApplicantIncome\": 4887, \"CoapplicantIncome\": 0.0, \"LoanAmount\": 133.0, \"Loan_Amount_Term\": 360.0, \"Credit_History\": 1.0, \"Property_Area\": \"Rural\", \"Loan_Status\": \"N\"}, {\"Loan_ID\": \"LP001041\", \"Gender\": \"Male\", \"Married\": \"Yes\", \"Dependents\": \"0\", \"Education\": \"Graduate\", \"Self_Employed\": \"No\", \"ApplicantIncome\": 2600, \"CoapplicantIncome\": 3500.0, \"LoanAmount\": 115.0, \"Loan_Amount_Term\": 360.0, \"Credit_History\": 1.0, \"Property_Area\": \"Urban\", \"Loan_Status\": \"Y\"}, {\"Loan_ID\": \"LP001043\", \"Gender\": \"Male\", \"Married\": \"Yes\", \"Dependents\": \"0\", \"Education\": \"Not Graduate\", \"Self_Employed\": \"No\", \"ApplicantIncome\": 7660, \"CoapplicantIncome\": 0.0, \"LoanAmount\": 104.0, \"Loan_Amount_Term\": 360.0, \"Credit_History\": 0.0, \"Property_Area\": \"Urban\", \"Loan_Status\": \"N\"}, {\"Loan_ID\": \"LP001046\", \"Gender\": \"Male\", \"Married\": \"Yes\", \"Dependents\": \"1\", \"Education\": \"Graduate\", \"Self_Employed\": \"No\", \"ApplicantIncome\": 5955, \"CoapplicantIncome\": 5625.0, \"LoanAmount\": 315.0, \"Loan_Amount_Term\": 360.0, \"Credit_History\": 1.0, \"Property_Area\": \"Urban\", \"Loan_Status\": \"Y\"}, {\"Loan_ID\": \"LP001047\", \"Gender\": \"Male\", \"Married\": \"Yes\", \"Dependents\": \"0\", \"Education\": \"Not Graduate\", \"Self_Employed\": \"No\", \"ApplicantIncome\": 2600, \"CoapplicantIncome\": 1911.0, \"LoanAmount\": 116.0, \"Loan_Amount_Term\": 360.0, \"Credit_History\": 0.0, \"Property_Area\": \"Semiurban\", \"Loan_Status\": \"N\"}, {\"Loan_ID\": \"LP001050\", \"Gender\": \"Male\", \"Married\": \"Yes\", \"Dependents\": \"2\", \"Education\": \"Not Graduate\", \"Self_Employed\": \"No\", \"ApplicantIncome\": 3365, \"CoapplicantIncome\": 1917.0, \"LoanAmount\": 112.0, \"Loan_Amount_Term\": 360.0, \"Credit_History\": 0.0, \"Property_Area\": \"Rural\", \"Loan_Status\": \"N\"}, {\"Loan_ID\": \"LP001052\", \"Gender\": \"Male\", \"Married\": \"Yes\", \"Dependents\": \"1\", \"Education\": \"Graduate\", \"Self_Employed\": \"No\", \"ApplicantIncome\": 3717, \"CoapplicantIncome\": 2925.0, \"LoanAmount\": 151.0, \"Loan_Amount_Term\": 360.0, \"Credit_History\": 1.0, \"Property_Area\": \"Semiurban\", \"Loan_Status\": \"N\"}, {\"Loan_ID\": \"LP001066\", \"Gender\": \"Male\", \"Married\": \"Yes\", \"Dependents\": \"0\", \"Education\": \"Graduate\", \"Self_Employed\": \"Yes\", \"ApplicantIncome\": 9560, \"CoapplicantIncome\": 0.0, \"LoanAmount\": 191.0, \"Loan_Amount_Term\": 360.0, \"Credit_History\": 1.0, \"Property_Area\": \"Semiurban\", \"Loan_Status\": \"Y\"}, {\"Loan_ID\": \"LP001068\", \"Gender\": \"Male\", \"Married\": \"Yes\", \"Dependents\": \"0\", \"Education\": \"Graduate\", \"Self_Employed\": \"No\", \"ApplicantIncome\": 2799, \"CoapplicantIncome\": 2253.0, \"LoanAmount\": 122.0, \"Loan_Amount_Term\": 360.0, \"Credit_History\": 1.0, \"Property_Area\": \"Semiurban\", \"Loan_Status\": \"Y\"}, {\"Loan_ID\": \"LP001073\", \"Gender\": \"Male\", \"Married\": \"Yes\", \"Dependents\": \"2\", \"Education\": \"Not Graduate\", \"Self_Employed\": \"No\", \"ApplicantIncome\": 4226, \"CoapplicantIncome\": 1040.0, \"LoanAmount\": 110.0, \"Loan_Amount_Term\": 360.0, \"Credit_History\": 1.0, \"Property_Area\": \"Urban\", \"Loan_Status\": \"Y\"}, {\"Loan_ID\": \"LP001086\", \"Gender\": \"Male\", \"Married\": \"No\", \"Dependents\": \"0\", \"Education\": \"Not Graduate\", \"Self_Employed\": \"No\", \"ApplicantIncome\": 1442, \"CoapplicantIncome\": 0.0, \"LoanAmount\": 35.0, \"Loan_Amount_Term\": 360.0, \"Credit_History\": 1.0, \"Property_Area\": \"Urban\", \"Loan_Status\": \"N\"}, {\"Loan_ID\": \"LP001087\", \"Gender\": \"Female\", \"Married\": \"No\", \"Dependents\": \"2\", \"Education\": \"Graduate\", \"Self_Employed\": \"No\", \"ApplicantIncome\": 3750, \"CoapplicantIncome\": 2083.0, \"LoanAmount\": 120.0, \"Loan_Amount_Term\": 360.0, \"Credit_History\": 1.0, \"Property_Area\": \"Semiurban\", \"Loan_Status\": \"Y\"}, {\"Loan_ID\": \"LP001091\", \"Gender\": \"Male\", \"Married\": \"Yes\", \"Dependents\": \"1\", \"Education\": \"Graduate\", \"Self_Employed\": \"No\", \"ApplicantIncome\": 4166, \"CoapplicantIncome\": 3369.0, \"LoanAmount\": 201.0, \"Loan_Amount_Term\": 360.0, \"Credit_History\": 1.0, \"Property_Area\": \"Urban\", \"Loan_Status\": \"N\"}, {\"Loan_ID\": \"LP001095\", \"Gender\": \"Male\", \"Married\": \"No\", \"Dependents\": \"0\", \"Education\": \"Graduate\", \"Self_Employed\": \"No\", \"ApplicantIncome\": 3167, \"CoapplicantIncome\": 0.0, \"LoanAmount\": 74.0, \"Loan_Amount_Term\": 360.0, \"Credit_History\": 1.0, \"Property_Area\": \"Urban\", \"Loan_Status\": \"N\"}, {\"Loan_ID\": \"LP001097\", \"Gender\": \"Male\", \"Married\": \"No\", \"Dependents\": \"1\", \"Education\": \"Graduate\", \"Self_Employed\": \"Yes\", \"ApplicantIncome\": 4692, \"CoapplicantIncome\": 0.0, \"LoanAmount\": 106.0, \"Loan_Amount_Term\": 360.0, \"Credit_History\": 1.0, \"Property_Area\": \"Rural\", \"Loan_Status\": \"N\"}, {\"Loan_ID\": \"LP001098\", \"Gender\": \"Male\", \"Married\": \"Yes\", \"Dependents\": \"0\", \"Education\": \"Graduate\", \"Self_Employed\": \"No\", \"ApplicantIncome\": 3500, \"CoapplicantIncome\": 1667.0, \"LoanAmount\": 114.0, \"Loan_Amount_Term\": 360.0, \"Credit_History\": 1.0, \"Property_Area\": \"Semiurban\", \"Loan_Status\": \"Y\"}, {\"Loan_ID\": \"LP001100\", \"Gender\": \"Male\", \"Married\": \"No\", \"Dependents\": \"3+\", \"Education\": \"Graduate\", \"Self_Employed\": \"No\", \"ApplicantIncome\": 12500, \"CoapplicantIncome\": 3000.0, \"LoanAmount\": 320.0, \"Loan_Amount_Term\": 360.0, \"Credit_History\": 1.0, \"Property_Area\": \"Rural\", \"Loan_Status\": \"N\"}, {\"Loan_ID\": \"LP001106\", \"Gender\": \"Male\", \"Married\": \"Yes\", \"Dependents\": \"0\", \"Education\": \"Graduate\", \"Self_Employed\": \"No\", \"ApplicantIncome\": 2275, \"CoapplicantIncome\": 2067.0, \"LoanAmount\": 146.41216216216216, \"Loan_Amount_Term\": 360.0, \"Credit_History\": 1.0, \"Property_Area\": \"Urban\", \"Loan_Status\": \"Y\"}, {\"Loan_ID\": \"LP001109\", \"Gender\": \"Male\", \"Married\": \"Yes\", \"Dependents\": \"0\", \"Education\": \"Graduate\", \"Self_Employed\": \"No\", \"ApplicantIncome\": 1828, \"CoapplicantIncome\": 1330.0, \"LoanAmount\": 100.0, \"Loan_Amount_Term\": 360.0, \"Credit_History\": 0.0, \"Property_Area\": \"Urban\", \"Loan_Status\": \"N\"}, {\"Loan_ID\": \"LP001112\", \"Gender\": \"Female\", \"Married\": \"Yes\", \"Dependents\": \"0\", \"Education\": \"Graduate\", \"Self_Employed\": \"No\", \"ApplicantIncome\": 3667, \"CoapplicantIncome\": 1459.0, \"LoanAmount\": 144.0, \"Loan_Amount_Term\": 360.0, \"Credit_History\": 1.0, \"Property_Area\": \"Semiurban\", \"Loan_Status\": \"Y\"}, {\"Loan_ID\": \"LP001114\", \"Gender\": \"Male\", \"Married\": \"No\", \"Dependents\": \"0\", \"Education\": \"Graduate\", \"Self_Employed\": \"No\", \"ApplicantIncome\": 4166, \"CoapplicantIncome\": 7210.0, \"LoanAmount\": 184.0, \"Loan_Amount_Term\": 360.0, \"Credit_History\": 1.0, \"Property_Area\": \"Urban\", \"Loan_Status\": \"Y\"}, {\"Loan_ID\": \"LP001116\", \"Gender\": \"Male\", \"Married\": \"No\", \"Dependents\": \"0\", \"Education\": \"Not Graduate\", \"Self_Employed\": \"No\", \"ApplicantIncome\": 3748, \"CoapplicantIncome\": 1668.0, \"LoanAmount\": 110.0, \"Loan_Amount_Term\": 360.0, \"Credit_History\": 1.0, \"Property_Area\": \"Semiurban\", \"Loan_Status\": \"Y\"}, {\"Loan_ID\": \"LP001119\", \"Gender\": \"Male\", \"Married\": \"No\", \"Dependents\": \"0\", \"Education\": \"Graduate\", \"Self_Employed\": \"No\", \"ApplicantIncome\": 3600, \"CoapplicantIncome\": 0.0, \"LoanAmount\": 80.0, \"Loan_Amount_Term\": 360.0, \"Credit_History\": 1.0, \"Property_Area\": \"Urban\", \"Loan_Status\": \"N\"}, {\"Loan_ID\": \"LP001120\", \"Gender\": \"Male\", \"Married\": \"No\", \"Dependents\": \"0\", \"Education\": \"Graduate\", \"Self_Employed\": \"No\", \"ApplicantIncome\": 1800, \"CoapplicantIncome\": 1213.0, \"LoanAmount\": 47.0, \"Loan_Amount_Term\": 360.0, \"Credit_History\": 1.0, \"Property_Area\": \"Urban\", \"Loan_Status\": \"Y\"}, {\"Loan_ID\": \"LP001123\", \"Gender\": \"Male\", \"Married\": \"Yes\", \"Dependents\": \"0\", \"Education\": \"Graduate\", \"Self_Employed\": \"No\", \"ApplicantIncome\": 2400, \"CoapplicantIncome\": 0.0, \"LoanAmount\": 75.0, \"Loan_Amount_Term\": 360.0, \"Credit_History\": 1.0, \"Property_Area\": \"Urban\", \"Loan_Status\": \"Y\"}, {\"Loan_ID\": \"LP001131\", \"Gender\": \"Male\", \"Married\": \"Yes\", \"Dependents\": \"0\", \"Education\": \"Graduate\", \"Self_Employed\": \"No\", \"ApplicantIncome\": 3941, \"CoapplicantIncome\": 2336.0, \"LoanAmount\": 134.0, \"Loan_Amount_Term\": 360.0, \"Credit_History\": 1.0, \"Property_Area\": \"Semiurban\", \"Loan_Status\": \"Y\"}, {\"Loan_ID\": \"LP001136\", \"Gender\": \"Male\", \"Married\": \"Yes\", \"Dependents\": \"0\", \"Education\": \"Not Graduate\", \"Self_Employed\": \"Yes\", \"ApplicantIncome\": 4695, \"CoapplicantIncome\": 0.0, \"LoanAmount\": 96.0, \"Loan_Amount_Term\": 360.0, \"Credit_History\": 1.0, \"Property_Area\": \"Urban\", \"Loan_Status\": \"Y\"}, {\"Loan_ID\": \"LP001137\", \"Gender\": \"Female\", \"Married\": \"No\", \"Dependents\": \"0\", \"Education\": \"Graduate\", \"Self_Employed\": \"No\", \"ApplicantIncome\": 3410, \"CoapplicantIncome\": 0.0, \"LoanAmount\": 88.0, \"Loan_Amount_Term\": 360.0, \"Credit_History\": 1.0, \"Property_Area\": \"Urban\", \"Loan_Status\": \"Y\"}, {\"Loan_ID\": \"LP001138\", \"Gender\": \"Male\", \"Married\": \"Yes\", \"Dependents\": \"1\", \"Education\": \"Graduate\", \"Self_Employed\": \"No\", \"ApplicantIncome\": 5649, \"CoapplicantIncome\": 0.0, \"LoanAmount\": 44.0, \"Loan_Amount_Term\": 360.0, \"Credit_History\": 1.0, \"Property_Area\": \"Urban\", \"Loan_Status\": \"Y\"}, {\"Loan_ID\": \"LP001144\", \"Gender\": \"Male\", \"Married\": \"Yes\", \"Dependents\": \"0\", \"Education\": \"Graduate\", \"Self_Employed\": \"No\", \"ApplicantIncome\": 5821, \"CoapplicantIncome\": 0.0, \"LoanAmount\": 144.0, \"Loan_Amount_Term\": 360.0, \"Credit_History\": 1.0, \"Property_Area\": \"Urban\", \"Loan_Status\": \"Y\"}, {\"Loan_ID\": \"LP001146\", \"Gender\": \"Female\", \"Married\": \"Yes\", \"Dependents\": \"0\", \"Education\": \"Graduate\", \"Self_Employed\": \"No\", \"ApplicantIncome\": 2645, \"CoapplicantIncome\": 3440.0, \"LoanAmount\": 120.0, \"Loan_Amount_Term\": 360.0, \"Credit_History\": 0.0, \"Property_Area\": \"Urban\", \"Loan_Status\": \"N\"}, {\"Loan_ID\": \"LP001151\", \"Gender\": \"Female\", \"Married\": \"No\", \"Dependents\": \"0\", \"Education\": \"Graduate\", \"Self_Employed\": \"No\", \"ApplicantIncome\": 4000, \"CoapplicantIncome\": 2275.0, \"LoanAmount\": 144.0, \"Loan_Amount_Term\": 360.0, \"Credit_History\": 1.0, \"Property_Area\": \"Semiurban\", \"Loan_Status\": \"Y\"}, {\"Loan_ID\": \"LP001155\", \"Gender\": \"Female\", \"Married\": \"Yes\", \"Dependents\": \"0\", \"Education\": \"Not Graduate\", \"Self_Employed\": \"No\", \"ApplicantIncome\": 1928, \"CoapplicantIncome\": 1644.0, \"LoanAmount\": 100.0, \"Loan_Amount_Term\": 360.0, \"Credit_History\": 1.0, \"Property_Area\": \"Semiurban\", \"Loan_Status\": \"Y\"}, {\"Loan_ID\": \"LP001157\", \"Gender\": \"Female\", \"Married\": \"No\", \"Dependents\": \"0\", \"Education\": \"Graduate\", \"Self_Employed\": \"No\", \"ApplicantIncome\": 3086, \"CoapplicantIncome\": 0.0, \"LoanAmount\": 120.0, \"Loan_Amount_Term\": 360.0, \"Credit_History\": 1.0, \"Property_Area\": \"Semiurban\", \"Loan_Status\": \"Y\"}, {\"Loan_ID\": \"LP001164\", \"Gender\": \"Female\", \"Married\": \"No\", \"Dependents\": \"0\", \"Education\": \"Graduate\", \"Self_Employed\": \"No\", \"ApplicantIncome\": 4230, \"CoapplicantIncome\": 0.0, \"LoanAmount\": 112.0, \"Loan_Amount_Term\": 360.0, \"Credit_History\": 1.0, \"Property_Area\": \"Semiurban\", \"Loan_Status\": \"N\"}, {\"Loan_ID\": \"LP001179\", \"Gender\": \"Male\", \"Married\": \"Yes\", \"Dependents\": \"2\", \"Education\": \"Graduate\", \"Self_Employed\": \"No\", \"ApplicantIncome\": 4616, \"CoapplicantIncome\": 0.0, \"LoanAmount\": 134.0, \"Loan_Amount_Term\": 360.0, \"Credit_History\": 1.0, \"Property_Area\": \"Urban\", \"Loan_Status\": \"N\"}, {\"Loan_ID\": \"LP001186\", \"Gender\": \"Female\", \"Married\": \"Yes\", \"Dependents\": \"1\", \"Education\": \"Graduate\", \"Self_Employed\": \"Yes\", \"ApplicantIncome\": 11500, \"CoapplicantIncome\": 0.0, \"LoanAmount\": 286.0, \"Loan_Amount_Term\": 360.0, \"Credit_History\": 0.0, \"Property_Area\": \"Urban\", \"Loan_Status\": \"N\"}, {\"Loan_ID\": \"LP001194\", \"Gender\": \"Male\", \"Married\": \"Yes\", \"Dependents\": \"2\", \"Education\": \"Graduate\", \"Self_Employed\": \"No\", \"ApplicantIncome\": 2708, \"CoapplicantIncome\": 1167.0, \"LoanAmount\": 97.0, \"Loan_Amount_Term\": 360.0, \"Credit_History\": 1.0, \"Property_Area\": \"Semiurban\", \"Loan_Status\": \"Y\"}, {\"Loan_ID\": \"LP001195\", \"Gender\": \"Male\", \"Married\": \"Yes\", \"Dependents\": \"0\", \"Education\": \"Graduate\", \"Self_Employed\": \"No\", \"ApplicantIncome\": 2132, \"CoapplicantIncome\": 1591.0, \"LoanAmount\": 96.0, \"Loan_Amount_Term\": 360.0, \"Credit_History\": 1.0, \"Property_Area\": \"Semiurban\", \"Loan_Status\": \"Y\"}, {\"Loan_ID\": \"LP001197\", \"Gender\": \"Male\", \"Married\": \"Yes\", \"Dependents\": \"0\", \"Education\": \"Graduate\", \"Self_Employed\": \"No\", \"ApplicantIncome\": 3366, \"CoapplicantIncome\": 2200.0, \"LoanAmount\": 135.0, \"Loan_Amount_Term\": 360.0, \"Credit_History\": 1.0, \"Property_Area\": \"Rural\", \"Loan_Status\": \"N\"}, {\"Loan_ID\": \"LP001198\", \"Gender\": \"Male\", \"Married\": \"Yes\", \"Dependents\": \"1\", \"Education\": \"Graduate\", \"Self_Employed\": \"No\", \"ApplicantIncome\": 8080, \"CoapplicantIncome\": 2250.0, \"LoanAmount\": 180.0, \"Loan_Amount_Term\": 360.0, \"Credit_History\": 1.0, \"Property_Area\": \"Urban\", \"Loan_Status\": \"Y\"}, {\"Loan_ID\": \"LP001199\", \"Gender\": \"Male\", \"Married\": \"Yes\", \"Dependents\": \"2\", \"Education\": \"Not Graduate\", \"Self_Employed\": \"No\", \"ApplicantIncome\": 3357, \"CoapplicantIncome\": 2859.0, \"LoanAmount\": 144.0, \"Loan_Amount_Term\": 360.0, \"Credit_History\": 1.0, \"Property_Area\": \"Urban\", \"Loan_Status\": \"Y\"}, {\"Loan_ID\": \"LP001205\", \"Gender\": \"Male\", \"Married\": \"Yes\", \"Dependents\": \"0\", \"Education\": \"Graduate\", \"Self_Employed\": \"No\", \"ApplicantIncome\": 2500, \"CoapplicantIncome\": 3796.0, \"LoanAmount\": 120.0, \"Loan_Amount_Term\": 360.0, \"Credit_History\": 1.0, \"Property_Area\": \"Urban\", \"Loan_Status\": \"Y\"}, {\"Loan_ID\": \"LP001206\", \"Gender\": \"Male\", \"Married\": \"Yes\", \"Dependents\": \"3+\", \"Education\": \"Graduate\", \"Self_Employed\": \"No\", \"ApplicantIncome\": 3029, \"CoapplicantIncome\": 0.0, \"LoanAmount\": 99.0, \"Loan_Amount_Term\": 360.0, \"Credit_History\": 1.0, \"Property_Area\": \"Urban\", \"Loan_Status\": \"Y\"}, {\"Loan_ID\": \"LP001207\", \"Gender\": \"Male\", \"Married\": \"Yes\", \"Dependents\": \"0\", \"Education\": \"Not Graduate\", \"Self_Employed\": \"Yes\", \"ApplicantIncome\": 2609, \"CoapplicantIncome\": 3449.0, \"LoanAmount\": 165.0, \"Loan_Amount_Term\": 180.0, \"Credit_History\": 0.0, \"Property_Area\": \"Rural\", \"Loan_Status\": \"N\"}, {\"Loan_ID\": \"LP001213\", \"Gender\": \"Male\", \"Married\": \"Yes\", \"Dependents\": \"1\", \"Education\": \"Graduate\", \"Self_Employed\": \"No\", \"ApplicantIncome\": 4945, \"CoapplicantIncome\": 0.0, \"LoanAmount\": 146.41216216216216, \"Loan_Amount_Term\": 360.0, \"Credit_History\": 0.0, \"Property_Area\": \"Rural\", \"Loan_Status\": \"N\"}, {\"Loan_ID\": \"LP001222\", \"Gender\": \"Female\", \"Married\": \"No\", \"Dependents\": \"0\", \"Education\": \"Graduate\", \"Self_Employed\": \"No\", \"ApplicantIncome\": 4166, \"CoapplicantIncome\": 0.0, \"LoanAmount\": 116.0, \"Loan_Amount_Term\": 360.0, \"Credit_History\": 0.0, \"Property_Area\": \"Semiurban\", \"Loan_Status\": \"N\"}, {\"Loan_ID\": \"LP001225\", \"Gender\": \"Male\", \"Married\": \"Yes\", \"Dependents\": \"0\", \"Education\": \"Graduate\", \"Self_Employed\": \"No\", \"ApplicantIncome\": 5726, \"CoapplicantIncome\": 4595.0, \"LoanAmount\": 258.0, \"Loan_Amount_Term\": 360.0, \"Credit_History\": 1.0, \"Property_Area\": \"Semiurban\", \"Loan_Status\": \"N\"}, {\"Loan_ID\": \"LP001228\", \"Gender\": \"Male\", \"Married\": \"No\", \"Dependents\": \"0\", \"Education\": \"Not Graduate\", \"Self_Employed\": \"No\", \"ApplicantIncome\": 3200, \"CoapplicantIncome\": 2254.0, \"LoanAmount\": 126.0, \"Loan_Amount_Term\": 180.0, \"Credit_History\": 0.0, \"Property_Area\": \"Urban\", \"Loan_Status\": \"N\"}, {\"Loan_ID\": \"LP001233\", \"Gender\": \"Male\", \"Married\": \"Yes\", \"Dependents\": \"1\", \"Education\": \"Graduate\", \"Self_Employed\": \"No\", \"ApplicantIncome\": 10750, \"CoapplicantIncome\": 0.0, \"LoanAmount\": 312.0, \"Loan_Amount_Term\": 360.0, \"Credit_History\": 1.0, \"Property_Area\": \"Urban\", \"Loan_Status\": \"Y\"}, {\"Loan_ID\": \"LP001238\", \"Gender\": \"Male\", \"Married\": \"Yes\", \"Dependents\": \"3+\", \"Education\": \"Not Graduate\", \"Self_Employed\": \"Yes\", \"ApplicantIncome\": 7100, \"CoapplicantIncome\": 0.0, \"LoanAmount\": 125.0, \"Loan_Amount_Term\": 60.0, \"Credit_History\": 1.0, \"Property_Area\": \"Urban\", \"Loan_Status\": \"Y\"}, {\"Loan_ID\": \"LP001241\", \"Gender\": \"Female\", \"Married\": \"No\", \"Dependents\": \"0\", \"Education\": \"Graduate\", \"Self_Employed\": \"No\", \"ApplicantIncome\": 4300, \"CoapplicantIncome\": 0.0, \"LoanAmount\": 136.0, \"Loan_Amount_Term\": 360.0, \"Credit_History\": 0.0, \"Property_Area\": \"Semiurban\", \"Loan_Status\": \"N\"}, {\"Loan_ID\": \"LP001243\", \"Gender\": \"Male\", \"Married\": \"Yes\", \"Dependents\": \"0\", \"Education\": \"Graduate\", \"Self_Employed\": \"No\", \"ApplicantIncome\": 3208, \"CoapplicantIncome\": 3066.0, \"LoanAmount\": 172.0, \"Loan_Amount_Term\": 360.0, \"Credit_History\": 1.0, \"Property_Area\": \"Urban\", \"Loan_Status\": \"Y\"}, {\"Loan_ID\": \"LP001245\", \"Gender\": \"Male\", \"Married\": \"Yes\", \"Dependents\": \"2\", \"Education\": \"Not Graduate\", \"Self_Employed\": \"Yes\", \"ApplicantIncome\": 1875, \"CoapplicantIncome\": 1875.0, \"LoanAmount\": 97.0, \"Loan_Amount_Term\": 360.0, \"Credit_History\": 1.0, \"Property_Area\": \"Semiurban\", \"Loan_Status\": \"Y\"}, {\"Loan_ID\": \"LP001248\", \"Gender\": \"Male\", \"Married\": \"No\", \"Dependents\": \"0\", \"Education\": \"Graduate\", \"Self_Employed\": \"No\", \"ApplicantIncome\": 3500, \"CoapplicantIncome\": 0.0, \"LoanAmount\": 81.0, \"Loan_Amount_Term\": 300.0, \"Credit_History\": 1.0, \"Property_Area\": \"Semiurban\", \"Loan_Status\": \"Y\"}, {\"Loan_ID\": \"LP001250\", \"Gender\": \"Male\", \"Married\": \"Yes\", \"Dependents\": \"3+\", \"Education\": \"Not Graduate\", \"Self_Employed\": \"No\", \"ApplicantIncome\": 4755, \"CoapplicantIncome\": 0.0, \"LoanAmount\": 95.0, \"Loan_Amount_Term\": 360.0, \"Credit_History\": 0.0, \"Property_Area\": \"Semiurban\", \"Loan_Status\": \"N\"}, {\"Loan_ID\": \"LP001253\", \"Gender\": \"Male\", \"Married\": \"Yes\", \"Dependents\": \"3+\", \"Education\": \"Graduate\", \"Self_Employed\": \"Yes\", \"ApplicantIncome\": 5266, \"CoapplicantIncome\": 1774.0, \"LoanAmount\": 187.0, \"Loan_Amount_Term\": 360.0, \"Credit_History\": 1.0, \"Property_Area\": \"Semiurban\", \"Loan_Status\": \"Y\"}, {\"Loan_ID\": \"LP001255\", \"Gender\": \"Male\", \"Married\": \"No\", \"Dependents\": \"0\", \"Education\": \"Graduate\", \"Self_Employed\": \"No\", \"ApplicantIncome\": 3750, \"CoapplicantIncome\": 0.0, \"LoanAmount\": 113.0, \"Loan_Amount_Term\": 480.0, \"Credit_History\": 1.0, \"Property_Area\": \"Urban\", \"Loan_Status\": \"N\"}, {\"Loan_ID\": \"LP001256\", \"Gender\": \"Male\", \"Married\": \"No\", \"Dependents\": \"0\", \"Education\": \"Graduate\", \"Self_Employed\": \"No\", \"ApplicantIncome\": 3750, \"CoapplicantIncome\": 4750.0, \"LoanAmount\": 176.0, \"Loan_Amount_Term\": 360.0, \"Credit_History\": 1.0, \"Property_Area\": \"Urban\", \"Loan_Status\": \"N\"}, {\"Loan_ID\": \"LP001259\", \"Gender\": \"Male\", \"Married\": \"Yes\", \"Dependents\": \"1\", \"Education\": \"Graduate\", \"Self_Employed\": \"Yes\", \"ApplicantIncome\": 1000, \"CoapplicantIncome\": 3022.0, \"LoanAmount\": 110.0, \"Loan_Amount_Term\": 360.0, \"Credit_History\": 1.0, \"Property_Area\": \"Urban\", \"Loan_Status\": \"N\"}, {\"Loan_ID\": \"LP001263\", \"Gender\": \"Male\", \"Married\": \"Yes\", \"Dependents\": \"3+\", \"Education\": \"Graduate\", \"Self_Employed\": \"No\", \"ApplicantIncome\": 3167, \"CoapplicantIncome\": 4000.0, \"LoanAmount\": 180.0, \"Loan_Amount_Term\": 300.0, \"Credit_History\": 0.0, \"Property_Area\": \"Semiurban\", \"Loan_Status\": \"N\"}, {\"Loan_ID\": \"LP001264\", \"Gender\": \"Male\", \"Married\": \"Yes\", \"Dependents\": \"3+\", \"Education\": \"Not Graduate\", \"Self_Employed\": \"Yes\", \"ApplicantIncome\": 3333, \"CoapplicantIncome\": 2166.0, \"LoanAmount\": 130.0, \"Loan_Amount_Term\": 360.0, \"Credit_History\": 1.0, \"Property_Area\": \"Semiurban\", \"Loan_Status\": \"Y\"}, {\"Loan_ID\": \"LP001265\", \"Gender\": \"Female\", \"Married\": \"No\", \"Dependents\": \"0\", \"Education\": \"Graduate\", \"Self_Employed\": \"No\", \"ApplicantIncome\": 3846, \"CoapplicantIncome\": 0.0, \"LoanAmount\": 111.0, \"Loan_Amount_Term\": 360.0, \"Credit_History\": 1.0, \"Property_Area\": \"Semiurban\", \"Loan_Status\": \"Y\"}, {\"Loan_ID\": \"LP001266\", \"Gender\": \"Male\", \"Married\": \"Yes\", \"Dependents\": \"1\", \"Education\": \"Graduate\", \"Self_Employed\": \"Yes\", \"ApplicantIncome\": 2395, \"CoapplicantIncome\": 0.0, \"LoanAmount\": 146.41216216216216, \"Loan_Amount_Term\": 360.0, \"Credit_History\": 1.0, \"Property_Area\": \"Semiurban\", \"Loan_Status\": \"Y\"}, {\"Loan_ID\": \"LP001267\", \"Gender\": \"Female\", \"Married\": \"Yes\", \"Dependents\": \"2\", \"Education\": \"Graduate\", \"Self_Employed\": \"No\", \"ApplicantIncome\": 1378, \"CoapplicantIncome\": 1881.0, \"LoanAmount\": 167.0, \"Loan_Amount_Term\": 360.0, \"Credit_History\": 1.0, \"Property_Area\": \"Urban\", \"Loan_Status\": \"N\"}, {\"Loan_ID\": \"LP001273\", \"Gender\": \"Male\", \"Married\": \"Yes\", \"Dependents\": \"0\", \"Education\": \"Graduate\", \"Self_Employed\": \"No\", \"ApplicantIncome\": 6000, \"CoapplicantIncome\": 2250.0, \"LoanAmount\": 265.0, \"Loan_Amount_Term\": 360.0, \"Credit_History\": 1.0, \"Property_Area\": \"Semiurban\", \"Loan_Status\": \"N\"}, {\"Loan_ID\": \"LP001275\", \"Gender\": \"Male\", \"Married\": \"Yes\", \"Dependents\": \"1\", \"Education\": \"Graduate\", \"Self_Employed\": \"No\", \"ApplicantIncome\": 3988, \"CoapplicantIncome\": 0.0, \"LoanAmount\": 50.0, \"Loan_Amount_Term\": 240.0, \"Credit_History\": 1.0, \"Property_Area\": \"Urban\", \"Loan_Status\": \"Y\"}, {\"Loan_ID\": \"LP001279\", \"Gender\": \"Male\", \"Married\": \"No\", \"Dependents\": \"0\", \"Education\": \"Graduate\", \"Self_Employed\": \"No\", \"ApplicantIncome\": 2366, \"CoapplicantIncome\": 2531.0, \"LoanAmount\": 136.0, \"Loan_Amount_Term\": 360.0, \"Credit_History\": 1.0, \"Property_Area\": \"Semiurban\", \"Loan_Status\": \"Y\"}, {\"Loan_ID\": \"LP001280\", \"Gender\": \"Male\", \"Married\": \"Yes\", \"Dependents\": \"2\", \"Education\": \"Not Graduate\", \"Self_Employed\": \"No\", \"ApplicantIncome\": 3333, \"CoapplicantIncome\": 2000.0, \"LoanAmount\": 99.0, \"Loan_Amount_Term\": 360.0, \"Credit_History\": 1.0, \"Property_Area\": \"Semiurban\", \"Loan_Status\": \"Y\"}, {\"Loan_ID\": \"LP001282\", \"Gender\": \"Male\", \"Married\": \"Yes\", \"Dependents\": \"0\", \"Education\": \"Graduate\", \"Self_Employed\": \"No\", \"ApplicantIncome\": 2500, \"CoapplicantIncome\": 2118.0, \"LoanAmount\": 104.0, \"Loan_Amount_Term\": 360.0, \"Credit_History\": 1.0, \"Property_Area\": \"Semiurban\", \"Loan_Status\": \"Y\"}, {\"Loan_ID\": \"LP001289\", \"Gender\": \"Male\", \"Married\": \"No\", \"Dependents\": \"0\", \"Education\": \"Graduate\", \"Self_Employed\": \"No\", \"ApplicantIncome\": 8566, \"CoapplicantIncome\": 0.0, \"LoanAmount\": 210.0, \"Loan_Amount_Term\": 360.0, \"Credit_History\": 1.0, \"Property_Area\": \"Urban\", \"Loan_Status\": \"Y\"}, {\"Loan_ID\": \"LP001310\", \"Gender\": \"Male\", \"Married\": \"Yes\", \"Dependents\": \"0\", \"Education\": \"Graduate\", \"Self_Employed\": \"No\", \"ApplicantIncome\": 5695, \"CoapplicantIncome\": 4167.0, \"LoanAmount\": 175.0, \"Loan_Amount_Term\": 360.0, \"Credit_History\": 1.0, \"Property_Area\": \"Semiurban\", \"Loan_Status\": \"Y\"}, {\"Loan_ID\": \"LP001316\", \"Gender\": \"Male\", \"Married\": \"Yes\", \"Dependents\": \"0\", \"Education\": \"Graduate\", \"Self_Employed\": \"No\", \"ApplicantIncome\": 2958, \"CoapplicantIncome\": 2900.0, \"LoanAmount\": 131.0, \"Loan_Amount_Term\": 360.0, \"Credit_History\": 1.0, \"Property_Area\": \"Semiurban\", \"Loan_Status\": \"Y\"}, {\"Loan_ID\": \"LP001318\", \"Gender\": \"Male\", \"Married\": \"Yes\", \"Dependents\": \"2\", \"Education\": \"Graduate\", \"Self_Employed\": \"No\", \"ApplicantIncome\": 6250, \"CoapplicantIncome\": 5654.0, \"LoanAmount\": 188.0, \"Loan_Amount_Term\": 180.0, \"Credit_History\": 1.0, \"Property_Area\": \"Semiurban\", \"Loan_Status\": \"Y\"}, {\"Loan_ID\": \"LP001319\", \"Gender\": \"Male\", \"Married\": \"Yes\", \"Dependents\": \"2\", \"Education\": \"Not Graduate\", \"Self_Employed\": \"No\", \"ApplicantIncome\": 3273, \"CoapplicantIncome\": 1820.0, \"LoanAmount\": 81.0, \"Loan_Amount_Term\": 360.0, \"Credit_History\": 1.0, \"Property_Area\": \"Urban\", \"Loan_Status\": \"Y\"}, {\"Loan_ID\": \"LP001322\", \"Gender\": \"Male\", \"Married\": \"No\", \"Dependents\": \"0\", \"Education\": \"Graduate\", \"Self_Employed\": \"No\", \"ApplicantIncome\": 4133, \"CoapplicantIncome\": 0.0, \"LoanAmount\": 122.0, \"Loan_Amount_Term\": 360.0, \"Credit_History\": 1.0, \"Property_Area\": \"Semiurban\", \"Loan_Status\": \"Y\"}, {\"Loan_ID\": \"LP001325\", \"Gender\": \"Male\", \"Married\": \"No\", \"Dependents\": \"0\", \"Education\": \"Not Graduate\", \"Self_Employed\": \"No\", \"ApplicantIncome\": 3620, \"CoapplicantIncome\": 0.0, \"LoanAmount\": 25.0, \"Loan_Amount_Term\": 120.0, \"Credit_History\": 1.0, \"Property_Area\": \"Semiurban\", \"Loan_Status\": \"Y\"}, {\"Loan_ID\": \"LP001326\", \"Gender\": \"Male\", \"Married\": \"No\", \"Dependents\": \"0\", \"Education\": \"Graduate\", \"Self_Employed\": \"No\", \"ApplicantIncome\": 6782, \"CoapplicantIncome\": 0.0, \"LoanAmount\": 146.41216216216216, \"Loan_Amount_Term\": 360.0, \"Credit_History\": 1.0, \"Property_Area\": \"Urban\", \"Loan_Status\": \"N\"}, {\"Loan_ID\": \"LP001327\", \"Gender\": \"Female\", \"Married\": \"Yes\", \"Dependents\": \"0\", \"Education\": \"Graduate\", \"Self_Employed\": \"No\", \"ApplicantIncome\": 2484, \"CoapplicantIncome\": 2302.0, \"LoanAmount\": 137.0, \"Loan_Amount_Term\": 360.0, \"Credit_History\": 1.0, \"Property_Area\": \"Semiurban\", \"Loan_Status\": \"Y\"}, {\"Loan_ID\": \"LP001333\", \"Gender\": \"Male\", \"Married\": \"Yes\", \"Dependents\": \"0\", \"Education\": \"Graduate\", \"Self_Employed\": \"No\", \"ApplicantIncome\": 1977, \"CoapplicantIncome\": 997.0, \"LoanAmount\": 50.0, \"Loan_Amount_Term\": 360.0, \"Credit_History\": 1.0, \"Property_Area\": \"Semiurban\", \"Loan_Status\": \"Y\"}, {\"Loan_ID\": \"LP001334\", \"Gender\": \"Male\", \"Married\": \"Yes\", \"Dependents\": \"0\", \"Education\": \"Not Graduate\", \"Self_Employed\": \"No\", \"ApplicantIncome\": 4188, \"CoapplicantIncome\": 0.0, \"LoanAmount\": 115.0, \"Loan_Amount_Term\": 180.0, \"Credit_History\": 1.0, \"Property_Area\": \"Semiurban\", \"Loan_Status\": \"Y\"}, {\"Loan_ID\": \"LP001343\", \"Gender\": \"Male\", \"Married\": \"Yes\", \"Dependents\": \"0\", \"Education\": \"Graduate\", \"Self_Employed\": \"No\", \"ApplicantIncome\": 1759, \"CoapplicantIncome\": 3541.0, \"LoanAmount\": 131.0, \"Loan_Amount_Term\": 360.0, \"Credit_History\": 1.0, \"Property_Area\": \"Semiurban\", \"Loan_Status\": \"Y\"}, {\"Loan_ID\": \"LP001345\", \"Gender\": \"Male\", \"Married\": \"Yes\", \"Dependents\": \"2\", \"Education\": \"Not Graduate\", \"Self_Employed\": \"No\", \"ApplicantIncome\": 4288, \"CoapplicantIncome\": 3263.0, \"LoanAmount\": 133.0, \"Loan_Amount_Term\": 180.0, \"Credit_History\": 1.0, \"Property_Area\": \"Urban\", \"Loan_Status\": \"Y\"}, {\"Loan_ID\": \"LP001349\", \"Gender\": \"Male\", \"Married\": \"No\", \"Dependents\": \"0\", \"Education\": \"Graduate\", \"Self_Employed\": \"No\", \"ApplicantIncome\": 4843, \"CoapplicantIncome\": 3806.0, \"LoanAmount\": 151.0, \"Loan_Amount_Term\": 360.0, \"Credit_History\": 1.0, \"Property_Area\": \"Semiurban\", \"Loan_Status\": \"Y\"}, {\"Loan_ID\": \"LP001350\", \"Gender\": \"Male\", \"Married\": \"Yes\", \"Dependents\": \"0\", \"Education\": \"Graduate\", \"Self_Employed\": \"No\", \"ApplicantIncome\": 13650, \"CoapplicantIncome\": 0.0, \"LoanAmount\": 146.41216216216216, \"Loan_Amount_Term\": 360.0, \"Credit_History\": 1.0, \"Property_Area\": \"Urban\", \"Loan_Status\": \"Y\"}, {\"Loan_ID\": \"LP001356\", \"Gender\": \"Male\", \"Married\": \"Yes\", \"Dependents\": \"0\", \"Education\": \"Graduate\", \"Self_Employed\": \"No\", \"ApplicantIncome\": 4652, \"CoapplicantIncome\": 3583.0, \"LoanAmount\": 146.41216216216216, \"Loan_Amount_Term\": 360.0, \"Credit_History\": 1.0, \"Property_Area\": \"Semiurban\", \"Loan_Status\": \"Y\"}, {\"Loan_ID\": \"LP001357\", \"Gender\": \"Male\", \"Married\": \"Yes\", \"Dependents\": \"0\", \"Education\": \"Graduate\", \"Self_Employed\": \"No\", \"ApplicantIncome\": 3816, \"CoapplicantIncome\": 754.0, \"LoanAmount\": 160.0, \"Loan_Amount_Term\": 360.0, \"Credit_History\": 1.0, \"Property_Area\": \"Urban\", \"Loan_Status\": \"Y\"}, {\"Loan_ID\": \"LP001367\", \"Gender\": \"Male\", \"Married\": \"Yes\", \"Dependents\": \"1\", \"Education\": \"Graduate\", \"Self_Employed\": \"No\", \"ApplicantIncome\": 3052, \"CoapplicantIncome\": 1030.0, \"LoanAmount\": 100.0, \"Loan_Amount_Term\": 360.0, \"Credit_History\": 1.0, \"Property_Area\": \"Urban\", \"Loan_Status\": \"Y\"}, {\"Loan_ID\": \"LP001369\", \"Gender\": \"Male\", \"Married\": \"Yes\", \"Dependents\": \"2\", \"Education\": \"Graduate\", \"Self_Employed\": \"No\", \"ApplicantIncome\": 11417, \"CoapplicantIncome\": 1126.0, \"LoanAmount\": 225.0, \"Loan_Amount_Term\": 360.0, \"Credit_History\": 1.0, \"Property_Area\": \"Urban\", \"Loan_Status\": \"Y\"}, {\"Loan_ID\": \"LP001370\", \"Gender\": \"Male\", \"Married\": \"No\", \"Dependents\": \"0\", \"Education\": \"Not Graduate\", \"Self_Employed\": \"No\", \"ApplicantIncome\": 7333, \"CoapplicantIncome\": 0.0, \"LoanAmount\": 120.0, \"Loan_Amount_Term\": 360.0, \"Credit_History\": 1.0, \"Property_Area\": \"Rural\", \"Loan_Status\": \"N\"}, {\"Loan_ID\": \"LP001379\", \"Gender\": \"Male\", \"Married\": \"Yes\", \"Dependents\": \"2\", \"Education\": \"Graduate\", \"Self_Employed\": \"No\", \"ApplicantIncome\": 3800, \"CoapplicantIncome\": 3600.0, \"LoanAmount\": 216.0, \"Loan_Amount_Term\": 360.0, \"Credit_History\": 0.0, \"Property_Area\": \"Urban\", \"Loan_Status\": \"N\"}, {\"Loan_ID\": \"LP001384\", \"Gender\": \"Male\", \"Married\": \"Yes\", \"Dependents\": \"3+\", \"Education\": \"Not Graduate\", \"Self_Employed\": \"No\", \"ApplicantIncome\": 2071, \"CoapplicantIncome\": 754.0, \"LoanAmount\": 94.0, \"Loan_Amount_Term\": 480.0, \"Credit_History\": 1.0, \"Property_Area\": \"Semiurban\", \"Loan_Status\": \"Y\"}, {\"Loan_ID\": \"LP001385\", \"Gender\": \"Male\", \"Married\": \"No\", \"Dependents\": \"0\", \"Education\": \"Graduate\", \"Self_Employed\": \"No\", \"ApplicantIncome\": 5316, \"CoapplicantIncome\": 0.0, \"LoanAmount\": 136.0, \"Loan_Amount_Term\": 360.0, \"Credit_History\": 1.0, \"Property_Area\": \"Urban\", \"Loan_Status\": \"Y\"}, {\"Loan_ID\": \"LP001387\", \"Gender\": \"Female\", \"Married\": \"Yes\", \"Dependents\": \"0\", \"Education\": \"Graduate\", \"Self_Employed\": \"No\", \"ApplicantIncome\": 2929, \"CoapplicantIncome\": 2333.0, \"LoanAmount\": 139.0, \"Loan_Amount_Term\": 360.0, \"Credit_History\": 1.0, \"Property_Area\": \"Semiurban\", \"Loan_Status\": \"Y\"}, {\"Loan_ID\": \"LP001391\", \"Gender\": \"Male\", \"Married\": \"Yes\", \"Dependents\": \"0\", \"Education\": \"Not Graduate\", \"Self_Employed\": \"No\", \"ApplicantIncome\": 3572, \"CoapplicantIncome\": 4114.0, \"LoanAmount\": 152.0, \"Loan_Amount_Term\": 360.0, \"Credit_History\": 0.0, \"Property_Area\": \"Rural\", \"Loan_Status\": \"N\"}, {\"Loan_ID\": \"LP001392\", \"Gender\": \"Female\", \"Married\": \"No\", \"Dependents\": \"1\", \"Education\": \"Graduate\", \"Self_Employed\": \"Yes\", \"ApplicantIncome\": 7451, \"CoapplicantIncome\": 0.0, \"LoanAmount\": 146.41216216216216, \"Loan_Amount_Term\": 360.0, \"Credit_History\": 1.0, \"Property_Area\": \"Semiurban\", \"Loan_Status\": \"Y\"}, {\"Loan_ID\": \"LP001398\", \"Gender\": \"Male\", \"Married\": \"No\", \"Dependents\": \"0\", \"Education\": \"Graduate\", \"Self_Employed\": \"No\", \"ApplicantIncome\": 5050, \"CoapplicantIncome\": 0.0, \"LoanAmount\": 118.0, \"Loan_Amount_Term\": 360.0, \"Credit_History\": 1.0, \"Property_Area\": \"Semiurban\", \"Loan_Status\": \"Y\"}, {\"Loan_ID\": \"LP001401\", \"Gender\": \"Male\", \"Married\": \"Yes\", \"Dependents\": \"1\", \"Education\": \"Graduate\", \"Self_Employed\": \"No\", \"ApplicantIncome\": 14583, \"CoapplicantIncome\": 0.0, \"LoanAmount\": 185.0, \"Loan_Amount_Term\": 180.0, \"Credit_History\": 1.0, \"Property_Area\": \"Rural\", \"Loan_Status\": \"Y\"}, {\"Loan_ID\": \"LP001404\", \"Gender\": \"Female\", \"Married\": \"Yes\", \"Dependents\": \"0\", \"Education\": \"Graduate\", \"Self_Employed\": \"No\", \"ApplicantIncome\": 3167, \"CoapplicantIncome\": 2283.0, \"LoanAmount\": 154.0, \"Loan_Amount_Term\": 360.0, \"Credit_History\": 1.0, \"Property_Area\": \"Semiurban\", \"Loan_Status\": \"Y\"}, {\"Loan_ID\": \"LP001405\", \"Gender\": \"Male\", \"Married\": \"Yes\", \"Dependents\": \"1\", \"Education\": \"Graduate\", \"Self_Employed\": \"No\", \"ApplicantIncome\": 2214, \"CoapplicantIncome\": 1398.0, \"LoanAmount\": 85.0, \"Loan_Amount_Term\": 360.0, \"Credit_History\": 1.0, \"Property_Area\": \"Urban\", \"Loan_Status\": \"Y\"}, {\"Loan_ID\": \"LP001421\", \"Gender\": \"Male\", \"Married\": \"Yes\", \"Dependents\": \"0\", \"Education\": \"Graduate\", \"Self_Employed\": \"No\", \"ApplicantIncome\": 5568, \"CoapplicantIncome\": 2142.0, \"LoanAmount\": 175.0, \"Loan_Amount_Term\": 360.0, \"Credit_History\": 1.0, \"Property_Area\": \"Rural\", \"Loan_Status\": \"N\"}, {\"Loan_ID\": \"LP001422\", \"Gender\": \"Female\", \"Married\": \"No\", \"Dependents\": \"0\", \"Education\": \"Graduate\", \"Self_Employed\": \"No\", \"ApplicantIncome\": 10408, \"CoapplicantIncome\": 0.0, \"LoanAmount\": 259.0, \"Loan_Amount_Term\": 360.0, \"Credit_History\": 1.0, \"Property_Area\": \"Urban\", \"Loan_Status\": \"Y\"}, {\"Loan_ID\": \"LP001426\", \"Gender\": \"Male\", \"Married\": \"Yes\", \"Dependents\": \"0\", \"Education\": \"Graduate\", \"Self_Employed\": \"No\", \"ApplicantIncome\": 5667, \"CoapplicantIncome\": 2667.0, \"LoanAmount\": 180.0, \"Loan_Amount_Term\": 360.0, \"Credit_History\": 1.0, \"Property_Area\": \"Rural\", \"Loan_Status\": \"Y\"}, {\"Loan_ID\": \"LP001430\", \"Gender\": \"Female\", \"Married\": \"No\", \"Dependents\": \"0\", \"Education\": \"Graduate\", \"Self_Employed\": \"No\", \"ApplicantIncome\": 4166, \"CoapplicantIncome\": 0.0, \"LoanAmount\": 44.0, \"Loan_Amount_Term\": 360.0, \"Credit_History\": 1.0, \"Property_Area\": \"Semiurban\", \"Loan_Status\": \"Y\"}, {\"Loan_ID\": \"LP001431\", \"Gender\": \"Female\", \"Married\": \"No\", \"Dependents\": \"0\", \"Education\": \"Graduate\", \"Self_Employed\": \"No\", \"ApplicantIncome\": 2137, \"CoapplicantIncome\": 8980.0, \"LoanAmount\": 137.0, \"Loan_Amount_Term\": 360.0, \"Credit_History\": 0.0, \"Property_Area\": \"Semiurban\", \"Loan_Status\": \"Y\"}, {\"Loan_ID\": \"LP001432\", \"Gender\": \"Male\", \"Married\": \"Yes\", \"Dependents\": \"2\", \"Education\": \"Graduate\", \"Self_Employed\": \"No\", \"ApplicantIncome\": 2957, \"CoapplicantIncome\": 0.0, \"LoanAmount\": 81.0, \"Loan_Amount_Term\": 360.0, \"Credit_History\": 1.0, \"Property_Area\": \"Semiurban\", \"Loan_Status\": \"Y\"}, {\"Loan_ID\": \"LP001439\", \"Gender\": \"Male\", \"Married\": \"Yes\", \"Dependents\": \"0\", \"Education\": \"Not Graduate\", \"Self_Employed\": \"No\", \"ApplicantIncome\": 4300, \"CoapplicantIncome\": 2014.0, \"LoanAmount\": 194.0, \"Loan_Amount_Term\": 360.0, \"Credit_History\": 1.0, \"Property_Area\": \"Rural\", \"Loan_Status\": \"Y\"}, {\"Loan_ID\": \"LP001443\", \"Gender\": \"Female\", \"Married\": \"No\", \"Dependents\": \"0\", \"Education\": \"Graduate\", \"Self_Employed\": \"No\", \"ApplicantIncome\": 3692, \"CoapplicantIncome\": 0.0, \"LoanAmount\": 93.0, \"Loan_Amount_Term\": 360.0, \"Credit_History\": 1.0, \"Property_Area\": \"Rural\", \"Loan_Status\": \"Y\"}, {\"Loan_ID\": \"LP001448\", \"Gender\": \"Male\", \"Married\": \"Yes\", \"Dependents\": \"3+\", \"Education\": \"Graduate\", \"Self_Employed\": \"No\", \"ApplicantIncome\": 23803, \"CoapplicantIncome\": 0.0, \"LoanAmount\": 370.0, \"Loan_Amount_Term\": 360.0, \"Credit_History\": 1.0, \"Property_Area\": \"Rural\", \"Loan_Status\": \"Y\"}, {\"Loan_ID\": \"LP001449\", \"Gender\": \"Male\", \"Married\": \"No\", \"Dependents\": \"0\", \"Education\": \"Graduate\", \"Self_Employed\": \"No\", \"ApplicantIncome\": 3865, \"CoapplicantIncome\": 1640.0, \"LoanAmount\": 146.41216216216216, \"Loan_Amount_Term\": 360.0, \"Credit_History\": 1.0, \"Property_Area\": \"Rural\", \"Loan_Status\": \"Y\"}, {\"Loan_ID\": \"LP001451\", \"Gender\": \"Male\", \"Married\": \"Yes\", \"Dependents\": \"1\", \"Education\": \"Graduate\", \"Self_Employed\": \"Yes\", \"ApplicantIncome\": 10513, \"CoapplicantIncome\": 3850.0, \"LoanAmount\": 160.0, \"Loan_Amount_Term\": 180.0, \"Credit_History\": 0.0, \"Property_Area\": \"Urban\", \"Loan_Status\": \"N\"}, {\"Loan_ID\": \"LP001465\", \"Gender\": \"Male\", \"Married\": \"Yes\", \"Dependents\": \"0\", \"Education\": \"Graduate\", \"Self_Employed\": \"No\", \"ApplicantIncome\": 6080, \"CoapplicantIncome\": 2569.0, \"LoanAmount\": 182.0, \"Loan_Amount_Term\": 360.0, \"Credit_History\": 1.0, \"Property_Area\": \"Rural\", \"Loan_Status\": \"N\"}, {\"Loan_ID\": \"LP001469\", \"Gender\": \"Male\", \"Married\": \"No\", \"Dependents\": \"0\", \"Education\": \"Graduate\", \"Self_Employed\": \"Yes\", \"ApplicantIncome\": 20166, \"CoapplicantIncome\": 0.0, \"LoanAmount\": 650.0, \"Loan_Amount_Term\": 480.0, \"Credit_History\": 1.0, \"Property_Area\": \"Urban\", \"Loan_Status\": \"Y\"}, {\"Loan_ID\": \"LP001473\", \"Gender\": \"Male\", \"Married\": \"No\", \"Dependents\": \"0\", \"Education\": \"Graduate\", \"Self_Employed\": \"No\", \"ApplicantIncome\": 2014, \"CoapplicantIncome\": 1929.0, \"LoanAmount\": 74.0, \"Loan_Amount_Term\": 360.0, \"Credit_History\": 1.0, \"Property_Area\": \"Urban\", \"Loan_Status\": \"Y\"}, {\"Loan_ID\": \"LP001478\", \"Gender\": \"Male\", \"Married\": \"No\", \"Dependents\": \"0\", \"Education\": \"Graduate\", \"Self_Employed\": \"No\", \"ApplicantIncome\": 2718, \"CoapplicantIncome\": 0.0, \"LoanAmount\": 70.0, \"Loan_Amount_Term\": 360.0, \"Credit_History\": 1.0, \"Property_Area\": \"Semiurban\", \"Loan_Status\": \"Y\"}, {\"Loan_ID\": \"LP001482\", \"Gender\": \"Male\", \"Married\": \"Yes\", \"Dependents\": \"0\", \"Education\": \"Graduate\", \"Self_Employed\": \"Yes\", \"ApplicantIncome\": 3459, \"CoapplicantIncome\": 0.0, \"LoanAmount\": 25.0, \"Loan_Amount_Term\": 120.0, \"Credit_History\": 1.0, \"Property_Area\": \"Semiurban\", \"Loan_Status\": \"Y\"}, {\"Loan_ID\": \"LP001487\", \"Gender\": \"Male\", \"Married\": \"No\", \"Dependents\": \"0\", \"Education\": \"Graduate\", \"Self_Employed\": \"No\", \"ApplicantIncome\": 4895, \"CoapplicantIncome\": 0.0, \"LoanAmount\": 102.0, \"Loan_Amount_Term\": 360.0, \"Credit_History\": 1.0, \"Property_Area\": \"Semiurban\", \"Loan_Status\": \"Y\"}, {\"Loan_ID\": \"LP001488\", \"Gender\": \"Male\", \"Married\": \"Yes\", \"Dependents\": \"3+\", \"Education\": \"Graduate\", \"Self_Employed\": \"No\", \"ApplicantIncome\": 4000, \"CoapplicantIncome\": 7750.0, \"LoanAmount\": 290.0, \"Loan_Amount_Term\": 360.0, \"Credit_History\": 1.0, \"Property_Area\": \"Semiurban\", \"Loan_Status\": \"N\"}, {\"Loan_ID\": \"LP001489\", \"Gender\": \"Female\", \"Married\": \"Yes\", \"Dependents\": \"0\", \"Education\": \"Graduate\", \"Self_Employed\": \"No\", \"ApplicantIncome\": 4583, \"CoapplicantIncome\": 0.0, \"LoanAmount\": 84.0, \"Loan_Amount_Term\": 360.0, \"Credit_History\": 1.0, \"Property_Area\": \"Rural\", \"Loan_Status\": \"N\"}, {\"Loan_ID\": \"LP001491\", \"Gender\": \"Male\", \"Married\": \"Yes\", \"Dependents\": \"2\", \"Education\": \"Graduate\", \"Self_Employed\": \"Yes\", \"ApplicantIncome\": 3316, \"CoapplicantIncome\": 3500.0, \"LoanAmount\": 88.0, \"Loan_Amount_Term\": 360.0, \"Credit_History\": 1.0, \"Property_Area\": \"Urban\", \"Loan_Status\": \"Y\"}, {\"Loan_ID\": \"LP001492\", \"Gender\": \"Male\", \"Married\": \"No\", \"Dependents\": \"0\", \"Education\": \"Graduate\", \"Self_Employed\": \"No\", \"ApplicantIncome\": 14999, \"CoapplicantIncome\": 0.0, \"LoanAmount\": 242.0, \"Loan_Amount_Term\": 360.0, \"Credit_History\": 0.0, \"Property_Area\": \"Semiurban\", \"Loan_Status\": \"N\"}, {\"Loan_ID\": \"LP001493\", \"Gender\": \"Male\", \"Married\": \"Yes\", \"Dependents\": \"2\", \"Education\": \"Not Graduate\", \"Self_Employed\": \"No\", \"ApplicantIncome\": 4200, \"CoapplicantIncome\": 1430.0, \"LoanAmount\": 129.0, \"Loan_Amount_Term\": 360.0, \"Credit_History\": 1.0, \"Property_Area\": \"Rural\", \"Loan_Status\": \"N\"}, {\"Loan_ID\": \"LP001497\", \"Gender\": \"Male\", \"Married\": \"Yes\", \"Dependents\": \"2\", \"Education\": \"Graduate\", \"Self_Employed\": \"No\", \"ApplicantIncome\": 5042, \"CoapplicantIncome\": 2083.0, \"LoanAmount\": 185.0, \"Loan_Amount_Term\": 360.0, \"Credit_History\": 1.0, \"Property_Area\": \"Rural\", \"Loan_Status\": \"N\"}, {\"Loan_ID\": \"LP001498\", \"Gender\": \"Male\", \"Married\": \"No\", \"Dependents\": \"0\", \"Education\": \"Graduate\", \"Self_Employed\": \"No\", \"ApplicantIncome\": 5417, \"CoapplicantIncome\": 0.0, \"LoanAmount\": 168.0, \"Loan_Amount_Term\": 360.0, \"Credit_History\": 1.0, \"Property_Area\": \"Urban\", \"Loan_Status\": \"Y\"}, {\"Loan_ID\": \"LP001504\", \"Gender\": \"Male\", \"Married\": \"No\", \"Dependents\": \"0\", \"Education\": \"Graduate\", \"Self_Employed\": \"Yes\", \"ApplicantIncome\": 6950, \"CoapplicantIncome\": 0.0, \"LoanAmount\": 175.0, \"Loan_Amount_Term\": 180.0, \"Credit_History\": 1.0, \"Property_Area\": \"Semiurban\", \"Loan_Status\": \"Y\"}, {\"Loan_ID\": \"LP001507\", \"Gender\": \"Male\", \"Married\": \"Yes\", \"Dependents\": \"0\", \"Education\": \"Graduate\", \"Self_Employed\": \"No\", \"ApplicantIncome\": 2698, \"CoapplicantIncome\": 2034.0, \"LoanAmount\": 122.0, \"Loan_Amount_Term\": 360.0, \"Credit_History\": 1.0, \"Property_Area\": \"Semiurban\", \"Loan_Status\": \"Y\"}, {\"Loan_ID\": \"LP001508\", \"Gender\": \"Male\", \"Married\": \"Yes\", \"Dependents\": \"2\", \"Education\": \"Graduate\", \"Self_Employed\": \"No\", \"ApplicantIncome\": 11757, \"CoapplicantIncome\": 0.0, \"LoanAmount\": 187.0, \"Loan_Amount_Term\": 180.0, \"Credit_History\": 1.0, \"Property_Area\": \"Urban\", \"Loan_Status\": \"Y\"}, {\"Loan_ID\": \"LP001514\", \"Gender\": \"Female\", \"Married\": \"Yes\", \"Dependents\": \"0\", \"Education\": \"Graduate\", \"Self_Employed\": \"No\", \"ApplicantIncome\": 2330, \"CoapplicantIncome\": 4486.0, \"LoanAmount\": 100.0, \"Loan_Amount_Term\": 360.0, \"Credit_History\": 1.0, \"Property_Area\": \"Semiurban\", \"Loan_Status\": \"Y\"}, {\"Loan_ID\": \"LP001516\", \"Gender\": \"Female\", \"Married\": \"Yes\", \"Dependents\": \"2\", \"Education\": \"Graduate\", \"Self_Employed\": \"No\", \"ApplicantIncome\": 14866, \"CoapplicantIncome\": 0.0, \"LoanAmount\": 70.0, \"Loan_Amount_Term\": 360.0, \"Credit_History\": 1.0, \"Property_Area\": \"Urban\", \"Loan_Status\": \"Y\"}, {\"Loan_ID\": \"LP001518\", \"Gender\": \"Male\", \"Married\": \"Yes\", \"Dependents\": \"1\", \"Education\": \"Graduate\", \"Self_Employed\": \"No\", \"ApplicantIncome\": 1538, \"CoapplicantIncome\": 1425.0, \"LoanAmount\": 30.0, \"Loan_Amount_Term\": 360.0, \"Credit_History\": 1.0, \"Property_Area\": \"Urban\", \"Loan_Status\": \"Y\"}, {\"Loan_ID\": \"LP001519\", \"Gender\": \"Female\", \"Married\": \"No\", \"Dependents\": \"0\", \"Education\": \"Graduate\", \"Self_Employed\": \"No\", \"ApplicantIncome\": 10000, \"CoapplicantIncome\": 1666.0, \"LoanAmount\": 225.0, \"Loan_Amount_Term\": 360.0, \"Credit_History\": 1.0, \"Property_Area\": \"Rural\", \"Loan_Status\": \"N\"}, {\"Loan_ID\": \"LP001520\", \"Gender\": \"Male\", \"Married\": \"Yes\", \"Dependents\": \"0\", \"Education\": \"Graduate\", \"Self_Employed\": \"No\", \"ApplicantIncome\": 4860, \"CoapplicantIncome\": 830.0, \"LoanAmount\": 125.0, \"Loan_Amount_Term\": 360.0, \"Credit_History\": 1.0, \"Property_Area\": \"Semiurban\", \"Loan_Status\": \"Y\"}, {\"Loan_ID\": \"LP001528\", \"Gender\": \"Male\", \"Married\": \"No\", \"Dependents\": \"0\", \"Education\": \"Graduate\", \"Self_Employed\": \"No\", \"ApplicantIncome\": 6277, \"CoapplicantIncome\": 0.0, \"LoanAmount\": 118.0, \"Loan_Amount_Term\": 360.0, \"Credit_History\": 0.0, \"Property_Area\": \"Rural\", \"Loan_Status\": \"N\"}, {\"Loan_ID\": \"LP001529\", \"Gender\": \"Male\", \"Married\": \"Yes\", \"Dependents\": \"0\", \"Education\": \"Graduate\", \"Self_Employed\": \"Yes\", \"ApplicantIncome\": 2577, \"CoapplicantIncome\": 3750.0, \"LoanAmount\": 152.0, \"Loan_Amount_Term\": 360.0, \"Credit_History\": 1.0, \"Property_Area\": \"Rural\", \"Loan_Status\": \"Y\"}, {\"Loan_ID\": \"LP001531\", \"Gender\": \"Male\", \"Married\": \"No\", \"Dependents\": \"0\", \"Education\": \"Graduate\", \"Self_Employed\": \"No\", \"ApplicantIncome\": 9166, \"CoapplicantIncome\": 0.0, \"LoanAmount\": 244.0, \"Loan_Amount_Term\": 360.0, \"Credit_History\": 1.0, \"Property_Area\": \"Urban\", \"Loan_Status\": \"N\"}, {\"Loan_ID\": \"LP001532\", \"Gender\": \"Male\", \"Married\": \"Yes\", \"Dependents\": \"2\", \"Education\": \"Not Graduate\", \"Self_Employed\": \"No\", \"ApplicantIncome\": 2281, \"CoapplicantIncome\": 0.0, \"LoanAmount\": 113.0, \"Loan_Amount_Term\": 360.0, \"Credit_History\": 1.0, \"Property_Area\": \"Rural\", \"Loan_Status\": \"N\"}, {\"Loan_ID\": \"LP001535\", \"Gender\": \"Male\", \"Married\": \"No\", \"Dependents\": \"0\", \"Education\": \"Graduate\", \"Self_Employed\": \"No\", \"ApplicantIncome\": 3254, \"CoapplicantIncome\": 0.0, \"LoanAmount\": 50.0, \"Loan_Amount_Term\": 360.0, \"Credit_History\": 1.0, \"Property_Area\": \"Urban\", \"Loan_Status\": \"Y\"}, {\"Loan_ID\": \"LP001536\", \"Gender\": \"Male\", \"Married\": \"Yes\", \"Dependents\": \"3+\", \"Education\": \"Graduate\", \"Self_Employed\": \"No\", \"ApplicantIncome\": 39999, \"CoapplicantIncome\": 0.0, \"LoanAmount\": 600.0, \"Loan_Amount_Term\": 180.0, \"Credit_History\": 0.0, \"Property_Area\": \"Semiurban\", \"Loan_Status\": \"Y\"}, {\"Loan_ID\": \"LP001541\", \"Gender\": \"Male\", \"Married\": \"Yes\", \"Dependents\": \"1\", \"Education\": \"Graduate\", \"Self_Employed\": \"No\", \"ApplicantIncome\": 6000, \"CoapplicantIncome\": 0.0, \"LoanAmount\": 160.0, \"Loan_Amount_Term\": 360.0, \"Credit_History\": 1.0, \"Property_Area\": \"Rural\", \"Loan_Status\": \"Y\"}, {\"Loan_ID\": \"LP001543\", \"Gender\": \"Male\", \"Married\": \"Yes\", \"Dependents\": \"1\", \"Education\": \"Graduate\", \"Self_Employed\": \"No\", \"ApplicantIncome\": 9538, \"CoapplicantIncome\": 0.0, \"LoanAmount\": 187.0, \"Loan_Amount_Term\": 360.0, \"Credit_History\": 1.0, \"Property_Area\": \"Urban\", \"Loan_Status\": \"Y\"}, {\"Loan_ID\": \"LP001546\", \"Gender\": \"Male\", \"Married\": \"No\", \"Dependents\": \"0\", \"Education\": \"Graduate\", \"Self_Employed\": \"No\", \"ApplicantIncome\": 2980, \"CoapplicantIncome\": 2083.0, \"LoanAmount\": 120.0, \"Loan_Amount_Term\": 360.0, \"Credit_History\": 1.0, \"Property_Area\": \"Rural\", \"Loan_Status\": \"Y\"}, {\"Loan_ID\": \"LP001552\", \"Gender\": \"Male\", \"Married\": \"Yes\", \"Dependents\": \"0\", \"Education\": \"Graduate\", \"Self_Employed\": \"No\", \"ApplicantIncome\": 4583, \"CoapplicantIncome\": 5625.0, \"LoanAmount\": 255.0, \"Loan_Amount_Term\": 360.0, \"Credit_History\": 1.0, \"Property_Area\": \"Semiurban\", \"Loan_Status\": \"Y\"}, {\"Loan_ID\": \"LP001560\", \"Gender\": \"Male\", \"Married\": \"Yes\", \"Dependents\": \"0\", \"Education\": \"Not Graduate\", \"Self_Employed\": \"No\", \"ApplicantIncome\": 1863, \"CoapplicantIncome\": 1041.0, \"LoanAmount\": 98.0, \"Loan_Amount_Term\": 360.0, \"Credit_History\": 1.0, \"Property_Area\": \"Semiurban\", \"Loan_Status\": \"Y\"}, {\"Loan_ID\": \"LP001562\", \"Gender\": \"Male\", \"Married\": \"Yes\", \"Dependents\": \"0\", \"Education\": \"Graduate\", \"Self_Employed\": \"No\", \"ApplicantIncome\": 7933, \"CoapplicantIncome\": 0.0, \"LoanAmount\": 275.0, \"Loan_Amount_Term\": 360.0, \"Credit_History\": 1.0, \"Property_Area\": \"Urban\", \"Loan_Status\": \"N\"}, {\"Loan_ID\": \"LP001565\", \"Gender\": \"Male\", \"Married\": \"Yes\", \"Dependents\": \"1\", \"Education\": \"Graduate\", \"Self_Employed\": \"No\", \"ApplicantIncome\": 3089, \"CoapplicantIncome\": 1280.0, \"LoanAmount\": 121.0, \"Loan_Amount_Term\": 360.0, \"Credit_History\": 0.0, \"Property_Area\": \"Semiurban\", \"Loan_Status\": \"N\"}, {\"Loan_ID\": \"LP001570\", \"Gender\": \"Male\", \"Married\": \"Yes\", \"Dependents\": \"2\", \"Education\": \"Graduate\", \"Self_Employed\": \"No\", \"ApplicantIncome\": 4167, \"CoapplicantIncome\": 1447.0, \"LoanAmount\": 158.0, \"Loan_Amount_Term\": 360.0, \"Credit_History\": 1.0, \"Property_Area\": \"Rural\", \"Loan_Status\": \"Y\"}, {\"Loan_ID\": \"LP001572\", \"Gender\": \"Male\", \"Married\": \"Yes\", \"Dependents\": \"0\", \"Education\": \"Graduate\", \"Self_Employed\": \"No\", \"ApplicantIncome\": 9323, \"CoapplicantIncome\": 0.0, \"LoanAmount\": 75.0, \"Loan_Amount_Term\": 180.0, \"Credit_History\": 1.0, \"Property_Area\": \"Urban\", \"Loan_Status\": \"Y\"}, {\"Loan_ID\": \"LP001574\", \"Gender\": \"Male\", \"Married\": \"Yes\", \"Dependents\": \"0\", \"Education\": \"Graduate\", \"Self_Employed\": \"No\", \"ApplicantIncome\": 3707, \"CoapplicantIncome\": 3166.0, \"LoanAmount\": 182.0, \"Loan_Amount_Term\": 360.0, \"Credit_History\": 1.0, \"Property_Area\": \"Rural\", \"Loan_Status\": \"Y\"}, {\"Loan_ID\": \"LP001577\", \"Gender\": \"Female\", \"Married\": \"Yes\", \"Dependents\": \"0\", \"Education\": \"Graduate\", \"Self_Employed\": \"No\", \"ApplicantIncome\": 4583, \"CoapplicantIncome\": 0.0, \"LoanAmount\": 112.0, \"Loan_Amount_Term\": 360.0, \"Credit_History\": 1.0, \"Property_Area\": \"Rural\", \"Loan_Status\": \"N\"}, {\"Loan_ID\": \"LP001578\", \"Gender\": \"Male\", \"Married\": \"Yes\", \"Dependents\": \"0\", \"Education\": \"Graduate\", \"Self_Employed\": \"No\", \"ApplicantIncome\": 2439, \"CoapplicantIncome\": 3333.0, \"LoanAmount\": 129.0, \"Loan_Amount_Term\": 360.0, \"Credit_History\": 1.0, \"Property_Area\": \"Rural\", \"Loan_Status\": \"Y\"}, {\"Loan_ID\": \"LP001579\", \"Gender\": \"Male\", \"Married\": \"No\", \"Dependents\": \"0\", \"Education\": \"Graduate\", \"Self_Employed\": \"No\", \"ApplicantIncome\": 2237, \"CoapplicantIncome\": 0.0, \"LoanAmount\": 63.0, \"Loan_Amount_Term\": 480.0, \"Credit_History\": 0.0, \"Property_Area\": \"Semiurban\", \"Loan_Status\": \"N\"}, {\"Loan_ID\": \"LP001580\", \"Gender\": \"Male\", \"Married\": \"Yes\", \"Dependents\": \"2\", \"Education\": \"Graduate\", \"Self_Employed\": \"No\", \"ApplicantIncome\": 8000, \"CoapplicantIncome\": 0.0, \"LoanAmount\": 200.0, \"Loan_Amount_Term\": 360.0, \"Credit_History\": 1.0, \"Property_Area\": \"Semiurban\", \"Loan_Status\": \"Y\"}, {\"Loan_ID\": \"LP001581\", \"Gender\": \"Male\", \"Married\": \"Yes\", \"Dependents\": \"0\", \"Education\": \"Not Graduate\", \"Self_Employed\": \"No\", \"ApplicantIncome\": 1820, \"CoapplicantIncome\": 1769.0, \"LoanAmount\": 95.0, \"Loan_Amount_Term\": 360.0, \"Credit_History\": 1.0, \"Property_Area\": \"Rural\", \"Loan_Status\": \"Y\"}, {\"Loan_ID\": \"LP001585\", \"Gender\": \"Male\", \"Married\": \"Yes\", \"Dependents\": \"3+\", \"Education\": \"Graduate\", \"Self_Employed\": \"No\", \"ApplicantIncome\": 51763, \"CoapplicantIncome\": 0.0, \"LoanAmount\": 700.0, \"Loan_Amount_Term\": 300.0, \"Credit_History\": 1.0, \"Property_Area\": \"Urban\", \"Loan_Status\": \"Y\"}, {\"Loan_ID\": \"LP001586\", \"Gender\": \"Male\", \"Married\": \"Yes\", \"Dependents\": \"3+\", \"Education\": \"Not Graduate\", \"Self_Employed\": \"No\", \"ApplicantIncome\": 3522, \"CoapplicantIncome\": 0.0, \"LoanAmount\": 81.0, \"Loan_Amount_Term\": 180.0, \"Credit_History\": 1.0, \"Property_Area\": \"Rural\", \"Loan_Status\": \"N\"}, {\"Loan_ID\": \"LP001594\", \"Gender\": \"Male\", \"Married\": \"Yes\", \"Dependents\": \"0\", \"Education\": \"Graduate\", \"Self_Employed\": \"No\", \"ApplicantIncome\": 5708, \"CoapplicantIncome\": 5625.0, \"LoanAmount\": 187.0, \"Loan_Amount_Term\": 360.0, \"Credit_History\": 1.0, \"Property_Area\": \"Semiurban\", \"Loan_Status\": \"Y\"}, {\"Loan_ID\": \"LP001603\", \"Gender\": \"Male\", \"Married\": \"Yes\", \"Dependents\": \"0\", \"Education\": \"Not Graduate\", \"Self_Employed\": \"Yes\", \"ApplicantIncome\": 4344, \"CoapplicantIncome\": 736.0, \"LoanAmount\": 87.0, \"Loan_Amount_Term\": 360.0, \"Credit_History\": 1.0, \"Property_Area\": \"Semiurban\", \"Loan_Status\": \"N\"}, {\"Loan_ID\": \"LP001606\", \"Gender\": \"Male\", \"Married\": \"Yes\", \"Dependents\": \"0\", \"Education\": \"Graduate\", \"Self_Employed\": \"No\", \"ApplicantIncome\": 3497, \"CoapplicantIncome\": 1964.0, \"LoanAmount\": 116.0, \"Loan_Amount_Term\": 360.0, \"Credit_History\": 1.0, \"Property_Area\": \"Rural\", \"Loan_Status\": \"Y\"}, {\"Loan_ID\": \"LP001608\", \"Gender\": \"Male\", \"Married\": \"Yes\", \"Dependents\": \"2\", \"Education\": \"Graduate\", \"Self_Employed\": \"No\", \"ApplicantIncome\": 2045, \"CoapplicantIncome\": 1619.0, \"LoanAmount\": 101.0, \"Loan_Amount_Term\": 360.0, \"Credit_History\": 1.0, \"Property_Area\": \"Rural\", \"Loan_Status\": \"Y\"}, {\"Loan_ID\": \"LP001610\", \"Gender\": \"Male\", \"Married\": \"Yes\", \"Dependents\": \"3+\", \"Education\": \"Graduate\", \"Self_Employed\": \"No\", \"ApplicantIncome\": 5516, \"CoapplicantIncome\": 11300.0, \"LoanAmount\": 495.0, \"Loan_Amount_Term\": 360.0, \"Credit_History\": 0.0, \"Property_Area\": \"Semiurban\", \"Loan_Status\": \"N\"}, {\"Loan_ID\": \"LP001616\", \"Gender\": \"Male\", \"Married\": \"Yes\", \"Dependents\": \"1\", \"Education\": \"Graduate\", \"Self_Employed\": \"No\", \"ApplicantIncome\": 3750, \"CoapplicantIncome\": 0.0, \"LoanAmount\": 116.0, \"Loan_Amount_Term\": 360.0, \"Credit_History\": 1.0, \"Property_Area\": \"Semiurban\", \"Loan_Status\": \"Y\"}, {\"Loan_ID\": \"LP001630\", \"Gender\": \"Male\", \"Married\": \"No\", \"Dependents\": \"0\", \"Education\": \"Not Graduate\", \"Self_Employed\": \"No\", \"ApplicantIncome\": 2333, \"CoapplicantIncome\": 1451.0, \"LoanAmount\": 102.0, \"Loan_Amount_Term\": 480.0, \"Credit_History\": 0.0, \"Property_Area\": \"Urban\", \"Loan_Status\": \"N\"}, {\"Loan_ID\": \"LP001633\", \"Gender\": \"Male\", \"Married\": \"Yes\", \"Dependents\": \"1\", \"Education\": \"Graduate\", \"Self_Employed\": \"No\", \"ApplicantIncome\": 6400, \"CoapplicantIncome\": 7250.0, \"LoanAmount\": 180.0, \"Loan_Amount_Term\": 360.0, \"Credit_History\": 0.0, \"Property_Area\": \"Urban\", \"Loan_Status\": \"N\"}, {\"Loan_ID\": \"LP001634\", \"Gender\": \"Male\", \"Married\": \"No\", \"Dependents\": \"0\", \"Education\": \"Graduate\", \"Self_Employed\": \"No\", \"ApplicantIncome\": 1916, \"CoapplicantIncome\": 5063.0, \"LoanAmount\": 67.0, \"Loan_Amount_Term\": 360.0, \"Credit_History\": 1.0, \"Property_Area\": \"Rural\", \"Loan_Status\": \"N\"}, {\"Loan_ID\": \"LP001636\", \"Gender\": \"Male\", \"Married\": \"Yes\", \"Dependents\": \"0\", \"Education\": \"Graduate\", \"Self_Employed\": \"No\", \"ApplicantIncome\": 4600, \"CoapplicantIncome\": 0.0, \"LoanAmount\": 73.0, \"Loan_Amount_Term\": 180.0, \"Credit_History\": 1.0, \"Property_Area\": \"Semiurban\", \"Loan_Status\": \"Y\"}, {\"Loan_ID\": \"LP001637\", \"Gender\": \"Male\", \"Married\": \"Yes\", \"Dependents\": \"1\", \"Education\": \"Graduate\", \"Self_Employed\": \"No\", \"ApplicantIncome\": 33846, \"CoapplicantIncome\": 0.0, \"LoanAmount\": 260.0, \"Loan_Amount_Term\": 360.0, \"Credit_History\": 1.0, \"Property_Area\": \"Semiurban\", \"Loan_Status\": \"N\"}, {\"Loan_ID\": \"LP001639\", \"Gender\": \"Female\", \"Married\": \"Yes\", \"Dependents\": \"0\", \"Education\": \"Graduate\", \"Self_Employed\": \"No\", \"ApplicantIncome\": 3625, \"CoapplicantIncome\": 0.0, \"LoanAmount\": 108.0, \"Loan_Amount_Term\": 360.0, \"Credit_History\": 1.0, \"Property_Area\": \"Semiurban\", \"Loan_Status\": \"Y\"}, {\"Loan_ID\": \"LP001640\", \"Gender\": \"Male\", \"Married\": \"Yes\", \"Dependents\": \"0\", \"Education\": \"Graduate\", \"Self_Employed\": \"Yes\", \"ApplicantIncome\": 39147, \"CoapplicantIncome\": 4750.0, \"LoanAmount\": 120.0, \"Loan_Amount_Term\": 360.0, \"Credit_History\": 1.0, \"Property_Area\": \"Semiurban\", \"Loan_Status\": \"Y\"}, {\"Loan_ID\": \"LP001641\", \"Gender\": \"Male\", \"Married\": \"Yes\", \"Dependents\": \"1\", \"Education\": \"Graduate\", \"Self_Employed\": \"Yes\", \"ApplicantIncome\": 2178, \"CoapplicantIncome\": 0.0, \"LoanAmount\": 66.0, \"Loan_Amount_Term\": 300.0, \"Credit_History\": 0.0, \"Property_Area\": \"Rural\", \"Loan_Status\": \"N\"}, {\"Loan_ID\": \"LP001643\", \"Gender\": \"Male\", \"Married\": \"Yes\", \"Dependents\": \"0\", \"Education\": \"Graduate\", \"Self_Employed\": \"No\", \"ApplicantIncome\": 2383, \"CoapplicantIncome\": 2138.0, \"LoanAmount\": 58.0, \"Loan_Amount_Term\": 360.0, \"Credit_History\": 1.0, \"Property_Area\": \"Rural\", \"Loan_Status\": \"Y\"}, {\"Loan_ID\": \"LP001644\", \"Gender\": \"Male\", \"Married\": \"Yes\", \"Dependents\": \"0\", \"Education\": \"Graduate\", \"Self_Employed\": \"Yes\", \"ApplicantIncome\": 674, \"CoapplicantIncome\": 5296.0, \"LoanAmount\": 168.0, \"Loan_Amount_Term\": 360.0, \"Credit_History\": 1.0, \"Property_Area\": \"Rural\", \"Loan_Status\": \"Y\"}, {\"Loan_ID\": \"LP001647\", \"Gender\": \"Male\", \"Married\": \"Yes\", \"Dependents\": \"0\", \"Education\": \"Graduate\", \"Self_Employed\": \"No\", \"ApplicantIncome\": 9328, \"CoapplicantIncome\": 0.0, \"LoanAmount\": 188.0, \"Loan_Amount_Term\": 180.0, \"Credit_History\": 1.0, \"Property_Area\": \"Rural\", \"Loan_Status\": \"Y\"}, {\"Loan_ID\": \"LP001653\", \"Gender\": \"Male\", \"Married\": \"No\", \"Dependents\": \"0\", \"Education\": \"Not Graduate\", \"Self_Employed\": \"No\", \"ApplicantIncome\": 4885, \"CoapplicantIncome\": 0.0, \"LoanAmount\": 48.0, \"Loan_Amount_Term\": 360.0, \"Credit_History\": 1.0, \"Property_Area\": \"Rural\", \"Loan_Status\": \"Y\"}, {\"Loan_ID\": \"LP001656\", \"Gender\": \"Male\", \"Married\": \"No\", \"Dependents\": \"0\", \"Education\": \"Graduate\", \"Self_Employed\": \"No\", \"ApplicantIncome\": 12000, \"CoapplicantIncome\": 0.0, \"LoanAmount\": 164.0, \"Loan_Amount_Term\": 360.0, \"Credit_History\": 1.0, \"Property_Area\": \"Semiurban\", \"Loan_Status\": \"N\"}, {\"Loan_ID\": \"LP001657\", \"Gender\": \"Male\", \"Married\": \"Yes\", \"Dependents\": \"0\", \"Education\": \"Not Graduate\", \"Self_Employed\": \"No\", \"ApplicantIncome\": 6033, \"CoapplicantIncome\": 0.0, \"LoanAmount\": 160.0, \"Loan_Amount_Term\": 360.0, \"Credit_History\": 1.0, \"Property_Area\": \"Urban\", \"Loan_Status\": \"N\"}, {\"Loan_ID\": \"LP001658\", \"Gender\": \"Male\", \"Married\": \"No\", \"Dependents\": \"0\", \"Education\": \"Graduate\", \"Self_Employed\": \"No\", \"ApplicantIncome\": 3858, \"CoapplicantIncome\": 0.0, \"LoanAmount\": 76.0, \"Loan_Amount_Term\": 360.0, \"Credit_History\": 1.0, \"Property_Area\": \"Semiurban\", \"Loan_Status\": \"Y\"}, {\"Loan_ID\": \"LP001664\", \"Gender\": \"Male\", \"Married\": \"No\", \"Dependents\": \"0\", \"Education\": \"Graduate\", \"Self_Employed\": \"No\", \"ApplicantIncome\": 4191, \"CoapplicantIncome\": 0.0, \"LoanAmount\": 120.0, \"Loan_Amount_Term\": 360.0, \"Credit_History\": 1.0, \"Property_Area\": \"Rural\", \"Loan_Status\": \"Y\"}, {\"Loan_ID\": \"LP001665\", \"Gender\": \"Male\", \"Married\": \"Yes\", \"Dependents\": \"1\", \"Education\": \"Graduate\", \"Self_Employed\": \"No\", \"ApplicantIncome\": 3125, \"CoapplicantIncome\": 2583.0, \"LoanAmount\": 170.0, \"Loan_Amount_Term\": 360.0, \"Credit_History\": 1.0, \"Property_Area\": \"Semiurban\", \"Loan_Status\": \"N\"}, {\"Loan_ID\": \"LP001666\", \"Gender\": \"Male\", \"Married\": \"No\", \"Dependents\": \"0\", \"Education\": \"Graduate\", \"Self_Employed\": \"No\", \"ApplicantIncome\": 8333, \"CoapplicantIncome\": 3750.0, \"LoanAmount\": 187.0, \"Loan_Amount_Term\": 360.0, \"Credit_History\": 1.0, \"Property_Area\": \"Rural\", \"Loan_Status\": \"Y\"}, {\"Loan_ID\": \"LP001669\", \"Gender\": \"Female\", \"Married\": \"No\", \"Dependents\": \"0\", \"Education\": \"Not Graduate\", \"Self_Employed\": \"No\", \"ApplicantIncome\": 1907, \"CoapplicantIncome\": 2365.0, \"LoanAmount\": 120.0, \"Loan_Amount_Term\": 360.0, \"Credit_History\": 1.0, \"Property_Area\": \"Urban\", \"Loan_Status\": \"Y\"}, {\"Loan_ID\": \"LP001671\", \"Gender\": \"Female\", \"Married\": \"Yes\", \"Dependents\": \"0\", \"Education\": \"Graduate\", \"Self_Employed\": \"No\", \"ApplicantIncome\": 3416, \"CoapplicantIncome\": 2816.0, \"LoanAmount\": 113.0, \"Loan_Amount_Term\": 360.0, \"Credit_History\": 1.0, \"Property_Area\": \"Semiurban\", \"Loan_Status\": \"Y\"}, {\"Loan_ID\": \"LP001673\", \"Gender\": \"Male\", \"Married\": \"No\", \"Dependents\": \"0\", \"Education\": \"Graduate\", \"Self_Employed\": \"Yes\", \"ApplicantIncome\": 11000, \"CoapplicantIncome\": 0.0, \"LoanAmount\": 83.0, \"Loan_Amount_Term\": 360.0, \"Credit_History\": 1.0, \"Property_Area\": \"Urban\", \"Loan_Status\": \"N\"}, {\"Loan_ID\": \"LP001674\", \"Gender\": \"Male\", \"Married\": \"Yes\", \"Dependents\": \"1\", \"Education\": \"Not Graduate\", \"Self_Employed\": \"No\", \"ApplicantIncome\": 2600, \"CoapplicantIncome\": 2500.0, \"LoanAmount\": 90.0, \"Loan_Amount_Term\": 360.0, \"Credit_History\": 1.0, \"Property_Area\": \"Semiurban\", \"Loan_Status\": \"Y\"}, {\"Loan_ID\": \"LP001677\", \"Gender\": \"Male\", \"Married\": \"No\", \"Dependents\": \"2\", \"Education\": \"Graduate\", \"Self_Employed\": \"No\", \"ApplicantIncome\": 4923, \"CoapplicantIncome\": 0.0, \"LoanAmount\": 166.0, \"Loan_Amount_Term\": 360.0, \"Credit_History\": 0.0, \"Property_Area\": \"Semiurban\", \"Loan_Status\": \"Y\"}, {\"Loan_ID\": \"LP001682\", \"Gender\": \"Male\", \"Married\": \"Yes\", \"Dependents\": \"3+\", \"Education\": \"Not Graduate\", \"Self_Employed\": \"No\", \"ApplicantIncome\": 3992, \"CoapplicantIncome\": 0.0, \"LoanAmount\": 146.41216216216216, \"Loan_Amount_Term\": 180.0, \"Credit_History\": 1.0, \"Property_Area\": \"Urban\", \"Loan_Status\": \"N\"}, {\"Loan_ID\": \"LP001688\", \"Gender\": \"Male\", \"Married\": \"Yes\", \"Dependents\": \"1\", \"Education\": \"Not Graduate\", \"Self_Employed\": \"No\", \"ApplicantIncome\": 3500, \"CoapplicantIncome\": 1083.0, \"LoanAmount\": 135.0, \"Loan_Amount_Term\": 360.0, \"Credit_History\": 1.0, \"Property_Area\": \"Urban\", \"Loan_Status\": \"Y\"}, {\"Loan_ID\": \"LP001691\", \"Gender\": \"Male\", \"Married\": \"Yes\", \"Dependents\": \"2\", \"Education\": \"Not Graduate\", \"Self_Employed\": \"No\", \"ApplicantIncome\": 3917, \"CoapplicantIncome\": 0.0, \"LoanAmount\": 124.0, \"Loan_Amount_Term\": 360.0, \"Credit_History\": 1.0, \"Property_Area\": \"Semiurban\", \"Loan_Status\": \"Y\"}, {\"Loan_ID\": \"LP001692\", \"Gender\": \"Female\", \"Married\": \"No\", \"Dependents\": \"0\", \"Education\": \"Not Graduate\", \"Self_Employed\": \"No\", \"ApplicantIncome\": 4408, \"CoapplicantIncome\": 0.0, \"LoanAmount\": 120.0, \"Loan_Amount_Term\": 360.0, \"Credit_History\": 1.0, \"Property_Area\": \"Semiurban\", \"Loan_Status\": \"Y\"}, {\"Loan_ID\": \"LP001693\", \"Gender\": \"Female\", \"Married\": \"No\", \"Dependents\": \"0\", \"Education\": \"Graduate\", \"Self_Employed\": \"No\", \"ApplicantIncome\": 3244, \"CoapplicantIncome\": 0.0, \"LoanAmount\": 80.0, \"Loan_Amount_Term\": 360.0, \"Credit_History\": 1.0, \"Property_Area\": \"Urban\", \"Loan_Status\": \"Y\"}, {\"Loan_ID\": \"LP001698\", \"Gender\": \"Male\", \"Married\": \"No\", \"Dependents\": \"0\", \"Education\": \"Not Graduate\", \"Self_Employed\": \"No\", \"ApplicantIncome\": 3975, \"CoapplicantIncome\": 2531.0, \"LoanAmount\": 55.0, \"Loan_Amount_Term\": 360.0, \"Credit_History\": 1.0, \"Property_Area\": \"Rural\", \"Loan_Status\": \"Y\"}, {\"Loan_ID\": \"LP001699\", \"Gender\": \"Male\", \"Married\": \"No\", \"Dependents\": \"0\", \"Education\": \"Graduate\", \"Self_Employed\": \"No\", \"ApplicantIncome\": 2479, \"CoapplicantIncome\": 0.0, \"LoanAmount\": 59.0, \"Loan_Amount_Term\": 360.0, \"Credit_History\": 1.0, \"Property_Area\": \"Urban\", \"Loan_Status\": \"Y\"}, {\"Loan_ID\": \"LP001702\", \"Gender\": \"Male\", \"Married\": \"No\", \"Dependents\": \"0\", \"Education\": \"Graduate\", \"Self_Employed\": \"No\", \"ApplicantIncome\": 3418, \"CoapplicantIncome\": 0.0, \"LoanAmount\": 127.0, \"Loan_Amount_Term\": 360.0, \"Credit_History\": 1.0, \"Property_Area\": \"Semiurban\", \"Loan_Status\": \"N\"}, {\"Loan_ID\": \"LP001708\", \"Gender\": \"Female\", \"Married\": \"No\", \"Dependents\": \"0\", \"Education\": \"Graduate\", \"Self_Employed\": \"No\", \"ApplicantIncome\": 10000, \"CoapplicantIncome\": 0.0, \"LoanAmount\": 214.0, \"Loan_Amount_Term\": 360.0, \"Credit_History\": 1.0, \"Property_Area\": \"Semiurban\", \"Loan_Status\": \"N\"}, {\"Loan_ID\": \"LP001711\", \"Gender\": \"Male\", \"Married\": \"Yes\", \"Dependents\": \"3+\", \"Education\": \"Graduate\", \"Self_Employed\": \"No\", \"ApplicantIncome\": 3430, \"CoapplicantIncome\": 1250.0, \"LoanAmount\": 128.0, \"Loan_Amount_Term\": 360.0, \"Credit_History\": 0.0, \"Property_Area\": \"Semiurban\", \"Loan_Status\": \"N\"}, {\"Loan_ID\": \"LP001713\", \"Gender\": \"Male\", \"Married\": \"Yes\", \"Dependents\": \"1\", \"Education\": \"Graduate\", \"Self_Employed\": \"Yes\", \"ApplicantIncome\": 7787, \"CoapplicantIncome\": 0.0, \"LoanAmount\": 240.0, \"Loan_Amount_Term\": 360.0, \"Credit_History\": 1.0, \"Property_Area\": \"Urban\", \"Loan_Status\": \"Y\"}, {\"Loan_ID\": \"LP001715\", \"Gender\": \"Male\", \"Married\": \"Yes\", \"Dependents\": \"3+\", \"Education\": \"Not Graduate\", \"Self_Employed\": \"Yes\", \"ApplicantIncome\": 5703, \"CoapplicantIncome\": 0.0, \"LoanAmount\": 130.0, \"Loan_Amount_Term\": 360.0, \"Credit_History\": 1.0, \"Property_Area\": \"Rural\", \"Loan_Status\": \"Y\"}, {\"Loan_ID\": \"LP001716\", \"Gender\": \"Male\", \"Married\": \"Yes\", \"Dependents\": \"0\", \"Education\": \"Graduate\", \"Self_Employed\": \"No\", \"ApplicantIncome\": 3173, \"CoapplicantIncome\": 3021.0, \"LoanAmount\": 137.0, \"Loan_Amount_Term\": 360.0, \"Credit_History\": 1.0, \"Property_Area\": \"Urban\", \"Loan_Status\": \"Y\"}, {\"Loan_ID\": \"LP001720\", \"Gender\": \"Male\", \"Married\": \"Yes\", \"Dependents\": \"3+\", \"Education\": \"Not Graduate\", \"Self_Employed\": \"No\", \"ApplicantIncome\": 3850, \"CoapplicantIncome\": 983.0, \"LoanAmount\": 100.0, \"Loan_Amount_Term\": 360.0, \"Credit_History\": 1.0, \"Property_Area\": \"Semiurban\", \"Loan_Status\": \"Y\"}, {\"Loan_ID\": \"LP001722\", \"Gender\": \"Male\", \"Married\": \"Yes\", \"Dependents\": \"0\", \"Education\": \"Graduate\", \"Self_Employed\": \"No\", \"ApplicantIncome\": 150, \"CoapplicantIncome\": 1800.0, \"LoanAmount\": 135.0, \"Loan_Amount_Term\": 360.0, \"Credit_History\": 1.0, \"Property_Area\": \"Rural\", \"Loan_Status\": \"N\"}, {\"Loan_ID\": \"LP001726\", \"Gender\": \"Male\", \"Married\": \"Yes\", \"Dependents\": \"0\", \"Education\": \"Graduate\", \"Self_Employed\": \"No\", \"ApplicantIncome\": 3727, \"CoapplicantIncome\": 1775.0, \"LoanAmount\": 131.0, \"Loan_Amount_Term\": 360.0, \"Credit_History\": 1.0, \"Property_Area\": \"Semiurban\", \"Loan_Status\": \"Y\"}, {\"Loan_ID\": \"LP001732\", \"Gender\": \"Male\", \"Married\": \"Yes\", \"Dependents\": \"2\", \"Education\": \"Graduate\", \"Self_Employed\": \"No\", \"ApplicantIncome\": 5000, \"CoapplicantIncome\": 0.0, \"LoanAmount\": 72.0, \"Loan_Amount_Term\": 360.0, \"Credit_History\": 0.0, \"Property_Area\": \"Semiurban\", \"Loan_Status\": \"N\"}, {\"Loan_ID\": \"LP001734\", \"Gender\": \"Female\", \"Married\": \"Yes\", \"Dependents\": \"2\", \"Education\": \"Graduate\", \"Self_Employed\": \"No\", \"ApplicantIncome\": 4283, \"CoapplicantIncome\": 2383.0, \"LoanAmount\": 127.0, \"Loan_Amount_Term\": 360.0, \"Credit_History\": 1.0, \"Property_Area\": \"Semiurban\", \"Loan_Status\": \"Y\"}, {\"Loan_ID\": \"LP001736\", \"Gender\": \"Male\", \"Married\": \"Yes\", \"Dependents\": \"0\", \"Education\": \"Graduate\", \"Self_Employed\": \"No\", \"ApplicantIncome\": 2221, \"CoapplicantIncome\": 0.0, \"LoanAmount\": 60.0, \"Loan_Amount_Term\": 360.0, \"Credit_History\": 0.0, \"Property_Area\": \"Urban\", \"Loan_Status\": \"N\"}, {\"Loan_ID\": \"LP001743\", \"Gender\": \"Male\", \"Married\": \"Yes\", \"Dependents\": \"2\", \"Education\": \"Graduate\", \"Self_Employed\": \"No\", \"ApplicantIncome\": 4009, \"CoapplicantIncome\": 1717.0, \"LoanAmount\": 116.0, \"Loan_Amount_Term\": 360.0, \"Credit_History\": 1.0, \"Property_Area\": \"Semiurban\", \"Loan_Status\": \"Y\"}, {\"Loan_ID\": \"LP001744\", \"Gender\": \"Male\", \"Married\": \"No\", \"Dependents\": \"0\", \"Education\": \"Graduate\", \"Self_Employed\": \"No\", \"ApplicantIncome\": 2971, \"CoapplicantIncome\": 2791.0, \"LoanAmount\": 144.0, \"Loan_Amount_Term\": 360.0, \"Credit_History\": 1.0, \"Property_Area\": \"Semiurban\", \"Loan_Status\": \"Y\"}, {\"Loan_ID\": \"LP001749\", \"Gender\": \"Male\", \"Married\": \"Yes\", \"Dependents\": \"0\", \"Education\": \"Graduate\", \"Self_Employed\": \"No\", \"ApplicantIncome\": 7578, \"CoapplicantIncome\": 1010.0, \"LoanAmount\": 175.0, \"Loan_Amount_Term\": 360.0, \"Credit_History\": 1.0, \"Property_Area\": \"Semiurban\", \"Loan_Status\": \"Y\"}, {\"Loan_ID\": \"LP001750\", \"Gender\": \"Male\", \"Married\": \"Yes\", \"Dependents\": \"0\", \"Education\": \"Graduate\", \"Self_Employed\": \"No\", \"ApplicantIncome\": 6250, \"CoapplicantIncome\": 0.0, \"LoanAmount\": 128.0, \"Loan_Amount_Term\": 360.0, \"Credit_History\": 1.0, \"Property_Area\": \"Semiurban\", \"Loan_Status\": \"Y\"}, {\"Loan_ID\": \"LP001751\", \"Gender\": \"Male\", \"Married\": \"Yes\", \"Dependents\": \"0\", \"Education\": \"Graduate\", \"Self_Employed\": \"No\", \"ApplicantIncome\": 3250, \"CoapplicantIncome\": 0.0, \"LoanAmount\": 170.0, \"Loan_Amount_Term\": 360.0, \"Credit_History\": 1.0, \"Property_Area\": \"Rural\", \"Loan_Status\": \"N\"}, {\"Loan_ID\": \"LP001754\", \"Gender\": \"Male\", \"Married\": \"Yes\", \"Dependents\": \"0\", \"Education\": \"Not Graduate\", \"Self_Employed\": \"Yes\", \"ApplicantIncome\": 4735, \"CoapplicantIncome\": 0.0, \"LoanAmount\": 138.0, \"Loan_Amount_Term\": 360.0, \"Credit_History\": 1.0, \"Property_Area\": \"Urban\", \"Loan_Status\": \"N\"}, {\"Loan_ID\": \"LP001758\", \"Gender\": \"Male\", \"Married\": \"Yes\", \"Dependents\": \"2\", \"Education\": \"Graduate\", \"Self_Employed\": \"No\", \"ApplicantIncome\": 6250, \"CoapplicantIncome\": 1695.0, \"LoanAmount\": 210.0, \"Loan_Amount_Term\": 360.0, \"Credit_History\": 1.0, \"Property_Area\": \"Semiurban\", \"Loan_Status\": \"Y\"}, {\"Loan_ID\": \"LP001760\", \"Gender\": \"Male\", \"Married\": \"Yes\", \"Dependents\": \"0\", \"Education\": \"Graduate\", \"Self_Employed\": \"No\", \"ApplicantIncome\": 4758, \"CoapplicantIncome\": 0.0, \"LoanAmount\": 158.0, \"Loan_Amount_Term\": 480.0, \"Credit_History\": 1.0, \"Property_Area\": \"Semiurban\", \"Loan_Status\": \"Y\"}, {\"Loan_ID\": \"LP001761\", \"Gender\": \"Male\", \"Married\": \"No\", \"Dependents\": \"0\", \"Education\": \"Graduate\", \"Self_Employed\": \"Yes\", \"ApplicantIncome\": 6400, \"CoapplicantIncome\": 0.0, \"LoanAmount\": 200.0, \"Loan_Amount_Term\": 360.0, \"Credit_History\": 1.0, \"Property_Area\": \"Rural\", \"Loan_Status\": \"Y\"}, {\"Loan_ID\": \"LP001765\", \"Gender\": \"Male\", \"Married\": \"Yes\", \"Dependents\": \"1\", \"Education\": \"Graduate\", \"Self_Employed\": \"No\", \"ApplicantIncome\": 2491, \"CoapplicantIncome\": 2054.0, \"LoanAmount\": 104.0, \"Loan_Amount_Term\": 360.0, \"Credit_History\": 1.0, \"Property_Area\": \"Semiurban\", \"Loan_Status\": \"Y\"}, {\"Loan_ID\": \"LP001768\", \"Gender\": \"Male\", \"Married\": \"Yes\", \"Dependents\": \"0\", \"Education\": \"Graduate\", \"Self_Employed\": \"No\", \"ApplicantIncome\": 3716, \"CoapplicantIncome\": 0.0, \"LoanAmount\": 42.0, \"Loan_Amount_Term\": 180.0, \"Credit_History\": 1.0, \"Property_Area\": \"Rural\", \"Loan_Status\": \"Y\"}, {\"Loan_ID\": \"LP001770\", \"Gender\": \"Male\", \"Married\": \"No\", \"Dependents\": \"0\", \"Education\": \"Not Graduate\", \"Self_Employed\": \"No\", \"ApplicantIncome\": 3189, \"CoapplicantIncome\": 2598.0, \"LoanAmount\": 120.0, \"Loan_Amount_Term\": 360.0, \"Credit_History\": 1.0, \"Property_Area\": \"Rural\", \"Loan_Status\": \"Y\"}, {\"Loan_ID\": \"LP001776\", \"Gender\": \"Female\", \"Married\": \"No\", \"Dependents\": \"0\", \"Education\": \"Graduate\", \"Self_Employed\": \"No\", \"ApplicantIncome\": 8333, \"CoapplicantIncome\": 0.0, \"LoanAmount\": 280.0, \"Loan_Amount_Term\": 360.0, \"Credit_History\": 1.0, \"Property_Area\": \"Semiurban\", \"Loan_Status\": \"Y\"}, {\"Loan_ID\": \"LP001778\", \"Gender\": \"Male\", \"Married\": \"Yes\", \"Dependents\": \"1\", \"Education\": \"Graduate\", \"Self_Employed\": \"No\", \"ApplicantIncome\": 3155, \"CoapplicantIncome\": 1779.0, \"LoanAmount\": 140.0, \"Loan_Amount_Term\": 360.0, \"Credit_History\": 1.0, \"Property_Area\": \"Semiurban\", \"Loan_Status\": \"Y\"}, {\"Loan_ID\": \"LP001784\", \"Gender\": \"Male\", \"Married\": \"Yes\", \"Dependents\": \"1\", \"Education\": \"Graduate\", \"Self_Employed\": \"No\", \"ApplicantIncome\": 5500, \"CoapplicantIncome\": 1260.0, \"LoanAmount\": 170.0, \"Loan_Amount_Term\": 360.0, \"Credit_History\": 1.0, \"Property_Area\": \"Rural\", \"Loan_Status\": \"Y\"}, {\"Loan_ID\": \"LP001786\", \"Gender\": \"Male\", \"Married\": \"Yes\", \"Dependents\": \"0\", \"Education\": \"Graduate\", \"Self_Employed\": \"No\", \"ApplicantIncome\": 5746, \"CoapplicantIncome\": 0.0, \"LoanAmount\": 255.0, \"Loan_Amount_Term\": 360.0, \"Credit_History\": 1.0, \"Property_Area\": \"Urban\", \"Loan_Status\": \"N\"}, {\"Loan_ID\": \"LP001788\", \"Gender\": \"Female\", \"Married\": \"No\", \"Dependents\": \"0\", \"Education\": \"Graduate\", \"Self_Employed\": \"Yes\", \"ApplicantIncome\": 3463, \"CoapplicantIncome\": 0.0, \"LoanAmount\": 122.0, \"Loan_Amount_Term\": 360.0, \"Credit_History\": 1.0, \"Property_Area\": \"Urban\", \"Loan_Status\": \"Y\"}, {\"Loan_ID\": \"LP001790\", \"Gender\": \"Female\", \"Married\": \"No\", \"Dependents\": \"1\", \"Education\": \"Graduate\", \"Self_Employed\": \"No\", \"ApplicantIncome\": 3812, \"CoapplicantIncome\": 0.0, \"LoanAmount\": 112.0, \"Loan_Amount_Term\": 360.0, \"Credit_History\": 1.0, \"Property_Area\": \"Rural\", \"Loan_Status\": \"Y\"}, {\"Loan_ID\": \"LP001792\", \"Gender\": \"Male\", \"Married\": \"Yes\", \"Dependents\": \"1\", \"Education\": \"Graduate\", \"Self_Employed\": \"No\", \"ApplicantIncome\": 3315, \"CoapplicantIncome\": 0.0, \"LoanAmount\": 96.0, \"Loan_Amount_Term\": 360.0, \"Credit_History\": 1.0, \"Property_Area\": \"Semiurban\", \"Loan_Status\": \"Y\"}, {\"Loan_ID\": \"LP001798\", \"Gender\": \"Male\", \"Married\": \"Yes\", \"Dependents\": \"2\", \"Education\": \"Graduate\", \"Self_Employed\": \"No\", \"ApplicantIncome\": 5819, \"CoapplicantIncome\": 5000.0, \"LoanAmount\": 120.0, \"Loan_Amount_Term\": 360.0, \"Credit_History\": 1.0, \"Property_Area\": \"Rural\", \"Loan_Status\": \"Y\"}, {\"Loan_ID\": \"LP001800\", \"Gender\": \"Male\", \"Married\": \"Yes\", \"Dependents\": \"1\", \"Education\": \"Not Graduate\", \"Self_Employed\": \"No\", \"ApplicantIncome\": 2510, \"CoapplicantIncome\": 1983.0, \"LoanAmount\": 140.0, \"Loan_Amount_Term\": 180.0, \"Credit_History\": 1.0, \"Property_Area\": \"Urban\", \"Loan_Status\": \"N\"}, {\"Loan_ID\": \"LP001806\", \"Gender\": \"Male\", \"Married\": \"No\", \"Dependents\": \"0\", \"Education\": \"Graduate\", \"Self_Employed\": \"No\", \"ApplicantIncome\": 2965, \"CoapplicantIncome\": 5701.0, \"LoanAmount\": 155.0, \"Loan_Amount_Term\": 60.0, \"Credit_History\": 1.0, \"Property_Area\": \"Urban\", \"Loan_Status\": \"Y\"}, {\"Loan_ID\": \"LP001807\", \"Gender\": \"Male\", \"Married\": \"Yes\", \"Dependents\": \"2\", \"Education\": \"Graduate\", \"Self_Employed\": \"Yes\", \"ApplicantIncome\": 6250, \"CoapplicantIncome\": 1300.0, \"LoanAmount\": 108.0, \"Loan_Amount_Term\": 360.0, \"Credit_History\": 1.0, \"Property_Area\": \"Rural\", \"Loan_Status\": \"Y\"}, {\"Loan_ID\": \"LP001811\", \"Gender\": \"Male\", \"Married\": \"Yes\", \"Dependents\": \"0\", \"Education\": \"Not Graduate\", \"Self_Employed\": \"No\", \"ApplicantIncome\": 3406, \"CoapplicantIncome\": 4417.0, \"LoanAmount\": 123.0, \"Loan_Amount_Term\": 360.0, \"Credit_History\": 1.0, \"Property_Area\": \"Semiurban\", \"Loan_Status\": \"Y\"}, {\"Loan_ID\": \"LP001813\", \"Gender\": \"Male\", \"Married\": \"No\", \"Dependents\": \"0\", \"Education\": \"Graduate\", \"Self_Employed\": \"Yes\", \"ApplicantIncome\": 6050, \"CoapplicantIncome\": 4333.0, \"LoanAmount\": 120.0, \"Loan_Amount_Term\": 180.0, \"Credit_History\": 1.0, \"Property_Area\": \"Urban\", \"Loan_Status\": \"N\"}, {\"Loan_ID\": \"LP001814\", \"Gender\": \"Male\", \"Married\": \"Yes\", \"Dependents\": \"2\", \"Education\": \"Graduate\", \"Self_Employed\": \"No\", \"ApplicantIncome\": 9703, \"CoapplicantIncome\": 0.0, \"LoanAmount\": 112.0, \"Loan_Amount_Term\": 360.0, \"Credit_History\": 1.0, \"Property_Area\": \"Urban\", \"Loan_Status\": \"Y\"}, {\"Loan_ID\": \"LP001819\", \"Gender\": \"Male\", \"Married\": \"Yes\", \"Dependents\": \"1\", \"Education\": \"Not Graduate\", \"Self_Employed\": \"No\", \"ApplicantIncome\": 6608, \"CoapplicantIncome\": 0.0, \"LoanAmount\": 137.0, \"Loan_Amount_Term\": 180.0, \"Credit_History\": 1.0, \"Property_Area\": \"Urban\", \"Loan_Status\": \"Y\"}, {\"Loan_ID\": \"LP001824\", \"Gender\": \"Male\", \"Married\": \"Yes\", \"Dependents\": \"1\", \"Education\": \"Graduate\", \"Self_Employed\": \"No\", \"ApplicantIncome\": 2882, \"CoapplicantIncome\": 1843.0, \"LoanAmount\": 123.0, \"Loan_Amount_Term\": 480.0, \"Credit_History\": 1.0, \"Property_Area\": \"Semiurban\", \"Loan_Status\": \"Y\"}, {\"Loan_ID\": \"LP001825\", \"Gender\": \"Male\", \"Married\": \"Yes\", \"Dependents\": \"0\", \"Education\": \"Graduate\", \"Self_Employed\": \"No\", \"ApplicantIncome\": 1809, \"CoapplicantIncome\": 1868.0, \"LoanAmount\": 90.0, \"Loan_Amount_Term\": 360.0, \"Credit_History\": 1.0, \"Property_Area\": \"Urban\", \"Loan_Status\": \"Y\"}, {\"Loan_ID\": \"LP001835\", \"Gender\": \"Male\", \"Married\": \"Yes\", \"Dependents\": \"0\", \"Education\": \"Not Graduate\", \"Self_Employed\": \"No\", \"ApplicantIncome\": 1668, \"CoapplicantIncome\": 3890.0, \"LoanAmount\": 201.0, \"Loan_Amount_Term\": 360.0, \"Credit_History\": 0.0, \"Property_Area\": \"Semiurban\", \"Loan_Status\": \"N\"}, {\"Loan_ID\": \"LP001836\", \"Gender\": \"Female\", \"Married\": \"No\", \"Dependents\": \"2\", \"Education\": \"Graduate\", \"Self_Employed\": \"No\", \"ApplicantIncome\": 3427, \"CoapplicantIncome\": 0.0, \"LoanAmount\": 138.0, \"Loan_Amount_Term\": 360.0, \"Credit_History\": 1.0, \"Property_Area\": \"Urban\", \"Loan_Status\": \"N\"}, {\"Loan_ID\": \"LP001841\", \"Gender\": \"Male\", \"Married\": \"No\", \"Dependents\": \"0\", \"Education\": \"Not Graduate\", \"Self_Employed\": \"Yes\", \"ApplicantIncome\": 2583, \"CoapplicantIncome\": 2167.0, \"LoanAmount\": 104.0, \"Loan_Amount_Term\": 360.0, \"Credit_History\": 1.0, \"Property_Area\": \"Rural\", \"Loan_Status\": \"Y\"}, {\"Loan_ID\": \"LP001843\", \"Gender\": \"Male\", \"Married\": \"Yes\", \"Dependents\": \"1\", \"Education\": \"Not Graduate\", \"Self_Employed\": \"No\", \"ApplicantIncome\": 2661, \"CoapplicantIncome\": 7101.0, \"LoanAmount\": 279.0, \"Loan_Amount_Term\": 180.0, \"Credit_History\": 1.0, \"Property_Area\": \"Semiurban\", \"Loan_Status\": \"Y\"}, {\"Loan_ID\": \"LP001844\", \"Gender\": \"Male\", \"Married\": \"No\", \"Dependents\": \"0\", \"Education\": \"Graduate\", \"Self_Employed\": \"Yes\", \"ApplicantIncome\": 16250, \"CoapplicantIncome\": 0.0, \"LoanAmount\": 192.0, \"Loan_Amount_Term\": 360.0, \"Credit_History\": 0.0, \"Property_Area\": \"Urban\", \"Loan_Status\": \"N\"}, {\"Loan_ID\": \"LP001846\", \"Gender\": \"Female\", \"Married\": \"No\", \"Dependents\": \"3+\", \"Education\": \"Graduate\", \"Self_Employed\": \"No\", \"ApplicantIncome\": 3083, \"CoapplicantIncome\": 0.0, \"LoanAmount\": 255.0, \"Loan_Amount_Term\": 360.0, \"Credit_History\": 1.0, \"Property_Area\": \"Rural\", \"Loan_Status\": \"Y\"}, {\"Loan_ID\": \"LP001849\", \"Gender\": \"Male\", \"Married\": \"No\", \"Dependents\": \"0\", \"Education\": \"Not Graduate\", \"Self_Employed\": \"No\", \"ApplicantIncome\": 6045, \"CoapplicantIncome\": 0.0, \"LoanAmount\": 115.0, \"Loan_Amount_Term\": 360.0, \"Credit_History\": 0.0, \"Property_Area\": \"Rural\", \"Loan_Status\": \"N\"}, {\"Loan_ID\": \"LP001854\", \"Gender\": \"Male\", \"Married\": \"Yes\", \"Dependents\": \"3+\", \"Education\": \"Graduate\", \"Self_Employed\": \"No\", \"ApplicantIncome\": 5250, \"CoapplicantIncome\": 0.0, \"LoanAmount\": 94.0, \"Loan_Amount_Term\": 360.0, \"Credit_History\": 1.0, \"Property_Area\": \"Urban\", \"Loan_Status\": \"N\"}, {\"Loan_ID\": \"LP001859\", \"Gender\": \"Male\", \"Married\": \"Yes\", \"Dependents\": \"0\", \"Education\": \"Graduate\", \"Self_Employed\": \"No\", \"ApplicantIncome\": 14683, \"CoapplicantIncome\": 2100.0, \"LoanAmount\": 304.0, \"Loan_Amount_Term\": 360.0, \"Credit_History\": 1.0, \"Property_Area\": \"Rural\", \"Loan_Status\": \"N\"}, {\"Loan_ID\": \"LP001864\", \"Gender\": \"Male\", \"Married\": \"Yes\", \"Dependents\": \"3+\", \"Education\": \"Not Graduate\", \"Self_Employed\": \"No\", \"ApplicantIncome\": 4931, \"CoapplicantIncome\": 0.0, \"LoanAmount\": 128.0, \"Loan_Amount_Term\": 360.0, \"Credit_History\": 1.0, \"Property_Area\": \"Semiurban\", \"Loan_Status\": \"N\"}, {\"Loan_ID\": \"LP001865\", \"Gender\": \"Male\", \"Married\": \"Yes\", \"Dependents\": \"1\", \"Education\": \"Graduate\", \"Self_Employed\": \"No\", \"ApplicantIncome\": 6083, \"CoapplicantIncome\": 4250.0, \"LoanAmount\": 330.0, \"Loan_Amount_Term\": 360.0, \"Credit_History\": 1.0, \"Property_Area\": \"Urban\", \"Loan_Status\": \"Y\"}, {\"Loan_ID\": \"LP001868\", \"Gender\": \"Male\", \"Married\": \"No\", \"Dependents\": \"0\", \"Education\": \"Graduate\", \"Self_Employed\": \"No\", \"ApplicantIncome\": 2060, \"CoapplicantIncome\": 2209.0, \"LoanAmount\": 134.0, \"Loan_Amount_Term\": 360.0, \"Credit_History\": 1.0, \"Property_Area\": \"Semiurban\", \"Loan_Status\": \"Y\"}, {\"Loan_ID\": \"LP001870\", \"Gender\": \"Female\", \"Married\": \"No\", \"Dependents\": \"1\", \"Education\": \"Graduate\", \"Self_Employed\": \"No\", \"ApplicantIncome\": 3481, \"CoapplicantIncome\": 0.0, \"LoanAmount\": 155.0, \"Loan_Amount_Term\": 36.0, \"Credit_History\": 1.0, \"Property_Area\": \"Semiurban\", \"Loan_Status\": \"N\"}, {\"Loan_ID\": \"LP001871\", \"Gender\": \"Female\", \"Married\": \"No\", \"Dependents\": \"0\", \"Education\": \"Graduate\", \"Self_Employed\": \"No\", \"ApplicantIncome\": 7200, \"CoapplicantIncome\": 0.0, \"LoanAmount\": 120.0, \"Loan_Amount_Term\": 360.0, \"Credit_History\": 1.0, \"Property_Area\": \"Rural\", \"Loan_Status\": \"Y\"}, {\"Loan_ID\": \"LP001872\", \"Gender\": \"Male\", \"Married\": \"No\", \"Dependents\": \"0\", \"Education\": \"Graduate\", \"Self_Employed\": \"Yes\", \"ApplicantIncome\": 5166, \"CoapplicantIncome\": 0.0, \"LoanAmount\": 128.0, \"Loan_Amount_Term\": 360.0, \"Credit_History\": 1.0, \"Property_Area\": \"Semiurban\", \"Loan_Status\": \"Y\"}, {\"Loan_ID\": \"LP001875\", \"Gender\": \"Male\", \"Married\": \"No\", \"Dependents\": \"0\", \"Education\": \"Graduate\", \"Self_Employed\": \"No\", \"ApplicantIncome\": 4095, \"CoapplicantIncome\": 3447.0, \"LoanAmount\": 151.0, \"Loan_Amount_Term\": 360.0, \"Credit_History\": 1.0, \"Property_Area\": \"Rural\", \"Loan_Status\": \"Y\"}, {\"Loan_ID\": \"LP001877\", \"Gender\": \"Male\", \"Married\": \"Yes\", \"Dependents\": \"2\", \"Education\": \"Graduate\", \"Self_Employed\": \"No\", \"ApplicantIncome\": 4708, \"CoapplicantIncome\": 1387.0, \"LoanAmount\": 150.0, \"Loan_Amount_Term\": 360.0, \"Credit_History\": 1.0, \"Property_Area\": \"Semiurban\", \"Loan_Status\": \"Y\"}, {\"Loan_ID\": \"LP001882\", \"Gender\": \"Male\", \"Married\": \"Yes\", \"Dependents\": \"3+\", \"Education\": \"Graduate\", \"Self_Employed\": \"No\", \"ApplicantIncome\": 4333, \"CoapplicantIncome\": 1811.0, \"LoanAmount\": 160.0, \"Loan_Amount_Term\": 360.0, \"Credit_History\": 0.0, \"Property_Area\": \"Urban\", \"Loan_Status\": \"Y\"}, {\"Loan_ID\": \"LP001883\", \"Gender\": \"Female\", \"Married\": \"No\", \"Dependents\": \"0\", \"Education\": \"Graduate\", \"Self_Employed\": \"No\", \"ApplicantIncome\": 3418, \"CoapplicantIncome\": 0.0, \"LoanAmount\": 135.0, \"Loan_Amount_Term\": 360.0, \"Credit_History\": 1.0, \"Property_Area\": \"Rural\", \"Loan_Status\": \"N\"}, {\"Loan_ID\": \"LP001884\", \"Gender\": \"Female\", \"Married\": \"No\", \"Dependents\": \"1\", \"Education\": \"Graduate\", \"Self_Employed\": \"No\", \"ApplicantIncome\": 2876, \"CoapplicantIncome\": 1560.0, \"LoanAmount\": 90.0, \"Loan_Amount_Term\": 360.0, \"Credit_History\": 1.0, \"Property_Area\": \"Urban\", \"Loan_Status\": \"Y\"}, {\"Loan_ID\": \"LP001888\", \"Gender\": \"Female\", \"Married\": \"No\", \"Dependents\": \"0\", \"Education\": \"Graduate\", \"Self_Employed\": \"No\", \"ApplicantIncome\": 3237, \"CoapplicantIncome\": 0.0, \"LoanAmount\": 30.0, \"Loan_Amount_Term\": 360.0, \"Credit_History\": 1.0, \"Property_Area\": \"Urban\", \"Loan_Status\": \"Y\"}, {\"Loan_ID\": \"LP001891\", \"Gender\": \"Male\", \"Married\": \"Yes\", \"Dependents\": \"0\", \"Education\": \"Graduate\", \"Self_Employed\": \"No\", \"ApplicantIncome\": 11146, \"CoapplicantIncome\": 0.0, \"LoanAmount\": 136.0, \"Loan_Amount_Term\": 360.0, \"Credit_History\": 1.0, \"Property_Area\": \"Urban\", \"Loan_Status\": \"Y\"}, {\"Loan_ID\": \"LP001892\", \"Gender\": \"Male\", \"Married\": \"No\", \"Dependents\": \"0\", \"Education\": \"Graduate\", \"Self_Employed\": \"No\", \"ApplicantIncome\": 2833, \"CoapplicantIncome\": 1857.0, \"LoanAmount\": 126.0, \"Loan_Amount_Term\": 360.0, \"Credit_History\": 1.0, \"Property_Area\": \"Rural\", \"Loan_Status\": \"Y\"}, {\"Loan_ID\": \"LP001894\", \"Gender\": \"Male\", \"Married\": \"Yes\", \"Dependents\": \"0\", \"Education\": \"Graduate\", \"Self_Employed\": \"No\", \"ApplicantIncome\": 2620, \"CoapplicantIncome\": 2223.0, \"LoanAmount\": 150.0, \"Loan_Amount_Term\": 360.0, \"Credit_History\": 1.0, \"Property_Area\": \"Semiurban\", \"Loan_Status\": \"Y\"}, {\"Loan_ID\": \"LP001896\", \"Gender\": \"Male\", \"Married\": \"Yes\", \"Dependents\": \"2\", \"Education\": \"Graduate\", \"Self_Employed\": \"No\", \"ApplicantIncome\": 3900, \"CoapplicantIncome\": 0.0, \"LoanAmount\": 90.0, \"Loan_Amount_Term\": 360.0, \"Credit_History\": 1.0, \"Property_Area\": \"Semiurban\", \"Loan_Status\": \"Y\"}, {\"Loan_ID\": \"LP001900\", \"Gender\": \"Male\", \"Married\": \"Yes\", \"Dependents\": \"1\", \"Education\": \"Graduate\", \"Self_Employed\": \"No\", \"ApplicantIncome\": 2750, \"CoapplicantIncome\": 1842.0, \"LoanAmount\": 115.0, \"Loan_Amount_Term\": 360.0, \"Credit_History\": 1.0, \"Property_Area\": \"Semiurban\", \"Loan_Status\": \"Y\"}, {\"Loan_ID\": \"LP001903\", \"Gender\": \"Male\", \"Married\": \"Yes\", \"Dependents\": \"0\", \"Education\": \"Graduate\", \"Self_Employed\": \"No\", \"ApplicantIncome\": 3993, \"CoapplicantIncome\": 3274.0, \"LoanAmount\": 207.0, \"Loan_Amount_Term\": 360.0, \"Credit_History\": 1.0, \"Property_Area\": \"Semiurban\", \"Loan_Status\": \"Y\"}, {\"Loan_ID\": \"LP001904\", \"Gender\": \"Male\", \"Married\": \"Yes\", \"Dependents\": \"0\", \"Education\": \"Graduate\", \"Self_Employed\": \"No\", \"ApplicantIncome\": 3103, \"CoapplicantIncome\": 1300.0, \"LoanAmount\": 80.0, \"Loan_Amount_Term\": 360.0, \"Credit_History\": 1.0, \"Property_Area\": \"Urban\", \"Loan_Status\": \"Y\"}, {\"Loan_ID\": \"LP001907\", \"Gender\": \"Male\", \"Married\": \"Yes\", \"Dependents\": \"0\", \"Education\": \"Graduate\", \"Self_Employed\": \"No\", \"ApplicantIncome\": 14583, \"CoapplicantIncome\": 0.0, \"LoanAmount\": 436.0, \"Loan_Amount_Term\": 360.0, \"Credit_History\": 1.0, \"Property_Area\": \"Semiurban\", \"Loan_Status\": \"Y\"}, {\"Loan_ID\": \"LP001908\", \"Gender\": \"Female\", \"Married\": \"Yes\", \"Dependents\": \"0\", \"Education\": \"Not Graduate\", \"Self_Employed\": \"No\", \"ApplicantIncome\": 4100, \"CoapplicantIncome\": 0.0, \"LoanAmount\": 124.0, \"Loan_Amount_Term\": 360.0, \"Credit_History\": 1.0, \"Property_Area\": \"Rural\", \"Loan_Status\": \"Y\"}, {\"Loan_ID\": \"LP001910\", \"Gender\": \"Male\", \"Married\": \"No\", \"Dependents\": \"1\", \"Education\": \"Not Graduate\", \"Self_Employed\": \"Yes\", \"ApplicantIncome\": 4053, \"CoapplicantIncome\": 2426.0, \"LoanAmount\": 158.0, \"Loan_Amount_Term\": 360.0, \"Credit_History\": 0.0, \"Property_Area\": \"Urban\", \"Loan_Status\": \"N\"}, {\"Loan_ID\": \"LP001914\", \"Gender\": \"Male\", \"Married\": \"Yes\", \"Dependents\": \"0\", \"Education\": \"Graduate\", \"Self_Employed\": \"No\", \"ApplicantIncome\": 3927, \"CoapplicantIncome\": 800.0, \"LoanAmount\": 112.0, \"Loan_Amount_Term\": 360.0, \"Credit_History\": 1.0, \"Property_Area\": \"Semiurban\", \"Loan_Status\": \"Y\"}, {\"Loan_ID\": \"LP001915\", \"Gender\": \"Male\", \"Married\": \"Yes\", \"Dependents\": \"2\", \"Education\": \"Graduate\", \"Self_Employed\": \"No\", \"ApplicantIncome\": 2301, \"CoapplicantIncome\": 985.7999877999998, \"LoanAmount\": 78.0, \"Loan_Amount_Term\": 180.0, \"Credit_History\": 1.0, \"Property_Area\": \"Urban\", \"Loan_Status\": \"Y\"}, {\"Loan_ID\": \"LP001917\", \"Gender\": \"Female\", \"Married\": \"No\", \"Dependents\": \"0\", \"Education\": \"Graduate\", \"Self_Employed\": \"No\", \"ApplicantIncome\": 1811, \"CoapplicantIncome\": 1666.0, \"LoanAmount\": 54.0, \"Loan_Amount_Term\": 360.0, \"Credit_History\": 1.0, \"Property_Area\": \"Urban\", \"Loan_Status\": \"Y\"}, {\"Loan_ID\": \"LP001922\", \"Gender\": \"Male\", \"Married\": \"Yes\", \"Dependents\": \"0\", \"Education\": \"Graduate\", \"Self_Employed\": \"No\", \"ApplicantIncome\": 20667, \"CoapplicantIncome\": 0.0, \"LoanAmount\": 146.41216216216216, \"Loan_Amount_Term\": 360.0, \"Credit_History\": 1.0, \"Property_Area\": \"Rural\", \"Loan_Status\": \"N\"}, {\"Loan_ID\": \"LP001924\", \"Gender\": \"Male\", \"Married\": \"No\", \"Dependents\": \"0\", \"Education\": \"Graduate\", \"Self_Employed\": \"No\", \"ApplicantIncome\": 3158, \"CoapplicantIncome\": 3053.0, \"LoanAmount\": 89.0, \"Loan_Amount_Term\": 360.0, \"Credit_History\": 1.0, \"Property_Area\": \"Rural\", \"Loan_Status\": \"Y\"}, {\"Loan_ID\": \"LP001925\", \"Gender\": \"Female\", \"Married\": \"No\", \"Dependents\": \"0\", \"Education\": \"Graduate\", \"Self_Employed\": \"Yes\", \"ApplicantIncome\": 2600, \"CoapplicantIncome\": 1717.0, \"LoanAmount\": 99.0, \"Loan_Amount_Term\": 300.0, \"Credit_History\": 1.0, \"Property_Area\": \"Semiurban\", \"Loan_Status\": \"N\"}, {\"Loan_ID\": \"LP001926\", \"Gender\": \"Male\", \"Married\": \"Yes\", \"Dependents\": \"0\", \"Education\": \"Graduate\", \"Self_Employed\": \"No\", \"ApplicantIncome\": 3704, \"CoapplicantIncome\": 2000.0, \"LoanAmount\": 120.0, \"Loan_Amount_Term\": 360.0, \"Credit_History\": 1.0, \"Property_Area\": \"Rural\", \"Loan_Status\": \"Y\"}, {\"Loan_ID\": \"LP001931\", \"Gender\": \"Female\", \"Married\": \"No\", \"Dependents\": \"0\", \"Education\": \"Graduate\", \"Self_Employed\": \"No\", \"ApplicantIncome\": 4124, \"CoapplicantIncome\": 0.0, \"LoanAmount\": 115.0, \"Loan_Amount_Term\": 360.0, \"Credit_History\": 1.0, \"Property_Area\": \"Semiurban\", \"Loan_Status\": \"Y\"}, {\"Loan_ID\": \"LP001935\", \"Gender\": \"Male\", \"Married\": \"No\", \"Dependents\": \"0\", \"Education\": \"Graduate\", \"Self_Employed\": \"No\", \"ApplicantIncome\": 9508, \"CoapplicantIncome\": 0.0, \"LoanAmount\": 187.0, \"Loan_Amount_Term\": 360.0, \"Credit_History\": 1.0, \"Property_Area\": \"Rural\", \"Loan_Status\": \"Y\"}, {\"Loan_ID\": \"LP001936\", \"Gender\": \"Male\", \"Married\": \"Yes\", \"Dependents\": \"0\", \"Education\": \"Graduate\", \"Self_Employed\": \"No\", \"ApplicantIncome\": 3075, \"CoapplicantIncome\": 2416.0, \"LoanAmount\": 139.0, \"Loan_Amount_Term\": 360.0, \"Credit_History\": 1.0, \"Property_Area\": \"Rural\", \"Loan_Status\": \"Y\"}, {\"Loan_ID\": \"LP001938\", \"Gender\": \"Male\", \"Married\": \"Yes\", \"Dependents\": \"2\", \"Education\": \"Graduate\", \"Self_Employed\": \"No\", \"ApplicantIncome\": 4400, \"CoapplicantIncome\": 0.0, \"LoanAmount\": 127.0, \"Loan_Amount_Term\": 360.0, \"Credit_History\": 0.0, \"Property_Area\": \"Semiurban\", \"Loan_Status\": \"N\"}, {\"Loan_ID\": \"LP001940\", \"Gender\": \"Male\", \"Married\": \"Yes\", \"Dependents\": \"2\", \"Education\": \"Graduate\", \"Self_Employed\": \"No\", \"ApplicantIncome\": 3153, \"CoapplicantIncome\": 1560.0, \"LoanAmount\": 134.0, \"Loan_Amount_Term\": 360.0, \"Credit_History\": 1.0, \"Property_Area\": \"Urban\", \"Loan_Status\": \"Y\"}, {\"Loan_ID\": \"LP001945\", \"Gender\": \"Female\", \"Married\": \"No\", \"Dependents\": \"0\", \"Education\": \"Graduate\", \"Self_Employed\": \"No\", \"ApplicantIncome\": 5417, \"CoapplicantIncome\": 0.0, \"LoanAmount\": 143.0, \"Loan_Amount_Term\": 480.0, \"Credit_History\": 0.0, \"Property_Area\": \"Urban\", \"Loan_Status\": \"N\"}, {\"Loan_ID\": \"LP001947\", \"Gender\": \"Male\", \"Married\": \"Yes\", \"Dependents\": \"0\", \"Education\": \"Graduate\", \"Self_Employed\": \"No\", \"ApplicantIncome\": 2383, \"CoapplicantIncome\": 3334.0, \"LoanAmount\": 172.0, \"Loan_Amount_Term\": 360.0, \"Credit_History\": 1.0, \"Property_Area\": \"Semiurban\", \"Loan_Status\": \"Y\"}, {\"Loan_ID\": \"LP001949\", \"Gender\": \"Male\", \"Married\": \"Yes\", \"Dependents\": \"3+\", \"Education\": \"Graduate\", \"Self_Employed\": \"No\", \"ApplicantIncome\": 4416, \"CoapplicantIncome\": 1250.0, \"LoanAmount\": 110.0, \"Loan_Amount_Term\": 360.0, \"Credit_History\": 1.0, \"Property_Area\": \"Urban\", \"Loan_Status\": \"Y\"}, {\"Loan_ID\": \"LP001953\", \"Gender\": \"Male\", \"Married\": \"Yes\", \"Dependents\": \"1\", \"Education\": \"Graduate\", \"Self_Employed\": \"No\", \"ApplicantIncome\": 6875, \"CoapplicantIncome\": 0.0, \"LoanAmount\": 200.0, \"Loan_Amount_Term\": 360.0, \"Credit_History\": 1.0, \"Property_Area\": \"Semiurban\", \"Loan_Status\": \"Y\"}, {\"Loan_ID\": \"LP001954\", \"Gender\": \"Female\", \"Married\": \"Yes\", \"Dependents\": \"1\", \"Education\": \"Graduate\", \"Self_Employed\": \"No\", \"ApplicantIncome\": 4666, \"CoapplicantIncome\": 0.0, \"LoanAmount\": 135.0, \"Loan_Amount_Term\": 360.0, \"Credit_History\": 1.0, \"Property_Area\": \"Urban\", \"Loan_Status\": \"Y\"}, {\"Loan_ID\": \"LP001955\", \"Gender\": \"Female\", \"Married\": \"No\", \"Dependents\": \"0\", \"Education\": \"Graduate\", \"Self_Employed\": \"No\", \"ApplicantIncome\": 5000, \"CoapplicantIncome\": 2541.0, \"LoanAmount\": 151.0, \"Loan_Amount_Term\": 480.0, \"Credit_History\": 1.0, \"Property_Area\": \"Rural\", \"Loan_Status\": \"N\"}, {\"Loan_ID\": \"LP001963\", \"Gender\": \"Male\", \"Married\": \"Yes\", \"Dependents\": \"1\", \"Education\": \"Graduate\", \"Self_Employed\": \"No\", \"ApplicantIncome\": 2014, \"CoapplicantIncome\": 2925.0, \"LoanAmount\": 113.0, \"Loan_Amount_Term\": 360.0, \"Credit_History\": 1.0, \"Property_Area\": \"Urban\", \"Loan_Status\": \"N\"}, {\"Loan_ID\": \"LP001964\", \"Gender\": \"Male\", \"Married\": \"Yes\", \"Dependents\": \"0\", \"Education\": \"Not Graduate\", \"Self_Employed\": \"No\", \"ApplicantIncome\": 1800, \"CoapplicantIncome\": 2934.0, \"LoanAmount\": 93.0, \"Loan_Amount_Term\": 360.0, \"Credit_History\": 0.0, \"Property_Area\": \"Urban\", \"Loan_Status\": \"N\"}, {\"Loan_ID\": \"LP001972\", \"Gender\": \"Male\", \"Married\": \"Yes\", \"Dependents\": \"0\", \"Education\": \"Not Graduate\", \"Self_Employed\": \"No\", \"ApplicantIncome\": 2875, \"CoapplicantIncome\": 1750.0, \"LoanAmount\": 105.0, \"Loan_Amount_Term\": 360.0, \"Credit_History\": 1.0, \"Property_Area\": \"Semiurban\", \"Loan_Status\": \"Y\"}, {\"Loan_ID\": \"LP001974\", \"Gender\": \"Female\", \"Married\": \"No\", \"Dependents\": \"0\", \"Education\": \"Graduate\", \"Self_Employed\": \"No\", \"ApplicantIncome\": 5000, \"CoapplicantIncome\": 0.0, \"LoanAmount\": 132.0, \"Loan_Amount_Term\": 360.0, \"Credit_History\": 1.0, \"Property_Area\": \"Rural\", \"Loan_Status\": \"Y\"}, {\"Loan_ID\": \"LP001977\", \"Gender\": \"Male\", \"Married\": \"Yes\", \"Dependents\": \"1\", \"Education\": \"Graduate\", \"Self_Employed\": \"No\", \"ApplicantIncome\": 1625, \"CoapplicantIncome\": 1803.0, \"LoanAmount\": 96.0, \"Loan_Amount_Term\": 360.0, \"Credit_History\": 1.0, \"Property_Area\": \"Urban\", \"Loan_Status\": \"Y\"}, {\"Loan_ID\": \"LP001978\", \"Gender\": \"Male\", \"Married\": \"No\", \"Dependents\": \"0\", \"Education\": \"Graduate\", \"Self_Employed\": \"No\", \"ApplicantIncome\": 4000, \"CoapplicantIncome\": 2500.0, \"LoanAmount\": 140.0, \"Loan_Amount_Term\": 360.0, \"Credit_History\": 1.0, \"Property_Area\": \"Rural\", \"Loan_Status\": \"Y\"}, {\"Loan_ID\": \"LP001990\", \"Gender\": \"Male\", \"Married\": \"No\", \"Dependents\": \"0\", \"Education\": \"Not Graduate\", \"Self_Employed\": \"No\", \"ApplicantIncome\": 2000, \"CoapplicantIncome\": 0.0, \"LoanAmount\": 146.41216216216216, \"Loan_Amount_Term\": 360.0, \"Credit_History\": 1.0, \"Property_Area\": \"Urban\", \"Loan_Status\": \"N\"}, {\"Loan_ID\": \"LP001993\", \"Gender\": \"Female\", \"Married\": \"No\", \"Dependents\": \"0\", \"Education\": \"Graduate\", \"Self_Employed\": \"No\", \"ApplicantIncome\": 3762, \"CoapplicantIncome\": 1666.0, \"LoanAmount\": 135.0, \"Loan_Amount_Term\": 360.0, \"Credit_History\": 1.0, \"Property_Area\": \"Rural\", \"Loan_Status\": \"Y\"}, {\"Loan_ID\": \"LP001994\", \"Gender\": \"Female\", \"Married\": \"No\", \"Dependents\": \"0\", \"Education\": \"Graduate\", \"Self_Employed\": \"No\", \"ApplicantIncome\": 2400, \"CoapplicantIncome\": 1863.0, \"LoanAmount\": 104.0, \"Loan_Amount_Term\": 360.0, \"Credit_History\": 0.0, \"Property_Area\": \"Urban\", \"Loan_Status\": \"N\"}, {\"Loan_ID\": \"LP001996\", \"Gender\": \"Male\", \"Married\": \"No\", \"Dependents\": \"0\", \"Education\": \"Graduate\", \"Self_Employed\": \"No\", \"ApplicantIncome\": 20233, \"CoapplicantIncome\": 0.0, \"LoanAmount\": 480.0, \"Loan_Amount_Term\": 360.0, \"Credit_History\": 1.0, \"Property_Area\": \"Rural\", \"Loan_Status\": \"N\"}, {\"Loan_ID\": \"LP001998\", \"Gender\": \"Male\", \"Married\": \"Yes\", \"Dependents\": \"2\", \"Education\": \"Not Graduate\", \"Self_Employed\": \"No\", \"ApplicantIncome\": 7667, \"CoapplicantIncome\": 0.0, \"LoanAmount\": 185.0, \"Loan_Amount_Term\": 360.0, \"Credit_History\": 1.0, \"Property_Area\": \"Rural\", \"Loan_Status\": \"Y\"}, {\"Loan_ID\": \"LP002002\", \"Gender\": \"Female\", \"Married\": \"No\", \"Dependents\": \"0\", \"Education\": \"Graduate\", \"Self_Employed\": \"No\", \"ApplicantIncome\": 2917, \"CoapplicantIncome\": 0.0, \"LoanAmount\": 84.0, \"Loan_Amount_Term\": 360.0, \"Credit_History\": 1.0, \"Property_Area\": \"Semiurban\", \"Loan_Status\": \"Y\"}, {\"Loan_ID\": \"LP002004\", \"Gender\": \"Male\", \"Married\": \"No\", \"Dependents\": \"0\", \"Education\": \"Not Graduate\", \"Self_Employed\": \"No\", \"ApplicantIncome\": 2927, \"CoapplicantIncome\": 2405.0, \"LoanAmount\": 111.0, \"Loan_Amount_Term\": 360.0, \"Credit_History\": 1.0, \"Property_Area\": \"Semiurban\", \"Loan_Status\": \"Y\"}, {\"Loan_ID\": \"LP002006\", \"Gender\": \"Female\", \"Married\": \"No\", \"Dependents\": \"0\", \"Education\": \"Graduate\", \"Self_Employed\": \"No\", \"ApplicantIncome\": 2507, \"CoapplicantIncome\": 0.0, \"LoanAmount\": 56.0, \"Loan_Amount_Term\": 360.0, \"Credit_History\": 1.0, \"Property_Area\": \"Rural\", \"Loan_Status\": \"Y\"}, {\"Loan_ID\": \"LP002008\", \"Gender\": \"Male\", \"Married\": \"Yes\", \"Dependents\": \"2\", \"Education\": \"Graduate\", \"Self_Employed\": \"Yes\", \"ApplicantIncome\": 5746, \"CoapplicantIncome\": 0.0, \"LoanAmount\": 144.0, \"Loan_Amount_Term\": 84.0, \"Credit_History\": 1.0, \"Property_Area\": \"Rural\", \"Loan_Status\": \"Y\"}, {\"Loan_ID\": \"LP002024\", \"Gender\": \"Male\", \"Married\": \"Yes\", \"Dependents\": \"0\", \"Education\": \"Graduate\", \"Self_Employed\": \"No\", \"ApplicantIncome\": 2473, \"CoapplicantIncome\": 1843.0, \"LoanAmount\": 159.0, \"Loan_Amount_Term\": 360.0, \"Credit_History\": 1.0, \"Property_Area\": \"Rural\", \"Loan_Status\": \"N\"}, {\"Loan_ID\": \"LP002031\", \"Gender\": \"Male\", \"Married\": \"Yes\", \"Dependents\": \"1\", \"Education\": \"Not Graduate\", \"Self_Employed\": \"No\", \"ApplicantIncome\": 3399, \"CoapplicantIncome\": 1640.0, \"LoanAmount\": 111.0, \"Loan_Amount_Term\": 180.0, \"Credit_History\": 1.0, \"Property_Area\": \"Urban\", \"Loan_Status\": \"Y\"}, {\"Loan_ID\": \"LP002035\", \"Gender\": \"Male\", \"Married\": \"Yes\", \"Dependents\": \"2\", \"Education\": \"Graduate\", \"Self_Employed\": \"No\", \"ApplicantIncome\": 3717, \"CoapplicantIncome\": 0.0, \"LoanAmount\": 120.0, \"Loan_Amount_Term\": 360.0, \"Credit_History\": 1.0, \"Property_Area\": \"Semiurban\", \"Loan_Status\": \"Y\"}, {\"Loan_ID\": \"LP002036\", \"Gender\": \"Male\", \"Married\": \"Yes\", \"Dependents\": \"0\", \"Education\": \"Graduate\", \"Self_Employed\": \"No\", \"ApplicantIncome\": 2058, \"CoapplicantIncome\": 2134.0, \"LoanAmount\": 88.0, \"Loan_Amount_Term\": 360.0, \"Credit_History\": 1.0, \"Property_Area\": \"Urban\", \"Loan_Status\": \"Y\"}, {\"Loan_ID\": \"LP002043\", \"Gender\": \"Female\", \"Married\": \"No\", \"Dependents\": \"1\", \"Education\": \"Graduate\", \"Self_Employed\": \"No\", \"ApplicantIncome\": 3541, \"CoapplicantIncome\": 0.0, \"LoanAmount\": 112.0, \"Loan_Amount_Term\": 360.0, \"Credit_History\": 1.0, \"Property_Area\": \"Semiurban\", \"Loan_Status\": \"Y\"}, {\"Loan_ID\": \"LP002050\", \"Gender\": \"Male\", \"Married\": \"Yes\", \"Dependents\": \"1\", \"Education\": \"Graduate\", \"Self_Employed\": \"Yes\", \"ApplicantIncome\": 10000, \"CoapplicantIncome\": 0.0, \"LoanAmount\": 155.0, \"Loan_Amount_Term\": 360.0, \"Credit_History\": 1.0, \"Property_Area\": \"Rural\", \"Loan_Status\": \"N\"}, {\"Loan_ID\": \"LP002051\", \"Gender\": \"Male\", \"Married\": \"Yes\", \"Dependents\": \"0\", \"Education\": \"Graduate\", \"Self_Employed\": \"No\", \"ApplicantIncome\": 2400, \"CoapplicantIncome\": 2167.0, \"LoanAmount\": 115.0, \"Loan_Amount_Term\": 360.0, \"Credit_History\": 1.0, \"Property_Area\": \"Semiurban\", \"Loan_Status\": \"Y\"}, {\"Loan_ID\": \"LP002053\", \"Gender\": \"Male\", \"Married\": \"Yes\", \"Dependents\": \"3+\", \"Education\": \"Graduate\", \"Self_Employed\": \"No\", \"ApplicantIncome\": 4342, \"CoapplicantIncome\": 189.0, \"LoanAmount\": 124.0, \"Loan_Amount_Term\": 360.0, \"Credit_History\": 1.0, \"Property_Area\": \"Semiurban\", \"Loan_Status\": \"Y\"}, {\"Loan_ID\": \"LP002054\", \"Gender\": \"Male\", \"Married\": \"Yes\", \"Dependents\": \"2\", \"Education\": \"Not Graduate\", \"Self_Employed\": \"No\", \"ApplicantIncome\": 3601, \"CoapplicantIncome\": 1590.0, \"LoanAmount\": 146.41216216216216, \"Loan_Amount_Term\": 360.0, \"Credit_History\": 1.0, \"Property_Area\": \"Rural\", \"Loan_Status\": \"Y\"}, {\"Loan_ID\": \"LP002055\", \"Gender\": \"Female\", \"Married\": \"No\", \"Dependents\": \"0\", \"Education\": \"Graduate\", \"Self_Employed\": \"No\", \"ApplicantIncome\": 3166, \"CoapplicantIncome\": 2985.0, \"LoanAmount\": 132.0, \"Loan_Amount_Term\": 360.0, \"Credit_History\": 1.0, \"Property_Area\": \"Rural\", \"Loan_Status\": \"Y\"}, {\"Loan_ID\": \"LP002065\", \"Gender\": \"Male\", \"Married\": \"Yes\", \"Dependents\": \"3+\", \"Education\": \"Graduate\", \"Self_Employed\": \"No\", \"ApplicantIncome\": 15000, \"CoapplicantIncome\": 0.0, \"LoanAmount\": 300.0, \"Loan_Amount_Term\": 360.0, \"Credit_History\": 1.0, \"Property_Area\": \"Rural\", \"Loan_Status\": \"Y\"}, {\"Loan_ID\": \"LP002067\", \"Gender\": \"Male\", \"Married\": \"Yes\", \"Dependents\": \"1\", \"Education\": \"Graduate\", \"Self_Employed\": \"Yes\", \"ApplicantIncome\": 8666, \"CoapplicantIncome\": 4983.0, \"LoanAmount\": 376.0, \"Loan_Amount_Term\": 360.0, \"Credit_History\": 0.0, \"Property_Area\": \"Rural\", \"Loan_Status\": \"N\"}, {\"Loan_ID\": \"LP002068\", \"Gender\": \"Male\", \"Married\": \"No\", \"Dependents\": \"0\", \"Education\": \"Graduate\", \"Self_Employed\": \"No\", \"ApplicantIncome\": 4917, \"CoapplicantIncome\": 0.0, \"LoanAmount\": 130.0, \"Loan_Amount_Term\": 360.0, \"Credit_History\": 0.0, \"Property_Area\": \"Rural\", \"Loan_Status\": \"Y\"}, {\"Loan_ID\": \"LP002082\", \"Gender\": \"Male\", \"Married\": \"Yes\", \"Dependents\": \"0\", \"Education\": \"Graduate\", \"Self_Employed\": \"Yes\", \"ApplicantIncome\": 5818, \"CoapplicantIncome\": 2160.0, \"LoanAmount\": 184.0, \"Loan_Amount_Term\": 360.0, \"Credit_History\": 1.0, \"Property_Area\": \"Semiurban\", \"Loan_Status\": \"Y\"}, {\"Loan_ID\": \"LP002086\", \"Gender\": \"Female\", \"Married\": \"Yes\", \"Dependents\": \"0\", \"Education\": \"Graduate\", \"Self_Employed\": \"No\", \"ApplicantIncome\": 4333, \"CoapplicantIncome\": 2451.0, \"LoanAmount\": 110.0, \"Loan_Amount_Term\": 360.0, \"Credit_History\": 1.0, \"Property_Area\": \"Urban\", \"Loan_Status\": \"N\"}, {\"Loan_ID\": \"LP002087\", \"Gender\": \"Female\", \"Married\": \"No\", \"Dependents\": \"0\", \"Education\": \"Graduate\", \"Self_Employed\": \"No\", \"ApplicantIncome\": 2500, \"CoapplicantIncome\": 0.0, \"LoanAmount\": 67.0, \"Loan_Amount_Term\": 360.0, \"Credit_History\": 1.0, \"Property_Area\": \"Urban\", \"Loan_Status\": \"Y\"}, {\"Loan_ID\": \"LP002097\", \"Gender\": \"Male\", \"Married\": \"No\", \"Dependents\": \"1\", \"Education\": \"Graduate\", \"Self_Employed\": \"No\", \"ApplicantIncome\": 4384, \"CoapplicantIncome\": 1793.0, \"LoanAmount\": 117.0, \"Loan_Amount_Term\": 360.0, \"Credit_History\": 1.0, \"Property_Area\": \"Urban\", \"Loan_Status\": \"Y\"}, {\"Loan_ID\": \"LP002098\", \"Gender\": \"Male\", \"Married\": \"No\", \"Dependents\": \"0\", \"Education\": \"Graduate\", \"Self_Employed\": \"No\", \"ApplicantIncome\": 2935, \"CoapplicantIncome\": 0.0, \"LoanAmount\": 98.0, \"Loan_Amount_Term\": 360.0, \"Credit_History\": 1.0, \"Property_Area\": \"Semiurban\", \"Loan_Status\": \"Y\"}, {\"Loan_ID\": \"LP002100\", \"Gender\": \"Male\", \"Married\": \"No\", \"Dependents\": \"0\", \"Education\": \"Graduate\", \"Self_Employed\": \"No\", \"ApplicantIncome\": 2833, \"CoapplicantIncome\": 0.0, \"LoanAmount\": 71.0, \"Loan_Amount_Term\": 360.0, \"Credit_History\": 1.0, \"Property_Area\": \"Urban\", \"Loan_Status\": \"Y\"}, {\"Loan_ID\": \"LP002101\", \"Gender\": \"Male\", \"Married\": \"Yes\", \"Dependents\": \"0\", \"Education\": \"Graduate\", \"Self_Employed\": \"No\", \"ApplicantIncome\": 63337, \"CoapplicantIncome\": 0.0, \"LoanAmount\": 490.0, \"Loan_Amount_Term\": 180.0, \"Credit_History\": 1.0, \"Property_Area\": \"Urban\", \"Loan_Status\": \"Y\"}, {\"Loan_ID\": \"LP002103\", \"Gender\": \"Male\", \"Married\": \"Yes\", \"Dependents\": \"1\", \"Education\": \"Graduate\", \"Self_Employed\": \"Yes\", \"ApplicantIncome\": 9833, \"CoapplicantIncome\": 1833.0, \"LoanAmount\": 182.0, \"Loan_Amount_Term\": 180.0, \"Credit_History\": 1.0, \"Property_Area\": \"Urban\", \"Loan_Status\": \"Y\"}, {\"Loan_ID\": \"LP002106\", \"Gender\": \"Male\", \"Married\": \"Yes\", \"Dependents\": \"0\", \"Education\": \"Graduate\", \"Self_Employed\": \"Yes\", \"ApplicantIncome\": 5503, \"CoapplicantIncome\": 4490.0, \"LoanAmount\": 70.0, \"Loan_Amount_Term\": 360.0, \"Credit_History\": 1.0, \"Property_Area\": \"Semiurban\", \"Loan_Status\": \"Y\"}, {\"Loan_ID\": \"LP002110\", \"Gender\": \"Male\", \"Married\": \"Yes\", \"Dependents\": \"1\", \"Education\": \"Graduate\", \"Self_Employed\": \"No\", \"ApplicantIncome\": 5250, \"CoapplicantIncome\": 688.0, \"LoanAmount\": 160.0, \"Loan_Amount_Term\": 360.0, \"Credit_History\": 1.0, \"Property_Area\": \"Rural\", \"Loan_Status\": \"Y\"}, {\"Loan_ID\": \"LP002112\", \"Gender\": \"Male\", \"Married\": \"Yes\", \"Dependents\": \"2\", \"Education\": \"Graduate\", \"Self_Employed\": \"Yes\", \"ApplicantIncome\": 2500, \"CoapplicantIncome\": 4600.0, \"LoanAmount\": 176.0, \"Loan_Amount_Term\": 360.0, \"Credit_History\": 1.0, \"Property_Area\": \"Rural\", \"Loan_Status\": \"Y\"}, {\"Loan_ID\": \"LP002113\", \"Gender\": \"Female\", \"Married\": \"No\", \"Dependents\": \"3+\", \"Education\": \"Not Graduate\", \"Self_Employed\": \"No\", \"ApplicantIncome\": 1830, \"CoapplicantIncome\": 0.0, \"LoanAmount\": 146.41216216216216, \"Loan_Amount_Term\": 360.0, \"Credit_History\": 0.0, \"Property_Area\": \"Urban\", \"Loan_Status\": \"N\"}, {\"Loan_ID\": \"LP002114\", \"Gender\": \"Female\", \"Married\": \"No\", \"Dependents\": \"0\", \"Education\": \"Graduate\", \"Self_Employed\": \"No\", \"ApplicantIncome\": 4160, \"CoapplicantIncome\": 0.0, \"LoanAmount\": 71.0, \"Loan_Amount_Term\": 360.0, \"Credit_History\": 1.0, \"Property_Area\": \"Semiurban\", \"Loan_Status\": \"Y\"}, {\"Loan_ID\": \"LP002115\", \"Gender\": \"Male\", \"Married\": \"Yes\", \"Dependents\": \"3+\", \"Education\": \"Not Graduate\", \"Self_Employed\": \"No\", \"ApplicantIncome\": 2647, \"CoapplicantIncome\": 1587.0, \"LoanAmount\": 173.0, \"Loan_Amount_Term\": 360.0, \"Credit_History\": 1.0, \"Property_Area\": \"Rural\", \"Loan_Status\": \"N\"}, {\"Loan_ID\": \"LP002116\", \"Gender\": \"Female\", \"Married\": \"No\", \"Dependents\": \"0\", \"Education\": \"Graduate\", \"Self_Employed\": \"No\", \"ApplicantIncome\": 2378, \"CoapplicantIncome\": 0.0, \"LoanAmount\": 46.0, \"Loan_Amount_Term\": 360.0, \"Credit_History\": 1.0, \"Property_Area\": \"Rural\", \"Loan_Status\": \"N\"}, {\"Loan_ID\": \"LP002119\", \"Gender\": \"Male\", \"Married\": \"Yes\", \"Dependents\": \"1\", \"Education\": \"Not Graduate\", \"Self_Employed\": \"No\", \"ApplicantIncome\": 4554, \"CoapplicantIncome\": 1229.0, \"LoanAmount\": 158.0, \"Loan_Amount_Term\": 360.0, \"Credit_History\": 1.0, \"Property_Area\": \"Urban\", \"Loan_Status\": \"Y\"}, {\"Loan_ID\": \"LP002126\", \"Gender\": \"Male\", \"Married\": \"Yes\", \"Dependents\": \"3+\", \"Education\": \"Not Graduate\", \"Self_Employed\": \"No\", \"ApplicantIncome\": 3173, \"CoapplicantIncome\": 0.0, \"LoanAmount\": 74.0, \"Loan_Amount_Term\": 360.0, \"Credit_History\": 1.0, \"Property_Area\": \"Semiurban\", \"Loan_Status\": \"Y\"}, {\"Loan_ID\": \"LP002128\", \"Gender\": \"Male\", \"Married\": \"Yes\", \"Dependents\": \"2\", \"Education\": \"Graduate\", \"Self_Employed\": \"No\", \"ApplicantIncome\": 2583, \"CoapplicantIncome\": 2330.0, \"LoanAmount\": 125.0, \"Loan_Amount_Term\": 360.0, \"Credit_History\": 1.0, \"Property_Area\": \"Rural\", \"Loan_Status\": \"Y\"}, {\"Loan_ID\": \"LP002129\", \"Gender\": \"Male\", \"Married\": \"Yes\", \"Dependents\": \"0\", \"Education\": \"Graduate\", \"Self_Employed\": \"No\", \"ApplicantIncome\": 2499, \"CoapplicantIncome\": 2458.0, \"LoanAmount\": 160.0, \"Loan_Amount_Term\": 360.0, \"Credit_History\": 1.0, \"Property_Area\": \"Semiurban\", \"Loan_Status\": \"Y\"}, {\"Loan_ID\": \"LP002130\", \"Gender\": \"Male\", \"Married\": \"Yes\", \"Dependents\": \"0\", \"Education\": \"Not Graduate\", \"Self_Employed\": \"No\", \"ApplicantIncome\": 3523, \"CoapplicantIncome\": 3230.0, \"LoanAmount\": 152.0, \"Loan_Amount_Term\": 360.0, \"Credit_History\": 0.0, \"Property_Area\": \"Rural\", \"Loan_Status\": \"N\"}, {\"Loan_ID\": \"LP002131\", \"Gender\": \"Male\", \"Married\": \"Yes\", \"Dependents\": \"2\", \"Education\": \"Not Graduate\", \"Self_Employed\": \"No\", \"ApplicantIncome\": 3083, \"CoapplicantIncome\": 2168.0, \"LoanAmount\": 126.0, \"Loan_Amount_Term\": 360.0, \"Credit_History\": 1.0, \"Property_Area\": \"Urban\", \"Loan_Status\": \"Y\"}, {\"Loan_ID\": \"LP002137\", \"Gender\": \"Male\", \"Married\": \"Yes\", \"Dependents\": \"0\", \"Education\": \"Graduate\", \"Self_Employed\": \"No\", \"ApplicantIncome\": 6333, \"CoapplicantIncome\": 4583.0, \"LoanAmount\": 259.0, \"Loan_Amount_Term\": 360.0, \"Credit_History\": 1.0, \"Property_Area\": \"Semiurban\", \"Loan_Status\": \"Y\"}, {\"Loan_ID\": \"LP002138\", \"Gender\": \"Male\", \"Married\": \"Yes\", \"Dependents\": \"0\", \"Education\": \"Graduate\", \"Self_Employed\": \"No\", \"ApplicantIncome\": 2625, \"CoapplicantIncome\": 6250.0, \"LoanAmount\": 187.0, \"Loan_Amount_Term\": 360.0, \"Credit_History\": 1.0, \"Property_Area\": \"Rural\", \"Loan_Status\": \"Y\"}, {\"Loan_ID\": \"LP002139\", \"Gender\": \"Male\", \"Married\": \"Yes\", \"Dependents\": \"0\", \"Education\": \"Graduate\", \"Self_Employed\": \"No\", \"ApplicantIncome\": 9083, \"CoapplicantIncome\": 0.0, \"LoanAmount\": 228.0, \"Loan_Amount_Term\": 360.0, \"Credit_History\": 1.0, \"Property_Area\": \"Semiurban\", \"Loan_Status\": \"Y\"}, {\"Loan_ID\": \"LP002140\", \"Gender\": \"Male\", \"Married\": \"No\", \"Dependents\": \"0\", \"Education\": \"Graduate\", \"Self_Employed\": \"No\", \"ApplicantIncome\": 8750, \"CoapplicantIncome\": 4167.0, \"LoanAmount\": 308.0, \"Loan_Amount_Term\": 360.0, \"Credit_History\": 1.0, \"Property_Area\": \"Rural\", \"Loan_Status\": \"N\"}, {\"Loan_ID\": \"LP002141\", \"Gender\": \"Male\", \"Married\": \"Yes\", \"Dependents\": \"3+\", \"Education\": \"Graduate\", \"Self_Employed\": \"No\", \"ApplicantIncome\": 2666, \"CoapplicantIncome\": 2083.0, \"LoanAmount\": 95.0, \"Loan_Amount_Term\": 360.0, \"Credit_History\": 1.0, \"Property_Area\": \"Rural\", \"Loan_Status\": \"Y\"}, {\"Loan_ID\": \"LP002142\", \"Gender\": \"Female\", \"Married\": \"Yes\", \"Dependents\": \"0\", \"Education\": \"Graduate\", \"Self_Employed\": \"Yes\", \"ApplicantIncome\": 5500, \"CoapplicantIncome\": 0.0, \"LoanAmount\": 105.0, \"Loan_Amount_Term\": 360.0, \"Credit_History\": 0.0, \"Property_Area\": \"Rural\", \"Loan_Status\": \"N\"}, {\"Loan_ID\": \"LP002143\", \"Gender\": \"Female\", \"Married\": \"Yes\", \"Dependents\": \"0\", \"Education\": \"Graduate\", \"Self_Employed\": \"No\", \"ApplicantIncome\": 2423, \"CoapplicantIncome\": 505.0, \"LoanAmount\": 130.0, \"Loan_Amount_Term\": 360.0, \"Credit_History\": 1.0, \"Property_Area\": \"Semiurban\", \"Loan_Status\": \"Y\"}, {\"Loan_ID\": \"LP002144\", \"Gender\": \"Female\", \"Married\": \"No\", \"Dependents\": \"0\", \"Education\": \"Graduate\", \"Self_Employed\": \"No\", \"ApplicantIncome\": 3813, \"CoapplicantIncome\": 0.0, \"LoanAmount\": 116.0, \"Loan_Amount_Term\": 180.0, \"Credit_History\": 1.0, \"Property_Area\": \"Urban\", \"Loan_Status\": \"Y\"}, {\"Loan_ID\": \"LP002149\", \"Gender\": \"Male\", \"Married\": \"Yes\", \"Dependents\": \"2\", \"Education\": \"Graduate\", \"Self_Employed\": \"No\", \"ApplicantIncome\": 8333, \"CoapplicantIncome\": 3167.0, \"LoanAmount\": 165.0, \"Loan_Amount_Term\": 360.0, \"Credit_History\": 1.0, \"Property_Area\": \"Rural\", \"Loan_Status\": \"Y\"}, {\"Loan_ID\": \"LP002151\", \"Gender\": \"Male\", \"Married\": \"Yes\", \"Dependents\": \"1\", \"Education\": \"Graduate\", \"Self_Employed\": \"No\", \"ApplicantIncome\": 3875, \"CoapplicantIncome\": 0.0, \"LoanAmount\": 67.0, \"Loan_Amount_Term\": 360.0, \"Credit_History\": 1.0, \"Property_Area\": \"Urban\", \"Loan_Status\": \"N\"}, {\"Loan_ID\": \"LP002158\", \"Gender\": \"Male\", \"Married\": \"Yes\", \"Dependents\": \"0\", \"Education\": \"Not Graduate\", \"Self_Employed\": \"No\", \"ApplicantIncome\": 3000, \"CoapplicantIncome\": 1666.0, \"LoanAmount\": 100.0, \"Loan_Amount_Term\": 480.0, \"Credit_History\": 0.0, \"Property_Area\": \"Urban\", \"Loan_Status\": \"N\"}, {\"Loan_ID\": \"LP002160\", \"Gender\": \"Male\", \"Married\": \"Yes\", \"Dependents\": \"3+\", \"Education\": \"Graduate\", \"Self_Employed\": \"No\", \"ApplicantIncome\": 5167, \"CoapplicantIncome\": 3167.0, \"LoanAmount\": 200.0, \"Loan_Amount_Term\": 360.0, \"Credit_History\": 1.0, \"Property_Area\": \"Semiurban\", \"Loan_Status\": \"Y\"}, {\"Loan_ID\": \"LP002161\", \"Gender\": \"Female\", \"Married\": \"No\", \"Dependents\": \"1\", \"Education\": \"Graduate\", \"Self_Employed\": \"No\", \"ApplicantIncome\": 4723, \"CoapplicantIncome\": 0.0, \"LoanAmount\": 81.0, \"Loan_Amount_Term\": 360.0, \"Credit_History\": 1.0, \"Property_Area\": \"Semiurban\", \"Loan_Status\": \"N\"}, {\"Loan_ID\": \"LP002170\", \"Gender\": \"Male\", \"Married\": \"Yes\", \"Dependents\": \"2\", \"Education\": \"Graduate\", \"Self_Employed\": \"No\", \"ApplicantIncome\": 5000, \"CoapplicantIncome\": 3667.0, \"LoanAmount\": 236.0, \"Loan_Amount_Term\": 360.0, \"Credit_History\": 1.0, \"Property_Area\": \"Semiurban\", \"Loan_Status\": \"Y\"}, {\"Loan_ID\": \"LP002175\", \"Gender\": \"Male\", \"Married\": \"Yes\", \"Dependents\": \"0\", \"Education\": \"Graduate\", \"Self_Employed\": \"No\", \"ApplicantIncome\": 4750, \"CoapplicantIncome\": 2333.0, \"LoanAmount\": 130.0, \"Loan_Amount_Term\": 360.0, \"Credit_History\": 1.0, \"Property_Area\": \"Urban\", \"Loan_Status\": \"Y\"}, {\"Loan_ID\": \"LP002178\", \"Gender\": \"Male\", \"Married\": \"Yes\", \"Dependents\": \"0\", \"Education\": \"Graduate\", \"Self_Employed\": \"No\", \"ApplicantIncome\": 3013, \"CoapplicantIncome\": 3033.0, \"LoanAmount\": 95.0, \"Loan_Amount_Term\": 300.0, \"Credit_History\": 1.0, \"Property_Area\": \"Urban\", \"Loan_Status\": \"Y\"}, {\"Loan_ID\": \"LP002180\", \"Gender\": \"Male\", \"Married\": \"No\", \"Dependents\": \"0\", \"Education\": \"Graduate\", \"Self_Employed\": \"Yes\", \"ApplicantIncome\": 6822, \"CoapplicantIncome\": 0.0, \"LoanAmount\": 141.0, \"Loan_Amount_Term\": 360.0, \"Credit_History\": 1.0, \"Property_Area\": \"Rural\", \"Loan_Status\": \"Y\"}, {\"Loan_ID\": \"LP002181\", \"Gender\": \"Male\", \"Married\": \"No\", \"Dependents\": \"0\", \"Education\": \"Not Graduate\", \"Self_Employed\": \"No\", \"ApplicantIncome\": 6216, \"CoapplicantIncome\": 0.0, \"LoanAmount\": 133.0, \"Loan_Amount_Term\": 360.0, \"Credit_History\": 1.0, \"Property_Area\": \"Rural\", \"Loan_Status\": \"N\"}, {\"Loan_ID\": \"LP002187\", \"Gender\": \"Male\", \"Married\": \"No\", \"Dependents\": \"0\", \"Education\": \"Graduate\", \"Self_Employed\": \"No\", \"ApplicantIncome\": 2500, \"CoapplicantIncome\": 0.0, \"LoanAmount\": 96.0, \"Loan_Amount_Term\": 480.0, \"Credit_History\": 1.0, \"Property_Area\": \"Semiurban\", \"Loan_Status\": \"N\"}, {\"Loan_ID\": \"LP002188\", \"Gender\": \"Male\", \"Married\": \"No\", \"Dependents\": \"0\", \"Education\": \"Graduate\", \"Self_Employed\": \"No\", \"ApplicantIncome\": 5124, \"CoapplicantIncome\": 0.0, \"LoanAmount\": 124.0, \"Loan_Amount_Term\": 360.0, \"Credit_History\": 0.0, \"Property_Area\": \"Rural\", \"Loan_Status\": \"N\"}, {\"Loan_ID\": \"LP002190\", \"Gender\": \"Male\", \"Married\": \"Yes\", \"Dependents\": \"1\", \"Education\": \"Graduate\", \"Self_Employed\": \"No\", \"ApplicantIncome\": 6325, \"CoapplicantIncome\": 0.0, \"LoanAmount\": 175.0, \"Loan_Amount_Term\": 360.0, \"Credit_History\": 1.0, \"Property_Area\": \"Semiurban\", \"Loan_Status\": \"Y\"}, {\"Loan_ID\": \"LP002191\", \"Gender\": \"Male\", \"Married\": \"Yes\", \"Dependents\": \"0\", \"Education\": \"Graduate\", \"Self_Employed\": \"No\", \"ApplicantIncome\": 19730, \"CoapplicantIncome\": 5266.0, \"LoanAmount\": 570.0, \"Loan_Amount_Term\": 360.0, \"Credit_History\": 1.0, \"Property_Area\": \"Rural\", \"Loan_Status\": \"N\"}, {\"Loan_ID\": \"LP002194\", \"Gender\": \"Female\", \"Married\": \"No\", \"Dependents\": \"0\", \"Education\": \"Graduate\", \"Self_Employed\": \"Yes\", \"ApplicantIncome\": 15759, \"CoapplicantIncome\": 0.0, \"LoanAmount\": 55.0, \"Loan_Amount_Term\": 360.0, \"Credit_History\": 1.0, \"Property_Area\": \"Semiurban\", \"Loan_Status\": \"Y\"}, {\"Loan_ID\": \"LP002197\", \"Gender\": \"Male\", \"Married\": \"Yes\", \"Dependents\": \"2\", \"Education\": \"Graduate\", \"Self_Employed\": \"No\", \"ApplicantIncome\": 5185, \"CoapplicantIncome\": 0.0, \"LoanAmount\": 155.0, \"Loan_Amount_Term\": 360.0, \"Credit_History\": 1.0, \"Property_Area\": \"Semiurban\", \"Loan_Status\": \"Y\"}, {\"Loan_ID\": \"LP002201\", \"Gender\": \"Male\", \"Married\": \"Yes\", \"Dependents\": \"2\", \"Education\": \"Graduate\", \"Self_Employed\": \"Yes\", \"ApplicantIncome\": 9323, \"CoapplicantIncome\": 7873.0, \"LoanAmount\": 380.0, \"Loan_Amount_Term\": 300.0, \"Credit_History\": 1.0, \"Property_Area\": \"Rural\", \"Loan_Status\": \"Y\"}, {\"Loan_ID\": \"LP002205\", \"Gender\": \"Male\", \"Married\": \"No\", \"Dependents\": \"1\", \"Education\": \"Graduate\", \"Self_Employed\": \"No\", \"ApplicantIncome\": 3062, \"CoapplicantIncome\": 1987.0, \"LoanAmount\": 111.0, \"Loan_Amount_Term\": 180.0, \"Credit_History\": 0.0, \"Property_Area\": \"Urban\", \"Loan_Status\": \"N\"}, {\"Loan_ID\": \"LP002209\", \"Gender\": \"Female\", \"Married\": \"No\", \"Dependents\": \"0\", \"Education\": \"Graduate\", \"Self_Employed\": \"No\", \"ApplicantIncome\": 2764, \"CoapplicantIncome\": 1459.0, \"LoanAmount\": 110.0, \"Loan_Amount_Term\": 360.0, \"Credit_History\": 1.0, \"Property_Area\": \"Urban\", \"Loan_Status\": \"Y\"}, {\"Loan_ID\": \"LP002211\", \"Gender\": \"Male\", \"Married\": \"Yes\", \"Dependents\": \"0\", \"Education\": \"Graduate\", \"Self_Employed\": \"No\", \"ApplicantIncome\": 4817, \"CoapplicantIncome\": 923.0, \"LoanAmount\": 120.0, \"Loan_Amount_Term\": 180.0, \"Credit_History\": 1.0, \"Property_Area\": \"Urban\", \"Loan_Status\": \"Y\"}, {\"Loan_ID\": \"LP002219\", \"Gender\": \"Male\", \"Married\": \"Yes\", \"Dependents\": \"3+\", \"Education\": \"Graduate\", \"Self_Employed\": \"No\", \"ApplicantIncome\": 8750, \"CoapplicantIncome\": 4996.0, \"LoanAmount\": 130.0, \"Loan_Amount_Term\": 360.0, \"Credit_History\": 1.0, \"Property_Area\": \"Rural\", \"Loan_Status\": \"Y\"}, {\"Loan_ID\": \"LP002223\", \"Gender\": \"Male\", \"Married\": \"Yes\", \"Dependents\": \"0\", \"Education\": \"Graduate\", \"Self_Employed\": \"No\", \"ApplicantIncome\": 4310, \"CoapplicantIncome\": 0.0, \"LoanAmount\": 130.0, \"Loan_Amount_Term\": 360.0, \"Credit_History\": 1.0, \"Property_Area\": \"Semiurban\", \"Loan_Status\": \"Y\"}, {\"Loan_ID\": \"LP002224\", \"Gender\": \"Male\", \"Married\": \"No\", \"Dependents\": \"0\", \"Education\": \"Graduate\", \"Self_Employed\": \"No\", \"ApplicantIncome\": 3069, \"CoapplicantIncome\": 0.0, \"LoanAmount\": 71.0, \"Loan_Amount_Term\": 480.0, \"Credit_History\": 1.0, \"Property_Area\": \"Urban\", \"Loan_Status\": \"N\"}, {\"Loan_ID\": \"LP002225\", \"Gender\": \"Male\", \"Married\": \"Yes\", \"Dependents\": \"2\", \"Education\": \"Graduate\", \"Self_Employed\": \"No\", \"ApplicantIncome\": 5391, \"CoapplicantIncome\": 0.0, \"LoanAmount\": 130.0, \"Loan_Amount_Term\": 360.0, \"Credit_History\": 1.0, \"Property_Area\": \"Urban\", \"Loan_Status\": \"Y\"}, {\"Loan_ID\": \"LP002226\", \"Gender\": \"Male\", \"Married\": \"Yes\", \"Dependents\": \"0\", \"Education\": \"Graduate\", \"Self_Employed\": \"No\", \"ApplicantIncome\": 3333, \"CoapplicantIncome\": 2500.0, \"LoanAmount\": 128.0, \"Loan_Amount_Term\": 360.0, \"Credit_History\": 1.0, \"Property_Area\": \"Semiurban\", \"Loan_Status\": \"Y\"}, {\"Loan_ID\": \"LP002229\", \"Gender\": \"Male\", \"Married\": \"No\", \"Dependents\": \"0\", \"Education\": \"Graduate\", \"Self_Employed\": \"No\", \"ApplicantIncome\": 5941, \"CoapplicantIncome\": 4232.0, \"LoanAmount\": 296.0, \"Loan_Amount_Term\": 360.0, \"Credit_History\": 1.0, \"Property_Area\": \"Semiurban\", \"Loan_Status\": \"Y\"}, {\"Loan_ID\": \"LP002231\", \"Gender\": \"Female\", \"Married\": \"No\", \"Dependents\": \"0\", \"Education\": \"Graduate\", \"Self_Employed\": \"No\", \"ApplicantIncome\": 6000, \"CoapplicantIncome\": 0.0, \"LoanAmount\": 156.0, \"Loan_Amount_Term\": 360.0, \"Credit_History\": 1.0, \"Property_Area\": \"Urban\", \"Loan_Status\": \"Y\"}, {\"Loan_ID\": \"LP002234\", \"Gender\": \"Male\", \"Married\": \"No\", \"Dependents\": \"0\", \"Education\": \"Graduate\", \"Self_Employed\": \"Yes\", \"ApplicantIncome\": 7167, \"CoapplicantIncome\": 0.0, \"LoanAmount\": 128.0, \"Loan_Amount_Term\": 360.0, \"Credit_History\": 1.0, \"Property_Area\": \"Urban\", \"Loan_Status\": \"Y\"}, {\"Loan_ID\": \"LP002236\", \"Gender\": \"Male\", \"Married\": \"Yes\", \"Dependents\": \"2\", \"Education\": \"Graduate\", \"Self_Employed\": \"No\", \"ApplicantIncome\": 4566, \"CoapplicantIncome\": 0.0, \"LoanAmount\": 100.0, \"Loan_Amount_Term\": 360.0, \"Credit_History\": 1.0, \"Property_Area\": \"Urban\", \"Loan_Status\": \"N\"}, {\"Loan_ID\": \"LP002237\", \"Gender\": \"Male\", \"Married\": \"No\", \"Dependents\": \"1\", \"Education\": \"Graduate\", \"Self_Employed\": \"No\", \"ApplicantIncome\": 3667, \"CoapplicantIncome\": 0.0, \"LoanAmount\": 113.0, \"Loan_Amount_Term\": 180.0, \"Credit_History\": 1.0, \"Property_Area\": \"Urban\", \"Loan_Status\": \"Y\"}, {\"Loan_ID\": \"LP002239\", \"Gender\": \"Male\", \"Married\": \"No\", \"Dependents\": \"0\", \"Education\": \"Not Graduate\", \"Self_Employed\": \"No\", \"ApplicantIncome\": 2346, \"CoapplicantIncome\": 1600.0, \"LoanAmount\": 132.0, \"Loan_Amount_Term\": 360.0, \"Credit_History\": 1.0, \"Property_Area\": \"Semiurban\", \"Loan_Status\": \"Y\"}, {\"Loan_ID\": \"LP002243\", \"Gender\": \"Male\", \"Married\": \"Yes\", \"Dependents\": \"0\", \"Education\": \"Not Graduate\", \"Self_Employed\": \"No\", \"ApplicantIncome\": 3010, \"CoapplicantIncome\": 3136.0, \"LoanAmount\": 146.41216216216216, \"Loan_Amount_Term\": 360.0, \"Credit_History\": 0.0, \"Property_Area\": \"Urban\", \"Loan_Status\": \"N\"}, {\"Loan_ID\": \"LP002244\", \"Gender\": \"Male\", \"Married\": \"Yes\", \"Dependents\": \"0\", \"Education\": \"Graduate\", \"Self_Employed\": \"No\", \"ApplicantIncome\": 2333, \"CoapplicantIncome\": 2417.0, \"LoanAmount\": 136.0, \"Loan_Amount_Term\": 360.0, \"Credit_History\": 1.0, \"Property_Area\": \"Urban\", \"Loan_Status\": \"Y\"}, {\"Loan_ID\": \"LP002250\", \"Gender\": \"Male\", \"Married\": \"Yes\", \"Dependents\": \"0\", \"Education\": \"Graduate\", \"Self_Employed\": \"No\", \"ApplicantIncome\": 5488, \"CoapplicantIncome\": 0.0, \"LoanAmount\": 125.0, \"Loan_Amount_Term\": 360.0, \"Credit_History\": 1.0, \"Property_Area\": \"Rural\", \"Loan_Status\": \"Y\"}, {\"Loan_ID\": \"LP002255\", \"Gender\": \"Male\", \"Married\": \"No\", \"Dependents\": \"3+\", \"Education\": \"Graduate\", \"Self_Employed\": \"No\", \"ApplicantIncome\": 9167, \"CoapplicantIncome\": 0.0, \"LoanAmount\": 185.0, \"Loan_Amount_Term\": 360.0, \"Credit_History\": 1.0, \"Property_Area\": \"Rural\", \"Loan_Status\": \"Y\"}, {\"Loan_ID\": \"LP002262\", \"Gender\": \"Male\", \"Married\": \"Yes\", \"Dependents\": \"3+\", \"Education\": \"Graduate\", \"Self_Employed\": \"No\", \"ApplicantIncome\": 9504, \"CoapplicantIncome\": 0.0, \"LoanAmount\": 275.0, \"Loan_Amount_Term\": 360.0, \"Credit_History\": 1.0, \"Property_Area\": \"Rural\", \"Loan_Status\": \"Y\"}, {\"Loan_ID\": \"LP002263\", \"Gender\": \"Male\", \"Married\": \"Yes\", \"Dependents\": \"0\", \"Education\": \"Graduate\", \"Self_Employed\": \"No\", \"ApplicantIncome\": 2583, \"CoapplicantIncome\": 2115.0, \"LoanAmount\": 120.0, \"Loan_Amount_Term\": 360.0, \"Credit_History\": 1.0, \"Property_Area\": \"Urban\", \"Loan_Status\": \"Y\"}, {\"Loan_ID\": \"LP002265\", \"Gender\": \"Male\", \"Married\": \"Yes\", \"Dependents\": \"2\", \"Education\": \"Not Graduate\", \"Self_Employed\": \"No\", \"ApplicantIncome\": 1993, \"CoapplicantIncome\": 1625.0, \"LoanAmount\": 113.0, \"Loan_Amount_Term\": 180.0, \"Credit_History\": 1.0, \"Property_Area\": \"Semiurban\", \"Loan_Status\": \"Y\"}, {\"Loan_ID\": \"LP002266\", \"Gender\": \"Male\", \"Married\": \"Yes\", \"Dependents\": \"2\", \"Education\": \"Graduate\", \"Self_Employed\": \"No\", \"ApplicantIncome\": 3100, \"CoapplicantIncome\": 1400.0, \"LoanAmount\": 113.0, \"Loan_Amount_Term\": 360.0, \"Credit_History\": 1.0, \"Property_Area\": \"Urban\", \"Loan_Status\": \"Y\"}, {\"Loan_ID\": \"LP002272\", \"Gender\": \"Male\", \"Married\": \"Yes\", \"Dependents\": \"2\", \"Education\": \"Graduate\", \"Self_Employed\": \"No\", \"ApplicantIncome\": 3276, \"CoapplicantIncome\": 484.0, \"LoanAmount\": 135.0, \"Loan_Amount_Term\": 360.0, \"Credit_History\": 1.0, \"Property_Area\": \"Semiurban\", \"Loan_Status\": \"Y\"}, {\"Loan_ID\": \"LP002277\", \"Gender\": \"Female\", \"Married\": \"No\", \"Dependents\": \"0\", \"Education\": \"Graduate\", \"Self_Employed\": \"No\", \"ApplicantIncome\": 3180, \"CoapplicantIncome\": 0.0, \"LoanAmount\": 71.0, \"Loan_Amount_Term\": 360.0, \"Credit_History\": 0.0, \"Property_Area\": \"Urban\", \"Loan_Status\": \"N\"}, {\"Loan_ID\": \"LP002281\", \"Gender\": \"Male\", \"Married\": \"Yes\", \"Dependents\": \"0\", \"Education\": \"Graduate\", \"Self_Employed\": \"No\", \"ApplicantIncome\": 3033, \"CoapplicantIncome\": 1459.0, \"LoanAmount\": 95.0, \"Loan_Amount_Term\": 360.0, \"Credit_History\": 1.0, \"Property_Area\": \"Urban\", \"Loan_Status\": \"Y\"}, {\"Loan_ID\": \"LP002284\", \"Gender\": \"Male\", \"Married\": \"No\", \"Dependents\": \"0\", \"Education\": \"Not Graduate\", \"Self_Employed\": \"No\", \"ApplicantIncome\": 3902, \"CoapplicantIncome\": 1666.0, \"LoanAmount\": 109.0, \"Loan_Amount_Term\": 360.0, \"Credit_History\": 1.0, \"Property_Area\": \"Rural\", \"Loan_Status\": \"Y\"}, {\"Loan_ID\": \"LP002287\", \"Gender\": \"Female\", \"Married\": \"No\", \"Dependents\": \"0\", \"Education\": \"Graduate\", \"Self_Employed\": \"No\", \"ApplicantIncome\": 1500, \"CoapplicantIncome\": 1800.0, \"LoanAmount\": 103.0, \"Loan_Amount_Term\": 360.0, \"Credit_History\": 0.0, \"Property_Area\": \"Semiurban\", \"Loan_Status\": \"N\"}, {\"Loan_ID\": \"LP002288\", \"Gender\": \"Male\", \"Married\": \"Yes\", \"Dependents\": \"2\", \"Education\": \"Not Graduate\", \"Self_Employed\": \"No\", \"ApplicantIncome\": 2889, \"CoapplicantIncome\": 0.0, \"LoanAmount\": 45.0, \"Loan_Amount_Term\": 180.0, \"Credit_History\": 0.0, \"Property_Area\": \"Urban\", \"Loan_Status\": \"N\"}, {\"Loan_ID\": \"LP002296\", \"Gender\": \"Male\", \"Married\": \"No\", \"Dependents\": \"0\", \"Education\": \"Not Graduate\", \"Self_Employed\": \"No\", \"ApplicantIncome\": 2755, \"CoapplicantIncome\": 0.0, \"LoanAmount\": 65.0, \"Loan_Amount_Term\": 300.0, \"Credit_History\": 1.0, \"Property_Area\": \"Rural\", \"Loan_Status\": \"N\"}, {\"Loan_ID\": \"LP002297\", \"Gender\": \"Male\", \"Married\": \"No\", \"Dependents\": \"0\", \"Education\": \"Graduate\", \"Self_Employed\": \"No\", \"ApplicantIncome\": 2500, \"CoapplicantIncome\": 20000.0, \"LoanAmount\": 103.0, \"Loan_Amount_Term\": 360.0, \"Credit_History\": 1.0, \"Property_Area\": \"Semiurban\", \"Loan_Status\": \"Y\"}, {\"Loan_ID\": \"LP002300\", \"Gender\": \"Female\", \"Married\": \"No\", \"Dependents\": \"0\", \"Education\": \"Not Graduate\", \"Self_Employed\": \"No\", \"ApplicantIncome\": 1963, \"CoapplicantIncome\": 0.0, \"LoanAmount\": 53.0, \"Loan_Amount_Term\": 360.0, \"Credit_History\": 1.0, \"Property_Area\": \"Semiurban\", \"Loan_Status\": \"Y\"}, {\"Loan_ID\": \"LP002301\", \"Gender\": \"Female\", \"Married\": \"No\", \"Dependents\": \"0\", \"Education\": \"Graduate\", \"Self_Employed\": \"Yes\", \"ApplicantIncome\": 7441, \"CoapplicantIncome\": 0.0, \"LoanAmount\": 194.0, \"Loan_Amount_Term\": 360.0, \"Credit_History\": 1.0, \"Property_Area\": \"Rural\", \"Loan_Status\": \"N\"}, {\"Loan_ID\": \"LP002305\", \"Gender\": \"Female\", \"Married\": \"No\", \"Dependents\": \"0\", \"Education\": \"Graduate\", \"Self_Employed\": \"No\", \"ApplicantIncome\": 4547, \"CoapplicantIncome\": 0.0, \"LoanAmount\": 115.0, \"Loan_Amount_Term\": 360.0, \"Credit_History\": 1.0, \"Property_Area\": \"Semiurban\", \"Loan_Status\": \"Y\"}, {\"Loan_ID\": \"LP002308\", \"Gender\": \"Male\", \"Married\": \"Yes\", \"Dependents\": \"0\", \"Education\": \"Not Graduate\", \"Self_Employed\": \"No\", \"ApplicantIncome\": 2167, \"CoapplicantIncome\": 2400.0, \"LoanAmount\": 115.0, \"Loan_Amount_Term\": 360.0, \"Credit_History\": 1.0, \"Property_Area\": \"Urban\", \"Loan_Status\": \"Y\"}, {\"Loan_ID\": \"LP002314\", \"Gender\": \"Female\", \"Married\": \"No\", \"Dependents\": \"0\", \"Education\": \"Not Graduate\", \"Self_Employed\": \"No\", \"ApplicantIncome\": 2213, \"CoapplicantIncome\": 0.0, \"LoanAmount\": 66.0, \"Loan_Amount_Term\": 360.0, \"Credit_History\": 1.0, \"Property_Area\": \"Rural\", \"Loan_Status\": \"Y\"}, {\"Loan_ID\": \"LP002315\", \"Gender\": \"Male\", \"Married\": \"Yes\", \"Dependents\": \"1\", \"Education\": \"Graduate\", \"Self_Employed\": \"No\", \"ApplicantIncome\": 8300, \"CoapplicantIncome\": 0.0, \"LoanAmount\": 152.0, \"Loan_Amount_Term\": 300.0, \"Credit_History\": 0.0, \"Property_Area\": \"Semiurban\", \"Loan_Status\": \"N\"}, {\"Loan_ID\": \"LP002317\", \"Gender\": \"Male\", \"Married\": \"Yes\", \"Dependents\": \"3+\", \"Education\": \"Graduate\", \"Self_Employed\": \"No\", \"ApplicantIncome\": 81000, \"CoapplicantIncome\": 0.0, \"LoanAmount\": 360.0, \"Loan_Amount_Term\": 360.0, \"Credit_History\": 0.0, \"Property_Area\": \"Rural\", \"Loan_Status\": \"N\"}, {\"Loan_ID\": \"LP002318\", \"Gender\": \"Female\", \"Married\": \"No\", \"Dependents\": \"1\", \"Education\": \"Not Graduate\", \"Self_Employed\": \"Yes\", \"ApplicantIncome\": 3867, \"CoapplicantIncome\": 0.0, \"LoanAmount\": 62.0, \"Loan_Amount_Term\": 360.0, \"Credit_History\": 1.0, \"Property_Area\": \"Semiurban\", \"Loan_Status\": \"N\"}, {\"Loan_ID\": \"LP002319\", \"Gender\": \"Male\", \"Married\": \"Yes\", \"Dependents\": \"0\", \"Education\": \"Graduate\", \"Self_Employed\": \"No\", \"ApplicantIncome\": 6256, \"CoapplicantIncome\": 0.0, \"LoanAmount\": 160.0, \"Loan_Amount_Term\": 360.0, \"Credit_History\": 1.0, \"Property_Area\": \"Urban\", \"Loan_Status\": \"Y\"}, {\"Loan_ID\": \"LP002328\", \"Gender\": \"Male\", \"Married\": \"Yes\", \"Dependents\": \"0\", \"Education\": \"Not Graduate\", \"Self_Employed\": \"No\", \"ApplicantIncome\": 6096, \"CoapplicantIncome\": 0.0, \"LoanAmount\": 218.0, \"Loan_Amount_Term\": 360.0, \"Credit_History\": 0.0, \"Property_Area\": \"Rural\", \"Loan_Status\": \"N\"}, {\"Loan_ID\": \"LP002332\", \"Gender\": \"Male\", \"Married\": \"Yes\", \"Dependents\": \"0\", \"Education\": \"Not Graduate\", \"Self_Employed\": \"No\", \"ApplicantIncome\": 2253, \"CoapplicantIncome\": 2033.0, \"LoanAmount\": 110.0, \"Loan_Amount_Term\": 360.0, \"Credit_History\": 1.0, \"Property_Area\": \"Rural\", \"Loan_Status\": \"Y\"}, {\"Loan_ID\": \"LP002335\", \"Gender\": \"Female\", \"Married\": \"Yes\", \"Dependents\": \"0\", \"Education\": \"Not Graduate\", \"Self_Employed\": \"No\", \"ApplicantIncome\": 2149, \"CoapplicantIncome\": 3237.0, \"LoanAmount\": 178.0, \"Loan_Amount_Term\": 360.0, \"Credit_History\": 0.0, \"Property_Area\": \"Semiurban\", \"Loan_Status\": \"N\"}, {\"Loan_ID\": \"LP002337\", \"Gender\": \"Female\", \"Married\": \"No\", \"Dependents\": \"0\", \"Education\": \"Graduate\", \"Self_Employed\": \"No\", \"ApplicantIncome\": 2995, \"CoapplicantIncome\": 0.0, \"LoanAmount\": 60.0, \"Loan_Amount_Term\": 360.0, \"Credit_History\": 1.0, \"Property_Area\": \"Urban\", \"Loan_Status\": \"Y\"}, {\"Loan_ID\": \"LP002341\", \"Gender\": \"Female\", \"Married\": \"No\", \"Dependents\": \"1\", \"Education\": \"Graduate\", \"Self_Employed\": \"No\", \"ApplicantIncome\": 2600, \"CoapplicantIncome\": 0.0, \"LoanAmount\": 160.0, \"Loan_Amount_Term\": 360.0, \"Credit_History\": 1.0, \"Property_Area\": \"Urban\", \"Loan_Status\": \"N\"}, {\"Loan_ID\": \"LP002342\", \"Gender\": \"Male\", \"Married\": \"Yes\", \"Dependents\": \"2\", \"Education\": \"Graduate\", \"Self_Employed\": \"Yes\", \"ApplicantIncome\": 1600, \"CoapplicantIncome\": 20000.0, \"LoanAmount\": 239.0, \"Loan_Amount_Term\": 360.0, \"Credit_History\": 1.0, \"Property_Area\": \"Urban\", \"Loan_Status\": \"N\"}, {\"Loan_ID\": \"LP002345\", \"Gender\": \"Male\", \"Married\": \"Yes\", \"Dependents\": \"0\", \"Education\": \"Graduate\", \"Self_Employed\": \"No\", \"ApplicantIncome\": 1025, \"CoapplicantIncome\": 2773.0, \"LoanAmount\": 112.0, \"Loan_Amount_Term\": 360.0, \"Credit_History\": 1.0, \"Property_Area\": \"Rural\", \"Loan_Status\": \"Y\"}, {\"Loan_ID\": \"LP002347\", \"Gender\": \"Male\", \"Married\": \"Yes\", \"Dependents\": \"0\", \"Education\": \"Graduate\", \"Self_Employed\": \"No\", \"ApplicantIncome\": 3246, \"CoapplicantIncome\": 1417.0, \"LoanAmount\": 138.0, \"Loan_Amount_Term\": 360.0, \"Credit_History\": 1.0, \"Property_Area\": \"Semiurban\", \"Loan_Status\": \"Y\"}, {\"Loan_ID\": \"LP002348\", \"Gender\": \"Male\", \"Married\": \"Yes\", \"Dependents\": \"0\", \"Education\": \"Graduate\", \"Self_Employed\": \"No\", \"ApplicantIncome\": 5829, \"CoapplicantIncome\": 0.0, \"LoanAmount\": 138.0, \"Loan_Amount_Term\": 360.0, \"Credit_History\": 1.0, \"Property_Area\": \"Rural\", \"Loan_Status\": \"Y\"}, {\"Loan_ID\": \"LP002357\", \"Gender\": \"Female\", \"Married\": \"No\", \"Dependents\": \"0\", \"Education\": \"Not Graduate\", \"Self_Employed\": \"No\", \"ApplicantIncome\": 2720, \"CoapplicantIncome\": 0.0, \"LoanAmount\": 80.0, \"Loan_Amount_Term\": 360.0, \"Credit_History\": 0.0, \"Property_Area\": \"Urban\", \"Loan_Status\": \"N\"}, {\"Loan_ID\": \"LP002361\", \"Gender\": \"Male\", \"Married\": \"Yes\", \"Dependents\": \"0\", \"Education\": \"Graduate\", \"Self_Employed\": \"No\", \"ApplicantIncome\": 1820, \"CoapplicantIncome\": 1719.0, \"LoanAmount\": 100.0, \"Loan_Amount_Term\": 360.0, \"Credit_History\": 1.0, \"Property_Area\": \"Urban\", \"Loan_Status\": \"Y\"}, {\"Loan_ID\": \"LP002362\", \"Gender\": \"Male\", \"Married\": \"Yes\", \"Dependents\": \"1\", \"Education\": \"Graduate\", \"Self_Employed\": \"No\", \"ApplicantIncome\": 7250, \"CoapplicantIncome\": 1667.0, \"LoanAmount\": 110.0, \"Loan_Amount_Term\": 360.0, \"Credit_History\": 0.0, \"Property_Area\": \"Urban\", \"Loan_Status\": \"N\"}, {\"Loan_ID\": \"LP002364\", \"Gender\": \"Male\", \"Married\": \"Yes\", \"Dependents\": \"0\", \"Education\": \"Graduate\", \"Self_Employed\": \"No\", \"ApplicantIncome\": 14880, \"CoapplicantIncome\": 0.0, \"LoanAmount\": 96.0, \"Loan_Amount_Term\": 360.0, \"Credit_History\": 1.0, \"Property_Area\": \"Semiurban\", \"Loan_Status\": \"Y\"}, {\"Loan_ID\": \"LP002366\", \"Gender\": \"Male\", \"Married\": \"Yes\", \"Dependents\": \"0\", \"Education\": \"Graduate\", \"Self_Employed\": \"No\", \"ApplicantIncome\": 2666, \"CoapplicantIncome\": 4300.0, \"LoanAmount\": 121.0, \"Loan_Amount_Term\": 360.0, \"Credit_History\": 1.0, \"Property_Area\": \"Rural\", \"Loan_Status\": \"Y\"}, {\"Loan_ID\": \"LP002367\", \"Gender\": \"Female\", \"Married\": \"No\", \"Dependents\": \"1\", \"Education\": \"Not Graduate\", \"Self_Employed\": \"No\", \"ApplicantIncome\": 4606, \"CoapplicantIncome\": 0.0, \"LoanAmount\": 81.0, \"Loan_Amount_Term\": 360.0, \"Credit_History\": 1.0, \"Property_Area\": \"Rural\", \"Loan_Status\": \"N\"}, {\"Loan_ID\": \"LP002368\", \"Gender\": \"Male\", \"Married\": \"Yes\", \"Dependents\": \"2\", \"Education\": \"Graduate\", \"Self_Employed\": \"No\", \"ApplicantIncome\": 5935, \"CoapplicantIncome\": 0.0, \"LoanAmount\": 133.0, \"Loan_Amount_Term\": 360.0, \"Credit_History\": 1.0, \"Property_Area\": \"Semiurban\", \"Loan_Status\": \"Y\"}, {\"Loan_ID\": \"LP002369\", \"Gender\": \"Male\", \"Married\": \"Yes\", \"Dependents\": \"0\", \"Education\": \"Graduate\", \"Self_Employed\": \"No\", \"ApplicantIncome\": 2920, \"CoapplicantIncome\": 16.12000084, \"LoanAmount\": 87.0, \"Loan_Amount_Term\": 360.0, \"Credit_History\": 1.0, \"Property_Area\": \"Rural\", \"Loan_Status\": \"Y\"}, {\"Loan_ID\": \"LP002370\", \"Gender\": \"Male\", \"Married\": \"No\", \"Dependents\": \"0\", \"Education\": \"Not Graduate\", \"Self_Employed\": \"No\", \"ApplicantIncome\": 2717, \"CoapplicantIncome\": 0.0, \"LoanAmount\": 60.0, \"Loan_Amount_Term\": 180.0, \"Credit_History\": 1.0, \"Property_Area\": \"Urban\", \"Loan_Status\": \"Y\"}, {\"Loan_ID\": \"LP002377\", \"Gender\": \"Female\", \"Married\": \"No\", \"Dependents\": \"1\", \"Education\": \"Graduate\", \"Self_Employed\": \"Yes\", \"ApplicantIncome\": 8624, \"CoapplicantIncome\": 0.0, \"LoanAmount\": 150.0, \"Loan_Amount_Term\": 360.0, \"Credit_History\": 1.0, \"Property_Area\": \"Semiurban\", \"Loan_Status\": \"Y\"}, {\"Loan_ID\": \"LP002379\", \"Gender\": \"Male\", \"Married\": \"No\", \"Dependents\": \"0\", \"Education\": \"Graduate\", \"Self_Employed\": \"No\", \"ApplicantIncome\": 6500, \"CoapplicantIncome\": 0.0, \"LoanAmount\": 105.0, \"Loan_Amount_Term\": 360.0, \"Credit_History\": 0.0, \"Property_Area\": \"Rural\", \"Loan_Status\": \"N\"}, {\"Loan_ID\": \"LP002386\", \"Gender\": \"Male\", \"Married\": \"No\", \"Dependents\": \"0\", \"Education\": \"Graduate\", \"Self_Employed\": \"No\", \"ApplicantIncome\": 12876, \"CoapplicantIncome\": 0.0, \"LoanAmount\": 405.0, \"Loan_Amount_Term\": 360.0, \"Credit_History\": 1.0, \"Property_Area\": \"Semiurban\", \"Loan_Status\": \"Y\"}, {\"Loan_ID\": \"LP002387\", \"Gender\": \"Male\", \"Married\": \"Yes\", \"Dependents\": \"0\", \"Education\": \"Graduate\", \"Self_Employed\": \"No\", \"ApplicantIncome\": 2425, \"CoapplicantIncome\": 2340.0, \"LoanAmount\": 143.0, \"Loan_Amount_Term\": 360.0, \"Credit_History\": 1.0, \"Property_Area\": \"Semiurban\", \"Loan_Status\": \"Y\"}, {\"Loan_ID\": \"LP002390\", \"Gender\": \"Male\", \"Married\": \"No\", \"Dependents\": \"0\", \"Education\": \"Graduate\", \"Self_Employed\": \"No\", \"ApplicantIncome\": 3750, \"CoapplicantIncome\": 0.0, \"LoanAmount\": 100.0, \"Loan_Amount_Term\": 360.0, \"Credit_History\": 1.0, \"Property_Area\": \"Urban\", \"Loan_Status\": \"Y\"}, {\"Loan_ID\": \"LP002393\", \"Gender\": \"Female\", \"Married\": \"Yes\", \"Dependents\": \"0\", \"Education\": \"Graduate\", \"Self_Employed\": \"No\", \"ApplicantIncome\": 10047, \"CoapplicantIncome\": 0.0, \"LoanAmount\": 146.41216216216216, \"Loan_Amount_Term\": 240.0, \"Credit_History\": 1.0, \"Property_Area\": \"Semiurban\", \"Loan_Status\": \"Y\"}, {\"Loan_ID\": \"LP002398\", \"Gender\": \"Male\", \"Married\": \"No\", \"Dependents\": \"0\", \"Education\": \"Graduate\", \"Self_Employed\": \"No\", \"ApplicantIncome\": 1926, \"CoapplicantIncome\": 1851.0, \"LoanAmount\": 50.0, \"Loan_Amount_Term\": 360.0, \"Credit_History\": 1.0, \"Property_Area\": \"Semiurban\", \"Loan_Status\": \"Y\"}, {\"Loan_ID\": \"LP002401\", \"Gender\": \"Male\", \"Married\": \"Yes\", \"Dependents\": \"0\", \"Education\": \"Graduate\", \"Self_Employed\": \"No\", \"ApplicantIncome\": 2213, \"CoapplicantIncome\": 1125.0, \"LoanAmount\": 146.41216216216216, \"Loan_Amount_Term\": 360.0, \"Credit_History\": 1.0, \"Property_Area\": \"Urban\", \"Loan_Status\": \"Y\"}, {\"Loan_ID\": \"LP002403\", \"Gender\": \"Male\", \"Married\": \"No\", \"Dependents\": \"0\", \"Education\": \"Graduate\", \"Self_Employed\": \"Yes\", \"ApplicantIncome\": 10416, \"CoapplicantIncome\": 0.0, \"LoanAmount\": 187.0, \"Loan_Amount_Term\": 360.0, \"Credit_History\": 0.0, \"Property_Area\": \"Urban\", \"Loan_Status\": \"N\"}, {\"Loan_ID\": \"LP002407\", \"Gender\": \"Female\", \"Married\": \"Yes\", \"Dependents\": \"0\", \"Education\": \"Not Graduate\", \"Self_Employed\": \"Yes\", \"ApplicantIncome\": 7142, \"CoapplicantIncome\": 0.0, \"LoanAmount\": 138.0, \"Loan_Amount_Term\": 360.0, \"Credit_History\": 1.0, \"Property_Area\": \"Rural\", \"Loan_Status\": \"Y\"}, {\"Loan_ID\": \"LP002408\", \"Gender\": \"Male\", \"Married\": \"No\", \"Dependents\": \"0\", \"Education\": \"Graduate\", \"Self_Employed\": \"No\", \"ApplicantIncome\": 3660, \"CoapplicantIncome\": 5064.0, \"LoanAmount\": 187.0, \"Loan_Amount_Term\": 360.0, \"Credit_History\": 1.0, \"Property_Area\": \"Semiurban\", \"Loan_Status\": \"Y\"}, {\"Loan_ID\": \"LP002409\", \"Gender\": \"Male\", \"Married\": \"Yes\", \"Dependents\": \"0\", \"Education\": \"Graduate\", \"Self_Employed\": \"No\", \"ApplicantIncome\": 7901, \"CoapplicantIncome\": 1833.0, \"LoanAmount\": 180.0, \"Loan_Amount_Term\": 360.0, \"Credit_History\": 1.0, \"Property_Area\": \"Rural\", \"Loan_Status\": \"Y\"}, {\"Loan_ID\": \"LP002418\", \"Gender\": \"Male\", \"Married\": \"No\", \"Dependents\": \"3+\", \"Education\": \"Not Graduate\", \"Self_Employed\": \"No\", \"ApplicantIncome\": 4707, \"CoapplicantIncome\": 1993.0, \"LoanAmount\": 148.0, \"Loan_Amount_Term\": 360.0, \"Credit_History\": 1.0, \"Property_Area\": \"Semiurban\", \"Loan_Status\": \"Y\"}, {\"Loan_ID\": \"LP002422\", \"Gender\": \"Male\", \"Married\": \"No\", \"Dependents\": \"1\", \"Education\": \"Graduate\", \"Self_Employed\": \"No\", \"ApplicantIncome\": 37719, \"CoapplicantIncome\": 0.0, \"LoanAmount\": 152.0, \"Loan_Amount_Term\": 360.0, \"Credit_History\": 1.0, \"Property_Area\": \"Semiurban\", \"Loan_Status\": \"Y\"}, {\"Loan_ID\": \"LP002424\", \"Gender\": \"Male\", \"Married\": \"Yes\", \"Dependents\": \"0\", \"Education\": \"Graduate\", \"Self_Employed\": \"No\", \"ApplicantIncome\": 7333, \"CoapplicantIncome\": 8333.0, \"LoanAmount\": 175.0, \"Loan_Amount_Term\": 300.0, \"Credit_History\": 1.0, \"Property_Area\": \"Rural\", \"Loan_Status\": \"Y\"}, {\"Loan_ID\": \"LP002429\", \"Gender\": \"Male\", \"Married\": \"Yes\", \"Dependents\": \"1\", \"Education\": \"Graduate\", \"Self_Employed\": \"Yes\", \"ApplicantIncome\": 3466, \"CoapplicantIncome\": 1210.0, \"LoanAmount\": 130.0, \"Loan_Amount_Term\": 360.0, \"Credit_History\": 1.0, \"Property_Area\": \"Rural\", \"Loan_Status\": \"Y\"}, {\"Loan_ID\": \"LP002434\", \"Gender\": \"Male\", \"Married\": \"Yes\", \"Dependents\": \"2\", \"Education\": \"Not Graduate\", \"Self_Employed\": \"No\", \"ApplicantIncome\": 4652, \"CoapplicantIncome\": 0.0, \"LoanAmount\": 110.0, \"Loan_Amount_Term\": 360.0, \"Credit_History\": 1.0, \"Property_Area\": \"Rural\", \"Loan_Status\": \"Y\"}, {\"Loan_ID\": \"LP002435\", \"Gender\": \"Male\", \"Married\": \"Yes\", \"Dependents\": \"0\", \"Education\": \"Graduate\", \"Self_Employed\": \"No\", \"ApplicantIncome\": 3539, \"CoapplicantIncome\": 1376.0, \"LoanAmount\": 55.0, \"Loan_Amount_Term\": 360.0, \"Credit_History\": 1.0, \"Property_Area\": \"Rural\", \"Loan_Status\": \"N\"}, {\"Loan_ID\": \"LP002443\", \"Gender\": \"Male\", \"Married\": \"Yes\", \"Dependents\": \"2\", \"Education\": \"Graduate\", \"Self_Employed\": \"No\", \"ApplicantIncome\": 3340, \"CoapplicantIncome\": 1710.0, \"LoanAmount\": 150.0, \"Loan_Amount_Term\": 360.0, \"Credit_History\": 0.0, \"Property_Area\": \"Rural\", \"Loan_Status\": \"N\"}, {\"Loan_ID\": \"LP002444\", \"Gender\": \"Male\", \"Married\": \"No\", \"Dependents\": \"1\", \"Education\": \"Not Graduate\", \"Self_Employed\": \"Yes\", \"ApplicantIncome\": 2769, \"CoapplicantIncome\": 1542.0, \"LoanAmount\": 190.0, \"Loan_Amount_Term\": 360.0, \"Credit_History\": 1.0, \"Property_Area\": \"Semiurban\", \"Loan_Status\": \"N\"}, {\"Loan_ID\": \"LP002446\", \"Gender\": \"Male\", \"Married\": \"Yes\", \"Dependents\": \"2\", \"Education\": \"Not Graduate\", \"Self_Employed\": \"No\", \"ApplicantIncome\": 2309, \"CoapplicantIncome\": 1255.0, \"LoanAmount\": 125.0, \"Loan_Amount_Term\": 360.0, \"Credit_History\": 0.0, \"Property_Area\": \"Rural\", \"Loan_Status\": \"N\"}, {\"Loan_ID\": \"LP002447\", \"Gender\": \"Male\", \"Married\": \"Yes\", \"Dependents\": \"2\", \"Education\": \"Not Graduate\", \"Self_Employed\": \"No\", \"ApplicantIncome\": 1958, \"CoapplicantIncome\": 1456.0, \"LoanAmount\": 60.0, \"Loan_Amount_Term\": 300.0, \"Credit_History\": 1.0, \"Property_Area\": \"Urban\", \"Loan_Status\": \"Y\"}, {\"Loan_ID\": \"LP002448\", \"Gender\": \"Male\", \"Married\": \"Yes\", \"Dependents\": \"0\", \"Education\": \"Graduate\", \"Self_Employed\": \"No\", \"ApplicantIncome\": 3948, \"CoapplicantIncome\": 1733.0, \"LoanAmount\": 149.0, \"Loan_Amount_Term\": 360.0, \"Credit_History\": 0.0, \"Property_Area\": \"Rural\", \"Loan_Status\": \"N\"}, {\"Loan_ID\": \"LP002449\", \"Gender\": \"Male\", \"Married\": \"Yes\", \"Dependents\": \"0\", \"Education\": \"Graduate\", \"Self_Employed\": \"No\", \"ApplicantIncome\": 2483, \"CoapplicantIncome\": 2466.0, \"LoanAmount\": 90.0, \"Loan_Amount_Term\": 180.0, \"Credit_History\": 0.0, \"Property_Area\": \"Rural\", \"Loan_Status\": \"Y\"}, {\"Loan_ID\": \"LP002453\", \"Gender\": \"Male\", \"Married\": \"No\", \"Dependents\": \"0\", \"Education\": \"Graduate\", \"Self_Employed\": \"Yes\", \"ApplicantIncome\": 7085, \"CoapplicantIncome\": 0.0, \"LoanAmount\": 84.0, \"Loan_Amount_Term\": 360.0, \"Credit_History\": 1.0, \"Property_Area\": \"Semiurban\", \"Loan_Status\": \"Y\"}, {\"Loan_ID\": \"LP002455\", \"Gender\": \"Male\", \"Married\": \"Yes\", \"Dependents\": \"2\", \"Education\": \"Graduate\", \"Self_Employed\": \"No\", \"ApplicantIncome\": 3859, \"CoapplicantIncome\": 0.0, \"LoanAmount\": 96.0, \"Loan_Amount_Term\": 360.0, \"Credit_History\": 1.0, \"Property_Area\": \"Semiurban\", \"Loan_Status\": \"Y\"}, {\"Loan_ID\": \"LP002459\", \"Gender\": \"Male\", \"Married\": \"Yes\", \"Dependents\": \"0\", \"Education\": \"Graduate\", \"Self_Employed\": \"No\", \"ApplicantIncome\": 4301, \"CoapplicantIncome\": 0.0, \"LoanAmount\": 118.0, \"Loan_Amount_Term\": 360.0, \"Credit_History\": 1.0, \"Property_Area\": \"Urban\", \"Loan_Status\": \"Y\"}, {\"Loan_ID\": \"LP002467\", \"Gender\": \"Male\", \"Married\": \"Yes\", \"Dependents\": \"0\", \"Education\": \"Graduate\", \"Self_Employed\": \"No\", \"ApplicantIncome\": 3708, \"CoapplicantIncome\": 2569.0, \"LoanAmount\": 173.0, \"Loan_Amount_Term\": 360.0, \"Credit_History\": 1.0, \"Property_Area\": \"Urban\", \"Loan_Status\": \"N\"}, {\"Loan_ID\": \"LP002472\", \"Gender\": \"Male\", \"Married\": \"No\", \"Dependents\": \"2\", \"Education\": \"Graduate\", \"Self_Employed\": \"No\", \"ApplicantIncome\": 4354, \"CoapplicantIncome\": 0.0, \"LoanAmount\": 136.0, \"Loan_Amount_Term\": 360.0, \"Credit_History\": 1.0, \"Property_Area\": \"Rural\", \"Loan_Status\": \"Y\"}, {\"Loan_ID\": \"LP002473\", \"Gender\": \"Male\", \"Married\": \"Yes\", \"Dependents\": \"0\", \"Education\": \"Graduate\", \"Self_Employed\": \"No\", \"ApplicantIncome\": 8334, \"CoapplicantIncome\": 0.0, \"LoanAmount\": 160.0, \"Loan_Amount_Term\": 360.0, \"Credit_History\": 1.0, \"Property_Area\": \"Semiurban\", \"Loan_Status\": \"N\"}, {\"Loan_ID\": \"LP002478\", \"Gender\": \"Male\", \"Married\": \"Yes\", \"Dependents\": \"0\", \"Education\": \"Graduate\", \"Self_Employed\": \"Yes\", \"ApplicantIncome\": 2083, \"CoapplicantIncome\": 4083.0, \"LoanAmount\": 160.0, \"Loan_Amount_Term\": 360.0, \"Credit_History\": 1.0, \"Property_Area\": \"Semiurban\", \"Loan_Status\": \"Y\"}, {\"Loan_ID\": \"LP002484\", \"Gender\": \"Male\", \"Married\": \"Yes\", \"Dependents\": \"3+\", \"Education\": \"Graduate\", \"Self_Employed\": \"No\", \"ApplicantIncome\": 7740, \"CoapplicantIncome\": 0.0, \"LoanAmount\": 128.0, \"Loan_Amount_Term\": 180.0, \"Credit_History\": 1.0, \"Property_Area\": \"Urban\", \"Loan_Status\": \"Y\"}, {\"Loan_ID\": \"LP002487\", \"Gender\": \"Male\", \"Married\": \"Yes\", \"Dependents\": \"0\", \"Education\": \"Graduate\", \"Self_Employed\": \"No\", \"ApplicantIncome\": 3015, \"CoapplicantIncome\": 2188.0, \"LoanAmount\": 153.0, \"Loan_Amount_Term\": 360.0, \"Credit_History\": 1.0, \"Property_Area\": \"Rural\", \"Loan_Status\": \"Y\"}, {\"Loan_ID\": \"LP002489\", \"Gender\": \"Female\", \"Married\": \"No\", \"Dependents\": \"1\", \"Education\": \"Not Graduate\", \"Self_Employed\": \"No\", \"ApplicantIncome\": 5191, \"CoapplicantIncome\": 0.0, \"LoanAmount\": 132.0, \"Loan_Amount_Term\": 360.0, \"Credit_History\": 1.0, \"Property_Area\": \"Semiurban\", \"Loan_Status\": \"Y\"}, {\"Loan_ID\": \"LP002493\", \"Gender\": \"Male\", \"Married\": \"No\", \"Dependents\": \"0\", \"Education\": \"Graduate\", \"Self_Employed\": \"No\", \"ApplicantIncome\": 4166, \"CoapplicantIncome\": 0.0, \"LoanAmount\": 98.0, \"Loan_Amount_Term\": 360.0, \"Credit_History\": 0.0, \"Property_Area\": \"Semiurban\", \"Loan_Status\": \"N\"}, {\"Loan_ID\": \"LP002494\", \"Gender\": \"Male\", \"Married\": \"No\", \"Dependents\": \"0\", \"Education\": \"Graduate\", \"Self_Employed\": \"No\", \"ApplicantIncome\": 6000, \"CoapplicantIncome\": 0.0, \"LoanAmount\": 140.0, \"Loan_Amount_Term\": 360.0, \"Credit_History\": 1.0, \"Property_Area\": \"Rural\", \"Loan_Status\": \"Y\"}, {\"Loan_ID\": \"LP002500\", \"Gender\": \"Male\", \"Married\": \"Yes\", \"Dependents\": \"3+\", \"Education\": \"Not Graduate\", \"Self_Employed\": \"No\", \"ApplicantIncome\": 2947, \"CoapplicantIncome\": 1664.0, \"LoanAmount\": 70.0, \"Loan_Amount_Term\": 180.0, \"Credit_History\": 0.0, \"Property_Area\": \"Urban\", \"Loan_Status\": \"N\"}, {\"Loan_ID\": \"LP002501\", \"Gender\": \"Male\", \"Married\": \"Yes\", \"Dependents\": \"0\", \"Education\": \"Graduate\", \"Self_Employed\": \"No\", \"ApplicantIncome\": 16692, \"CoapplicantIncome\": 0.0, \"LoanAmount\": 110.0, \"Loan_Amount_Term\": 360.0, \"Credit_History\": 1.0, \"Property_Area\": \"Semiurban\", \"Loan_Status\": \"Y\"}, {\"Loan_ID\": \"LP002502\", \"Gender\": \"Female\", \"Married\": \"Yes\", \"Dependents\": \"2\", \"Education\": \"Not Graduate\", \"Self_Employed\": \"No\", \"ApplicantIncome\": 210, \"CoapplicantIncome\": 2917.0, \"LoanAmount\": 98.0, \"Loan_Amount_Term\": 360.0, \"Credit_History\": 1.0, \"Property_Area\": \"Semiurban\", \"Loan_Status\": \"Y\"}, {\"Loan_ID\": \"LP002505\", \"Gender\": \"Male\", \"Married\": \"Yes\", \"Dependents\": \"0\", \"Education\": \"Graduate\", \"Self_Employed\": \"No\", \"ApplicantIncome\": 4333, \"CoapplicantIncome\": 2451.0, \"LoanAmount\": 110.0, \"Loan_Amount_Term\": 360.0, \"Credit_History\": 1.0, \"Property_Area\": \"Urban\", \"Loan_Status\": \"N\"}, {\"Loan_ID\": \"LP002515\", \"Gender\": \"Male\", \"Married\": \"Yes\", \"Dependents\": \"1\", \"Education\": \"Graduate\", \"Self_Employed\": \"Yes\", \"ApplicantIncome\": 3450, \"CoapplicantIncome\": 2079.0, \"LoanAmount\": 162.0, \"Loan_Amount_Term\": 360.0, \"Credit_History\": 1.0, \"Property_Area\": \"Semiurban\", \"Loan_Status\": \"Y\"}, {\"Loan_ID\": \"LP002517\", \"Gender\": \"Male\", \"Married\": \"Yes\", \"Dependents\": \"1\", \"Education\": \"Not Graduate\", \"Self_Employed\": \"No\", \"ApplicantIncome\": 2653, \"CoapplicantIncome\": 1500.0, \"LoanAmount\": 113.0, \"Loan_Amount_Term\": 180.0, \"Credit_History\": 0.0, \"Property_Area\": \"Rural\", \"Loan_Status\": \"N\"}, {\"Loan_ID\": \"LP002519\", \"Gender\": \"Male\", \"Married\": \"Yes\", \"Dependents\": \"3+\", \"Education\": \"Graduate\", \"Self_Employed\": \"No\", \"ApplicantIncome\": 4691, \"CoapplicantIncome\": 0.0, \"LoanAmount\": 100.0, \"Loan_Amount_Term\": 360.0, \"Credit_History\": 1.0, \"Property_Area\": \"Semiurban\", \"Loan_Status\": \"Y\"}, {\"Loan_ID\": \"LP002522\", \"Gender\": \"Female\", \"Married\": \"No\", \"Dependents\": \"0\", \"Education\": \"Graduate\", \"Self_Employed\": \"Yes\", \"ApplicantIncome\": 2500, \"CoapplicantIncome\": 0.0, \"LoanAmount\": 93.0, \"Loan_Amount_Term\": 360.0, \"Credit_History\": 1.0, \"Property_Area\": \"Urban\", \"Loan_Status\": \"Y\"}, {\"Loan_ID\": \"LP002524\", \"Gender\": \"Male\", \"Married\": \"No\", \"Dependents\": \"2\", \"Education\": \"Graduate\", \"Self_Employed\": \"No\", \"ApplicantIncome\": 5532, \"CoapplicantIncome\": 4648.0, \"LoanAmount\": 162.0, \"Loan_Amount_Term\": 360.0, \"Credit_History\": 1.0, \"Property_Area\": \"Rural\", \"Loan_Status\": \"Y\"}, {\"Loan_ID\": \"LP002527\", \"Gender\": \"Male\", \"Married\": \"Yes\", \"Dependents\": \"2\", \"Education\": \"Graduate\", \"Self_Employed\": \"Yes\", \"ApplicantIncome\": 16525, \"CoapplicantIncome\": 1014.0, \"LoanAmount\": 150.0, \"Loan_Amount_Term\": 360.0, \"Credit_History\": 1.0, \"Property_Area\": \"Rural\", \"Loan_Status\": \"Y\"}, {\"Loan_ID\": \"LP002529\", \"Gender\": \"Male\", \"Married\": \"Yes\", \"Dependents\": \"2\", \"Education\": \"Graduate\", \"Self_Employed\": \"No\", \"ApplicantIncome\": 6700, \"CoapplicantIncome\": 1750.0, \"LoanAmount\": 230.0, \"Loan_Amount_Term\": 300.0, \"Credit_History\": 1.0, \"Property_Area\": \"Semiurban\", \"Loan_Status\": \"Y\"}, {\"Loan_ID\": \"LP002530\", \"Gender\": \"Male\", \"Married\": \"Yes\", \"Dependents\": \"2\", \"Education\": \"Graduate\", \"Self_Employed\": \"No\", \"ApplicantIncome\": 2873, \"CoapplicantIncome\": 1872.0, \"LoanAmount\": 132.0, \"Loan_Amount_Term\": 360.0, \"Credit_History\": 0.0, \"Property_Area\": \"Semiurban\", \"Loan_Status\": \"N\"}, {\"Loan_ID\": \"LP002531\", \"Gender\": \"Male\", \"Married\": \"Yes\", \"Dependents\": \"1\", \"Education\": \"Graduate\", \"Self_Employed\": \"Yes\", \"ApplicantIncome\": 16667, \"CoapplicantIncome\": 2250.0, \"LoanAmount\": 86.0, \"Loan_Amount_Term\": 360.0, \"Credit_History\": 1.0, \"Property_Area\": \"Semiurban\", \"Loan_Status\": \"Y\"}, {\"Loan_ID\": \"LP002533\", \"Gender\": \"Male\", \"Married\": \"Yes\", \"Dependents\": \"2\", \"Education\": \"Graduate\", \"Self_Employed\": \"No\", \"ApplicantIncome\": 2947, \"CoapplicantIncome\": 1603.0, \"LoanAmount\": 146.41216216216216, \"Loan_Amount_Term\": 360.0, \"Credit_History\": 1.0, \"Property_Area\": \"Urban\", \"Loan_Status\": \"N\"}, {\"Loan_ID\": \"LP002534\", \"Gender\": \"Female\", \"Married\": \"No\", \"Dependents\": \"0\", \"Education\": \"Not Graduate\", \"Self_Employed\": \"No\", \"ApplicantIncome\": 4350, \"CoapplicantIncome\": 0.0, \"LoanAmount\": 154.0, \"Loan_Amount_Term\": 360.0, \"Credit_History\": 1.0, \"Property_Area\": \"Rural\", \"Loan_Status\": \"Y\"}, {\"Loan_ID\": \"LP002536\", \"Gender\": \"Male\", \"Married\": \"Yes\", \"Dependents\": \"3+\", \"Education\": \"Not Graduate\", \"Self_Employed\": \"No\", \"ApplicantIncome\": 3095, \"CoapplicantIncome\": 0.0, \"LoanAmount\": 113.0, \"Loan_Amount_Term\": 360.0, \"Credit_History\": 1.0, \"Property_Area\": \"Rural\", \"Loan_Status\": \"Y\"}, {\"Loan_ID\": \"LP002537\", \"Gender\": \"Male\", \"Married\": \"Yes\", \"Dependents\": \"0\", \"Education\": \"Graduate\", \"Self_Employed\": \"No\", \"ApplicantIncome\": 2083, \"CoapplicantIncome\": 3150.0, \"LoanAmount\": 128.0, \"Loan_Amount_Term\": 360.0, \"Credit_History\": 1.0, \"Property_Area\": \"Semiurban\", \"Loan_Status\": \"Y\"}, {\"Loan_ID\": \"LP002541\", \"Gender\": \"Male\", \"Married\": \"Yes\", \"Dependents\": \"0\", \"Education\": \"Graduate\", \"Self_Employed\": \"No\", \"ApplicantIncome\": 10833, \"CoapplicantIncome\": 0.0, \"LoanAmount\": 234.0, \"Loan_Amount_Term\": 360.0, \"Credit_History\": 1.0, \"Property_Area\": \"Semiurban\", \"Loan_Status\": \"Y\"}, {\"Loan_ID\": \"LP002543\", \"Gender\": \"Male\", \"Married\": \"Yes\", \"Dependents\": \"2\", \"Education\": \"Graduate\", \"Self_Employed\": \"No\", \"ApplicantIncome\": 8333, \"CoapplicantIncome\": 0.0, \"LoanAmount\": 246.0, \"Loan_Amount_Term\": 360.0, \"Credit_History\": 1.0, \"Property_Area\": \"Semiurban\", \"Loan_Status\": \"Y\"}, {\"Loan_ID\": \"LP002544\", \"Gender\": \"Male\", \"Married\": \"Yes\", \"Dependents\": \"1\", \"Education\": \"Not Graduate\", \"Self_Employed\": \"No\", \"ApplicantIncome\": 1958, \"CoapplicantIncome\": 2436.0, \"LoanAmount\": 131.0, \"Loan_Amount_Term\": 360.0, \"Credit_History\": 1.0, \"Property_Area\": \"Rural\", \"Loan_Status\": \"Y\"}, {\"Loan_ID\": \"LP002545\", \"Gender\": \"Male\", \"Married\": \"No\", \"Dependents\": \"2\", \"Education\": \"Graduate\", \"Self_Employed\": \"No\", \"ApplicantIncome\": 3547, \"CoapplicantIncome\": 0.0, \"LoanAmount\": 80.0, \"Loan_Amount_Term\": 360.0, \"Credit_History\": 0.0, \"Property_Area\": \"Rural\", \"Loan_Status\": \"N\"}, {\"Loan_ID\": \"LP002547\", \"Gender\": \"Male\", \"Married\": \"Yes\", \"Dependents\": \"1\", \"Education\": \"Graduate\", \"Self_Employed\": \"No\", \"ApplicantIncome\": 18333, \"CoapplicantIncome\": 0.0, \"LoanAmount\": 500.0, \"Loan_Amount_Term\": 360.0, \"Credit_History\": 1.0, \"Property_Area\": \"Urban\", \"Loan_Status\": \"N\"}, {\"Loan_ID\": \"LP002555\", \"Gender\": \"Male\", \"Married\": \"Yes\", \"Dependents\": \"2\", \"Education\": \"Graduate\", \"Self_Employed\": \"Yes\", \"ApplicantIncome\": 4583, \"CoapplicantIncome\": 2083.0, \"LoanAmount\": 160.0, \"Loan_Amount_Term\": 360.0, \"Credit_History\": 1.0, \"Property_Area\": \"Semiurban\", \"Loan_Status\": \"Y\"}, {\"Loan_ID\": \"LP002556\", \"Gender\": \"Male\", \"Married\": \"No\", \"Dependents\": \"0\", \"Education\": \"Graduate\", \"Self_Employed\": \"No\", \"ApplicantIncome\": 2435, \"CoapplicantIncome\": 0.0, \"LoanAmount\": 75.0, \"Loan_Amount_Term\": 360.0, \"Credit_History\": 1.0, \"Property_Area\": \"Urban\", \"Loan_Status\": \"N\"}, {\"Loan_ID\": \"LP002560\", \"Gender\": \"Male\", \"Married\": \"No\", \"Dependents\": \"0\", \"Education\": \"Not Graduate\", \"Self_Employed\": \"No\", \"ApplicantIncome\": 2699, \"CoapplicantIncome\": 2785.0, \"LoanAmount\": 96.0, \"Loan_Amount_Term\": 360.0, \"Credit_History\": 1.0, \"Property_Area\": \"Semiurban\", \"Loan_Status\": \"Y\"}, {\"Loan_ID\": \"LP002562\", \"Gender\": \"Male\", \"Married\": \"Yes\", \"Dependents\": \"1\", \"Education\": \"Not Graduate\", \"Self_Employed\": \"No\", \"ApplicantIncome\": 5333, \"CoapplicantIncome\": 1131.0, \"LoanAmount\": 186.0, \"Loan_Amount_Term\": 360.0, \"Credit_History\": 1.0, \"Property_Area\": \"Urban\", \"Loan_Status\": \"Y\"}, {\"Loan_ID\": \"LP002571\", \"Gender\": \"Male\", \"Married\": \"No\", \"Dependents\": \"0\", \"Education\": \"Not Graduate\", \"Self_Employed\": \"No\", \"ApplicantIncome\": 3691, \"CoapplicantIncome\": 0.0, \"LoanAmount\": 110.0, \"Loan_Amount_Term\": 360.0, \"Credit_History\": 1.0, \"Property_Area\": \"Rural\", \"Loan_Status\": \"Y\"}, {\"Loan_ID\": \"LP002582\", \"Gender\": \"Female\", \"Married\": \"No\", \"Dependents\": \"0\", \"Education\": \"Not Graduate\", \"Self_Employed\": \"Yes\", \"ApplicantIncome\": 17263, \"CoapplicantIncome\": 0.0, \"LoanAmount\": 225.0, \"Loan_Amount_Term\": 360.0, \"Credit_History\": 1.0, \"Property_Area\": \"Semiurban\", \"Loan_Status\": \"Y\"}, {\"Loan_ID\": \"LP002585\", \"Gender\": \"Male\", \"Married\": \"Yes\", \"Dependents\": \"0\", \"Education\": \"Graduate\", \"Self_Employed\": \"No\", \"ApplicantIncome\": 3597, \"CoapplicantIncome\": 2157.0, \"LoanAmount\": 119.0, \"Loan_Amount_Term\": 360.0, \"Credit_History\": 0.0, \"Property_Area\": \"Rural\", \"Loan_Status\": \"N\"}, {\"Loan_ID\": \"LP002586\", \"Gender\": \"Female\", \"Married\": \"Yes\", \"Dependents\": \"1\", \"Education\": \"Graduate\", \"Self_Employed\": \"No\", \"ApplicantIncome\": 3326, \"CoapplicantIncome\": 913.0, \"LoanAmount\": 105.0, \"Loan_Amount_Term\": 84.0, \"Credit_History\": 1.0, \"Property_Area\": \"Semiurban\", \"Loan_Status\": \"Y\"}, {\"Loan_ID\": \"LP002587\", \"Gender\": \"Male\", \"Married\": \"Yes\", \"Dependents\": \"0\", \"Education\": \"Not Graduate\", \"Self_Employed\": \"No\", \"ApplicantIncome\": 2600, \"CoapplicantIncome\": 1700.0, \"LoanAmount\": 107.0, \"Loan_Amount_Term\": 360.0, \"Credit_History\": 1.0, \"Property_Area\": \"Rural\", \"Loan_Status\": \"Y\"}, {\"Loan_ID\": \"LP002588\", \"Gender\": \"Male\", \"Married\": \"Yes\", \"Dependents\": \"0\", \"Education\": \"Graduate\", \"Self_Employed\": \"No\", \"ApplicantIncome\": 4625, \"CoapplicantIncome\": 2857.0, \"LoanAmount\": 111.0, \"Loan_Amount_Term\": 12.0, \"Credit_History\": 1.0, \"Property_Area\": \"Urban\", \"Loan_Status\": \"Y\"}, {\"Loan_ID\": \"LP002600\", \"Gender\": \"Male\", \"Married\": \"Yes\", \"Dependents\": \"1\", \"Education\": \"Graduate\", \"Self_Employed\": \"Yes\", \"ApplicantIncome\": 2895, \"CoapplicantIncome\": 0.0, \"LoanAmount\": 95.0, \"Loan_Amount_Term\": 360.0, \"Credit_History\": 1.0, \"Property_Area\": \"Semiurban\", \"Loan_Status\": \"Y\"}, {\"Loan_ID\": \"LP002602\", \"Gender\": \"Male\", \"Married\": \"No\", \"Dependents\": \"0\", \"Education\": \"Graduate\", \"Self_Employed\": \"No\", \"ApplicantIncome\": 6283, \"CoapplicantIncome\": 4416.0, \"LoanAmount\": 209.0, \"Loan_Amount_Term\": 360.0, \"Credit_History\": 0.0, \"Property_Area\": \"Rural\", \"Loan_Status\": \"N\"}, {\"Loan_ID\": \"LP002603\", \"Gender\": \"Female\", \"Married\": \"No\", \"Dependents\": \"0\", \"Education\": \"Graduate\", \"Self_Employed\": \"No\", \"ApplicantIncome\": 645, \"CoapplicantIncome\": 3683.0, \"LoanAmount\": 113.0, \"Loan_Amount_Term\": 480.0, \"Credit_History\": 1.0, \"Property_Area\": \"Rural\", \"Loan_Status\": \"Y\"}, {\"Loan_ID\": \"LP002606\", \"Gender\": \"Female\", \"Married\": \"No\", \"Dependents\": \"0\", \"Education\": \"Graduate\", \"Self_Employed\": \"No\", \"ApplicantIncome\": 3159, \"CoapplicantIncome\": 0.0, \"LoanAmount\": 100.0, \"Loan_Amount_Term\": 360.0, \"Credit_History\": 1.0, \"Property_Area\": \"Semiurban\", \"Loan_Status\": \"Y\"}, {\"Loan_ID\": \"LP002615\", \"Gender\": \"Male\", \"Married\": \"Yes\", \"Dependents\": \"2\", \"Education\": \"Graduate\", \"Self_Employed\": \"No\", \"ApplicantIncome\": 4865, \"CoapplicantIncome\": 5624.0, \"LoanAmount\": 208.0, \"Loan_Amount_Term\": 360.0, \"Credit_History\": 1.0, \"Property_Area\": \"Semiurban\", \"Loan_Status\": \"Y\"}, {\"Loan_ID\": \"LP002618\", \"Gender\": \"Male\", \"Married\": \"Yes\", \"Dependents\": \"1\", \"Education\": \"Not Graduate\", \"Self_Employed\": \"No\", \"ApplicantIncome\": 4050, \"CoapplicantIncome\": 5302.0, \"LoanAmount\": 138.0, \"Loan_Amount_Term\": 360.0, \"Credit_History\": 1.0, \"Property_Area\": \"Rural\", \"Loan_Status\": \"N\"}, {\"Loan_ID\": \"LP002619\", \"Gender\": \"Male\", \"Married\": \"Yes\", \"Dependents\": \"0\", \"Education\": \"Not Graduate\", \"Self_Employed\": \"No\", \"ApplicantIncome\": 3814, \"CoapplicantIncome\": 1483.0, \"LoanAmount\": 124.0, \"Loan_Amount_Term\": 300.0, \"Credit_History\": 1.0, \"Property_Area\": \"Semiurban\", \"Loan_Status\": \"Y\"}, {\"Loan_ID\": \"LP002622\", \"Gender\": \"Male\", \"Married\": \"Yes\", \"Dependents\": \"2\", \"Education\": \"Graduate\", \"Self_Employed\": \"No\", \"ApplicantIncome\": 3510, \"CoapplicantIncome\": 4416.0, \"LoanAmount\": 243.0, \"Loan_Amount_Term\": 360.0, \"Credit_History\": 1.0, \"Property_Area\": \"Rural\", \"Loan_Status\": \"Y\"}, {\"Loan_ID\": \"LP002624\", \"Gender\": \"Male\", \"Married\": \"Yes\", \"Dependents\": \"0\", \"Education\": \"Graduate\", \"Self_Employed\": \"No\", \"ApplicantIncome\": 20833, \"CoapplicantIncome\": 6667.0, \"LoanAmount\": 480.0, \"Loan_Amount_Term\": 360.0, \"Credit_History\": 1.0, \"Property_Area\": \"Urban\", \"Loan_Status\": \"Y\"}, {\"Loan_ID\": \"LP002625\", \"Gender\": \"Male\", \"Married\": \"No\", \"Dependents\": \"0\", \"Education\": \"Graduate\", \"Self_Employed\": \"No\", \"ApplicantIncome\": 3583, \"CoapplicantIncome\": 0.0, \"LoanAmount\": 96.0, \"Loan_Amount_Term\": 360.0, \"Credit_History\": 1.0, \"Property_Area\": \"Urban\", \"Loan_Status\": \"N\"}, {\"Loan_ID\": \"LP002626\", \"Gender\": \"Male\", \"Married\": \"Yes\", \"Dependents\": \"0\", \"Education\": \"Graduate\", \"Self_Employed\": \"Yes\", \"ApplicantIncome\": 2479, \"CoapplicantIncome\": 3013.0, \"LoanAmount\": 188.0, \"Loan_Amount_Term\": 360.0, \"Credit_History\": 1.0, \"Property_Area\": \"Urban\", \"Loan_Status\": \"Y\"}, {\"Loan_ID\": \"LP002634\", \"Gender\": \"Female\", \"Married\": \"No\", \"Dependents\": \"1\", \"Education\": \"Graduate\", \"Self_Employed\": \"No\", \"ApplicantIncome\": 13262, \"CoapplicantIncome\": 0.0, \"LoanAmount\": 40.0, \"Loan_Amount_Term\": 360.0, \"Credit_History\": 1.0, \"Property_Area\": \"Urban\", \"Loan_Status\": \"Y\"}, {\"Loan_ID\": \"LP002637\", \"Gender\": \"Male\", \"Married\": \"No\", \"Dependents\": \"0\", \"Education\": \"Not Graduate\", \"Self_Employed\": \"No\", \"ApplicantIncome\": 3598, \"CoapplicantIncome\": 1287.0, \"LoanAmount\": 100.0, \"Loan_Amount_Term\": 360.0, \"Credit_History\": 1.0, \"Property_Area\": \"Rural\", \"Loan_Status\": \"N\"}, {\"Loan_ID\": \"LP002640\", \"Gender\": \"Male\", \"Married\": \"Yes\", \"Dependents\": \"1\", \"Education\": \"Graduate\", \"Self_Employed\": \"No\", \"ApplicantIncome\": 6065, \"CoapplicantIncome\": 2004.0, \"LoanAmount\": 250.0, \"Loan_Amount_Term\": 360.0, \"Credit_History\": 1.0, \"Property_Area\": \"Semiurban\", \"Loan_Status\": \"Y\"}, {\"Loan_ID\": \"LP002643\", \"Gender\": \"Male\", \"Married\": \"Yes\", \"Dependents\": \"2\", \"Education\": \"Graduate\", \"Self_Employed\": \"No\", \"ApplicantIncome\": 3283, \"CoapplicantIncome\": 2035.0, \"LoanAmount\": 148.0, \"Loan_Amount_Term\": 360.0, \"Credit_History\": 1.0, \"Property_Area\": \"Urban\", \"Loan_Status\": \"Y\"}, {\"Loan_ID\": \"LP002648\", \"Gender\": \"Male\", \"Married\": \"Yes\", \"Dependents\": \"0\", \"Education\": \"Graduate\", \"Self_Employed\": \"No\", \"ApplicantIncome\": 2130, \"CoapplicantIncome\": 6666.0, \"LoanAmount\": 70.0, \"Loan_Amount_Term\": 180.0, \"Credit_History\": 1.0, \"Property_Area\": \"Semiurban\", \"Loan_Status\": \"N\"}, {\"Loan_ID\": \"LP002652\", \"Gender\": \"Male\", \"Married\": \"No\", \"Dependents\": \"0\", \"Education\": \"Graduate\", \"Self_Employed\": \"No\", \"ApplicantIncome\": 5815, \"CoapplicantIncome\": 3666.0, \"LoanAmount\": 311.0, \"Loan_Amount_Term\": 360.0, \"Credit_History\": 1.0, \"Property_Area\": \"Rural\", \"Loan_Status\": \"N\"}, {\"Loan_ID\": \"LP002659\", \"Gender\": \"Male\", \"Married\": \"Yes\", \"Dependents\": \"3+\", \"Education\": \"Graduate\", \"Self_Employed\": \"No\", \"ApplicantIncome\": 3466, \"CoapplicantIncome\": 3428.0, \"LoanAmount\": 150.0, \"Loan_Amount_Term\": 360.0, \"Credit_History\": 1.0, \"Property_Area\": \"Rural\", \"Loan_Status\": \"Y\"}, {\"Loan_ID\": \"LP002670\", \"Gender\": \"Female\", \"Married\": \"Yes\", \"Dependents\": \"2\", \"Education\": \"Graduate\", \"Self_Employed\": \"No\", \"ApplicantIncome\": 2031, \"CoapplicantIncome\": 1632.0, \"LoanAmount\": 113.0, \"Loan_Amount_Term\": 480.0, \"Credit_History\": 1.0, \"Property_Area\": \"Semiurban\", \"Loan_Status\": \"Y\"}, {\"Loan_ID\": \"LP002682\", \"Gender\": \"Male\", \"Married\": \"Yes\", \"Dependents\": \"0\", \"Education\": \"Not Graduate\", \"Self_Employed\": \"No\", \"ApplicantIncome\": 3074, \"CoapplicantIncome\": 1800.0, \"LoanAmount\": 123.0, \"Loan_Amount_Term\": 360.0, \"Credit_History\": 0.0, \"Property_Area\": \"Semiurban\", \"Loan_Status\": \"N\"}, {\"Loan_ID\": \"LP002683\", \"Gender\": \"Male\", \"Married\": \"No\", \"Dependents\": \"0\", \"Education\": \"Graduate\", \"Self_Employed\": \"No\", \"ApplicantIncome\": 4683, \"CoapplicantIncome\": 1915.0, \"LoanAmount\": 185.0, \"Loan_Amount_Term\": 360.0, \"Credit_History\": 1.0, \"Property_Area\": \"Semiurban\", \"Loan_Status\": \"N\"}, {\"Loan_ID\": \"LP002684\", \"Gender\": \"Female\", \"Married\": \"No\", \"Dependents\": \"0\", \"Education\": \"Not Graduate\", \"Self_Employed\": \"No\", \"ApplicantIncome\": 3400, \"CoapplicantIncome\": 0.0, \"LoanAmount\": 95.0, \"Loan_Amount_Term\": 360.0, \"Credit_History\": 1.0, \"Property_Area\": \"Rural\", \"Loan_Status\": \"N\"}, {\"Loan_ID\": \"LP002689\", \"Gender\": \"Male\", \"Married\": \"Yes\", \"Dependents\": \"2\", \"Education\": \"Not Graduate\", \"Self_Employed\": \"No\", \"ApplicantIncome\": 2192, \"CoapplicantIncome\": 1742.0, \"LoanAmount\": 45.0, \"Loan_Amount_Term\": 360.0, \"Credit_History\": 1.0, \"Property_Area\": \"Semiurban\", \"Loan_Status\": \"Y\"}, {\"Loan_ID\": \"LP002690\", \"Gender\": \"Male\", \"Married\": \"No\", \"Dependents\": \"0\", \"Education\": \"Graduate\", \"Self_Employed\": \"No\", \"ApplicantIncome\": 2500, \"CoapplicantIncome\": 0.0, \"LoanAmount\": 55.0, \"Loan_Amount_Term\": 360.0, \"Credit_History\": 1.0, \"Property_Area\": \"Semiurban\", \"Loan_Status\": \"Y\"}, {\"Loan_ID\": \"LP002692\", \"Gender\": \"Male\", \"Married\": \"Yes\", \"Dependents\": \"3+\", \"Education\": \"Graduate\", \"Self_Employed\": \"Yes\", \"ApplicantIncome\": 5677, \"CoapplicantIncome\": 1424.0, \"LoanAmount\": 100.0, \"Loan_Amount_Term\": 360.0, \"Credit_History\": 1.0, \"Property_Area\": \"Rural\", \"Loan_Status\": \"Y\"}, {\"Loan_ID\": \"LP002693\", \"Gender\": \"Male\", \"Married\": \"Yes\", \"Dependents\": \"2\", \"Education\": \"Graduate\", \"Self_Employed\": \"Yes\", \"ApplicantIncome\": 7948, \"CoapplicantIncome\": 7166.0, \"LoanAmount\": 480.0, \"Loan_Amount_Term\": 360.0, \"Credit_History\": 1.0, \"Property_Area\": \"Rural\", \"Loan_Status\": \"Y\"}, {\"Loan_ID\": \"LP002697\", \"Gender\": \"Male\", \"Married\": \"No\", \"Dependents\": \"0\", \"Education\": \"Graduate\", \"Self_Employed\": \"No\", \"ApplicantIncome\": 4680, \"CoapplicantIncome\": 2087.0, \"LoanAmount\": 146.41216216216216, \"Loan_Amount_Term\": 360.0, \"Credit_History\": 1.0, \"Property_Area\": \"Semiurban\", \"Loan_Status\": \"N\"}, {\"Loan_ID\": \"LP002699\", \"Gender\": \"Male\", \"Married\": \"Yes\", \"Dependents\": \"2\", \"Education\": \"Graduate\", \"Self_Employed\": \"Yes\", \"ApplicantIncome\": 17500, \"CoapplicantIncome\": 0.0, \"LoanAmount\": 400.0, \"Loan_Amount_Term\": 360.0, \"Credit_History\": 1.0, \"Property_Area\": \"Rural\", \"Loan_Status\": \"Y\"}, {\"Loan_ID\": \"LP002705\", \"Gender\": \"Male\", \"Married\": \"Yes\", \"Dependents\": \"0\", \"Education\": \"Graduate\", \"Self_Employed\": \"No\", \"ApplicantIncome\": 3775, \"CoapplicantIncome\": 0.0, \"LoanAmount\": 110.0, \"Loan_Amount_Term\": 360.0, \"Credit_History\": 1.0, \"Property_Area\": \"Semiurban\", \"Loan_Status\": \"Y\"}, {\"Loan_ID\": \"LP002706\", \"Gender\": \"Male\", \"Married\": \"Yes\", \"Dependents\": \"1\", \"Education\": \"Not Graduate\", \"Self_Employed\": \"No\", \"ApplicantIncome\": 5285, \"CoapplicantIncome\": 1430.0, \"LoanAmount\": 161.0, \"Loan_Amount_Term\": 360.0, \"Credit_History\": 0.0, \"Property_Area\": \"Semiurban\", \"Loan_Status\": \"Y\"}, {\"Loan_ID\": \"LP002714\", \"Gender\": \"Male\", \"Married\": \"No\", \"Dependents\": \"1\", \"Education\": \"Not Graduate\", \"Self_Employed\": \"No\", \"ApplicantIncome\": 2679, \"CoapplicantIncome\": 1302.0, \"LoanAmount\": 94.0, \"Loan_Amount_Term\": 360.0, \"Credit_History\": 1.0, \"Property_Area\": \"Semiurban\", \"Loan_Status\": \"Y\"}, {\"Loan_ID\": \"LP002716\", \"Gender\": \"Male\", \"Married\": \"No\", \"Dependents\": \"0\", \"Education\": \"Not Graduate\", \"Self_Employed\": \"No\", \"ApplicantIncome\": 6783, \"CoapplicantIncome\": 0.0, \"LoanAmount\": 130.0, \"Loan_Amount_Term\": 360.0, \"Credit_History\": 1.0, \"Property_Area\": \"Semiurban\", \"Loan_Status\": \"Y\"}, {\"Loan_ID\": \"LP002717\", \"Gender\": \"Male\", \"Married\": \"Yes\", \"Dependents\": \"0\", \"Education\": \"Graduate\", \"Self_Employed\": \"No\", \"ApplicantIncome\": 1025, \"CoapplicantIncome\": 5500.0, \"LoanAmount\": 216.0, \"Loan_Amount_Term\": 360.0, \"Credit_History\": 1.0, \"Property_Area\": \"Rural\", \"Loan_Status\": \"Y\"}, {\"Loan_ID\": \"LP002720\", \"Gender\": \"Male\", \"Married\": \"Yes\", \"Dependents\": \"3+\", \"Education\": \"Graduate\", \"Self_Employed\": \"No\", \"ApplicantIncome\": 4281, \"CoapplicantIncome\": 0.0, \"LoanAmount\": 100.0, \"Loan_Amount_Term\": 360.0, \"Credit_History\": 1.0, \"Property_Area\": \"Urban\", \"Loan_Status\": \"Y\"}, {\"Loan_ID\": \"LP002723\", \"Gender\": \"Male\", \"Married\": \"No\", \"Dependents\": \"2\", \"Education\": \"Graduate\", \"Self_Employed\": \"No\", \"ApplicantIncome\": 3588, \"CoapplicantIncome\": 0.0, \"LoanAmount\": 110.0, \"Loan_Amount_Term\": 360.0, \"Credit_History\": 0.0, \"Property_Area\": \"Rural\", \"Loan_Status\": \"N\"}, {\"Loan_ID\": \"LP002729\", \"Gender\": \"Male\", \"Married\": \"No\", \"Dependents\": \"1\", \"Education\": \"Graduate\", \"Self_Employed\": \"No\", \"ApplicantIncome\": 11250, \"CoapplicantIncome\": 0.0, \"LoanAmount\": 196.0, \"Loan_Amount_Term\": 360.0, \"Credit_History\": 1.0, \"Property_Area\": \"Semiurban\", \"Loan_Status\": \"N\"}, {\"Loan_ID\": \"LP002731\", \"Gender\": \"Female\", \"Married\": \"No\", \"Dependents\": \"0\", \"Education\": \"Not Graduate\", \"Self_Employed\": \"Yes\", \"ApplicantIncome\": 18165, \"CoapplicantIncome\": 0.0, \"LoanAmount\": 125.0, \"Loan_Amount_Term\": 360.0, \"Credit_History\": 1.0, \"Property_Area\": \"Urban\", \"Loan_Status\": \"Y\"}, {\"Loan_ID\": \"LP002732\", \"Gender\": \"Male\", \"Married\": \"No\", \"Dependents\": \"0\", \"Education\": \"Not Graduate\", \"Self_Employed\": \"No\", \"ApplicantIncome\": 2550, \"CoapplicantIncome\": 2042.0, \"LoanAmount\": 126.0, \"Loan_Amount_Term\": 360.0, \"Credit_History\": 1.0, \"Property_Area\": \"Rural\", \"Loan_Status\": \"Y\"}, {\"Loan_ID\": \"LP002734\", \"Gender\": \"Male\", \"Married\": \"Yes\", \"Dependents\": \"0\", \"Education\": \"Graduate\", \"Self_Employed\": \"No\", \"ApplicantIncome\": 6133, \"CoapplicantIncome\": 3906.0, \"LoanAmount\": 324.0, \"Loan_Amount_Term\": 360.0, \"Credit_History\": 1.0, \"Property_Area\": \"Urban\", \"Loan_Status\": \"Y\"}, {\"Loan_ID\": \"LP002738\", \"Gender\": \"Male\", \"Married\": \"No\", \"Dependents\": \"2\", \"Education\": \"Graduate\", \"Self_Employed\": \"No\", \"ApplicantIncome\": 3617, \"CoapplicantIncome\": 0.0, \"LoanAmount\": 107.0, \"Loan_Amount_Term\": 360.0, \"Credit_History\": 1.0, \"Property_Area\": \"Semiurban\", \"Loan_Status\": \"Y\"}, {\"Loan_ID\": \"LP002739\", \"Gender\": \"Male\", \"Married\": \"Yes\", \"Dependents\": \"0\", \"Education\": \"Not Graduate\", \"Self_Employed\": \"No\", \"ApplicantIncome\": 2917, \"CoapplicantIncome\": 536.0, \"LoanAmount\": 66.0, \"Loan_Amount_Term\": 360.0, \"Credit_History\": 1.0, \"Property_Area\": \"Rural\", \"Loan_Status\": \"N\"}, {\"Loan_ID\": \"LP002740\", \"Gender\": \"Male\", \"Married\": \"Yes\", \"Dependents\": \"3+\", \"Education\": \"Graduate\", \"Self_Employed\": \"No\", \"ApplicantIncome\": 6417, \"CoapplicantIncome\": 0.0, \"LoanAmount\": 157.0, \"Loan_Amount_Term\": 180.0, \"Credit_History\": 1.0, \"Property_Area\": \"Rural\", \"Loan_Status\": \"Y\"}, {\"Loan_ID\": \"LP002741\", \"Gender\": \"Female\", \"Married\": \"Yes\", \"Dependents\": \"1\", \"Education\": \"Graduate\", \"Self_Employed\": \"No\", \"ApplicantIncome\": 4608, \"CoapplicantIncome\": 2845.0, \"LoanAmount\": 140.0, \"Loan_Amount_Term\": 180.0, \"Credit_History\": 1.0, \"Property_Area\": \"Semiurban\", \"Loan_Status\": \"Y\"}, {\"Loan_ID\": \"LP002743\", \"Gender\": \"Female\", \"Married\": \"No\", \"Dependents\": \"0\", \"Education\": \"Graduate\", \"Self_Employed\": \"No\", \"ApplicantIncome\": 2138, \"CoapplicantIncome\": 0.0, \"LoanAmount\": 99.0, \"Loan_Amount_Term\": 360.0, \"Credit_History\": 0.0, \"Property_Area\": \"Semiurban\", \"Loan_Status\": \"N\"}, {\"Loan_ID\": \"LP002753\", \"Gender\": \"Female\", \"Married\": \"No\", \"Dependents\": \"1\", \"Education\": \"Graduate\", \"Self_Employed\": \"No\", \"ApplicantIncome\": 3652, \"CoapplicantIncome\": 0.0, \"LoanAmount\": 95.0, \"Loan_Amount_Term\": 360.0, \"Credit_History\": 1.0, \"Property_Area\": \"Semiurban\", \"Loan_Status\": \"Y\"}, {\"Loan_ID\": \"LP002755\", \"Gender\": \"Male\", \"Married\": \"Yes\", \"Dependents\": \"1\", \"Education\": \"Not Graduate\", \"Self_Employed\": \"No\", \"ApplicantIncome\": 2239, \"CoapplicantIncome\": 2524.0, \"LoanAmount\": 128.0, \"Loan_Amount_Term\": 360.0, \"Credit_History\": 1.0, \"Property_Area\": \"Urban\", \"Loan_Status\": \"Y\"}, {\"Loan_ID\": \"LP002757\", \"Gender\": \"Female\", \"Married\": \"Yes\", \"Dependents\": \"0\", \"Education\": \"Not Graduate\", \"Self_Employed\": \"No\", \"ApplicantIncome\": 3017, \"CoapplicantIncome\": 663.0, \"LoanAmount\": 102.0, \"Loan_Amount_Term\": 360.0, \"Credit_History\": 1.0, \"Property_Area\": \"Semiurban\", \"Loan_Status\": \"Y\"}, {\"Loan_ID\": \"LP002767\", \"Gender\": \"Male\", \"Married\": \"Yes\", \"Dependents\": \"0\", \"Education\": \"Graduate\", \"Self_Employed\": \"No\", \"ApplicantIncome\": 2768, \"CoapplicantIncome\": 1950.0, \"LoanAmount\": 155.0, \"Loan_Amount_Term\": 360.0, \"Credit_History\": 1.0, \"Property_Area\": \"Rural\", \"Loan_Status\": \"Y\"}, {\"Loan_ID\": \"LP002768\", \"Gender\": \"Male\", \"Married\": \"No\", \"Dependents\": \"0\", \"Education\": \"Not Graduate\", \"Self_Employed\": \"No\", \"ApplicantIncome\": 3358, \"CoapplicantIncome\": 0.0, \"LoanAmount\": 80.0, \"Loan_Amount_Term\": 36.0, \"Credit_History\": 1.0, \"Property_Area\": \"Semiurban\", \"Loan_Status\": \"N\"}, {\"Loan_ID\": \"LP002772\", \"Gender\": \"Male\", \"Married\": \"No\", \"Dependents\": \"0\", \"Education\": \"Graduate\", \"Self_Employed\": \"No\", \"ApplicantIncome\": 2526, \"CoapplicantIncome\": 1783.0, \"LoanAmount\": 145.0, \"Loan_Amount_Term\": 360.0, \"Credit_History\": 1.0, \"Property_Area\": \"Rural\", \"Loan_Status\": \"Y\"}, {\"Loan_ID\": \"LP002776\", \"Gender\": \"Female\", \"Married\": \"No\", \"Dependents\": \"0\", \"Education\": \"Graduate\", \"Self_Employed\": \"No\", \"ApplicantIncome\": 5000, \"CoapplicantIncome\": 0.0, \"LoanAmount\": 103.0, \"Loan_Amount_Term\": 360.0, \"Credit_History\": 0.0, \"Property_Area\": \"Semiurban\", \"Loan_Status\": \"N\"}, {\"Loan_ID\": \"LP002777\", \"Gender\": \"Male\", \"Married\": \"Yes\", \"Dependents\": \"0\", \"Education\": \"Graduate\", \"Self_Employed\": \"No\", \"ApplicantIncome\": 2785, \"CoapplicantIncome\": 2016.0, \"LoanAmount\": 110.0, \"Loan_Amount_Term\": 360.0, \"Credit_History\": 1.0, \"Property_Area\": \"Rural\", \"Loan_Status\": \"Y\"}, {\"Loan_ID\": \"LP002778\", \"Gender\": \"Male\", \"Married\": \"Yes\", \"Dependents\": \"2\", \"Education\": \"Graduate\", \"Self_Employed\": \"Yes\", \"ApplicantIncome\": 6633, \"CoapplicantIncome\": 0.0, \"LoanAmount\": 146.41216216216216, \"Loan_Amount_Term\": 360.0, \"Credit_History\": 0.0, \"Property_Area\": \"Rural\", \"Loan_Status\": \"N\"}, {\"Loan_ID\": \"LP002784\", \"Gender\": \"Male\", \"Married\": \"Yes\", \"Dependents\": \"1\", \"Education\": \"Not Graduate\", \"Self_Employed\": \"No\", \"ApplicantIncome\": 2492, \"CoapplicantIncome\": 2375.0, \"LoanAmount\": 146.41216216216216, \"Loan_Amount_Term\": 360.0, \"Credit_History\": 1.0, \"Property_Area\": \"Rural\", \"Loan_Status\": \"Y\"}, {\"Loan_ID\": \"LP002785\", \"Gender\": \"Male\", \"Married\": \"Yes\", \"Dependents\": \"1\", \"Education\": \"Graduate\", \"Self_Employed\": \"No\", \"ApplicantIncome\": 3333, \"CoapplicantIncome\": 3250.0, \"LoanAmount\": 158.0, \"Loan_Amount_Term\": 360.0, \"Credit_History\": 1.0, \"Property_Area\": \"Urban\", \"Loan_Status\": \"Y\"}, {\"Loan_ID\": \"LP002788\", \"Gender\": \"Male\", \"Married\": \"Yes\", \"Dependents\": \"0\", \"Education\": \"Not Graduate\", \"Self_Employed\": \"No\", \"ApplicantIncome\": 2454, \"CoapplicantIncome\": 2333.0, \"LoanAmount\": 181.0, \"Loan_Amount_Term\": 360.0, \"Credit_History\": 0.0, \"Property_Area\": \"Urban\", \"Loan_Status\": \"N\"}, {\"Loan_ID\": \"LP002789\", \"Gender\": \"Male\", \"Married\": \"Yes\", \"Dependents\": \"0\", \"Education\": \"Graduate\", \"Self_Employed\": \"No\", \"ApplicantIncome\": 3593, \"CoapplicantIncome\": 4266.0, \"LoanAmount\": 132.0, \"Loan_Amount_Term\": 180.0, \"Credit_History\": 0.0, \"Property_Area\": \"Rural\", \"Loan_Status\": \"N\"}, {\"Loan_ID\": \"LP002792\", \"Gender\": \"Male\", \"Married\": \"Yes\", \"Dependents\": \"1\", \"Education\": \"Graduate\", \"Self_Employed\": \"No\", \"ApplicantIncome\": 5468, \"CoapplicantIncome\": 1032.0, \"LoanAmount\": 26.0, \"Loan_Amount_Term\": 360.0, \"Credit_History\": 1.0, \"Property_Area\": \"Semiurban\", \"Loan_Status\": \"Y\"}, {\"Loan_ID\": \"LP002794\", \"Gender\": \"Female\", \"Married\": \"No\", \"Dependents\": \"0\", \"Education\": \"Graduate\", \"Self_Employed\": \"No\", \"ApplicantIncome\": 2667, \"CoapplicantIncome\": 1625.0, \"LoanAmount\": 84.0, \"Loan_Amount_Term\": 360.0, \"Credit_History\": 1.0, \"Property_Area\": \"Urban\", \"Loan_Status\": \"Y\"}, {\"Loan_ID\": \"LP002795\", \"Gender\": \"Male\", \"Married\": \"Yes\", \"Dependents\": \"3+\", \"Education\": \"Graduate\", \"Self_Employed\": \"Yes\", \"ApplicantIncome\": 10139, \"CoapplicantIncome\": 0.0, \"LoanAmount\": 260.0, \"Loan_Amount_Term\": 360.0, \"Credit_History\": 1.0, \"Property_Area\": \"Semiurban\", \"Loan_Status\": \"Y\"}, {\"Loan_ID\": \"LP002798\", \"Gender\": \"Male\", \"Married\": \"Yes\", \"Dependents\": \"0\", \"Education\": \"Graduate\", \"Self_Employed\": \"No\", \"ApplicantIncome\": 3887, \"CoapplicantIncome\": 2669.0, \"LoanAmount\": 162.0, \"Loan_Amount_Term\": 360.0, \"Credit_History\": 1.0, \"Property_Area\": \"Semiurban\", \"Loan_Status\": \"Y\"}, {\"Loan_ID\": \"LP002804\", \"Gender\": \"Female\", \"Married\": \"Yes\", \"Dependents\": \"0\", \"Education\": \"Graduate\", \"Self_Employed\": \"No\", \"ApplicantIncome\": 4180, \"CoapplicantIncome\": 2306.0, \"LoanAmount\": 182.0, \"Loan_Amount_Term\": 360.0, \"Credit_History\": 1.0, \"Property_Area\": \"Semiurban\", \"Loan_Status\": \"Y\"}, {\"Loan_ID\": \"LP002807\", \"Gender\": \"Male\", \"Married\": \"Yes\", \"Dependents\": \"2\", \"Education\": \"Not Graduate\", \"Self_Employed\": \"No\", \"ApplicantIncome\": 3675, \"CoapplicantIncome\": 242.0, \"LoanAmount\": 108.0, \"Loan_Amount_Term\": 360.0, \"Credit_History\": 1.0, \"Property_Area\": \"Semiurban\", \"Loan_Status\": \"Y\"}, {\"Loan_ID\": \"LP002813\", \"Gender\": \"Female\", \"Married\": \"Yes\", \"Dependents\": \"1\", \"Education\": \"Graduate\", \"Self_Employed\": \"Yes\", \"ApplicantIncome\": 19484, \"CoapplicantIncome\": 0.0, \"LoanAmount\": 600.0, \"Loan_Amount_Term\": 360.0, \"Credit_History\": 1.0, \"Property_Area\": \"Semiurban\", \"Loan_Status\": \"Y\"}, {\"Loan_ID\": \"LP002820\", \"Gender\": \"Male\", \"Married\": \"Yes\", \"Dependents\": \"0\", \"Education\": \"Graduate\", \"Self_Employed\": \"No\", \"ApplicantIncome\": 5923, \"CoapplicantIncome\": 2054.0, \"LoanAmount\": 211.0, \"Loan_Amount_Term\": 360.0, \"Credit_History\": 1.0, \"Property_Area\": \"Rural\", \"Loan_Status\": \"Y\"}, {\"Loan_ID\": \"LP002821\", \"Gender\": \"Male\", \"Married\": \"No\", \"Dependents\": \"0\", \"Education\": \"Not Graduate\", \"Self_Employed\": \"Yes\", \"ApplicantIncome\": 5800, \"CoapplicantIncome\": 0.0, \"LoanAmount\": 132.0, \"Loan_Amount_Term\": 360.0, \"Credit_History\": 1.0, \"Property_Area\": \"Semiurban\", \"Loan_Status\": \"Y\"}, {\"Loan_ID\": \"LP002832\", \"Gender\": \"Male\", \"Married\": \"Yes\", \"Dependents\": \"2\", \"Education\": \"Graduate\", \"Self_Employed\": \"No\", \"ApplicantIncome\": 8799, \"CoapplicantIncome\": 0.0, \"LoanAmount\": 258.0, \"Loan_Amount_Term\": 360.0, \"Credit_History\": 0.0, \"Property_Area\": \"Urban\", \"Loan_Status\": \"N\"}, {\"Loan_ID\": \"LP002833\", \"Gender\": \"Male\", \"Married\": \"Yes\", \"Dependents\": \"0\", \"Education\": \"Not Graduate\", \"Self_Employed\": \"No\", \"ApplicantIncome\": 4467, \"CoapplicantIncome\": 0.0, \"LoanAmount\": 120.0, \"Loan_Amount_Term\": 360.0, \"Credit_History\": 1.0, \"Property_Area\": \"Rural\", \"Loan_Status\": \"Y\"}, {\"Loan_ID\": \"LP002836\", \"Gender\": \"Male\", \"Married\": \"No\", \"Dependents\": \"0\", \"Education\": \"Graduate\", \"Self_Employed\": \"No\", \"ApplicantIncome\": 3333, \"CoapplicantIncome\": 0.0, \"LoanAmount\": 70.0, \"Loan_Amount_Term\": 360.0, \"Credit_History\": 1.0, \"Property_Area\": \"Urban\", \"Loan_Status\": \"Y\"}, {\"Loan_ID\": \"LP002837\", \"Gender\": \"Male\", \"Married\": \"Yes\", \"Dependents\": \"3+\", \"Education\": \"Graduate\", \"Self_Employed\": \"No\", \"ApplicantIncome\": 3400, \"CoapplicantIncome\": 2500.0, \"LoanAmount\": 123.0, \"Loan_Amount_Term\": 360.0, \"Credit_History\": 0.0, \"Property_Area\": \"Rural\", \"Loan_Status\": \"N\"}, {\"Loan_ID\": \"LP002840\", \"Gender\": \"Female\", \"Married\": \"No\", \"Dependents\": \"0\", \"Education\": \"Graduate\", \"Self_Employed\": \"No\", \"ApplicantIncome\": 2378, \"CoapplicantIncome\": 0.0, \"LoanAmount\": 9.0, \"Loan_Amount_Term\": 360.0, \"Credit_History\": 1.0, \"Property_Area\": \"Urban\", \"Loan_Status\": \"N\"}, {\"Loan_ID\": \"LP002841\", \"Gender\": \"Male\", \"Married\": \"Yes\", \"Dependents\": \"0\", \"Education\": \"Graduate\", \"Self_Employed\": \"No\", \"ApplicantIncome\": 3166, \"CoapplicantIncome\": 2064.0, \"LoanAmount\": 104.0, \"Loan_Amount_Term\": 360.0, \"Credit_History\": 0.0, \"Property_Area\": \"Urban\", \"Loan_Status\": \"N\"}, {\"Loan_ID\": \"LP002842\", \"Gender\": \"Male\", \"Married\": \"Yes\", \"Dependents\": \"1\", \"Education\": \"Graduate\", \"Self_Employed\": \"No\", \"ApplicantIncome\": 3417, \"CoapplicantIncome\": 1750.0, \"LoanAmount\": 186.0, \"Loan_Amount_Term\": 360.0, \"Credit_History\": 1.0, \"Property_Area\": \"Urban\", \"Loan_Status\": \"Y\"}, {\"Loan_ID\": \"LP002847\", \"Gender\": \"Male\", \"Married\": \"Yes\", \"Dependents\": \"0\", \"Education\": \"Graduate\", \"Self_Employed\": \"No\", \"ApplicantIncome\": 5116, \"CoapplicantIncome\": 1451.0, \"LoanAmount\": 165.0, \"Loan_Amount_Term\": 360.0, \"Credit_History\": 0.0, \"Property_Area\": \"Urban\", \"Loan_Status\": \"N\"}, {\"Loan_ID\": \"LP002855\", \"Gender\": \"Male\", \"Married\": \"Yes\", \"Dependents\": \"2\", \"Education\": \"Graduate\", \"Self_Employed\": \"No\", \"ApplicantIncome\": 16666, \"CoapplicantIncome\": 0.0, \"LoanAmount\": 275.0, \"Loan_Amount_Term\": 360.0, \"Credit_History\": 1.0, \"Property_Area\": \"Urban\", \"Loan_Status\": \"Y\"}, {\"Loan_ID\": \"LP002862\", \"Gender\": \"Male\", \"Married\": \"Yes\", \"Dependents\": \"2\", \"Education\": \"Not Graduate\", \"Self_Employed\": \"No\", \"ApplicantIncome\": 6125, \"CoapplicantIncome\": 1625.0, \"LoanAmount\": 187.0, \"Loan_Amount_Term\": 480.0, \"Credit_History\": 1.0, \"Property_Area\": \"Semiurban\", \"Loan_Status\": \"N\"}, {\"Loan_ID\": \"LP002863\", \"Gender\": \"Male\", \"Married\": \"Yes\", \"Dependents\": \"3+\", \"Education\": \"Graduate\", \"Self_Employed\": \"No\", \"ApplicantIncome\": 6406, \"CoapplicantIncome\": 0.0, \"LoanAmount\": 150.0, \"Loan_Amount_Term\": 360.0, \"Credit_History\": 1.0, \"Property_Area\": \"Semiurban\", \"Loan_Status\": \"N\"}, {\"Loan_ID\": \"LP002868\", \"Gender\": \"Male\", \"Married\": \"Yes\", \"Dependents\": \"2\", \"Education\": \"Graduate\", \"Self_Employed\": \"No\", \"ApplicantIncome\": 3159, \"CoapplicantIncome\": 461.0, \"LoanAmount\": 108.0, \"Loan_Amount_Term\": 84.0, \"Credit_History\": 1.0, \"Property_Area\": \"Urban\", \"Loan_Status\": \"Y\"}, {\"Loan_ID\": \"LP002872\", \"Gender\": \"Male\", \"Married\": \"Yes\", \"Dependents\": \"0\", \"Education\": \"Graduate\", \"Self_Employed\": \"No\", \"ApplicantIncome\": 3087, \"CoapplicantIncome\": 2210.0, \"LoanAmount\": 136.0, \"Loan_Amount_Term\": 360.0, \"Credit_History\": 0.0, \"Property_Area\": \"Semiurban\", \"Loan_Status\": \"N\"}, {\"Loan_ID\": \"LP002874\", \"Gender\": \"Male\", \"Married\": \"No\", \"Dependents\": \"0\", \"Education\": \"Graduate\", \"Self_Employed\": \"No\", \"ApplicantIncome\": 3229, \"CoapplicantIncome\": 2739.0, \"LoanAmount\": 110.0, \"Loan_Amount_Term\": 360.0, \"Credit_History\": 1.0, \"Property_Area\": \"Urban\", \"Loan_Status\": \"Y\"}, {\"Loan_ID\": \"LP002877\", \"Gender\": \"Male\", \"Married\": \"Yes\", \"Dependents\": \"1\", \"Education\": \"Graduate\", \"Self_Employed\": \"No\", \"ApplicantIncome\": 1782, \"CoapplicantIncome\": 2232.0, \"LoanAmount\": 107.0, \"Loan_Amount_Term\": 360.0, \"Credit_History\": 1.0, \"Property_Area\": \"Rural\", \"Loan_Status\": \"Y\"}, {\"Loan_ID\": \"LP002888\", \"Gender\": \"Male\", \"Married\": \"No\", \"Dependents\": \"0\", \"Education\": \"Graduate\", \"Self_Employed\": \"No\", \"ApplicantIncome\": 3182, \"CoapplicantIncome\": 2917.0, \"LoanAmount\": 161.0, \"Loan_Amount_Term\": 360.0, \"Credit_History\": 1.0, \"Property_Area\": \"Urban\", \"Loan_Status\": \"Y\"}, {\"Loan_ID\": \"LP002892\", \"Gender\": \"Male\", \"Married\": \"Yes\", \"Dependents\": \"2\", \"Education\": \"Graduate\", \"Self_Employed\": \"No\", \"ApplicantIncome\": 6540, \"CoapplicantIncome\": 0.0, \"LoanAmount\": 205.0, \"Loan_Amount_Term\": 360.0, \"Credit_History\": 1.0, \"Property_Area\": \"Semiurban\", \"Loan_Status\": \"Y\"}, {\"Loan_ID\": \"LP002893\", \"Gender\": \"Male\", \"Married\": \"No\", \"Dependents\": \"0\", \"Education\": \"Graduate\", \"Self_Employed\": \"No\", \"ApplicantIncome\": 1836, \"CoapplicantIncome\": 33837.0, \"LoanAmount\": 90.0, \"Loan_Amount_Term\": 360.0, \"Credit_History\": 1.0, \"Property_Area\": \"Urban\", \"Loan_Status\": \"N\"}, {\"Loan_ID\": \"LP002894\", \"Gender\": \"Female\", \"Married\": \"Yes\", \"Dependents\": \"0\", \"Education\": \"Graduate\", \"Self_Employed\": \"No\", \"ApplicantIncome\": 3166, \"CoapplicantIncome\": 0.0, \"LoanAmount\": 36.0, \"Loan_Amount_Term\": 360.0, \"Credit_History\": 1.0, \"Property_Area\": \"Semiurban\", \"Loan_Status\": \"Y\"}, {\"Loan_ID\": \"LP002898\", \"Gender\": \"Male\", \"Married\": \"Yes\", \"Dependents\": \"1\", \"Education\": \"Graduate\", \"Self_Employed\": \"No\", \"ApplicantIncome\": 1880, \"CoapplicantIncome\": 0.0, \"LoanAmount\": 61.0, \"Loan_Amount_Term\": 360.0, \"Credit_History\": 1.0, \"Property_Area\": \"Rural\", \"Loan_Status\": \"N\"}, {\"Loan_ID\": \"LP002911\", \"Gender\": \"Male\", \"Married\": \"Yes\", \"Dependents\": \"1\", \"Education\": \"Graduate\", \"Self_Employed\": \"No\", \"ApplicantIncome\": 2787, \"CoapplicantIncome\": 1917.0, \"LoanAmount\": 146.0, \"Loan_Amount_Term\": 360.0, \"Credit_History\": 0.0, \"Property_Area\": \"Rural\", \"Loan_Status\": \"N\"}, {\"Loan_ID\": \"LP002912\", \"Gender\": \"Male\", \"Married\": \"Yes\", \"Dependents\": \"1\", \"Education\": \"Graduate\", \"Self_Employed\": \"No\", \"ApplicantIncome\": 4283, \"CoapplicantIncome\": 3000.0, \"LoanAmount\": 172.0, \"Loan_Amount_Term\": 84.0, \"Credit_History\": 1.0, \"Property_Area\": \"Rural\", \"Loan_Status\": \"N\"}, {\"Loan_ID\": \"LP002916\", \"Gender\": \"Male\", \"Married\": \"Yes\", \"Dependents\": \"0\", \"Education\": \"Graduate\", \"Self_Employed\": \"No\", \"ApplicantIncome\": 2297, \"CoapplicantIncome\": 1522.0, \"LoanAmount\": 104.0, \"Loan_Amount_Term\": 360.0, \"Credit_History\": 1.0, \"Property_Area\": \"Urban\", \"Loan_Status\": \"Y\"}, {\"Loan_ID\": \"LP002917\", \"Gender\": \"Female\", \"Married\": \"No\", \"Dependents\": \"0\", \"Education\": \"Not Graduate\", \"Self_Employed\": \"No\", \"ApplicantIncome\": 2165, \"CoapplicantIncome\": 0.0, \"LoanAmount\": 70.0, \"Loan_Amount_Term\": 360.0, \"Credit_History\": 1.0, \"Property_Area\": \"Semiurban\", \"Loan_Status\": \"Y\"}, {\"Loan_ID\": \"LP002925\", \"Gender\": \"Male\", \"Married\": \"No\", \"Dependents\": \"0\", \"Education\": \"Graduate\", \"Self_Employed\": \"No\", \"ApplicantIncome\": 4750, \"CoapplicantIncome\": 0.0, \"LoanAmount\": 94.0, \"Loan_Amount_Term\": 360.0, \"Credit_History\": 1.0, \"Property_Area\": \"Semiurban\", \"Loan_Status\": \"Y\"}, {\"Loan_ID\": \"LP002926\", \"Gender\": \"Male\", \"Married\": \"Yes\", \"Dependents\": \"2\", \"Education\": \"Graduate\", \"Self_Employed\": \"Yes\", \"ApplicantIncome\": 2726, \"CoapplicantIncome\": 0.0, \"LoanAmount\": 106.0, \"Loan_Amount_Term\": 360.0, \"Credit_History\": 0.0, \"Property_Area\": \"Semiurban\", \"Loan_Status\": \"N\"}, {\"Loan_ID\": \"LP002928\", \"Gender\": \"Male\", \"Married\": \"Yes\", \"Dependents\": \"0\", \"Education\": \"Graduate\", \"Self_Employed\": \"No\", \"ApplicantIncome\": 3000, \"CoapplicantIncome\": 3416.0, \"LoanAmount\": 56.0, \"Loan_Amount_Term\": 180.0, \"Credit_History\": 1.0, \"Property_Area\": \"Semiurban\", \"Loan_Status\": \"Y\"}, {\"Loan_ID\": \"LP002931\", \"Gender\": \"Male\", \"Married\": \"Yes\", \"Dependents\": \"2\", \"Education\": \"Graduate\", \"Self_Employed\": \"Yes\", \"ApplicantIncome\": 6000, \"CoapplicantIncome\": 0.0, \"LoanAmount\": 205.0, \"Loan_Amount_Term\": 240.0, \"Credit_History\": 1.0, \"Property_Area\": \"Semiurban\", \"Loan_Status\": \"N\"}, {\"Loan_ID\": \"LP002933\", \"Gender\": \"Male\", \"Married\": \"No\", \"Dependents\": \"3+\", \"Education\": \"Graduate\", \"Self_Employed\": \"Yes\", \"ApplicantIncome\": 9357, \"CoapplicantIncome\": 0.0, \"LoanAmount\": 292.0, \"Loan_Amount_Term\": 360.0, \"Credit_History\": 1.0, \"Property_Area\": \"Semiurban\", \"Loan_Status\": \"Y\"}, {\"Loan_ID\": \"LP002936\", \"Gender\": \"Male\", \"Married\": \"Yes\", \"Dependents\": \"0\", \"Education\": \"Graduate\", \"Self_Employed\": \"No\", \"ApplicantIncome\": 3859, \"CoapplicantIncome\": 3300.0, \"LoanAmount\": 142.0, \"Loan_Amount_Term\": 180.0, \"Credit_History\": 1.0, \"Property_Area\": \"Rural\", \"Loan_Status\": \"Y\"}, {\"Loan_ID\": \"LP002938\", \"Gender\": \"Male\", \"Married\": \"Yes\", \"Dependents\": \"0\", \"Education\": \"Graduate\", \"Self_Employed\": \"Yes\", \"ApplicantIncome\": 16120, \"CoapplicantIncome\": 0.0, \"LoanAmount\": 260.0, \"Loan_Amount_Term\": 360.0, \"Credit_History\": 1.0, \"Property_Area\": \"Urban\", \"Loan_Status\": \"Y\"}, {\"Loan_ID\": \"LP002940\", \"Gender\": \"Male\", \"Married\": \"No\", \"Dependents\": \"0\", \"Education\": \"Not Graduate\", \"Self_Employed\": \"No\", \"ApplicantIncome\": 3833, \"CoapplicantIncome\": 0.0, \"LoanAmount\": 110.0, \"Loan_Amount_Term\": 360.0, \"Credit_History\": 1.0, \"Property_Area\": \"Rural\", \"Loan_Status\": \"Y\"}, {\"Loan_ID\": \"LP002941\", \"Gender\": \"Male\", \"Married\": \"Yes\", \"Dependents\": \"2\", \"Education\": \"Not Graduate\", \"Self_Employed\": \"Yes\", \"ApplicantIncome\": 6383, \"CoapplicantIncome\": 1000.0, \"LoanAmount\": 187.0, \"Loan_Amount_Term\": 360.0, \"Credit_History\": 1.0, \"Property_Area\": \"Rural\", \"Loan_Status\": \"N\"}, {\"Loan_ID\": \"LP002943\", \"Gender\": \"Male\", \"Married\": \"No\", \"Dependents\": \"0\", \"Education\": \"Graduate\", \"Self_Employed\": \"No\", \"ApplicantIncome\": 2987, \"CoapplicantIncome\": 0.0, \"LoanAmount\": 88.0, \"Loan_Amount_Term\": 360.0, \"Credit_History\": 0.0, \"Property_Area\": \"Semiurban\", \"Loan_Status\": \"N\"}, {\"Loan_ID\": \"LP002945\", \"Gender\": \"Male\", \"Married\": \"Yes\", \"Dependents\": \"0\", \"Education\": \"Graduate\", \"Self_Employed\": \"Yes\", \"ApplicantIncome\": 9963, \"CoapplicantIncome\": 0.0, \"LoanAmount\": 180.0, \"Loan_Amount_Term\": 360.0, \"Credit_History\": 1.0, \"Property_Area\": \"Rural\", \"Loan_Status\": \"Y\"}, {\"Loan_ID\": \"LP002948\", \"Gender\": \"Male\", \"Married\": \"Yes\", \"Dependents\": \"2\", \"Education\": \"Graduate\", \"Self_Employed\": \"No\", \"ApplicantIncome\": 5780, \"CoapplicantIncome\": 0.0, \"LoanAmount\": 192.0, \"Loan_Amount_Term\": 360.0, \"Credit_History\": 1.0, \"Property_Area\": \"Urban\", \"Loan_Status\": \"Y\"}, {\"Loan_ID\": \"LP002949\", \"Gender\": \"Female\", \"Married\": \"No\", \"Dependents\": \"3+\", \"Education\": \"Graduate\", \"Self_Employed\": \"No\", \"ApplicantIncome\": 416, \"CoapplicantIncome\": 41667.0, \"LoanAmount\": 350.0, \"Loan_Amount_Term\": 180.0, \"Credit_History\": 1.0, \"Property_Area\": \"Urban\", \"Loan_Status\": \"N\"}, {\"Loan_ID\": \"LP002950\", \"Gender\": \"Male\", \"Married\": \"Yes\", \"Dependents\": \"0\", \"Education\": \"Not Graduate\", \"Self_Employed\": \"No\", \"ApplicantIncome\": 2894, \"CoapplicantIncome\": 2792.0, \"LoanAmount\": 155.0, \"Loan_Amount_Term\": 360.0, \"Credit_History\": 1.0, \"Property_Area\": \"Rural\", \"Loan_Status\": \"Y\"}, {\"Loan_ID\": \"LP002953\", \"Gender\": \"Male\", \"Married\": \"Yes\", \"Dependents\": \"3+\", \"Education\": \"Graduate\", \"Self_Employed\": \"No\", \"ApplicantIncome\": 5703, \"CoapplicantIncome\": 0.0, \"LoanAmount\": 128.0, \"Loan_Amount_Term\": 360.0, \"Credit_History\": 1.0, \"Property_Area\": \"Urban\", \"Loan_Status\": \"Y\"}, {\"Loan_ID\": \"LP002958\", \"Gender\": \"Male\", \"Married\": \"No\", \"Dependents\": \"0\", \"Education\": \"Graduate\", \"Self_Employed\": \"No\", \"ApplicantIncome\": 3676, \"CoapplicantIncome\": 4301.0, \"LoanAmount\": 172.0, \"Loan_Amount_Term\": 360.0, \"Credit_History\": 1.0, \"Property_Area\": \"Rural\", \"Loan_Status\": \"Y\"}, {\"Loan_ID\": \"LP002959\", \"Gender\": \"Female\", \"Married\": \"Yes\", \"Dependents\": \"1\", \"Education\": \"Graduate\", \"Self_Employed\": \"No\", \"ApplicantIncome\": 12000, \"CoapplicantIncome\": 0.0, \"LoanAmount\": 496.0, \"Loan_Amount_Term\": 360.0, \"Credit_History\": 1.0, \"Property_Area\": \"Semiurban\", \"Loan_Status\": \"Y\"}, {\"Loan_ID\": \"LP002960\", \"Gender\": \"Male\", \"Married\": \"Yes\", \"Dependents\": \"0\", \"Education\": \"Not Graduate\", \"Self_Employed\": \"No\", \"ApplicantIncome\": 2400, \"CoapplicantIncome\": 3800.0, \"LoanAmount\": 146.41216216216216, \"Loan_Amount_Term\": 180.0, \"Credit_History\": 1.0, \"Property_Area\": \"Urban\", \"Loan_Status\": \"N\"}, {\"Loan_ID\": \"LP002961\", \"Gender\": \"Male\", \"Married\": \"Yes\", \"Dependents\": \"1\", \"Education\": \"Graduate\", \"Self_Employed\": \"No\", \"ApplicantIncome\": 3400, \"CoapplicantIncome\": 2500.0, \"LoanAmount\": 173.0, \"Loan_Amount_Term\": 360.0, \"Credit_History\": 1.0, \"Property_Area\": \"Semiurban\", \"Loan_Status\": \"Y\"}, {\"Loan_ID\": \"LP002964\", \"Gender\": \"Male\", \"Married\": \"Yes\", \"Dependents\": \"2\", \"Education\": \"Not Graduate\", \"Self_Employed\": \"No\", \"ApplicantIncome\": 3987, \"CoapplicantIncome\": 1411.0, \"LoanAmount\": 157.0, \"Loan_Amount_Term\": 360.0, \"Credit_History\": 1.0, \"Property_Area\": \"Rural\", \"Loan_Status\": \"Y\"}, {\"Loan_ID\": \"LP002974\", \"Gender\": \"Male\", \"Married\": \"Yes\", \"Dependents\": \"0\", \"Education\": \"Graduate\", \"Self_Employed\": \"No\", \"ApplicantIncome\": 3232, \"CoapplicantIncome\": 1950.0, \"LoanAmount\": 108.0, \"Loan_Amount_Term\": 360.0, \"Credit_History\": 1.0, \"Property_Area\": \"Rural\", \"Loan_Status\": \"Y\"}, {\"Loan_ID\": \"LP002978\", \"Gender\": \"Female\", \"Married\": \"No\", \"Dependents\": \"0\", \"Education\": \"Graduate\", \"Self_Employed\": \"No\", \"ApplicantIncome\": 2900, \"CoapplicantIncome\": 0.0, \"LoanAmount\": 71.0, \"Loan_Amount_Term\": 360.0, \"Credit_History\": 1.0, \"Property_Area\": \"Rural\", \"Loan_Status\": \"Y\"}, {\"Loan_ID\": \"LP002979\", \"Gender\": \"Male\", \"Married\": \"Yes\", \"Dependents\": \"3+\", \"Education\": \"Graduate\", \"Self_Employed\": \"No\", \"ApplicantIncome\": 4106, \"CoapplicantIncome\": 0.0, \"LoanAmount\": 40.0, \"Loan_Amount_Term\": 180.0, \"Credit_History\": 1.0, \"Property_Area\": \"Rural\", \"Loan_Status\": \"Y\"}, {\"Loan_ID\": \"LP002983\", \"Gender\": \"Male\", \"Married\": \"Yes\", \"Dependents\": \"1\", \"Education\": \"Graduate\", \"Self_Employed\": \"No\", \"ApplicantIncome\": 8072, \"CoapplicantIncome\": 240.0, \"LoanAmount\": 253.0, \"Loan_Amount_Term\": 360.0, \"Credit_History\": 1.0, \"Property_Area\": \"Urban\", \"Loan_Status\": \"Y\"}, {\"Loan_ID\": \"LP002984\", \"Gender\": \"Male\", \"Married\": \"Yes\", \"Dependents\": \"2\", \"Education\": \"Graduate\", \"Self_Employed\": \"No\", \"ApplicantIncome\": 7583, \"CoapplicantIncome\": 0.0, \"LoanAmount\": 187.0, \"Loan_Amount_Term\": 360.0, \"Credit_History\": 1.0, \"Property_Area\": \"Urban\", \"Loan_Status\": \"Y\"}, {\"Loan_ID\": \"LP002990\", \"Gender\": \"Female\", \"Married\": \"No\", \"Dependents\": \"0\", \"Education\": \"Graduate\", \"Self_Employed\": \"Yes\", \"ApplicantIncome\": 4583, \"CoapplicantIncome\": 0.0, \"LoanAmount\": 133.0, \"Loan_Amount_Term\": 360.0, \"Credit_History\": 0.0, \"Property_Area\": \"Semiurban\", \"Loan_Status\": \"N\"}]}};\n",
              "      var embedOpt = {\"mode\": \"vega-lite\"};\n",
              "\n",
              "      function showError(el, error){\n",
              "          el.innerHTML = ('<div class=\"error\" style=\"color:red;\">'\n",
              "                          + '<p>JavaScript Error: ' + error.message + '</p>'\n",
              "                          + \"<p>This usually means there's a typo in your chart specification. \"\n",
              "                          + \"See the javascript console for the full traceback.</p>\"\n",
              "                          + '</div>');\n",
              "          throw error;\n",
              "      }\n",
              "      const el = document.getElementById('altair-viz');\n",
              "      vegaEmbed(\"#altair-viz\", spec, embedOpt)\n",
              "        .catch(error => showError(el, error));\n",
              "\n",
              "  </script>\n",
              "</body>\n",
              "</html>"
            ]
          },
          "metadata": {
            "tags": []
          },
          "execution_count": 5
        }
      ]
    },
    {
      "metadata": {
        "id": "nM1wr1c2ZFsF",
        "colab_type": "text"
      },
      "cell_type": "markdown",
      "source": [
        "For this session, we would be focusing on the 4 major effective variables according to the our feature ranking. The above is a scatter plot of Loan Amount and each applicants income. Here, we are trying to find out who are customers are, what calibre and category of people patronize our loan system. From our scatter plot above, we can see that our loan system is highly patronized by applicants earning income below 20,000,about 85% and of course , it wont be counted as an extreme generalization if we say that low income earners(as far as this case study is concerned) have a high affinity for loans or borrowing money. For better clarity, we would go ahead to view it on a histogram."
      ]
    },
    {
      "metadata": {
        "id": "2YTpNvoe21YL",
        "colab_type": "text"
      },
      "cell_type": "markdown",
      "source": [
        "\n",
        "\n",
        "---\n",
        "\n"
      ]
    },
    {
      "metadata": {
        "id": "zhhQRzZE3B0p",
        "colab_type": "code",
        "colab": {
          "base_uri": "https://localhost:8080/",
          "height": 364
        },
        "outputId": "46959b61-563f-4ad7-a58c-28239cf86d73"
      },
      "cell_type": "code",
      "source": [
        "sns.factorplot('Loan_Status',kind ='count',data=df12)"
      ],
      "execution_count": 19,
      "outputs": [
        {
          "output_type": "stream",
          "text": [
            "/usr/local/lib/python3.6/dist-packages/seaborn/categorical.py:1428: FutureWarning: remove_na is deprecated and is a private function. Do not use.\n",
            "  stat_data = remove_na(group_data)\n"
          ],
          "name": "stderr"
        },
        {
          "output_type": "execute_result",
          "data": {
            "text/plain": [
              "<seaborn.axisgrid.FacetGrid at 0x7ff8f4cc5ef0>"
            ]
          },
          "metadata": {
            "tags": []
          },
          "execution_count": 19
        },
        {
          "output_type": "display_data",
          "data": {
            "image/png": "[encoded data removed]",
            "text/plain": [
              "<Figure size 288x288 with 1 Axes>"
            ]
          },
          "metadata": {
            "tags": []
          }
        }
      ]
    },
    {
      "metadata": {
        "id": "Oj2GgcgOQpXR",
        "colab_type": "text"
      },
      "cell_type": "markdown",
      "source": [
        "so obviously, looking at the above histogram, the 'yes' customers are 2x the 'no' customers but we wont consider this a bias worthy of model over/underfitting."
      ]
    },
    {
      "metadata": {
        "id": "zT3wJHmZRLpJ",
        "colab_type": "code",
        "colab": {}
      },
      "cell_type": "code",
      "source": [
        ""
      ],
      "execution_count": 0,
      "outputs": []
    },
    {
      "metadata": {
        "id": "9niff-WeRMO-",
        "colab_type": "code",
        "colab": {}
      },
      "cell_type": "code",
      "source": [
        ""
      ],
      "execution_count": 0,
      "outputs": []
    },
    {
      "metadata": {
        "id": "jVoeiAENSe5e",
        "colab_type": "text"
      },
      "cell_type": "markdown",
      "source": [
        "## Now we would see how the credit history relates to the loan status"
      ]
    },
    {
      "metadata": {
        "id": "5kCsk_K7S3xO",
        "colab_type": "text"
      },
      "cell_type": "markdown",
      "source": [
        "here, we want to see how our clients performed relative to their previous loan transactions(credit history). 1 means the performed well and 0 means otherwise."
      ]
    },
    {
      "metadata": {
        "id": "xFEiUXXmRMYZ",
        "colab_type": "code",
        "colab": {
          "base_uri": "https://localhost:8080/",
          "height": 364
        },
        "outputId": "c4c96ab5-7173-4fde-bbcb-980c24ab6068"
      },
      "cell_type": "code",
      "source": [
        "sns.factorplot('Loan_Status',kind ='count',data=df12, hue='Credit_History')"
      ],
      "execution_count": 20,
      "outputs": [
        {
          "output_type": "stream",
          "text": [
            "/usr/local/lib/python3.6/dist-packages/seaborn/categorical.py:1468: FutureWarning: remove_na is deprecated and is a private function. Do not use.\n",
            "  stat_data = remove_na(group_data[hue_mask])\n"
          ],
          "name": "stderr"
        },
        {
          "output_type": "execute_result",
          "data": {
            "text/plain": [
              "<seaborn.axisgrid.FacetGrid at 0x7ff8ef82d7f0>"
            ]
          },
          "metadata": {
            "tags": []
          },
          "execution_count": 20
        },
        {
          "output_type": "display_data",
          "data": {
            "image/png": "[encoded data removed]",
            "text/plain": [
              "<Figure size 355.625x288 with 1 Axes>"
            ]
          },
          "metadata": {
            "tags": []
          }
        }
      ]
    },
    {
      "metadata": {
        "id": "1kphAtiHUrnU",
        "colab_type": "text"
      },
      "cell_type": "markdown",
      "source": [
        "A credit history is a record of a borrower's responsible repayment of debts. So we can see that not all that did well in their past loan records were granted same priviledge again hence  we can conclude that the criteria for loan eligibility is not totally dependent on  the credit history even though it seems to be the most statistically relevant amongst other feaures."
      ]
    },
    {
      "metadata": {
        "id": "OIf_dyjtYaX-",
        "colab_type": "text"
      },
      "cell_type": "markdown",
      "source": [
        ""
      ]
    },
    {
      "metadata": {
        "id": "uPrDJMi4acRT",
        "colab_type": "code",
        "colab": {}
      },
      "cell_type": "code",
      "source": [
        ""
      ],
      "execution_count": 0,
      "outputs": []
    },
    {
      "metadata": {
        "id": "niYwIp6W4Al6",
        "colab_type": "text"
      },
      "cell_type": "markdown",
      "source": [
        "considering the intuition that people who live or owns properties in urban, semi-urban or rural areas are liable to vary in terms of their compliance to loans, we would the visualize the relationship between the property area and the loan status as well as the property area and the employment status  and also the income and married features."
      ]
    },
    {
      "metadata": {
        "id": "YXpYxRwZ5DF1",
        "colab_type": "text"
      },
      "cell_type": "markdown",
      "source": [
        ""
      ]
    },
    {
      "metadata": {
        "id": "og3T4qTM5DXj",
        "colab_type": "code",
        "colab": {
          "base_uri": "https://localhost:8080/",
          "height": 364
        },
        "outputId": "61ebf8e9-bdbb-447a-beca-c23fda24f280"
      },
      "cell_type": "code",
      "source": [
        "\n",
        "\n",
        "sns.factorplot('Self_Employed',data=df12,kind='count', hue='Credit_History')"
      ],
      "execution_count": 12,
      "outputs": [
        {
          "output_type": "stream",
          "text": [
            "/usr/local/lib/python3.6/dist-packages/seaborn/categorical.py:1468: FutureWarning: remove_na is deprecated and is a private function. Do not use.\n",
            "  stat_data = remove_na(group_data[hue_mask])\n"
          ],
          "name": "stderr"
        },
        {
          "output_type": "execute_result",
          "data": {
            "text/plain": [
              "<seaborn.axisgrid.FacetGrid at 0x7f28844e2e10>"
            ]
          },
          "metadata": {
            "tags": []
          },
          "execution_count": 12
        },
        {
          "output_type": "display_data",
          "data": {
            "image/png": "[encoded data removed]",
            "text/plain": [
              "<Figure size 355.625x288 with 1 Axes>"
            ]
          },
          "metadata": {
            "tags": []
          }
        }
      ]
    },
    {
      "metadata": {
        "id": "AyX2Xy-F80m-",
        "colab_type": "text"
      },
      "cell_type": "markdown",
      "source": [
        "The intuition behind the above plot suggests to us more details about our clients that applied and still seeking for a loan, that according to the relationship between thier credit history and the work status we can see that most of our loan-seeking clients are not self employed meaning that they are prevalently government workers recieving a consistent inflow of salaries/income which allows them a certain convenience to pay up easily as we can obviously see from the plot above. So, to see the sureity of the above inference, we can go ahead to plot the relationship between the applicant income and credit history and Loan_History."
      ]
    },
    {
      "metadata": {
        "id": "Ix54Y1wr_eDE",
        "colab_type": "text"
      },
      "cell_type": "markdown",
      "source": [
        ""
      ]
    },
    {
      "metadata": {
        "id": "Z5rTFwEy_elQ",
        "colab_type": "code",
        "colab": {}
      },
      "cell_type": "code",
      "source": [
        ""
      ],
      "execution_count": 0,
      "outputs": []
    },
    {
      "metadata": {
        "id": "yqA2vxAWHBMH",
        "colab_type": "text"
      },
      "cell_type": "markdown",
      "source": [
        "##Now we would make our predictions by first applying a further pre-processing"
      ]
    },
    {
      "metadata": {
        "id": "ZK-ReoA5HSBw",
        "colab_type": "code",
        "colab": {
          "base_uri": "https://localhost:8080/",
          "height": 241
        },
        "outputId": "176679b0-1491-4bfb-9808-7c63bffb5338"
      },
      "cell_type": "code",
      "source": [
        "#we now encode our categorical variables\n",
        "from sklearn.preprocessing import LabelEncoder, OneHotEncoder\n",
        "\n",
        "labelencoder_X = LabelEncoder()\n",
        "df12[\"Loan_ID\"] = labelencoder_X.fit_transform(df12[\"Loan_ID\"])\n",
        "\n",
        "\n",
        "labelencoder_X = LabelEncoder()\n",
        "df12[\"Gender\"] = labelencoder_X.fit_transform(df12[\"Gender\"])\n",
        "\n",
        "labelencoder_X = LabelEncoder()\n",
        "df12[\"Dependents\"] = labelencoder_X.fit_transform(df12[\"Dependents\"])\n",
        "\n",
        "labelencoder_X = LabelEncoder()\n",
        "df12[\"Married\"] = labelencoder_X.fit_transform(df12[\"Married\"])\n",
        "\n",
        "labelencoder_X = LabelEncoder()\n",
        "df12[\"Education\"] = labelencoder_X.fit_transform(df12[\"Education\"])\n",
        "\n",
        "labelencoder_X = LabelEncoder()\n",
        "df12[\"Self_Employed\"] = labelencoder_X.fit_transform(df12[\"Self_Employed\"])\n",
        "\n",
        "labelencoder_X = LabelEncoder()\n",
        "df12[\"Property_Area\"] = labelencoder_X.fit_transform(df12[\"Property_Area\"])\n",
        "\n",
        "labelencoder_X = LabelEncoder()\n",
        "df12[\"Loan_Status\"] = labelencoder_X.fit_transform(df12[\"Loan_Status\"])\n",
        "\n",
        "\n",
        "\n",
        "\n",
        "\n",
        "#encoding categorical variables for test.csv\n",
        "labelencoder_X = LabelEncoder()\n",
        "df13[\"Loan_ID\"] = labelencoder_X.fit_transform(df13[\"Loan_ID\"])\n",
        "\n",
        "\n",
        "labelencoder_X = LabelEncoder()\n",
        "df13[\"Gender\"] = labelencoder_X.fit_transform(df13[\"Gender\"])\n",
        "\n",
        "\n",
        "labelencoder_X = LabelEncoder()\n",
        "df13[\"Married\"] = labelencoder_X.fit_transform(df13[\"Married\"])\n",
        "\n",
        "\n",
        "labelencoder_X = LabelEncoder()\n",
        "df13[\"Education\"] = labelencoder_X.fit_transform(df13[\"Education\"])\n",
        "\n",
        "labelencoder_X = LabelEncoder()\n",
        "df13[\"Self_Employed\"] = labelencoder_X.fit_transform(df13[\"Self_Employed\"])\n",
        "\n",
        "labelencoder_X = LabelEncoder()\n",
        "df13[\"Property_Area\"] = labelencoder_X.fit_transform(df13[\"Property_Area\"])\n",
        "\n",
        "labelencoder_X = LabelEncoder()\n",
        "df13[\"Dependents\"] = labelencoder_X.fit_transform(df13[\"Dependents\"])\n",
        "\n",
        "\n",
        "\n",
        "\n",
        "\"\"\"#splitting our dataset in X and y\n",
        "X_train=df12.iloc[:, 1:12].values\n",
        "y_train=df12.iloc[:, 12:].values\n",
        "X_test=df13.iloc[:, 1:].values\"\"\"\n",
        "\n",
        "#splitting our dataset 2\n",
        "X=df12.iloc[:, 1:12].values\n",
        "y=df12.iloc[:, 12:].values\n",
        "\n",
        "\n",
        "\n",
        "\n",
        "# Splitting the dataset into the Training set and Test set\n",
        "from sklearn.model_selection import train_test_split\n",
        "X_train, X_test, y_train, y_test = train_test_split(X, y, test_size = 0.2, random_state = 0)\n",
        "\n",
        "\n",
        "\n",
        "#one-hot encoding \"property area\" for X_train\n",
        "onehotencoder = OneHotEncoder(categorical_features = [10])\n",
        "X_train = onehotencoder.fit_transform(X_train).toarray()\n",
        "#dropping one categorical var column to avoid categorical var trap\n",
        "X_train=X_train[:, 1:]\n",
        "\n",
        "\n",
        "#one-hot encoding \"property area\" for X_test\n",
        "onehotencoder = OneHotEncoder(categorical_features = [10])\n",
        "X_test = onehotencoder.fit_transform(X_test).toarray()\n",
        "#dropping one categorical var column to avoid categorical var trap\n",
        "X_test=X_test[:, 1:]\n",
        "\n",
        "\n",
        "\n",
        "# Feature Scaling\n",
        "from sklearn.preprocessing import StandardScaler\n",
        "sc_X = StandardScaler()\n",
        "X_train = sc_X.fit_transform(X_train)\n",
        "X_test = sc_X.transform(X_test)\n",
        "#sc_y = StandardScaler()\n",
        "#y_train = sc_y.fit_transform(y_train)    ----scalling y_train would affect our outcome and wont even fit\n"
      ],
      "execution_count": 25,
      "outputs": [
        {
          "output_type": "stream",
          "text": [
            "/usr/local/lib/python3.6/dist-packages/sklearn/preprocessing/_encoders.py:371: FutureWarning: The handling of integer data will change in version 0.22. Currently, the categories are determined based on the range [0, max(values)], while in the future they will be determined based on the unique values.\n",
            "If you want the future behaviour and silence this warning, you can specify \"categories='auto'\".\n",
            "In case you used a LabelEncoder before this OneHotEncoder to convert the categories to integers, then you can now use the OneHotEncoder directly.\n",
            "  warnings.warn(msg, FutureWarning)\n",
            "/usr/local/lib/python3.6/dist-packages/sklearn/preprocessing/_encoders.py:392: DeprecationWarning: The 'categorical_features' keyword is deprecated in version 0.20 and will be removed in 0.22. You can use the ColumnTransformer instead.\n",
            "  \"use the ColumnTransformer instead.\", DeprecationWarning)\n",
            "/usr/local/lib/python3.6/dist-packages/sklearn/preprocessing/_encoders.py:371: FutureWarning: The handling of integer data will change in version 0.22. Currently, the categories are determined based on the range [0, max(values)], while in the future they will be determined based on the unique values.\n",
            "If you want the future behaviour and silence this warning, you can specify \"categories='auto'\".\n",
            "In case you used a LabelEncoder before this OneHotEncoder to convert the categories to integers, then you can now use the OneHotEncoder directly.\n",
            "  warnings.warn(msg, FutureWarning)\n",
            "/usr/local/lib/python3.6/dist-packages/sklearn/preprocessing/_encoders.py:392: DeprecationWarning: The 'categorical_features' keyword is deprecated in version 0.20 and will be removed in 0.22. You can use the ColumnTransformer instead.\n",
            "  \"use the ColumnTransformer instead.\", DeprecationWarning)\n"
          ],
          "name": "stderr"
        }
      ]
    },
    {
      "metadata": {
        "id": "4DtignOwHlwN",
        "colab_type": "code",
        "colab": {}
      },
      "cell_type": "code",
      "source": [
        ""
      ],
      "execution_count": 0,
      "outputs": []
    },
    {
      "metadata": {
        "id": "qdnPjqmOHli4",
        "colab_type": "text"
      },
      "cell_type": "markdown",
      "source": [
        ""
      ]
    },
    {
      "metadata": {
        "id": "6qrsHAFXIqS0",
        "colab_type": "text"
      },
      "cell_type": "markdown",
      "source": [
        "###APPLYING KNN"
      ]
    },
    {
      "metadata": {
        "id": "oxW-wgIWHlI5",
        "colab_type": "code",
        "colab": {
          "base_uri": "https://localhost:8080/",
          "height": 105
        },
        "outputId": "215e13e0-111f-4133-8a28-795a74fd0616"
      },
      "cell_type": "code",
      "source": [
        "  #APPLYING KNN\n",
        "# Fitting K-NN to the Training set\n",
        "from sklearn.neighbors import KNeighborsClassifier\n",
        "classifier = KNeighborsClassifier(n_neighbors = 5, metric = 'minkowski', p = 2)\n",
        "classifier.fit(X_train, y_train)\n",
        "\n",
        "# Predicting the Test set results\n",
        "y_pred = classifier.predict(X_test)\n",
        "\n",
        "# Making the Confusion Matrix \n",
        "from sklearn.metrics import confusion_matrix\n",
        "cm = confusion_matrix(y_test, y_pred)\n",
        "\"\"\" Finally, usinig the KNN, we had an accuraccy of 64% and 83% with just 4 features\"\"\"\n",
        "cm\n",
        "    "
      ],
      "execution_count": 31,
      "outputs": [
        {
          "output_type": "stream",
          "text": [
            "/usr/local/lib/python3.6/dist-packages/ipykernel_launcher.py:3: DataConversionWarning: A column-vector y was passed when a 1d array was expected. Please change the shape of y to (n_samples, ), for example using ravel().\n",
            "  This is separate from the ipykernel package so we can avoid doing imports until\n"
          ],
          "name": "stderr"
        },
        {
          "output_type": "execute_result",
          "data": {
            "text/plain": [
              "array([[15, 18],\n",
              "       [11, 79]])"
            ]
          },
          "metadata": {
            "tags": []
          },
          "execution_count": 31
        }
      ]
    },
    {
      "metadata": {
        "id": "VUFEi8KRI2tv",
        "colab_type": "text"
      },
      "cell_type": "markdown",
      "source": [
        ""
      ]
    },
    {
      "metadata": {
        "id": "_tNRZoPwI2ej",
        "colab_type": "text"
      },
      "cell_type": "markdown",
      "source": [
        "###APPLYING LOGISTIC REGRESSION"
      ]
    },
    {
      "metadata": {
        "id": "xWRvNQ7PI-OK",
        "colab_type": "code",
        "colab": {
          "base_uri": "https://localhost:8080/",
          "height": 139
        },
        "outputId": "d356a9be-17d5-4687-e7c6-eb9ef9211898"
      },
      "cell_type": "code",
      "source": [
        "#APPLYING LOGISTIC REGRESSION\n",
        "# Fitting Logistic Regression to the Training set\n",
        "from sklearn.linear_model import LogisticRegression\n",
        "classifier = LogisticRegression(random_state = 0)\n",
        "classifier.fit(X_train, y_train)\n",
        "\n",
        "# Predicting the Test set results\n",
        "y_pred = classifier.predict(X_test)\n",
        "\n",
        "# Making the Confusion Matrix\n",
        "from sklearn.metrics import confusion_matrix\n",
        "cm = confusion_matrix(y_test, y_pred)\n",
        "\"\"\" And logistics regression gave us an accuracy of 84%--the best so far\"\"\"\n",
        "cm\n"
      ],
      "execution_count": 30,
      "outputs": [
        {
          "output_type": "stream",
          "text": [
            "/usr/local/lib/python3.6/dist-packages/sklearn/linear_model/logistic.py:433: FutureWarning: Default solver will be changed to 'lbfgs' in 0.22. Specify a solver to silence this warning.\n",
            "  FutureWarning)\n",
            "/usr/local/lib/python3.6/dist-packages/sklearn/utils/validation.py:761: DataConversionWarning: A column-vector y was passed when a 1d array was expected. Please change the shape of y to (n_samples, ), for example using ravel().\n",
            "  y = column_or_1d(y, warn=True)\n"
          ],
          "name": "stderr"
        },
        {
          "output_type": "execute_result",
          "data": {
            "text/plain": [
              "array([[15, 18],\n",
              "       [ 2, 88]])"
            ]
          },
          "metadata": {
            "tags": []
          },
          "execution_count": 30
        }
      ]
    },
    {
      "metadata": {
        "id": "65254p1WJObR",
        "colab_type": "text"
      },
      "cell_type": "markdown",
      "source": [
        "###APPLYING DESCISION TREE"
      ]
    },
    {
      "metadata": {
        "id": "7f5I4AM_JWdL",
        "colab_type": "code",
        "colab": {
          "base_uri": "https://localhost:8080/",
          "height": 51
        },
        "outputId": "62b8440e-a6a5-443f-f520-0a5b4351697a"
      },
      "cell_type": "code",
      "source": [
        "#APPLYING DESCISION TREE\n",
        "# Fitting Decision Tree Regression to the dataset\n",
        "from sklearn.tree import DecisionTreeRegressor\n",
        "regressor = DecisionTreeRegressor(random_state = 0)\n",
        "regressor.fit(X_train, y_train)\n",
        "\n",
        "# Predicting a new result\n",
        "y_pred = regressor.predict(X_test)\n",
        "\n",
        "# Making the Confusion Matrix\n",
        "from sklearn.metrics import confusion_matrix\n",
        "cm = confusion_matrix(y_test, y_pred) \n",
        "\"\"\" and descision tree gave us 74%\"\"\"\n",
        "cm"
      ],
      "execution_count": 32,
      "outputs": [
        {
          "output_type": "execute_result",
          "data": {
            "text/plain": [
              "array([[19, 14],\n",
              "       [17, 73]])"
            ]
          },
          "metadata": {
            "tags": []
          },
          "execution_count": 32
        }
      ]
    },
    {
      "metadata": {
        "id": "9S-54LLAJN9p",
        "colab_type": "code",
        "colab": {}
      },
      "cell_type": "code",
      "source": [
        ""
      ],
      "execution_count": 0,
      "outputs": []
    },
    {
      "metadata": {
        "id": "ifEC7MB6JbVh",
        "colab_type": "text"
      },
      "cell_type": "markdown",
      "source": [
        "###APPLYING NAIVE BAYES"
      ]
    },
    {
      "metadata": {
        "id": "67Nmn50YJeov",
        "colab_type": "code",
        "colab": {
          "base_uri": "https://localhost:8080/",
          "height": 105
        },
        "outputId": "c77eab6b-0b7e-4ba4-c799-2ca0932576b9"
      },
      "cell_type": "code",
      "source": [
        "#APPLYING NAIVE BAYES\n",
        "# Fitting Naive Bayes to the Training set\n",
        "from sklearn.naive_bayes import GaussianNB\n",
        "classifier = GaussianNB()\n",
        "classifier.fit(X_train, y_train)\n",
        "\n",
        "# Predicting the Test set results\n",
        "y_pred = classifier.predict(X_test)\n",
        "\n",
        "# Making the Confusion Matrix\n",
        "from sklearn.metrics import confusion_matrix\n",
        "cm = confusion_matrix(y_test, y_pred)\n",
        "\"\"\" WE got 83% with the naive bayes \"\"\"\n",
        "cm"
      ],
      "execution_count": 33,
      "outputs": [
        {
          "output_type": "stream",
          "text": [
            "/usr/local/lib/python3.6/dist-packages/sklearn/utils/validation.py:761: DataConversionWarning: A column-vector y was passed when a 1d array was expected. Please change the shape of y to (n_samples, ), for example using ravel().\n",
            "  y = column_or_1d(y, warn=True)\n"
          ],
          "name": "stderr"
        },
        {
          "output_type": "execute_result",
          "data": {
            "text/plain": [
              "array([[15, 18],\n",
              "       [ 3, 87]])"
            ]
          },
          "metadata": {
            "tags": []
          },
          "execution_count": 33
        }
      ]
    },
    {
      "metadata": {
        "id": "l6WfjZjOJm-T",
        "colab_type": "text"
      },
      "cell_type": "markdown",
      "source": [
        "###APPLYING KERNEL SVM"
      ]
    },
    {
      "metadata": {
        "id": "UKKN8-RuJ0_G",
        "colab_type": "code",
        "colab": {
          "base_uri": "https://localhost:8080/",
          "height": 105
        },
        "outputId": "7f066ee2-aa8c-46b3-cc99-721d4cd0ad8b"
      },
      "cell_type": "code",
      "source": [
        "#APPLYING KERNEL SVM\n",
        "# Fitting Kernel SVM to the Training set\n",
        "from sklearn.svm import SVC\n",
        "classifier = SVC(kernel = 'rbf', random_state = 0)\n",
        "classifier.fit(X_train, y_train)\n",
        "# Predicting the Test set results\n",
        "y_pred = classifier.predict(X_test)\n",
        "# Making the Confusion Matrix\n",
        "from sklearn.metrics import confusion_matrix\n",
        "cm = confusion_matrix(y_test, y_pred)\n",
        "\"\"\"and svm yeilds 83%\"\"\"\n",
        "cm"
      ],
      "execution_count": 34,
      "outputs": [
        {
          "output_type": "stream",
          "text": [
            "/usr/local/lib/python3.6/dist-packages/sklearn/utils/validation.py:761: DataConversionWarning: A column-vector y was passed when a 1d array was expected. Please change the shape of y to (n_samples, ), for example using ravel().\n",
            "  y = column_or_1d(y, warn=True)\n"
          ],
          "name": "stderr"
        },
        {
          "output_type": "execute_result",
          "data": {
            "text/plain": [
              "array([[14, 19],\n",
              "       [ 3, 87]])"
            ]
          },
          "metadata": {
            "tags": []
          },
          "execution_count": 34
        }
      ]
    },
    {
      "metadata": {
        "id": "1dbs9Q3ZJ4tN",
        "colab_type": "text"
      },
      "cell_type": "markdown",
      "source": [
        "###APPLYING K-MEANS"
      ]
    },
    {
      "metadata": {
        "id": "vNxFFXEuKHZl",
        "colab_type": "code",
        "colab": {
          "base_uri": "https://localhost:8080/",
          "height": 410
        },
        "outputId": "9aa91856-949a-4a65-fc44-0efd2578db6a"
      },
      "cell_type": "code",
      "source": [
        "#APPLYING K-MEANS\n",
        "# Using the elbow method to find the optimal number of clusters\n",
        "from sklearn.cluster import KMeans\n",
        "wcss = []\n",
        "for i in range(1, 11):\n",
        "    kmeans = KMeans(n_clusters = i, init = 'k-means++', random_state = 0)\n",
        "    kmeans.fit(X)\n",
        "    wcss.append(kmeans.inertia_)\n",
        "plt.plot(range(1, 11), wcss)\n",
        "plt.title('The Elbow Method')\n",
        "plt.xlabel('Number of clusters')\n",
        "plt.ylabel('WCSS')\n",
        "plt.show()\n",
        "\n",
        "# Fitting K-Means to the dataset\n",
        "kmeans = KMeans(n_clusters = 2, init = 'k-means++', random_state = 0)\n",
        "y_pred = kmeans.fit_predict(X_test)\n",
        "\"\"\" k-means gave us just 60% even with pca\"\"\"\n",
        "\n",
        "\n",
        "# Making the Confusion Matrix\n",
        "from sklearn.metrics import confusion_matrix\n",
        "cm = confusion_matrix(y_test, y_pred)\n",
        "cm\n"
      ],
      "execution_count": 38,
      "outputs": [
        {
          "output_type": "display_data",
          "data": {
            "image/png": "[encoded data removed]",
            "text/plain": [
              "<Figure size 576x396 with 1 Axes>"
            ]
          },
          "metadata": {
            "tags": []
          }
        },
        {
          "output_type": "execute_result",
          "data": {
            "text/plain": [
              "array([[17, 16],\n",
              "       [56, 34]])"
            ]
          },
          "metadata": {
            "tags": []
          },
          "execution_count": 38
        }
      ]
    },
    {
      "metadata": {
        "id": "zLhlCdb6KZ2A",
        "colab_type": "code",
        "colab": {}
      },
      "cell_type": "code",
      "source": [
        ""
      ],
      "execution_count": 0,
      "outputs": []
    },
    {
      "metadata": {
        "id": "Q0fKZcSjJmuU",
        "colab_type": "code",
        "colab": {}
      },
      "cell_type": "code",
      "source": [
        ""
      ],
      "execution_count": 0,
      "outputs": []
    },
    {
      "metadata": {
        "id": "LSz6Y_ejK2he",
        "colab_type": "text"
      },
      "cell_type": "markdown",
      "source": [
        "###APPLYING RANDOM FOREST"
      ]
    },
    {
      "metadata": {
        "id": "rOuvABVbK6cx",
        "colab_type": "code",
        "colab": {
          "base_uri": "https://localhost:8080/",
          "height": 105
        },
        "outputId": "f998fed1-b08d-4531-b684-d23c2ed24485"
      },
      "cell_type": "code",
      "source": [
        "# APPLYING RANDOM FOREST\n",
        "# Fitting Random Forest Classification to the Training set\n",
        "from sklearn.ensemble import RandomForestClassifier\n",
        "classifier = RandomForestClassifier(n_estimators = 10, criterion = 'entropy', random_state = 0)\n",
        "classifier.fit(X_train, y_train)\n",
        "\n",
        "# Predicting the Test set results\n",
        "y_pred = classifier.predict(X_test)\n",
        "\n",
        "# Making the Confusion Matrix\n",
        "from sklearn.metrics import confusion_matrix\n",
        "cm = confusion_matrix(y_test, y_pred)\n",
        "\"\"\" RF gave us 73%\"\"\"\n",
        "cm"
      ],
      "execution_count": 39,
      "outputs": [
        {
          "output_type": "stream",
          "text": [
            "/usr/local/lib/python3.6/dist-packages/ipykernel_launcher.py:3: DataConversionWarning: A column-vector y was passed when a 1d array was expected. Please change the shape of y to (n_samples,), for example using ravel().\n",
            "  This is separate from the ipykernel package so we can avoid doing imports until\n"
          ],
          "name": "stderr"
        },
        {
          "output_type": "execute_result",
          "data": {
            "text/plain": [
              "array([[17, 16],\n",
              "       [16, 74]])"
            ]
          },
          "metadata": {
            "tags": []
          },
          "execution_count": 39
        }
      ]
    },
    {
      "metadata": {
        "id": "k5ZANH-tJa5r",
        "colab_type": "code",
        "colab": {}
      },
      "cell_type": "code",
      "source": [
        ""
      ],
      "execution_count": 0,
      "outputs": []
    },
    {
      "metadata": {
        "id": "P4yyx7EZLCLa",
        "colab_type": "text"
      },
      "cell_type": "markdown",
      "source": [
        "##MODELS AND THEIR PERFORMANCE\n",
        "\n",
        "Of all the models the were tested , the SVM, LOGISTIC REGRESSION AND NAIVE BAYES had the best optimal performance ranging from 82-84% of which the logistic regression and SVM model did best with 84%"
      ]
    },
    {
      "metadata": {
        "id": "Mn7ENCE3K_nM",
        "colab_type": "code",
        "colab": {}
      },
      "cell_type": "code",
      "source": [
        ""
      ],
      "execution_count": 0,
      "outputs": []
    }
  ]
}